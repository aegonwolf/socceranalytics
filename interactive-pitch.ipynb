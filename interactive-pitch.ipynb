{
 "cells": [
  {
   "cell_type": "code",
   "execution_count": 1,
   "id": "d12d3dd0",
   "metadata": {
    "_cell_guid": "b1076dfc-b9ad-4769-8c92-a6c4dae69d19",
    "_uuid": "8f2839f25d086af736a60e9eeb907d3b93b6e0e5",
    "execution": {
     "iopub.execute_input": "2022-03-21T17:12:04.575251Z",
     "iopub.status.busy": "2022-03-21T17:12:04.574390Z",
     "iopub.status.idle": "2022-03-21T17:12:05.900130Z",
     "shell.execute_reply": "2022-03-21T17:12:05.900561Z",
     "shell.execute_reply.started": "2022-03-21T15:59:44.180040Z"
    },
    "papermill": {
     "duration": 1.374918,
     "end_time": "2022-03-21T17:12:05.900906",
     "exception": false,
     "start_time": "2022-03-21T17:12:04.525988",
     "status": "completed"
    },
    "tags": []
   },
   "outputs": [],
   "source": [
    "import pandas as pd\n",
    "import numpy as np\n",
    "import seaborn as sns\n",
    "import matplotlib.pyplot as plt\n",
    "from matplotlib.patches import Arc\n",
    "import bz2\n",
    "from glob import glob\n",
    "import imageio\n",
    "import requests\n",
    "from bs4 import BeautifulSoup"
   ]
  },
  {
   "cell_type": "code",
   "execution_count": 2,
   "id": "35309ce3",
   "metadata": {
    "execution": {
     "iopub.execute_input": "2022-03-21T17:12:05.970813Z",
     "iopub.status.busy": "2022-03-21T17:12:05.970266Z",
     "iopub.status.idle": "2022-03-21T17:12:05.974712Z",
     "shell.execute_reply": "2022-03-21T17:12:05.975206Z",
     "shell.execute_reply.started": "2022-03-21T15:59:45.674196Z"
    },
    "papermill": {
     "duration": 0.040781,
     "end_time": "2022-03-21T17:12:05.975366",
     "exception": false,
     "start_time": "2022-03-21T17:12:05.934585",
     "status": "completed"
    },
    "tags": []
   },
   "outputs": [],
   "source": [
    "sns.set(rc={'figure.figsize':(10.5,6.8)})\n",
    "length = 105\n",
    "width = 68"
   ]
  },
  {
   "cell_type": "code",
   "execution_count": 3,
   "id": "a423c47c",
   "metadata": {
    "execution": {
     "iopub.execute_input": "2022-03-21T17:12:06.046231Z",
     "iopub.status.busy": "2022-03-21T17:12:06.045584Z",
     "iopub.status.idle": "2022-03-21T17:12:06.063096Z",
     "shell.execute_reply": "2022-03-21T17:12:06.063599Z",
     "shell.execute_reply.started": "2022-03-21T15:59:45.683352Z"
    },
    "papermill": {
     "duration": 0.053406,
     "end_time": "2022-03-21T17:12:06.063768",
     "exception": false,
     "start_time": "2022-03-21T17:12:06.010362",
     "status": "completed"
    },
    "tags": []
   },
   "outputs": [],
   "source": [
    "def create_pitch(length, width, linecolor, bounds = 15):\n",
    "\n",
    "    \"\"\"\n",
    "    mainly stolen from fc python\n",
    "    param length: an int the length of the field\n",
    "    param width: an int the height of the field\n",
    "    param linecolor: the color of the lines\n",
    "\"\"\"\n",
    "    #Create figure\n",
    "    fig=plt.figure()\n",
    "    #fig.set_size_inches(7, 5)\n",
    "    ax=fig.add_subplot(1,1,1)\n",
    "\n",
    "    #Pitch Outline & Centre Line\n",
    "    plt.plot([0,0],[0,width], color=linecolor)\n",
    "    plt.plot([0,length],[width,width], color=linecolor)\n",
    "    plt.plot([length,length],[width,0], color=linecolor)\n",
    "    plt.plot([length,0],[0,0], color=linecolor)\n",
    "    plt.plot([length/2,length/2],[0,width], color=linecolor)\n",
    "    plt.fill_between(x = [-bounds, length+bounds],\n",
    "                     y1 = [width+bounds, width + bounds],\n",
    "                     y2 = [-bounds, -bounds], color='green')\n",
    "\n",
    "    #Left Penalty Area\n",
    "    plt.plot([16.5 ,16.5],[(width/2 +16.5),(width/2-16.5)],color=linecolor)\n",
    "    plt.plot([0,16.5],[(width/2 +16.5),(width/2 +16.5)],color=linecolor)\n",
    "    plt.plot([16.5,0],[(width/2 -16.5),(width/2 -16.5)],color=linecolor)\n",
    "\n",
    "    #Right Penalty Area\n",
    "    plt.plot([(length-16.5),length],[(width/2 +16.5),(width/2 +16.5)],color=linecolor)\n",
    "    plt.plot([(length-16.5), (length-16.5)],[(width/2 +16.5),(width/2-16.5)],color=linecolor)\n",
    "    plt.plot([(length-16.5),length],[(width/2 -16.5),(width/2 -16.5)],color=linecolor)\n",
    "\n",
    "    #Left 5-meters Box\n",
    "    plt.plot([0,5.5],[(width/2+7.32/2+5.5),(width/2+7.32/2+5.5)],color=linecolor)\n",
    "    plt.plot([5.5,5.5],[(width/2+7.32/2+5.5),(width/2-7.32/2-5.5)],color=linecolor)\n",
    "    plt.plot([5.5,0.5],[(width/2-7.32/2-5.5),(width/2-7.32/2-5.5)],color=linecolor)\n",
    "\n",
    "    #Right 5-meters Box\n",
    "    plt.plot([length,length-5.5],[(width/2+7.32/2+5.5),(width/2+7.32/2+5.5)],color=linecolor)\n",
    "    plt.plot([length-5.5,length-5.5],[(width/2+7.32/2+5.5),width/2-7.32/2-5.5],color=linecolor)\n",
    "    plt.plot([length-5.5,length],[width/2-7.32/2-5.5,width/2-7.32/2-5.5],color=linecolor)\n",
    "\n",
    "    #Prepare Circles\n",
    "    centreCircle = plt.Circle((length/2,width/2),9.15,color=linecolor,fill=False)\n",
    "    centreSpot = plt.Circle((length/2,width/2),0.8,color=linecolor)\n",
    "    leftPenSpot = plt.Circle((11,width/2),0.8,color=linecolor)\n",
    "    rightPenSpot = plt.Circle((length-11,width/2),0.8,color=linecolor)\n",
    "\n",
    "    #Draw Circles\n",
    "    ax.add_patch(centreCircle)\n",
    "    ax.add_patch(centreSpot)\n",
    "    ax.add_patch(leftPenSpot)\n",
    "    ax.add_patch(rightPenSpot)\n",
    "\n",
    "    #Prepare Arcs\n",
    "    leftArc = Arc((11,width/2),height=18.3,width=18.3,angle=0,theta1=308,theta2=52,color=linecolor)\n",
    "    rightArc = Arc((length-11,width/2),height=18.3,width=18.3,angle=0,theta1=128,theta2=232,color=linecolor)\n",
    "\n",
    "    #Draw Arcs\n",
    "    ax.add_patch(leftArc)\n",
    "    ax.add_patch(rightArc)\n",
    "            #Axis titles\n",
    "    #Tidy Axes\n",
    "    plt.axis('off')\n",
    "    \n",
    "    return fig,ax"
   ]
  },
  {
   "cell_type": "code",
   "execution_count": 4,
   "id": "a1fc3a05",
   "metadata": {
    "execution": {
     "iopub.execute_input": "2022-03-21T17:12:06.135258Z",
     "iopub.status.busy": "2022-03-21T17:12:06.134662Z",
     "iopub.status.idle": "2022-03-21T17:12:06.172843Z",
     "shell.execute_reply": "2022-03-21T17:12:06.173332Z",
     "shell.execute_reply.started": "2022-03-21T15:59:45.712669Z"
    },
    "papermill": {
     "duration": 0.075837,
     "end_time": "2022-03-21T17:12:06.173496",
     "exception": false,
     "start_time": "2022-03-21T17:12:06.097659",
     "status": "completed"
    },
    "tags": []
   },
   "outputs": [],
   "source": [
    "match_results = pd.read_csv(\"../input/euro-cup-2020/eurocup_2020_results.csv\")\n",
    "#original dataset has whitespaces, so annoying\n",
    "match_results[['team_name_home', 'team_name_away']] = match_results[['team_name_home', 'team_name_away']].applymap(lambda x: str.strip(x))"
   ]
  },
  {
   "cell_type": "code",
   "execution_count": 5,
   "id": "d71e9922",
   "metadata": {
    "execution": {
     "iopub.execute_input": "2022-03-21T17:12:06.241357Z",
     "iopub.status.busy": "2022-03-21T17:12:06.240689Z",
     "iopub.status.idle": "2022-03-21T17:12:06.262490Z",
     "shell.execute_reply": "2022-03-21T17:12:06.262929Z",
     "shell.execute_reply.started": "2022-03-21T15:59:45.766985Z"
    },
    "papermill": {
     "duration": 0.056979,
     "end_time": "2022-03-21T17:12:06.263108",
     "exception": false,
     "start_time": "2022-03-21T17:12:06.206129",
     "status": "completed"
    },
    "tags": []
   },
   "outputs": [
    {
     "data": {
      "text/html": [
       "<div>\n",
       "<style scoped>\n",
       "    .dataframe tbody tr th:only-of-type {\n",
       "        vertical-align: middle;\n",
       "    }\n",
       "\n",
       "    .dataframe tbody tr th {\n",
       "        vertical-align: top;\n",
       "    }\n",
       "\n",
       "    .dataframe thead th {\n",
       "        text-align: right;\n",
       "    }\n",
       "</style>\n",
       "<table border=\"1\" class=\"dataframe\">\n",
       "  <thead>\n",
       "    <tr style=\"text-align: right;\">\n",
       "      <th></th>\n",
       "      <th>stage</th>\n",
       "      <th>date</th>\n",
       "      <th>pens</th>\n",
       "      <th>pens_home_score</th>\n",
       "      <th>pens_away_score</th>\n",
       "      <th>team_name_home</th>\n",
       "      <th>team_name_away</th>\n",
       "      <th>team_home_score</th>\n",
       "      <th>team_away_score</th>\n",
       "      <th>possession_home</th>\n",
       "      <th>possession_away</th>\n",
       "      <th>total_shots_home</th>\n",
       "      <th>total_shots_away</th>\n",
       "      <th>shots_on_target_home</th>\n",
       "      <th>shots_on_target_away</th>\n",
       "      <th>duels_won_home</th>\n",
       "      <th>duels_won_away</th>\n",
       "      <th>events_list</th>\n",
       "      <th>lineup_home</th>\n",
       "      <th>lineup_away</th>\n",
       "    </tr>\n",
       "  </thead>\n",
       "  <tbody>\n",
       "    <tr>\n",
       "      <th>0</th>\n",
       "      <td>Final</td>\n",
       "      <td>11.07.2021</td>\n",
       "      <td>True</td>\n",
       "      <td>3</td>\n",
       "      <td>2</td>\n",
       "      <td>Italy</td>\n",
       "      <td>England</td>\n",
       "      <td>1</td>\n",
       "      <td>1</td>\n",
       "      <td>66%</td>\n",
       "      <td>34%</td>\n",
       "      <td>19</td>\n",
       "      <td>6</td>\n",
       "      <td>6</td>\n",
       "      <td>2</td>\n",
       "      <td>53%</td>\n",
       "      <td>47%</td>\n",
       "      <td>[{'event_team': 'away', 'event_time': \" 2' \", ...</td>\n",
       "      <td>[{'Player_Name': 'Insigne', 'Player_Number': '...</td>\n",
       "      <td>[{'Player_Name': 'Kane', 'Player_Number': '9'}...</td>\n",
       "    </tr>\n",
       "    <tr>\n",
       "      <th>1</th>\n",
       "      <td>Semi-finals</td>\n",
       "      <td>07.07.2021</td>\n",
       "      <td>False</td>\n",
       "      <td>False</td>\n",
       "      <td>False</td>\n",
       "      <td>England</td>\n",
       "      <td>Denmark</td>\n",
       "      <td>2</td>\n",
       "      <td>1</td>\n",
       "      <td>59%</td>\n",
       "      <td>41%</td>\n",
       "      <td>20</td>\n",
       "      <td>6</td>\n",
       "      <td>10</td>\n",
       "      <td>3</td>\n",
       "      <td>50%</td>\n",
       "      <td>50%</td>\n",
       "      <td>[{'event_team': 'away', 'event_time': \" 30' \",...</td>\n",
       "      <td>[{'Player_Name': 'Kane', 'Player_Number': '9'}...</td>\n",
       "      <td>[{'Player_Name': 'Krogh Damsgaard', 'Player_Nu...</td>\n",
       "    </tr>\n",
       "    <tr>\n",
       "      <th>2</th>\n",
       "      <td>Semi-finals</td>\n",
       "      <td>06.07.2021</td>\n",
       "      <td>True</td>\n",
       "      <td>4</td>\n",
       "      <td>2</td>\n",
       "      <td>Italy</td>\n",
       "      <td>Spain</td>\n",
       "      <td>1</td>\n",
       "      <td>1</td>\n",
       "      <td>29%</td>\n",
       "      <td>71%</td>\n",
       "      <td>7</td>\n",
       "      <td>16</td>\n",
       "      <td>4</td>\n",
       "      <td>5</td>\n",
       "      <td>49%</td>\n",
       "      <td>51%</td>\n",
       "      <td>[{'event_team': 'away', 'event_time': \" 51' \",...</td>\n",
       "      <td>[{'Player_Name': 'Insigne', 'Player_Number': '...</td>\n",
       "      <td>[{'Player_Name': 'Torres', 'Player_Number': '1...</td>\n",
       "    </tr>\n",
       "  </tbody>\n",
       "</table>\n",
       "</div>"
      ],
      "text/plain": [
       "           stage          date   pens pens_home_score pens_away_score  \\\n",
       "0         Final     11.07.2021   True               3               2   \n",
       "1   Semi-finals    07.07.2021   False           False           False   \n",
       "2   Semi-finals     06.07.2021   True               4               2   \n",
       "\n",
       "  team_name_home team_name_away  team_home_score  team_away_score  \\\n",
       "0          Italy        England                1                1   \n",
       "1        England        Denmark                2                1   \n",
       "2          Italy          Spain                1                1   \n",
       "\n",
       "  possession_home possession_away  total_shots_home  total_shots_away  \\\n",
       "0             66%            34%                 19                 6   \n",
       "1             59%            41%                 20                 6   \n",
       "2             29%            71%                  7                16   \n",
       "\n",
       "   shots_on_target_home  shots_on_target_away duels_won_home duels_won_away  \\\n",
       "0                     6                     2            53%           47%    \n",
       "1                    10                     3            50%           50%    \n",
       "2                     4                     5            49%           51%    \n",
       "\n",
       "                                         events_list  \\\n",
       "0  [{'event_team': 'away', 'event_time': \" 2' \", ...   \n",
       "1  [{'event_team': 'away', 'event_time': \" 30' \",...   \n",
       "2  [{'event_team': 'away', 'event_time': \" 51' \",...   \n",
       "\n",
       "                                         lineup_home  \\\n",
       "0  [{'Player_Name': 'Insigne', 'Player_Number': '...   \n",
       "1  [{'Player_Name': 'Kane', 'Player_Number': '9'}...   \n",
       "2  [{'Player_Name': 'Insigne', 'Player_Number': '...   \n",
       "\n",
       "                                         lineup_away  \n",
       "0  [{'Player_Name': 'Kane', 'Player_Number': '9'}...  \n",
       "1  [{'Player_Name': 'Krogh Damsgaard', 'Player_Nu...  \n",
       "2  [{'Player_Name': 'Torres', 'Player_Number': '1...  "
      ]
     },
     "execution_count": 5,
     "metadata": {},
     "output_type": "execute_result"
    }
   ],
   "source": [
    "match_results.head(3)"
   ]
  },
  {
   "cell_type": "code",
   "execution_count": 6,
   "id": "e47d7638",
   "metadata": {
    "execution": {
     "iopub.execute_input": "2022-03-21T17:12:06.340810Z",
     "iopub.status.busy": "2022-03-21T17:12:06.340198Z",
     "iopub.status.idle": "2022-03-21T17:12:06.346185Z",
     "shell.execute_reply": "2022-03-21T17:12:06.345682Z",
     "shell.execute_reply.started": "2022-03-21T15:59:45.799395Z"
    },
    "papermill": {
     "duration": 0.04899,
     "end_time": "2022-03-21T17:12:06.346328",
     "exception": false,
     "start_time": "2022-03-21T17:12:06.297338",
     "status": "completed"
    },
    "tags": []
   },
   "outputs": [],
   "source": [
    "italy_wales_matches = (match_results['team_name_home'].isin([\"Italy\", \"Wales\"])) | (match_results['team_name_away'].isin([\"Italy\", \"Wales\"]))\n",
    "iw_matches = match_results[italy_wales_matches]"
   ]
  },
  {
   "cell_type": "code",
   "execution_count": 7,
   "id": "d74db376",
   "metadata": {
    "execution": {
     "iopub.execute_input": "2022-03-21T17:12:06.435294Z",
     "iopub.status.busy": "2022-03-21T17:12:06.434657Z",
     "iopub.status.idle": "2022-03-21T17:12:06.438391Z",
     "shell.execute_reply": "2022-03-21T17:12:06.438822Z",
     "shell.execute_reply.started": "2022-03-21T15:59:45.812995Z"
    },
    "papermill": {
     "duration": 0.058979,
     "end_time": "2022-03-21T17:12:06.439029",
     "exception": false,
     "start_time": "2022-03-21T17:12:06.380050",
     "status": "completed"
    },
    "tags": []
   },
   "outputs": [
    {
     "data": {
      "text/html": [
       "<div>\n",
       "<style scoped>\n",
       "    .dataframe tbody tr th:only-of-type {\n",
       "        vertical-align: middle;\n",
       "    }\n",
       "\n",
       "    .dataframe tbody tr th {\n",
       "        vertical-align: top;\n",
       "    }\n",
       "\n",
       "    .dataframe thead th {\n",
       "        text-align: right;\n",
       "    }\n",
       "</style>\n",
       "<table border=\"1\" class=\"dataframe\">\n",
       "  <thead>\n",
       "    <tr style=\"text-align: right;\">\n",
       "      <th></th>\n",
       "      <th>stage</th>\n",
       "      <th>date</th>\n",
       "      <th>pens</th>\n",
       "      <th>pens_home_score</th>\n",
       "      <th>pens_away_score</th>\n",
       "      <th>team_name_home</th>\n",
       "      <th>team_name_away</th>\n",
       "      <th>team_home_score</th>\n",
       "      <th>team_away_score</th>\n",
       "      <th>possession_home</th>\n",
       "      <th>possession_away</th>\n",
       "      <th>total_shots_home</th>\n",
       "      <th>total_shots_away</th>\n",
       "      <th>shots_on_target_home</th>\n",
       "      <th>shots_on_target_away</th>\n",
       "      <th>duels_won_home</th>\n",
       "      <th>duels_won_away</th>\n",
       "      <th>events_list</th>\n",
       "      <th>lineup_home</th>\n",
       "      <th>lineup_away</th>\n",
       "    </tr>\n",
       "  </thead>\n",
       "  <tbody>\n",
       "    <tr>\n",
       "      <th>0</th>\n",
       "      <td>Final</td>\n",
       "      <td>11.07.2021</td>\n",
       "      <td>True</td>\n",
       "      <td>3</td>\n",
       "      <td>2</td>\n",
       "      <td>Italy</td>\n",
       "      <td>England</td>\n",
       "      <td>1</td>\n",
       "      <td>1</td>\n",
       "      <td>66%</td>\n",
       "      <td>34%</td>\n",
       "      <td>19</td>\n",
       "      <td>6</td>\n",
       "      <td>6</td>\n",
       "      <td>2</td>\n",
       "      <td>53%</td>\n",
       "      <td>47%</td>\n",
       "      <td>[{'event_team': 'away', 'event_time': \" 2' \", ...</td>\n",
       "      <td>[{'Player_Name': 'Insigne', 'Player_Number': '...</td>\n",
       "      <td>[{'Player_Name': 'Kane', 'Player_Number': '9'}...</td>\n",
       "    </tr>\n",
       "    <tr>\n",
       "      <th>2</th>\n",
       "      <td>Semi-finals</td>\n",
       "      <td>06.07.2021</td>\n",
       "      <td>True</td>\n",
       "      <td>4</td>\n",
       "      <td>2</td>\n",
       "      <td>Italy</td>\n",
       "      <td>Spain</td>\n",
       "      <td>1</td>\n",
       "      <td>1</td>\n",
       "      <td>29%</td>\n",
       "      <td>71%</td>\n",
       "      <td>7</td>\n",
       "      <td>16</td>\n",
       "      <td>4</td>\n",
       "      <td>5</td>\n",
       "      <td>49%</td>\n",
       "      <td>51%</td>\n",
       "      <td>[{'event_team': 'away', 'event_time': \" 51' \",...</td>\n",
       "      <td>[{'Player_Name': 'Insigne', 'Player_Number': '...</td>\n",
       "      <td>[{'Player_Name': 'Torres', 'Player_Number': '1...</td>\n",
       "    </tr>\n",
       "    <tr>\n",
       "      <th>5</th>\n",
       "      <td>Quarter-finals</td>\n",
       "      <td>02.07.2021</td>\n",
       "      <td>False</td>\n",
       "      <td>False</td>\n",
       "      <td>False</td>\n",
       "      <td>Belgium</td>\n",
       "      <td>Italy</td>\n",
       "      <td>1</td>\n",
       "      <td>2</td>\n",
       "      <td>46%</td>\n",
       "      <td>54%</td>\n",
       "      <td>10</td>\n",
       "      <td>14</td>\n",
       "      <td>4</td>\n",
       "      <td>3</td>\n",
       "      <td>58%</td>\n",
       "      <td>42%</td>\n",
       "      <td>[{'event_team': 'away', 'event_time': \" 13' \",...</td>\n",
       "      <td>[{'Player_Name': 'Lukaku', 'Player_Number': '9...</td>\n",
       "      <td>[{'Player_Name': 'Insigne', 'Player_Number': '...</td>\n",
       "    </tr>\n",
       "    <tr>\n",
       "      <th>13</th>\n",
       "      <td>Round of 16</td>\n",
       "      <td>26.06.2021</td>\n",
       "      <td>False</td>\n",
       "      <td>False</td>\n",
       "      <td>False</td>\n",
       "      <td>Italy</td>\n",
       "      <td>Austria</td>\n",
       "      <td>2</td>\n",
       "      <td>1</td>\n",
       "      <td>52%</td>\n",
       "      <td>48%</td>\n",
       "      <td>27</td>\n",
       "      <td>16</td>\n",
       "      <td>6</td>\n",
       "      <td>3</td>\n",
       "      <td>50%</td>\n",
       "      <td>50%</td>\n",
       "      <td>[{'event_team': 'away', 'event_time': \" 2' \", ...</td>\n",
       "      <td>[{'Player_Name': 'Insigne', 'Player_Number': '...</td>\n",
       "      <td>[{'Player_Name': 'Arnautovic', 'Player_Number'...</td>\n",
       "    </tr>\n",
       "    <tr>\n",
       "      <th>14</th>\n",
       "      <td>Round of 16</td>\n",
       "      <td>26.06.2021</td>\n",
       "      <td>False</td>\n",
       "      <td>False</td>\n",
       "      <td>False</td>\n",
       "      <td>Wales</td>\n",
       "      <td>Denmark</td>\n",
       "      <td>0</td>\n",
       "      <td>4</td>\n",
       "      <td>47%</td>\n",
       "      <td>53%</td>\n",
       "      <td>11</td>\n",
       "      <td>16</td>\n",
       "      <td>1</td>\n",
       "      <td>8</td>\n",
       "      <td>39%</td>\n",
       "      <td>61%</td>\n",
       "      <td>[{'event_team': 'home', 'event_time': \" 26' \",...</td>\n",
       "      <td>[{'Player_Name': 'Moore', 'Player_Number': '13...</td>\n",
       "      <td>[{'Player_Name': 'Dolberg', 'Player_Number': '...</td>\n",
       "    </tr>\n",
       "    <tr>\n",
       "      <th>25</th>\n",
       "      <td>Group stage: Matchday 3</td>\n",
       "      <td>20.06.2021</td>\n",
       "      <td>False</td>\n",
       "      <td>False</td>\n",
       "      <td>False</td>\n",
       "      <td>Italy</td>\n",
       "      <td>Wales</td>\n",
       "      <td>1</td>\n",
       "      <td>0</td>\n",
       "      <td>70%</td>\n",
       "      <td>30%</td>\n",
       "      <td>23</td>\n",
       "      <td>3</td>\n",
       "      <td>6</td>\n",
       "      <td>1</td>\n",
       "      <td>56%</td>\n",
       "      <td>44%</td>\n",
       "      <td>[{'event_team': 'home', 'event_time': \" 39' \",...</td>\n",
       "      <td>[{'Player_Name': 'Chiesa', 'Player_Number': '1...</td>\n",
       "      <td>[{'Player_Name': 'James', 'Player_Number': '20...</td>\n",
       "    </tr>\n",
       "    <tr>\n",
       "      <th>36</th>\n",
       "      <td>Group stage: Matchday 2</td>\n",
       "      <td>16.06.2021</td>\n",
       "      <td>False</td>\n",
       "      <td>False</td>\n",
       "      <td>False</td>\n",
       "      <td>Italy</td>\n",
       "      <td>Switzerland</td>\n",
       "      <td>3</td>\n",
       "      <td>0</td>\n",
       "      <td>49%</td>\n",
       "      <td>51%</td>\n",
       "      <td>13</td>\n",
       "      <td>6</td>\n",
       "      <td>3</td>\n",
       "      <td>1</td>\n",
       "      <td>43%</td>\n",
       "      <td>57%</td>\n",
       "      <td>[{'event_team': 'home', 'event_time': \" 19' \",...</td>\n",
       "      <td>[{'Player_Name': 'Insigne', 'Player_Number': '...</td>\n",
       "      <td>[{'Player_Name': 'Embolo', 'Player_Number': '7...</td>\n",
       "    </tr>\n",
       "    <tr>\n",
       "      <th>37</th>\n",
       "      <td>Group stage: Matchday 2</td>\n",
       "      <td>16.06.2021</td>\n",
       "      <td>False</td>\n",
       "      <td>False</td>\n",
       "      <td>False</td>\n",
       "      <td>Turkey</td>\n",
       "      <td>Wales</td>\n",
       "      <td>0</td>\n",
       "      <td>2</td>\n",
       "      <td>64%</td>\n",
       "      <td>36%</td>\n",
       "      <td>18</td>\n",
       "      <td>16</td>\n",
       "      <td>6</td>\n",
       "      <td>7</td>\n",
       "      <td>40%</td>\n",
       "      <td>60%</td>\n",
       "      <td>[{'event_team': 'away', 'event_time': \" 42' \",...</td>\n",
       "      <td>[{'Player_Name': 'Yilmaz', 'Player_Number': '1...</td>\n",
       "      <td>[{'Player_Name': 'Moore', 'Player_Number': '13...</td>\n",
       "    </tr>\n",
       "    <tr>\n",
       "      <th>49</th>\n",
       "      <td>Group stage: Matchday 1</td>\n",
       "      <td>12.06.2021</td>\n",
       "      <td>False</td>\n",
       "      <td>False</td>\n",
       "      <td>False</td>\n",
       "      <td>Wales</td>\n",
       "      <td>Switzerland</td>\n",
       "      <td>1</td>\n",
       "      <td>1</td>\n",
       "      <td>35%</td>\n",
       "      <td>65%</td>\n",
       "      <td>9</td>\n",
       "      <td>18</td>\n",
       "      <td>2</td>\n",
       "      <td>4</td>\n",
       "      <td>46%</td>\n",
       "      <td>55%</td>\n",
       "      <td>[{'event_team': 'away', 'event_time': \" 30' \",...</td>\n",
       "      <td>[{'Player_Name': 'Moore', 'Player_Number': '13...</td>\n",
       "      <td>[{'Player_Name': 'Embolo', 'Player_Number': '7...</td>\n",
       "    </tr>\n",
       "    <tr>\n",
       "      <th>50</th>\n",
       "      <td>Group stage: Matchday 1</td>\n",
       "      <td>11.06.2021</td>\n",
       "      <td>False</td>\n",
       "      <td>False</td>\n",
       "      <td>False</td>\n",
       "      <td>Turkey</td>\n",
       "      <td>Italy</td>\n",
       "      <td>0</td>\n",
       "      <td>3</td>\n",
       "      <td>36%</td>\n",
       "      <td>64%</td>\n",
       "      <td>3</td>\n",
       "      <td>24</td>\n",
       "      <td>0</td>\n",
       "      <td>8</td>\n",
       "      <td>51%</td>\n",
       "      <td>49%</td>\n",
       "      <td>[{'event_team': 'home', 'event_time': \" 45' \",...</td>\n",
       "      <td>[{'Player_Name': 'Yilmaz', 'Player_Number': '1...</td>\n",
       "      <td>[{'Player_Name': 'Insigne', 'Player_Number': '...</td>\n",
       "    </tr>\n",
       "  </tbody>\n",
       "</table>\n",
       "</div>"
      ],
      "text/plain": [
       "                        stage          date   pens pens_home_score  \\\n",
       "0                      Final     11.07.2021   True               3   \n",
       "2                Semi-finals     06.07.2021   True               4   \n",
       "5             Quarter-finals    02.07.2021   False           False   \n",
       "13               Round of 16    26.06.2021   False           False   \n",
       "14               Round of 16    26.06.2021   False           False   \n",
       "25   Group stage: Matchday 3    20.06.2021   False           False   \n",
       "36   Group stage: Matchday 2    16.06.2021   False           False   \n",
       "37   Group stage: Matchday 2    16.06.2021   False           False   \n",
       "49   Group stage: Matchday 1    12.06.2021   False           False   \n",
       "50   Group stage: Matchday 1    11.06.2021   False           False   \n",
       "\n",
       "   pens_away_score team_name_home team_name_away  team_home_score  \\\n",
       "0                2          Italy        England                1   \n",
       "2                2          Italy          Spain                1   \n",
       "5            False        Belgium          Italy                1   \n",
       "13           False          Italy        Austria                2   \n",
       "14           False          Wales        Denmark                0   \n",
       "25           False          Italy          Wales                1   \n",
       "36           False          Italy    Switzerland                3   \n",
       "37           False         Turkey          Wales                0   \n",
       "49           False          Wales    Switzerland                1   \n",
       "50           False         Turkey          Italy                0   \n",
       "\n",
       "    team_away_score possession_home possession_away  total_shots_home  \\\n",
       "0                 1             66%            34%                 19   \n",
       "2                 1             29%            71%                  7   \n",
       "5                 2             46%            54%                 10   \n",
       "13                1             52%            48%                 27   \n",
       "14                4             47%            53%                 11   \n",
       "25                0             70%            30%                 23   \n",
       "36                0             49%            51%                 13   \n",
       "37                2             64%            36%                 18   \n",
       "49                1             35%            65%                  9   \n",
       "50                3             36%            64%                  3   \n",
       "\n",
       "    total_shots_away  shots_on_target_home  shots_on_target_away  \\\n",
       "0                  6                     6                     2   \n",
       "2                 16                     4                     5   \n",
       "5                 14                     4                     3   \n",
       "13                16                     6                     3   \n",
       "14                16                     1                     8   \n",
       "25                 3                     6                     1   \n",
       "36                 6                     3                     1   \n",
       "37                16                     6                     7   \n",
       "49                18                     2                     4   \n",
       "50                24                     0                     8   \n",
       "\n",
       "   duels_won_home duels_won_away  \\\n",
       "0             53%           47%    \n",
       "2             49%           51%    \n",
       "5             58%           42%    \n",
       "13            50%           50%    \n",
       "14            39%           61%    \n",
       "25            56%           44%    \n",
       "36            43%           57%    \n",
       "37            40%           60%    \n",
       "49            46%           55%    \n",
       "50            51%           49%    \n",
       "\n",
       "                                          events_list  \\\n",
       "0   [{'event_team': 'away', 'event_time': \" 2' \", ...   \n",
       "2   [{'event_team': 'away', 'event_time': \" 51' \",...   \n",
       "5   [{'event_team': 'away', 'event_time': \" 13' \",...   \n",
       "13  [{'event_team': 'away', 'event_time': \" 2' \", ...   \n",
       "14  [{'event_team': 'home', 'event_time': \" 26' \",...   \n",
       "25  [{'event_team': 'home', 'event_time': \" 39' \",...   \n",
       "36  [{'event_team': 'home', 'event_time': \" 19' \",...   \n",
       "37  [{'event_team': 'away', 'event_time': \" 42' \",...   \n",
       "49  [{'event_team': 'away', 'event_time': \" 30' \",...   \n",
       "50  [{'event_team': 'home', 'event_time': \" 45' \",...   \n",
       "\n",
       "                                          lineup_home  \\\n",
       "0   [{'Player_Name': 'Insigne', 'Player_Number': '...   \n",
       "2   [{'Player_Name': 'Insigne', 'Player_Number': '...   \n",
       "5   [{'Player_Name': 'Lukaku', 'Player_Number': '9...   \n",
       "13  [{'Player_Name': 'Insigne', 'Player_Number': '...   \n",
       "14  [{'Player_Name': 'Moore', 'Player_Number': '13...   \n",
       "25  [{'Player_Name': 'Chiesa', 'Player_Number': '1...   \n",
       "36  [{'Player_Name': 'Insigne', 'Player_Number': '...   \n",
       "37  [{'Player_Name': 'Yilmaz', 'Player_Number': '1...   \n",
       "49  [{'Player_Name': 'Moore', 'Player_Number': '13...   \n",
       "50  [{'Player_Name': 'Yilmaz', 'Player_Number': '1...   \n",
       "\n",
       "                                          lineup_away  \n",
       "0   [{'Player_Name': 'Kane', 'Player_Number': '9'}...  \n",
       "2   [{'Player_Name': 'Torres', 'Player_Number': '1...  \n",
       "5   [{'Player_Name': 'Insigne', 'Player_Number': '...  \n",
       "13  [{'Player_Name': 'Arnautovic', 'Player_Number'...  \n",
       "14  [{'Player_Name': 'Dolberg', 'Player_Number': '...  \n",
       "25  [{'Player_Name': 'James', 'Player_Number': '20...  \n",
       "36  [{'Player_Name': 'Embolo', 'Player_Number': '7...  \n",
       "37  [{'Player_Name': 'Moore', 'Player_Number': '13...  \n",
       "49  [{'Player_Name': 'Embolo', 'Player_Number': '7...  \n",
       "50  [{'Player_Name': 'Insigne', 'Player_Number': '...  "
      ]
     },
     "execution_count": 7,
     "metadata": {},
     "output_type": "execute_result"
    }
   ],
   "source": [
    "iw_matches"
   ]
  },
  {
   "cell_type": "code",
   "execution_count": 8,
   "id": "60d9a750",
   "metadata": {
    "execution": {
     "iopub.execute_input": "2022-03-21T17:12:06.512659Z",
     "iopub.status.busy": "2022-03-21T17:12:06.511987Z",
     "iopub.status.idle": "2022-03-21T17:12:06.526099Z",
     "shell.execute_reply": "2022-03-21T17:12:06.526588Z",
     "shell.execute_reply.started": "2022-03-21T15:59:45.851826Z"
    },
    "papermill": {
     "duration": 0.052841,
     "end_time": "2022-03-21T17:12:06.526757",
     "exception": false,
     "start_time": "2022-03-21T17:12:06.473916",
     "status": "completed"
    },
    "tags": []
   },
   "outputs": [],
   "source": [
    "import json\n",
    "with open('../input/socceranalytics/matches.json') as f:\n",
    "    data = json.load(f)\n",
    "    matches = pd.json_normalize(data, sep = \"_\")"
   ]
  },
  {
   "cell_type": "code",
   "execution_count": 9,
   "id": "d70be980",
   "metadata": {
    "execution": {
     "iopub.execute_input": "2022-03-21T17:12:06.599544Z",
     "iopub.status.busy": "2022-03-21T17:12:06.597181Z",
     "iopub.status.idle": "2022-03-21T17:12:06.602615Z",
     "shell.execute_reply": "2022-03-21T17:12:06.602180Z",
     "shell.execute_reply.started": "2022-03-21T15:59:45.877710Z"
    },
    "papermill": {
     "duration": 0.041841,
     "end_time": "2022-03-21T17:12:06.602743",
     "exception": false,
     "start_time": "2022-03-21T17:12:06.560902",
     "status": "completed"
    },
    "tags": []
   },
   "outputs": [
    {
     "data": {
      "text/plain": [
       "Index(['match_id', 'match_date', 'kick_off', 'home_score', 'away_score',\n",
       "       'match_status', 'match_status_360', 'last_updated', 'last_updated_360',\n",
       "       'match_week', 'competition_competition_id', 'competition_country_name',\n",
       "       'competition_competition_name', 'season_season_id',\n",
       "       'season_season_name', 'home_team_home_team_id',\n",
       "       'home_team_home_team_name', 'home_team_home_team_gender',\n",
       "       'home_team_home_team_group', 'home_team_country_id',\n",
       "       'home_team_country_name', 'home_team_managers',\n",
       "       'away_team_away_team_id', 'away_team_away_team_name',\n",
       "       'away_team_away_team_gender', 'away_team_away_team_group',\n",
       "       'away_team_country_id', 'away_team_country_name', 'away_team_managers',\n",
       "       'metadata_data_version', 'metadata_shot_fidelity_version',\n",
       "       'metadata_xy_fidelity_version', 'competition_stage_id',\n",
       "       'competition_stage_name', 'stadium_id', 'stadium_name',\n",
       "       'stadium_country_id', 'stadium_country_name', 'referee_id',\n",
       "       'referee_name', 'referee_country_id', 'referee_country_name'],\n",
       "      dtype='object')"
      ]
     },
     "execution_count": 9,
     "metadata": {},
     "output_type": "execute_result"
    }
   ],
   "source": [
    "matches.columns"
   ]
  },
  {
   "cell_type": "code",
   "execution_count": 10,
   "id": "5dfa902e",
   "metadata": {
    "execution": {
     "iopub.execute_input": "2022-03-21T17:12:06.676509Z",
     "iopub.status.busy": "2022-03-21T17:12:06.675782Z",
     "iopub.status.idle": "2022-03-21T17:12:06.683086Z",
     "shell.execute_reply": "2022-03-21T17:12:06.682471Z",
     "shell.execute_reply.started": "2022-03-21T15:59:45.889842Z"
    },
    "papermill": {
     "duration": 0.044882,
     "end_time": "2022-03-21T17:12:06.683220",
     "exception": false,
     "start_time": "2022-03-21T17:12:06.638338",
     "status": "completed"
    },
    "tags": []
   },
   "outputs": [],
   "source": [
    "mask = (matches[\"home_team_home_team_name\"] == \"Italy\") | (matches[\"away_team_away_team_name\"] == \"Italy\")\n",
    "italy_matches = matches[mask]\n",
    "match_id = italy_matches[italy_matches[\"away_team_away_team_name\"] == \"Wales\"].match_id.iloc[0]"
   ]
  },
  {
   "cell_type": "code",
   "execution_count": 11,
   "id": "6b3f2b92",
   "metadata": {
    "execution": {
     "iopub.execute_input": "2022-03-21T17:12:06.757701Z",
     "iopub.status.busy": "2022-03-21T17:12:06.757116Z",
     "iopub.status.idle": "2022-03-21T17:12:06.760078Z",
     "shell.execute_reply": "2022-03-21T17:12:06.760493Z",
     "shell.execute_reply.started": "2022-03-21T15:59:45.901595Z"
    },
    "papermill": {
     "duration": 0.042327,
     "end_time": "2022-03-21T17:12:06.760653",
     "exception": false,
     "start_time": "2022-03-21T17:12:06.718326",
     "status": "completed"
    },
    "tags": []
   },
   "outputs": [
    {
     "data": {
      "text/plain": [
       "3788766"
      ]
     },
     "execution_count": 11,
     "metadata": {},
     "output_type": "execute_result"
    }
   ],
   "source": [
    "match_id"
   ]
  },
  {
   "cell_type": "code",
   "execution_count": 12,
   "id": "4833282a",
   "metadata": {
    "execution": {
     "iopub.execute_input": "2022-03-21T17:12:06.832527Z",
     "iopub.status.busy": "2022-03-21T17:12:06.831858Z",
     "iopub.status.idle": "2022-03-21T17:12:07.263262Z",
     "shell.execute_reply": "2022-03-21T17:12:07.262693Z",
     "shell.execute_reply.started": "2022-03-21T15:59:45.913785Z"
    },
    "papermill": {
     "duration": 0.468299,
     "end_time": "2022-03-21T17:12:07.263417",
     "exception": false,
     "start_time": "2022-03-21T17:12:06.795118",
     "status": "completed"
    },
    "tags": []
   },
   "outputs": [],
   "source": [
    "import bz2\n",
    "zipfile = bz2.BZ2File(f\"../input/socceranalytics/three-sixty/three-sixty/{match_id}.json.bz2\")\n",
    "file = zipfile.read()\n",
    "open(f\"{match_id}.json\", 'wb').write(file)\n",
    "with open(f\"{match_id}.json\") as f:\n",
    "    threesixty = json.load(f)\n",
    "    match_events360 = pd.json_normalize(threesixty)"
   ]
  },
  {
   "cell_type": "code",
   "execution_count": 13,
   "id": "162120fb",
   "metadata": {
    "execution": {
     "iopub.execute_input": "2022-03-21T17:12:07.338249Z",
     "iopub.status.busy": "2022-03-21T17:12:07.337654Z",
     "iopub.status.idle": "2022-03-21T17:12:07.728744Z",
     "shell.execute_reply": "2022-03-21T17:12:07.727688Z",
     "shell.execute_reply.started": "2022-03-21T15:59:46.633397Z"
    },
    "papermill": {
     "duration": 0.430865,
     "end_time": "2022-03-21T17:12:07.728883",
     "exception": false,
     "start_time": "2022-03-21T17:12:07.298018",
     "status": "completed"
    },
    "tags": []
   },
   "outputs": [],
   "source": [
    "zipfile = bz2.BZ2File(f\"../input/socceranalytics/events/events/{match_id}.json.bz2\")\n",
    "file = zipfile.read()\n",
    "open(f\"{match_id}.json\", 'wb').write(file)\n",
    "with open(f\"{match_id}.json\") as f:\n",
    "    events = json.load(f)\n",
    "    match_events = pd.json_normalize(events, sep = \"_\")"
   ]
  },
  {
   "cell_type": "code",
   "execution_count": 14,
   "id": "924fa336",
   "metadata": {
    "execution": {
     "iopub.execute_input": "2022-03-21T17:12:07.806860Z",
     "iopub.status.busy": "2022-03-21T17:12:07.806252Z",
     "iopub.status.idle": "2022-03-21T17:12:07.809283Z",
     "shell.execute_reply": "2022-03-21T17:12:07.809728Z",
     "shell.execute_reply.started": "2022-03-21T15:59:47.307945Z"
    },
    "papermill": {
     "duration": 0.046402,
     "end_time": "2022-03-21T17:12:07.809888",
     "exception": false,
     "start_time": "2022-03-21T17:12:07.763486",
     "status": "completed"
    },
    "tags": []
   },
   "outputs": [],
   "source": [
    "shots = match_events[match_events['type_name'] == 'Shot']\n",
    "passes = match_events[match_events['type_name'] == 'Pass']"
   ]
  },
  {
   "cell_type": "code",
   "execution_count": 15,
   "id": "1b1f2abc",
   "metadata": {
    "execution": {
     "iopub.execute_input": "2022-03-21T17:12:07.883226Z",
     "iopub.status.busy": "2022-03-21T17:12:07.882534Z",
     "iopub.status.idle": "2022-03-21T17:12:07.885353Z",
     "shell.execute_reply": "2022-03-21T17:12:07.885868Z",
     "shell.execute_reply.started": "2022-03-21T15:59:47.322370Z"
    },
    "papermill": {
     "duration": 0.040249,
     "end_time": "2022-03-21T17:12:07.886063",
     "exception": false,
     "start_time": "2022-03-21T17:12:07.845814",
     "status": "completed"
    },
    "tags": []
   },
   "outputs": [],
   "source": [
    "# max_x = 0\n",
    "# max_y = 0\n",
    "# for frame in match_events360.freeze_frame:\n",
    "#     for player in frame:\n",
    "#         if max_x < player['location'][0]:\n",
    "#             max_x = player['location'][0]\n",
    "#         if max_y < player['location'][1]:\n",
    "#             max_y = player['location'][1]"
   ]
  },
  {
   "cell_type": "code",
   "execution_count": 16,
   "id": "1cbb330c",
   "metadata": {
    "execution": {
     "iopub.execute_input": "2022-03-21T17:12:07.958516Z",
     "iopub.status.busy": "2022-03-21T17:12:07.957928Z",
     "iopub.status.idle": "2022-03-21T17:12:07.961661Z",
     "shell.execute_reply": "2022-03-21T17:12:07.962217Z",
     "shell.execute_reply.started": "2022-03-21T15:59:47.329662Z"
    },
    "papermill": {
     "duration": 0.041291,
     "end_time": "2022-03-21T17:12:07.962376",
     "exception": false,
     "start_time": "2022-03-21T17:12:07.921085",
     "status": "completed"
    },
    "tags": []
   },
   "outputs": [],
   "source": [
    "shots = shots.reset_index(drop = True)\n",
    "x, y= shots['location'][0]"
   ]
  },
  {
   "cell_type": "code",
   "execution_count": 17,
   "id": "0f160c2e",
   "metadata": {
    "execution": {
     "iopub.execute_input": "2022-03-21T17:12:08.035086Z",
     "iopub.status.busy": "2022-03-21T17:12:08.034459Z",
     "iopub.status.idle": "2022-03-21T17:12:08.468786Z",
     "shell.execute_reply": "2022-03-21T17:12:08.469266Z",
     "shell.execute_reply.started": "2022-03-21T15:59:47.344155Z"
    },
    "papermill": {
     "duration": 0.472051,
     "end_time": "2022-03-21T17:12:08.469435",
     "exception": false,
     "start_time": "2022-03-21T17:12:07.997384",
     "status": "completed"
    },
    "tags": []
   },
   "outputs": [
    {
     "data": {
      "image/png": "[encoded data removed]",
      "text/plain": [
       "<Figure size 756x489.6 with 1 Axes>"
      ]
     },
     "metadata": {},
     "output_type": "display_data"
    }
   ],
   "source": [
    "fig, ax = create_pitch(120, 80,'white')\n",
    "for shot in shots['location']:\n",
    "    x, y = shot\n",
    "    y = 80 - y\n",
    "    plt.scatter(x,y, marker = 'o')\n",
    "    #shotCircle = plt.Circle((x,y) , 2, color=\"red\")     \n",
    "    #ax.add_patch(shotCircle)\n",
    "\n",
    "plt.show()"
   ]
  },
  {
   "cell_type": "code",
   "execution_count": 18,
   "id": "e7cadcb0",
   "metadata": {
    "execution": {
     "iopub.execute_input": "2022-03-21T17:12:08.570694Z",
     "iopub.status.busy": "2022-03-21T17:12:08.561727Z",
     "iopub.status.idle": "2022-03-21T17:12:17.690049Z",
     "shell.execute_reply": "2022-03-21T17:12:17.690490Z",
     "shell.execute_reply.started": "2022-03-21T15:59:47.873420Z"
    },
    "papermill": {
     "duration": 9.186026,
     "end_time": "2022-03-21T17:12:17.690652",
     "exception": false,
     "start_time": "2022-03-21T17:12:08.504626",
     "status": "completed"
    },
    "tags": []
   },
   "outputs": [
    {
     "data": {
      "image/png": "[encoded data removed]",
      "text/plain": [
       "<Figure size 756x489.6 with 1 Axes>"
      ]
     },
     "metadata": {},
     "output_type": "display_data"
    }
   ],
   "source": [
    "fig, ax = create_pitch(120, 80,'white')\n",
    "for pass_ball in passes['location']:\n",
    "    x, y = pass_ball\n",
    "    y = 80 - y\n",
    "    plt.scatter(x,y, marker = 'o')\n",
    "\n",
    "plt.show()"
   ]
  },
  {
   "cell_type": "code",
   "execution_count": 19,
   "id": "f245d70e",
   "metadata": {
    "execution": {
     "iopub.execute_input": "2022-03-21T17:12:17.768699Z",
     "iopub.status.busy": "2022-03-21T17:12:17.768095Z",
     "iopub.status.idle": "2022-03-21T17:12:18.117060Z",
     "shell.execute_reply": "2022-03-21T17:12:18.117508Z",
     "shell.execute_reply.started": "2022-03-21T15:59:58.907172Z"
    },
    "papermill": {
     "duration": 0.389684,
     "end_time": "2022-03-21T17:12:18.117674",
     "exception": false,
     "start_time": "2022-03-21T17:12:17.727990",
     "status": "completed"
    },
    "tags": []
   },
   "outputs": [
    {
     "data": {
      "image/png": "[encoded data removed]",
      "text/plain": [
       "<Figure size 756x489.6 with 1 Axes>"
      ]
     },
     "metadata": {},
     "output_type": "display_data"
    }
   ],
   "source": [
    "fig, ax = create_pitch(120, 80,'white')\n",
    "for d in match_events360['freeze_frame'][4]:\n",
    "    x, y = d['location']\n",
    "    y = 80 - y\n",
    "    plt.scatter(x, y, color = 'red', marker = 'o')\n",
    "plt.show()"
   ]
  },
  {
   "cell_type": "code",
   "execution_count": 20,
   "id": "2be5eefa",
   "metadata": {
    "execution": {
     "iopub.execute_input": "2022-03-21T17:12:18.202229Z",
     "iopub.status.busy": "2022-03-21T17:12:18.201351Z",
     "iopub.status.idle": "2022-03-21T17:12:41.885896Z",
     "shell.execute_reply": "2022-03-21T17:12:41.885376Z",
     "shell.execute_reply.started": "2022-03-21T15:59:59.308891Z"
    },
    "papermill": {
     "duration": 23.728905,
     "end_time": "2022-03-21T17:12:41.886043",
     "exception": false,
     "start_time": "2022-03-21T17:12:18.157138",
     "status": "completed"
    },
    "tags": []
   },
   "outputs": [],
   "source": [
    "game = pd.read_parquet(\"../input/socceranalytics/italywales.pq\")\n",
    "position_cols = [col for col in game if \"_x\" in col or \"_y\" in col or \"_type\" in col]\n",
    "x_pos = [col for col in game if \"_x\" in col]\n",
    "y_pos = [col for col in game if \"_y\" in col]\n",
    "type_cols = [col for col in game if \"_type\" in col]\n",
    "id_cols = [col for col in game if \"_id\" in col]\n",
    "game[x_pos] = game[x_pos].astype(float) / 100.0\n",
    "game[y_pos] = game[y_pos].astype(float) / 100.0"
   ]
  },
  {
   "cell_type": "code",
   "execution_count": 21,
   "id": "3875cffc",
   "metadata": {
    "execution": {
     "iopub.execute_input": "2022-03-21T17:12:41.965525Z",
     "iopub.status.busy": "2022-03-21T17:12:41.964882Z",
     "iopub.status.idle": "2022-03-21T17:12:49.838488Z",
     "shell.execute_reply": "2022-03-21T17:12:49.837844Z",
     "shell.execute_reply.started": "2022-03-21T16:00:24.979835Z"
    },
    "papermill": {
     "duration": 7.914307,
     "end_time": "2022-03-21T17:12:49.838635",
     "exception": false,
     "start_time": "2022-03-21T17:12:41.924328",
     "status": "completed"
    },
    "tags": []
   },
   "outputs": [],
   "source": [
    "\n",
    "\n",
    "baseURL = \"https://www.uefa.com/uefaeuro-2020/teams/\"\n",
    "\n",
    "class Player:\n",
    "    def __init__(self, attr):\n",
    "        self.id             = attr[0]\n",
    "        self.name           = attr[1]\n",
    "        self.number         = attr[2]\n",
    "        self.position       = attr[3]\n",
    "        self.age            = attr[4]\n",
    "        self.gamesPlayed    = attr[5]\n",
    "        self.goals          = attr[6]\n",
    "\n",
    "def parseSite(teamID):\n",
    "    teamURL = baseURL + str(teamID) + \"/squad/\"\n",
    "\n",
    "    # Get the HTML from the site\n",
    "    page = requests.get(teamURL)\n",
    "\n",
    "    # Check for bad status code\n",
    "    if not page.status_code == 200:\n",
    "        print(\"Error: Could not get the page\")\n",
    "        return\n",
    "\n",
    "    # Parse the HTML\n",
    "    html = page.text\n",
    "    soup = BeautifulSoup(html, 'html.parser')\n",
    "    \n",
    "    # The HTML has multiple divs with class 'squad--team-wrap' that contain all \n",
    "    # the player infos split by postition\n",
    "    squad = soup.find_all('div', class_='squad--team-wrap')\n",
    "\n",
    "    # Extract the player infos from the HTML\n",
    "    players = []\n",
    "\n",
    "    for wrap in squad[1:5]:\n",
    "        postition = wrap.h5.text[:-1]\n",
    "\n",
    "        for player in wrap.find('tbody').find_all('tr'):\n",
    "            infos = player.find_all('td')\n",
    "\n",
    "            players.append(Player([\n",
    "                infos[0].find('a', class_='player-name')[\"href\"].split(\"/\")[-2].split(\"-\")[0], \n",
    "                infos[0].find('a', class_='player-name')[\"title\"], \n",
    "                infos[0].text.strip().split(\" \")[-1].strip(\"()\"), \n",
    "                postition, \n",
    "                infos[1].text.strip(), \n",
    "                infos[2].text.strip().replace(\"-\", \"0\"), \n",
    "                infos[3].text.strip().replace(\"-\", \"0\")\n",
    "            ]))\n",
    "\n",
    "    return players\n",
    "\n",
    "italy = parseSite(66) # Italy\n",
    "wales = parseSite(144) # Wales"
   ]
  },
  {
   "cell_type": "code",
   "execution_count": 22,
   "id": "cb01490c",
   "metadata": {
    "execution": {
     "iopub.execute_input": "2022-03-21T17:12:49.920174Z",
     "iopub.status.busy": "2022-03-21T17:12:49.919527Z",
     "iopub.status.idle": "2022-03-21T17:12:49.921211Z",
     "shell.execute_reply": "2022-03-21T17:12:49.921761Z",
     "shell.execute_reply.started": "2022-03-21T16:00:31.695283Z"
    },
    "papermill": {
     "duration": 0.04511,
     "end_time": "2022-03-21T17:12:49.921919",
     "exception": false,
     "start_time": "2022-03-21T17:12:49.876809",
     "status": "completed"
    },
    "tags": []
   },
   "outputs": [],
   "source": [
    "player_map = dict()\n",
    "for player in italy:\n",
    "    player_map[player.id] = player.name\n",
    "for player in wales:\n",
    "    player_map[player.id] = player.name"
   ]
  },
  {
   "cell_type": "code",
   "execution_count": 23,
   "id": "d29deaa0",
   "metadata": {
    "execution": {
     "iopub.execute_input": "2022-03-21T17:12:50.000683Z",
     "iopub.status.busy": "2022-03-21T17:12:50.000085Z",
     "iopub.status.idle": "2022-03-21T17:12:50.016883Z",
     "shell.execute_reply": "2022-03-21T17:12:50.017451Z",
     "shell.execute_reply.started": "2022-03-21T16:00:31.704767Z"
    },
    "papermill": {
     "duration": 0.05782,
     "end_time": "2022-03-21T17:12:50.017637",
     "exception": false,
     "start_time": "2022-03-21T17:12:49.959817",
     "status": "completed"
    },
    "tags": []
   },
   "outputs": [],
   "source": [
    "with open(f\"../input/socceranalytics/lineups/lineups/{match_id}.json\") as f:\n",
    "    lineup = json.load(f)\n",
    "    lineups = pd.json_normalize(data)"
   ]
  },
  {
   "cell_type": "code",
   "execution_count": 24,
   "id": "e3297f09",
   "metadata": {
    "execution": {
     "iopub.execute_input": "2022-03-21T17:12:50.099229Z",
     "iopub.status.busy": "2022-03-21T17:12:50.098626Z",
     "iopub.status.idle": "2022-03-21T17:12:50.102481Z",
     "shell.execute_reply": "2022-03-21T17:12:50.101861Z",
     "shell.execute_reply.started": "2022-03-21T16:00:31.791369Z"
    },
    "papermill": {
     "duration": 0.044438,
     "end_time": "2022-03-21T17:12:50.102626",
     "exception": false,
     "start_time": "2022-03-21T17:12:50.058188",
     "status": "completed"
    },
    "tags": []
   },
   "outputs": [],
   "source": [
    "wales_lineup = lineup[0]\n",
    "italy_lineup = lineup[1]"
   ]
  },
  {
   "cell_type": "code",
   "execution_count": 25,
   "id": "6749ac6f",
   "metadata": {
    "execution": {
     "iopub.execute_input": "2022-03-21T17:12:50.183720Z",
     "iopub.status.busy": "2022-03-21T17:12:50.183101Z",
     "iopub.status.idle": "2022-03-21T17:12:50.255143Z",
     "shell.execute_reply": "2022-03-21T17:12:50.255618Z",
     "shell.execute_reply.started": "2022-03-21T16:00:31.798809Z"
    },
    "papermill": {
     "duration": 0.11518,
     "end_time": "2022-03-21T17:12:50.255780",
     "exception": false,
     "start_time": "2022-03-21T17:12:50.140600",
     "status": "completed"
    },
    "tags": []
   },
   "outputs": [],
   "source": [
    "random_point = game.sample(1)"
   ]
  },
  {
   "cell_type": "code",
   "execution_count": 26,
   "id": "e0fbdb05",
   "metadata": {
    "execution": {
     "iopub.execute_input": "2022-03-21T17:12:50.334650Z",
     "iopub.status.busy": "2022-03-21T17:12:50.334089Z",
     "iopub.status.idle": "2022-03-21T17:12:50.359486Z",
     "shell.execute_reply": "2022-03-21T17:12:50.359976Z",
     "shell.execute_reply.started": "2022-03-21T16:00:31.883475Z"
    },
    "papermill": {
     "duration": 0.06602,
     "end_time": "2022-03-21T17:12:50.360145",
     "exception": false,
     "start_time": "2022-03-21T17:12:50.294125",
     "status": "completed"
    },
    "tags": []
   },
   "outputs": [
    {
     "name": "stdout",
     "output_type": "stream",
     "text": [
      "49864    51.68\n",
      "Name: ball_x, dtype: float64\n",
      "49864    44.58\n",
      "Name: player1_x, dtype: float64\n",
      "49864    41.13\n",
      "Name: player2_x, dtype: float64\n",
      "49864    8.19\n",
      "Name: player3_x, dtype: float64\n",
      "49864    54.38\n",
      "Name: player4_x, dtype: float64\n",
      "49864    34.51\n",
      "Name: player5_x, dtype: float64\n",
      "49864    12.34\n",
      "Name: player6_x, dtype: float64\n",
      "49864    28.76\n",
      "Name: player7_x, dtype: float64\n",
      "49864    27.45\n",
      "Name: player8_x, dtype: float64\n",
      "49864    10.13\n",
      "Name: player9_x, dtype: float64\n",
      "49864    20.57\n",
      "Name: player10_x, dtype: float64\n",
      "49864    16.84\n",
      "Name: player11_x, dtype: float64\n",
      "49864    1.29\n",
      "Name: player12_x, dtype: float64\n",
      "49864    30.62\n",
      "Name: player13_x, dtype: float64\n",
      "49864    8.77\n",
      "Name: player14_x, dtype: float64\n",
      "49864    43.27\n",
      "Name: player15_x, dtype: float64\n",
      "49864    33.28\n",
      "Name: player16_x, dtype: float64\n",
      "49864    30.01\n",
      "Name: player17_x, dtype: float64\n",
      "49864    4.74\n",
      "Name: player18_x, dtype: float64\n",
      "49864    34.14\n",
      "Name: player19_x, dtype: float64\n",
      "49864    11.73\n",
      "Name: player20_x, dtype: float64\n",
      "49864    33.57\n",
      "Name: player21_x, dtype: float64\n",
      "49864   -25.76\n",
      "Name: player22_x, dtype: float64\n",
      "49864   NaN\n",
      "Name: player23_x, dtype: float64\n",
      "49864   NaN\n",
      "Name: player24_x, dtype: float64\n",
      "49864   NaN\n",
      "Name: player25_x, dtype: float64\n",
      "49864   NaN\n",
      "Name: player26_x, dtype: float64\n",
      "49864   NaN\n",
      "Name: player27_x, dtype: float64\n",
      "49864   NaN\n",
      "Name: player28_x, dtype: float64\n",
      "49864   NaN\n",
      "Name: player29_x, dtype: float64\n",
      "49864   NaN\n",
      "Name: player30_x, dtype: float64\n",
      "49864   NaN\n",
      "Name: player31_x, dtype: float64\n",
      "49864   NaN\n",
      "Name: player32_x, dtype: float64\n"
     ]
    }
   ],
   "source": [
    "for col in x_pos:\n",
    "    print(random_point[col])"
   ]
  },
  {
   "cell_type": "code",
   "execution_count": 27,
   "id": "f0a6eea1",
   "metadata": {
    "execution": {
     "iopub.execute_input": "2022-03-21T17:12:50.458139Z",
     "iopub.status.busy": "2022-03-21T17:12:50.456501Z",
     "iopub.status.idle": "2022-03-21T17:12:51.264091Z",
     "shell.execute_reply": "2022-03-21T17:12:51.264531Z",
     "shell.execute_reply.started": "2022-03-21T16:00:31.917187Z"
    },
    "papermill": {
     "duration": 0.866378,
     "end_time": "2022-03-21T17:12:51.264687",
     "exception": false,
     "start_time": "2022-03-21T17:12:50.398309",
     "status": "completed"
    },
    "tags": []
   },
   "outputs": [
    {
     "data": {
      "image/png": "[encoded data removed]",
      "text/plain": [
       "<Figure size 756x489.6 with 1 Axes>"
      ]
     },
     "metadata": {},
     "output_type": "display_data"
    }
   ],
   "source": [
    "length, width = 105, 68\n",
    "fig, ax = create_pitch(length, width,'white')\n",
    "x, y = random_point[\"ball_x\"].iloc[0] / 100, random_point[\"ball_y\"].iloc[0] /100\n",
    "x = length/2.0 + x\n",
    "y = width/2.0 + y\n",
    "plt.scatter(x, y, marker = 'o', color = 'black')\n",
    "p = 1\n",
    "names = [\"Ball\"]\n",
    "for i in range(3, len(position_cols), 3):\n",
    "    t, x, y = random_point[position_cols[i]].iloc[0], random_point[position_cols[i + 1]].iloc[0], random_point[position_cols[i + 2]].iloc[0]\n",
    "    if np.isnan(x) or np.isnan(y):\n",
    "        continue\n",
    "    t = int(t)\n",
    "    x = length/2.0 + x\n",
    "    y = width/2.0 + y\n",
    "    try:\n",
    "        name = player_map[random_point[f'player{p}_id'].iloc[0]]\n",
    "        names.append(name)\n",
    "    except:\n",
    "        print('faile')\n",
    "        continue\n",
    "    y = 80 - y\n",
    "    color = 'yellow' if t == 0 else 'red'\n",
    "    plt.scatter(x,y, marker = 'o', color = color)\n",
    "    p += 1\n",
    "plt.legend(names, loc = 'upper right', bbox_to_anchor = (1.25, 1))\n",
    "plt.savefig('figure.png')\n",
    "plt.show()"
   ]
  },
  {
   "cell_type": "code",
   "execution_count": 28,
   "id": "2291fb93",
   "metadata": {
    "execution": {
     "iopub.execute_input": "2022-03-21T17:12:51.350978Z",
     "iopub.status.busy": "2022-03-21T17:12:51.350272Z",
     "iopub.status.idle": "2022-03-21T17:12:51.353473Z",
     "shell.execute_reply": "2022-03-21T17:12:51.353927Z",
     "shell.execute_reply.started": "2022-03-21T16:00:32.567854Z"
    },
    "papermill": {
     "duration": 0.048987,
     "end_time": "2022-03-21T17:12:51.354115",
     "exception": false,
     "start_time": "2022-03-21T17:12:51.305128",
     "status": "completed"
    },
    "tags": []
   },
   "outputs": [
    {
     "data": {
      "text/plain": [
       "(166313, 167)"
      ]
     },
     "execution_count": 28,
     "metadata": {},
     "output_type": "execute_result"
    }
   ],
   "source": [
    "game.shape"
   ]
  },
  {
   "cell_type": "code",
   "execution_count": 29,
   "id": "3a62d973",
   "metadata": {
    "execution": {
     "iopub.execute_input": "2022-03-21T17:12:51.444053Z",
     "iopub.status.busy": "2022-03-21T17:12:51.441189Z",
     "iopub.status.idle": "2022-03-21T17:12:51.445969Z",
     "shell.execute_reply": "2022-03-21T17:12:51.446415Z",
     "shell.execute_reply.started": "2022-03-21T16:11:21.535141Z"
    },
    "papermill": {
     "duration": 0.052004,
     "end_time": "2022-03-21T17:12:51.446580",
     "exception": false,
     "start_time": "2022-03-21T17:12:51.394576",
     "status": "completed"
    },
    "tags": []
   },
   "outputs": [],
   "source": [
    "short_play = game.iloc[8000:18010].reset_index(drop = True)"
   ]
  },
  {
   "cell_type": "code",
   "execution_count": 30,
   "id": "9c8145b5",
   "metadata": {
    "execution": {
     "iopub.execute_input": "2022-03-21T17:12:51.531212Z",
     "iopub.status.busy": "2022-03-21T17:12:51.530615Z",
     "iopub.status.idle": "2022-03-21T17:12:51.553080Z",
     "shell.execute_reply": "2022-03-21T17:12:51.553604Z",
     "shell.execute_reply.started": "2022-03-21T16:00:32.593282Z"
    },
    "papermill": {
     "duration": 0.066084,
     "end_time": "2022-03-21T17:12:51.553763",
     "exception": false,
     "start_time": "2022-03-21T17:12:51.487679",
     "status": "completed"
    },
    "tags": []
   },
   "outputs": [
    {
     "data": {
      "text/html": [
       "<div>\n",
       "<style scoped>\n",
       "    .dataframe tbody tr th:only-of-type {\n",
       "        vertical-align: middle;\n",
       "    }\n",
       "\n",
       "    .dataframe tbody tr th {\n",
       "        vertical-align: top;\n",
       "    }\n",
       "\n",
       "    .dataframe thead th {\n",
       "        text-align: right;\n",
       "    }\n",
       "</style>\n",
       "<table border=\"1\" class=\"dataframe\">\n",
       "  <thead>\n",
       "    <tr style=\"text-align: right;\">\n",
       "      <th></th>\n",
       "      <th>time</th>\n",
       "      <th>ball_type</th>\n",
       "      <th>ball_id</th>\n",
       "      <th>ball_x</th>\n",
       "      <th>ball_y</th>\n",
       "      <th>ball_z</th>\n",
       "      <th>ball_sampling</th>\n",
       "      <th>player1_type</th>\n",
       "      <th>player1_id</th>\n",
       "      <th>player1_x</th>\n",
       "      <th>...</th>\n",
       "      <th>player31_type</th>\n",
       "      <th>player31_id</th>\n",
       "      <th>player31_x</th>\n",
       "      <th>player31_y</th>\n",
       "      <th>player31_sampling</th>\n",
       "      <th>player32_type</th>\n",
       "      <th>player32_id</th>\n",
       "      <th>player32_x</th>\n",
       "      <th>player32_y</th>\n",
       "      <th>player32_sampling</th>\n",
       "    </tr>\n",
       "  </thead>\n",
       "  <tbody>\n",
       "    <tr>\n",
       "      <th>0</th>\n",
       "      <td>2021-06-20T16:05:14.094Z</td>\n",
       "      <td>7</td>\n",
       "      <td>0</td>\n",
       "      <td>36.57</td>\n",
       "      <td>-0.70</td>\n",
       "      <td>18</td>\n",
       "      <td>0</td>\n",
       "      <td>1</td>\n",
       "      <td>102221</td>\n",
       "      <td>30.45</td>\n",
       "      <td>...</td>\n",
       "      <td>None</td>\n",
       "      <td>None</td>\n",
       "      <td>NaN</td>\n",
       "      <td>NaN</td>\n",
       "      <td>None</td>\n",
       "      <td>None</td>\n",
       "      <td>None</td>\n",
       "      <td>NaN</td>\n",
       "      <td>NaN</td>\n",
       "      <td>None</td>\n",
       "    </tr>\n",
       "    <tr>\n",
       "      <th>1</th>\n",
       "      <td>2021-06-20T16:05:14.134Z</td>\n",
       "      <td>7</td>\n",
       "      <td>0</td>\n",
       "      <td>36.62</td>\n",
       "      <td>-1.41</td>\n",
       "      <td>12</td>\n",
       "      <td>0</td>\n",
       "      <td>1</td>\n",
       "      <td>102221</td>\n",
       "      <td>30.47</td>\n",
       "      <td>...</td>\n",
       "      <td>None</td>\n",
       "      <td>None</td>\n",
       "      <td>NaN</td>\n",
       "      <td>NaN</td>\n",
       "      <td>None</td>\n",
       "      <td>None</td>\n",
       "      <td>None</td>\n",
       "      <td>NaN</td>\n",
       "      <td>NaN</td>\n",
       "      <td>None</td>\n",
       "    </tr>\n",
       "    <tr>\n",
       "      <th>2</th>\n",
       "      <td>2021-06-20T16:05:14.174Z</td>\n",
       "      <td>7</td>\n",
       "      <td>0</td>\n",
       "      <td>36.53</td>\n",
       "      <td>-1.27</td>\n",
       "      <td>16</td>\n",
       "      <td>0</td>\n",
       "      <td>1</td>\n",
       "      <td>102221</td>\n",
       "      <td>30.49</td>\n",
       "      <td>...</td>\n",
       "      <td>None</td>\n",
       "      <td>None</td>\n",
       "      <td>NaN</td>\n",
       "      <td>NaN</td>\n",
       "      <td>None</td>\n",
       "      <td>None</td>\n",
       "      <td>None</td>\n",
       "      <td>NaN</td>\n",
       "      <td>NaN</td>\n",
       "      <td>None</td>\n",
       "    </tr>\n",
       "    <tr>\n",
       "      <th>3</th>\n",
       "      <td>2021-06-20T16:05:14.214Z</td>\n",
       "      <td>7</td>\n",
       "      <td>0</td>\n",
       "      <td>36.65</td>\n",
       "      <td>-0.62</td>\n",
       "      <td>0</td>\n",
       "      <td>0</td>\n",
       "      <td>1</td>\n",
       "      <td>102221</td>\n",
       "      <td>30.52</td>\n",
       "      <td>...</td>\n",
       "      <td>None</td>\n",
       "      <td>None</td>\n",
       "      <td>NaN</td>\n",
       "      <td>NaN</td>\n",
       "      <td>None</td>\n",
       "      <td>None</td>\n",
       "      <td>None</td>\n",
       "      <td>NaN</td>\n",
       "      <td>NaN</td>\n",
       "      <td>None</td>\n",
       "    </tr>\n",
       "    <tr>\n",
       "      <th>4</th>\n",
       "      <td>2021-06-20T16:05:14.254Z</td>\n",
       "      <td>7</td>\n",
       "      <td>0</td>\n",
       "      <td>36.62</td>\n",
       "      <td>1.01</td>\n",
       "      <td>12</td>\n",
       "      <td>0</td>\n",
       "      <td>1</td>\n",
       "      <td>102221</td>\n",
       "      <td>30.54</td>\n",
       "      <td>...</td>\n",
       "      <td>None</td>\n",
       "      <td>None</td>\n",
       "      <td>NaN</td>\n",
       "      <td>NaN</td>\n",
       "      <td>None</td>\n",
       "      <td>None</td>\n",
       "      <td>None</td>\n",
       "      <td>NaN</td>\n",
       "      <td>NaN</td>\n",
       "      <td>None</td>\n",
       "    </tr>\n",
       "  </tbody>\n",
       "</table>\n",
       "<p>5 rows × 167 columns</p>\n",
       "</div>"
      ],
      "text/plain": [
       "                       time ball_type ball_id  ball_x  ball_y ball_z  \\\n",
       "0  2021-06-20T16:05:14.094Z         7       0   36.57   -0.70     18   \n",
       "1  2021-06-20T16:05:14.134Z         7       0   36.62   -1.41     12   \n",
       "2  2021-06-20T16:05:14.174Z         7       0   36.53   -1.27     16   \n",
       "3  2021-06-20T16:05:14.214Z         7       0   36.65   -0.62      0   \n",
       "4  2021-06-20T16:05:14.254Z         7       0   36.62    1.01     12   \n",
       "\n",
       "  ball_sampling player1_type player1_id  player1_x  ...  player31_type  \\\n",
       "0             0            1     102221      30.45  ...           None   \n",
       "1             0            1     102221      30.47  ...           None   \n",
       "2             0            1     102221      30.49  ...           None   \n",
       "3             0            1     102221      30.52  ...           None   \n",
       "4             0            1     102221      30.54  ...           None   \n",
       "\n",
       "  player31_id player31_x player31_y  player31_sampling  player32_type  \\\n",
       "0        None        NaN        NaN               None           None   \n",
       "1        None        NaN        NaN               None           None   \n",
       "2        None        NaN        NaN               None           None   \n",
       "3        None        NaN        NaN               None           None   \n",
       "4        None        NaN        NaN               None           None   \n",
       "\n",
       "  player32_id player32_x player32_y  player32_sampling  \n",
       "0        None        NaN        NaN               None  \n",
       "1        None        NaN        NaN               None  \n",
       "2        None        NaN        NaN               None  \n",
       "3        None        NaN        NaN               None  \n",
       "4        None        NaN        NaN               None  \n",
       "\n",
       "[5 rows x 167 columns]"
      ]
     },
     "execution_count": 30,
     "metadata": {},
     "output_type": "execute_result"
    }
   ],
   "source": [
    "short_play.head()"
   ]
  },
  {
   "cell_type": "code",
   "execution_count": 31,
   "id": "aaff8a2c",
   "metadata": {
    "execution": {
     "iopub.execute_input": "2022-03-21T17:12:51.638145Z",
     "iopub.status.busy": "2022-03-21T17:12:51.637593Z",
     "iopub.status.idle": "2022-03-21T17:12:51.640871Z",
     "shell.execute_reply": "2022-03-21T17:12:51.641334Z",
     "shell.execute_reply.started": "2022-03-21T16:00:32.641661Z"
    },
    "papermill": {
     "duration": 0.046886,
     "end_time": "2022-03-21T17:12:51.641493",
     "exception": false,
     "start_time": "2022-03-21T17:12:51.594607",
     "status": "completed"
    },
    "tags": []
   },
   "outputs": [],
   "source": [
    "import os\n",
    "os.mkdir('images')"
   ]
  },
  {
   "cell_type": "code",
   "execution_count": 32,
   "id": "d7f5d1cc",
   "metadata": {
    "execution": {
     "iopub.execute_input": "2022-03-21T17:12:51.732340Z",
     "iopub.status.busy": "2022-03-21T17:12:51.731351Z",
     "iopub.status.idle": "2022-03-21T17:12:51.733421Z",
     "shell.execute_reply": "2022-03-21T17:12:51.733789Z",
     "shell.execute_reply.started": "2022-03-21T16:11:23.797080Z"
    },
    "papermill": {
     "duration": 0.051631,
     "end_time": "2022-03-21T17:12:51.733958",
     "exception": false,
     "start_time": "2022-03-21T17:12:51.682327",
     "status": "completed"
    },
    "tags": []
   },
   "outputs": [],
   "source": [
    "def save_frames(df, length, width):\n",
    "    for index, frame in df.iterrows():\n",
    "        fig, ax = create_pitch(length, width,'white')\n",
    "        x, y = df.loc[index, \"ball_x\"] / 100, df.loc[index, \"ball_y\"] /100\n",
    "        x = length/2.0 + x\n",
    "        y = width/2.0 + y\n",
    "        plt.scatter(x, y, marker = 'o', color = 'black')\n",
    "        for i in range(3, len(position_cols), 3):\n",
    "            t, x, y = df.loc[index, position_cols[i]], df.loc[index, position_cols[i + 1]], df.loc[index, position_cols[i + 2]]\n",
    "            if np.isnan(x) or np.isnan(y):\n",
    "                continue\n",
    "            t = int(t)\n",
    "            x = length/2.0 + x\n",
    "            y = width/2.0 + y\n",
    "\n",
    "            y = 80 - y\n",
    "            color = 'yellow' if t == 0 else 'red'\n",
    "            plt.scatter(x,y, marker = 'o', color = color)\n",
    "        plt.ioff()\n",
    "        plt.savefig(f'images/{index}.png')\n",
    "        plt.close(fig)\n",
    "    #     if index % 100 == 0:\n",
    "    #         plt.show()"
   ]
  },
  {
   "cell_type": "code",
   "execution_count": 33,
   "id": "1ec3b946",
   "metadata": {
    "execution": {
     "iopub.execute_input": "2022-03-21T17:12:51.819466Z",
     "iopub.status.busy": "2022-03-21T17:12:51.818811Z",
     "iopub.status.idle": "2022-03-21T18:10:30.169135Z",
     "shell.execute_reply": "2022-03-21T18:10:30.169883Z"
    },
    "papermill": {
     "duration": 3458.395858,
     "end_time": "2022-03-21T18:10:30.170366",
     "exception": false,
     "start_time": "2022-03-21T17:12:51.774508",
     "status": "completed"
    },
    "tags": []
   },
   "outputs": [],
   "source": [
    "save_frames(short_play, length, width)"
   ]
  },
  {
   "cell_type": "code",
   "execution_count": 34,
   "id": "468480d2",
   "metadata": {
    "execution": {
     "iopub.execute_input": "2022-03-21T18:10:30.261628Z",
     "iopub.status.busy": "2022-03-21T18:10:30.261054Z",
     "iopub.status.idle": "2022-03-21T18:10:30.265873Z",
     "shell.execute_reply": "2022-03-21T18:10:30.266405Z",
     "shell.execute_reply.started": "2022-03-21T16:00:39.600623Z"
    },
    "papermill": {
     "duration": 0.050284,
     "end_time": "2022-03-21T18:10:30.266567",
     "exception": false,
     "start_time": "2022-03-21T18:10:30.216283",
     "status": "completed"
    },
    "tags": []
   },
   "outputs": [],
   "source": [
    "#This function creates a gif like you've seen in my presentation\n",
    "def create_gif(images_path, gif_path):\n",
    "    images = []\n",
    "    filenames = sorted(glob(images_path))\n",
    "    #I know it's a double sort but this isn't A&D!\n",
    "    filenames.sort(key=lambda x: int(''.join(filter(str.isdigit, x))))\n",
    "    for index, filename in enumerate(filenames):\n",
    "        img = imageio.imread(filename)\n",
    "        images.append(img)\n",
    "    imageio.mimsave(gif_path, images, fps=10) # Save gif    "
   ]
  },
  {
   "cell_type": "code",
   "execution_count": null,
   "id": "67c80e8c",
   "metadata": {
    "papermill": {
     "duration": 0.041819,
     "end_time": "2022-03-21T18:10:30.350815",
     "exception": false,
     "start_time": "2022-03-21T18:10:30.308996",
     "status": "completed"
    },
    "tags": []
   },
   "outputs": [],
   "source": []
  },
  {
   "cell_type": "code",
   "execution_count": 35,
   "id": "05e3c0cc",
   "metadata": {
    "execution": {
     "iopub.execute_input": "2022-03-21T18:10:30.437141Z",
     "iopub.status.busy": "2022-03-21T18:10:30.436493Z",
     "iopub.status.idle": "2022-03-21T18:10:30.440392Z",
     "shell.execute_reply": "2022-03-21T18:10:30.440857Z"
    },
    "papermill": {
     "duration": 0.04878,
     "end_time": "2022-03-21T18:10:30.441040",
     "exception": false,
     "start_time": "2022-03-21T18:10:30.392260",
     "status": "completed"
    },
    "tags": []
   },
   "outputs": [
    {
     "name": "stdout",
     "output_type": "stream",
     "text": [
      "sad\n"
     ]
    }
   ],
   "source": [
    "try:\n",
    "    create_gif('images', 'frames10x.gif')\n",
    "except:\n",
    "    print('sad')"
   ]
  },
  {
   "cell_type": "code",
   "execution_count": 36,
   "id": "2d86a589",
   "metadata": {
    "execution": {
     "iopub.execute_input": "2022-03-21T18:10:30.527212Z",
     "iopub.status.busy": "2022-03-21T18:10:30.526615Z",
     "iopub.status.idle": "2022-03-21T18:10:30.531929Z",
     "shell.execute_reply": "2022-03-21T18:10:30.532490Z",
     "shell.execute_reply.started": "2022-03-21T16:00:39.610559Z"
    },
    "papermill": {
     "duration": 0.049927,
     "end_time": "2022-03-21T18:10:30.532649",
     "exception": false,
     "start_time": "2022-03-21T18:10:30.482722",
     "status": "completed"
    },
    "tags": []
   },
   "outputs": [],
   "source": [
    "# import numpy as np\n",
    "# from math import pi\n",
    "# from bokeh.models.glyphs import Circle, Patches, Wedge\n",
    "# from bokeh.plotting import figure\n",
    "# from bokeh.models import Range1d, PanTool, ResetTool, HoverTool, ColumnDataSource, LabelSet\n",
    "# from bokeh.io import output_notebook, output_file, show\n",
    "\n",
    "# def draw_pitch(width = 700, height = 500,\n",
    "#                 measure = 'metres',\n",
    "#                 fill_color = 'green', fill_alpha = 0.5,\n",
    "#                 line_color = 'white', line_alpha = 1,\n",
    "#                 hspan = [0, 105], vspan = [0, 68],\n",
    "#                 tooltips = [],\n",
    "#                 source = [],\n",
    "#                 arcs = True):\n",
    "#     '''\n",
    "#     -----\n",
    "#     Draws and returns a pitch on a Bokeh figure object with width 105m and height 68m\n",
    "#     p = drawpitch()\n",
    "#     -----\n",
    "#     If you are using StatsBomb Data with a 120x80yard pitch, use:\n",
    "#     measure = 'SB'\n",
    "#     -----\n",
    "#     If you are using Opta Data, use:\n",
    "#     measure = 'Opta'\n",
    "#     -----\n",
    "#     If you are using any other pitch size, set measure to yards or metres\n",
    "#     for correct pitch markings and\n",
    "#     hspan = [left, right] // eg. for SBData this is: hspan = [0, 120]\n",
    "#     vspan = [bottom, top] //\n",
    "#     to adjust the plot to your needs.\n",
    "#     -----\n",
    "#     set arcs = False to not draw the penaltybox arcs\n",
    "#     '''\n",
    "\n",
    "#     # measures:\n",
    "#     # goalcenter to post, fiveyard-box-length, fiveyard-width,\n",
    "#     # box-width, penalty-spot x-distance, circle-radius\n",
    "\n",
    "\n",
    "#     measures = [3.66, 5.5, 9.16, 16.5, 40.32, 11, 9.15]\n",
    "\n",
    "#     hmid = hspan[1] / 2.0\n",
    "#     vmid = vspan[1] / 2.0\n",
    "\n",
    "#     p = figure(width = width,\n",
    "#         height = height,\n",
    "#         x_range = Range1d(hspan[0], hspan[1]),\n",
    "#         y_range = Range1d(vspan[0], vspan[1]),\n",
    "#         tooltips = tooltips)\n",
    "\n",
    "#     boxes = p.quad(top = [vspan[1], vmid+measures[2], vmid+measures[4]/2, vmid+measures[4]/2, vmid+measures[2]],\n",
    "#            bottom = [vspan[0], vmid-measures[2], vmid-measures[4]/2, vmid-measures[4]/2, vmid-measures[2]],\n",
    "#            left = [hspan[0], hspan[1]-measures[1], hspan[1]-measures[3], hspan[0]+measures[3], hspan[0]+measures[1]],\n",
    "#            right = [hspan[1], hspan[1], hspan[1], hspan[0], hspan[0]],\n",
    "#            color = fill_color,\n",
    "#            alpha = [fill_alpha,0,0,0,0], line_width = 2,\n",
    "#            line_alpha = line_alpha,\n",
    "#            line_color = line_color)\n",
    "#     boxes.selection_glyph = boxes.glyph\n",
    "#     boxes.nonselection_glyph = boxes.glyph\n",
    "\n",
    "#     #middle circle\n",
    "#     p.circle(x=[hmid], y=[vmid], radius = measures[6],\n",
    "#             color = line_color,\n",
    "#             line_width = 2,\n",
    "#             fill_alpha = 0,\n",
    "#             fill_color = 'grey',\n",
    "#             line_color= line_color)\n",
    "\n",
    "#     if arcs == True:\n",
    "#         p.arc(x=[hspan[0]+measures[5], hspan[1]-measures[5]], y=[vmid, vmid],\n",
    "#             radius = measures[6],\n",
    "#             start_angle = [(2*pi-np.arccos((measures[3]-measures[5])/measures[6])), pi - np.arccos((measures[3]-measures[5])/measures[6])],\n",
    "#             end_angle = [np.arccos((measures[3]-measures[5])/measures[6]), pi + np.arccos((measures[3]-measures[5])/measures[6])],\n",
    "#             color = line_color,\n",
    "#             line_width = 2)\n",
    "\n",
    "#     p.circle([hmid, hspan[1]-measures[5], hspan[0]+measures[5]], [vmid, vmid, vmid], size=5, color=line_color, alpha=1)\n",
    "#     #midfield line\n",
    "#     p.line([hmid, hmid], [vspan[0], vspan[1]], line_width = 2, color = line_color)\n",
    "#     #goal lines\n",
    "#     p.line((hspan[1],hspan[1]),(vmid+measures[0],vmid-measures[0]), line_width = 6, color = 'white')\n",
    "#     p.line((hspan[0],hspan[0]),(vmid+measures[0],vmid-measures[0]), line_width = 6, color = 'white')\n",
    "#     p.grid.visible = False\n",
    "#     p.xaxis.visible = False\n",
    "#     p.yaxis.visible = False\n",
    "\n",
    "#     return p"
   ]
  },
  {
   "cell_type": "code",
   "execution_count": 37,
   "id": "962a1ad2",
   "metadata": {
    "execution": {
     "iopub.execute_input": "2022-03-21T18:10:30.619043Z",
     "iopub.status.busy": "2022-03-21T18:10:30.618457Z",
     "iopub.status.idle": "2022-03-21T18:10:30.621229Z",
     "shell.execute_reply": "2022-03-21T18:10:30.621735Z",
     "shell.execute_reply.started": "2022-03-21T16:00:40.418412Z"
    },
    "papermill": {
     "duration": 0.047517,
     "end_time": "2022-03-21T18:10:30.621882",
     "exception": false,
     "start_time": "2022-03-21T18:10:30.574365",
     "status": "completed"
    },
    "tags": []
   },
   "outputs": [],
   "source": [
    "# output_notebook()"
   ]
  },
  {
   "cell_type": "code",
   "execution_count": 38,
   "id": "48b3cadf",
   "metadata": {
    "execution": {
     "iopub.execute_input": "2022-03-21T18:10:30.708901Z",
     "iopub.status.busy": "2022-03-21T18:10:30.708363Z",
     "iopub.status.idle": "2022-03-21T18:10:30.710903Z",
     "shell.execute_reply": "2022-03-21T18:10:30.711450Z",
     "shell.execute_reply.started": "2022-03-21T16:00:40.435074Z"
    },
    "papermill": {
     "duration": 0.047234,
     "end_time": "2022-03-21T18:10:30.711596",
     "exception": false,
     "start_time": "2022-03-21T18:10:30.664362",
     "status": "completed"
    },
    "tags": []
   },
   "outputs": [],
   "source": [
    "# # new_index = random_point[x_pos].T.index.to_list()\n",
    "# new_index = [index.strip(\"_x\") for index in new_index]"
   ]
  },
  {
   "cell_type": "code",
   "execution_count": 39,
   "id": "b2475ee8",
   "metadata": {
    "execution": {
     "iopub.execute_input": "2022-03-21T18:10:30.798914Z",
     "iopub.status.busy": "2022-03-21T18:10:30.798326Z",
     "iopub.status.idle": "2022-03-21T18:10:30.800860Z",
     "shell.execute_reply": "2022-03-21T18:10:30.801390Z",
     "shell.execute_reply.started": "2022-03-21T16:00:40.447998Z"
    },
    "papermill": {
     "duration": 0.047757,
     "end_time": "2022-03-21T18:10:30.801556",
     "exception": false,
     "start_time": "2022-03-21T18:10:30.753799",
     "status": "completed"
    },
    "tags": []
   },
   "outputs": [],
   "source": [
    "# positions = random_point[x_pos].T\n",
    "# positions.index = new_index\n",
    "# positions.columns = [\"x\"]\n",
    "# positions[\"y\"] = random_point[y_pos].T.to_numpy()\n",
    "# positions[\"type\"] = random_point[type_cols].T.to_numpy()\n",
    "# positions[\"id\"] = random_point[id_cols].T.to_numpy()"
   ]
  },
  {
   "cell_type": "code",
   "execution_count": 40,
   "id": "65685123",
   "metadata": {
    "execution": {
     "iopub.execute_input": "2022-03-21T18:10:30.890679Z",
     "iopub.status.busy": "2022-03-21T18:10:30.890072Z",
     "iopub.status.idle": "2022-03-21T18:10:30.891472Z",
     "shell.execute_reply": "2022-03-21T18:10:30.892000Z",
     "shell.execute_reply.started": "2022-03-21T16:00:40.473937Z"
    },
    "papermill": {
     "duration": 0.048915,
     "end_time": "2022-03-21T18:10:30.892156",
     "exception": false,
     "start_time": "2022-03-21T18:10:30.843241",
     "status": "completed"
    },
    "tags": []
   },
   "outputs": [],
   "source": [
    "# ball_pos = positions.iloc[0]\n",
    "# positions = positions.iloc[1:]\n",
    "# positions[\"name\"] = positions[\"id\"].map(player_map)"
   ]
  },
  {
   "cell_type": "code",
   "execution_count": 41,
   "id": "2b03f210",
   "metadata": {
    "execution": {
     "iopub.execute_input": "2022-03-21T18:10:30.979512Z",
     "iopub.status.busy": "2022-03-21T18:10:30.978653Z",
     "iopub.status.idle": "2022-03-21T18:10:30.981316Z",
     "shell.execute_reply": "2022-03-21T18:10:30.981839Z",
     "shell.execute_reply.started": "2022-03-21T16:00:40.493180Z"
    },
    "papermill": {
     "duration": 0.048315,
     "end_time": "2022-03-21T18:10:30.982017",
     "exception": false,
     "start_time": "2022-03-21T18:10:30.933702",
     "status": "completed"
    },
    "tags": []
   },
   "outputs": [],
   "source": [
    "# positions['x'] = length / 2.0 + positions['x']\n",
    "# positions['y'] = width / 2.0 + positions['y']\n",
    "# positions['type'] = positions['type'].apply(lambda x: -1 if x is None else int(x))"
   ]
  },
  {
   "cell_type": "code",
   "execution_count": 42,
   "id": "76982a8c",
   "metadata": {
    "execution": {
     "iopub.execute_input": "2022-03-21T18:10:31.070395Z",
     "iopub.status.busy": "2022-03-21T18:10:31.069777Z",
     "iopub.status.idle": "2022-03-21T18:10:31.072472Z",
     "shell.execute_reply": "2022-03-21T18:10:31.073040Z",
     "shell.execute_reply.started": "2022-03-21T16:00:40.509930Z"
    },
    "papermill": {
     "duration": 0.047577,
     "end_time": "2022-03-21T18:10:31.073203",
     "exception": false,
     "start_time": "2022-03-21T18:10:31.025626",
     "status": "completed"
    },
    "tags": []
   },
   "outputs": [],
   "source": [
    "# home = positions[positions['type'] == 0]\n",
    "# away = positions[positions['type'] == 1]"
   ]
  },
  {
   "cell_type": "code",
   "execution_count": 43,
   "id": "a6e591cf",
   "metadata": {
    "execution": {
     "iopub.execute_input": "2022-03-21T18:10:31.162775Z",
     "iopub.status.busy": "2022-03-21T18:10:31.161723Z",
     "iopub.status.idle": "2022-03-21T18:10:31.163596Z",
     "shell.execute_reply": "2022-03-21T18:10:31.164041Z",
     "shell.execute_reply.started": "2022-03-21T16:00:40.526057Z"
    },
    "papermill": {
     "duration": 0.048528,
     "end_time": "2022-03-21T18:10:31.164199",
     "exception": false,
     "start_time": "2022-03-21T18:10:31.115671",
     "status": "completed"
    },
    "tags": []
   },
   "outputs": [],
   "source": [
    "# TOOLTIPS = [\n",
    "#     (\"name\", \"@name\"),\n",
    "#     (\"(x,y)\", \"($x, $y)\"),\n",
    "# ]\n",
    "# Italy = ColumnDataSource(home)\n",
    "# Wales = ColumnDataSource(away)\n",
    "# p = draw_pitch(tooltips = TOOLTIPS)\n",
    "# p.circle(x=\"x\", y=\"y\", size=8, fill_alpha=0.5, color=\"red\",source=Italy)\n",
    "# p.circle(x=\"x\", y=\"y\", size=8, fill_alpha=0.5, color=\"yellow\",source=Wales)\n",
    "# output_file(\"interactive_pitch.html\")\n",
    "# show(p)"
   ]
  },
  {
   "cell_type": "code",
   "execution_count": null,
   "id": "968cc911",
   "metadata": {
    "papermill": {
     "duration": 0.041402,
     "end_time": "2022-03-21T18:10:31.247269",
     "exception": false,
     "start_time": "2022-03-21T18:10:31.205867",
     "status": "completed"
    },
    "tags": []
   },
   "outputs": [],
   "source": []
  }
 ],
 "metadata": {
  "kernelspec": {
   "display_name": "Python 3",
   "language": "python",
   "name": "python3"
  },
  "language_info": {
   "codemirror_mode": {
    "name": "ipython",
    "version": 3
   },
   "file_extension": ".py",
   "mimetype": "text/x-python",
   "name": "python",
   "nbconvert_exporter": "python",
   "pygments_lexer": "ipython3",
   "version": "3.7.12"
  },
  "papermill": {
   "default_parameters": {},
   "duration": 3516.468256,
   "end_time": "2022-03-21T18:10:32.204821",
   "environment_variables": {},
   "exception": null,
   "input_path": "__notebook__.ipynb",
   "output_path": "__notebook__.ipynb",
   "parameters": {},
   "start_time": "2022-03-21T17:11:55.736565",
   "version": "2.3.3"
  }
 },
 "nbformat": 4,
 "nbformat_minor": 5
}
