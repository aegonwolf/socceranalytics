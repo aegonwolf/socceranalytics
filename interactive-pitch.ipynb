{
 "cells": [
  {
   "cell_type": "code",
   "execution_count": 1,
   "id": "bdc5ea83",
   "metadata": {
    "_cell_guid": "b1076dfc-b9ad-4769-8c92-a6c4dae69d19",
    "_uuid": "8f2839f25d086af736a60e9eeb907d3b93b6e0e5",
    "execution": {
     "iopub.execute_input": "2022-03-20T17:06:11.540528Z",
     "iopub.status.busy": "2022-03-20T17:06:11.539372Z",
     "iopub.status.idle": "2022-03-20T17:06:12.698946Z",
     "shell.execute_reply": "2022-03-20T17:06:12.698120Z",
     "shell.execute_reply.started": "2022-03-20T17:02:30.875231Z"
    },
    "papermill": {
     "duration": 1.207024,
     "end_time": "2022-03-20T17:06:12.699123",
     "exception": false,
     "start_time": "2022-03-20T17:06:11.492099",
     "status": "completed"
    },
    "tags": []
   },
   "outputs": [],
   "source": [
    "import pandas as pd\n",
    "import numpy as np\n",
    "import seaborn as sns\n",
    "import matplotlib.pyplot as plt\n",
    "from matplotlib.patches import Arc\n",
    "import bz2\n",
    "from glob import glob\n",
    "import imageio"
   ]
  },
  {
   "cell_type": "code",
   "execution_count": 2,
   "id": "7bf827e2",
   "metadata": {
    "execution": {
     "iopub.execute_input": "2022-03-20T17:06:12.786763Z",
     "iopub.status.busy": "2022-03-20T17:06:12.786099Z",
     "iopub.status.idle": "2022-03-20T17:06:12.790693Z",
     "shell.execute_reply": "2022-03-20T17:06:12.791178Z",
     "shell.execute_reply.started": "2022-03-20T17:02:32.026291Z"
    },
    "papermill": {
     "duration": 0.049873,
     "end_time": "2022-03-20T17:06:12.791353",
     "exception": false,
     "start_time": "2022-03-20T17:06:12.741480",
     "status": "completed"
    },
    "tags": []
   },
   "outputs": [],
   "source": [
    "sns.set(rc={'figure.figsize':(10.5,6.8)})\n",
    "length = 105\n",
    "width = 68"
   ]
  },
  {
   "cell_type": "code",
   "execution_count": 3,
   "id": "2e40a1be",
   "metadata": {
    "execution": {
     "iopub.execute_input": "2022-03-20T17:06:12.881254Z",
     "iopub.status.busy": "2022-03-20T17:06:12.880566Z",
     "iopub.status.idle": "2022-03-20T17:06:12.904769Z",
     "shell.execute_reply": "2022-03-20T17:06:12.905320Z",
     "shell.execute_reply.started": "2022-03-20T17:02:32.033680Z"
    },
    "jupyter": {
     "source_hidden": true
    },
    "papermill": {
     "duration": 0.071339,
     "end_time": "2022-03-20T17:06:12.905493",
     "exception": false,
     "start_time": "2022-03-20T17:06:12.834154",
     "status": "completed"
    },
    "tags": []
   },
   "outputs": [],
   "source": [
    "def create_pitch(length, width, linecolor):\n",
    "\n",
    "    \"\"\"\n",
    "    mainly stolen from fc python\n",
    "    param length: an int the length of the field\n",
    "    param width: an int the height of the field\n",
    "    param linecolor: the color of the lines\n",
    "\"\"\"\n",
    "    #Create figure\n",
    "    fig=plt.figure()\n",
    "    #fig.set_size_inches(7, 5)\n",
    "    ax=fig.add_subplot(1,1,1)\n",
    "\n",
    "    #Pitch Outline & Centre Line\n",
    "    plt.plot([0,0],[0,width], color=linecolor)\n",
    "    plt.plot([0,length],[width,width], color=linecolor)\n",
    "    plt.plot([length,length],[width,0], color=linecolor)\n",
    "    plt.plot([length,0],[0,0], color=linecolor)\n",
    "    plt.plot([length/2,length/2],[0,width], color=linecolor)\n",
    "    plt.fill_between(x = [-10, length+10],\n",
    "                     y1 = [width+10, width + 10],\n",
    "                     y2 = [-10, -10], color='green')\n",
    "\n",
    "    #Left Penalty Area\n",
    "    plt.plot([16.5 ,16.5],[(width/2 +16.5),(width/2-16.5)],color=linecolor)\n",
    "    plt.plot([0,16.5],[(width/2 +16.5),(width/2 +16.5)],color=linecolor)\n",
    "    plt.plot([16.5,0],[(width/2 -16.5),(width/2 -16.5)],color=linecolor)\n",
    "\n",
    "    #Right Penalty Area\n",
    "    plt.plot([(length-16.5),length],[(width/2 +16.5),(width/2 +16.5)],color=linecolor)\n",
    "    plt.plot([(length-16.5), (length-16.5)],[(width/2 +16.5),(width/2-16.5)],color=linecolor)\n",
    "    plt.plot([(length-16.5),length],[(width/2 -16.5),(width/2 -16.5)],color=linecolor)\n",
    "\n",
    "    #Left 5-meters Box\n",
    "    plt.plot([0,5.5],[(width/2+7.32/2+5.5),(width/2+7.32/2+5.5)],color=linecolor)\n",
    "    plt.plot([5.5,5.5],[(width/2+7.32/2+5.5),(width/2-7.32/2-5.5)],color=linecolor)\n",
    "    plt.plot([5.5,0.5],[(width/2-7.32/2-5.5),(width/2-7.32/2-5.5)],color=linecolor)\n",
    "\n",
    "    #Right 5-meters Box\n",
    "    plt.plot([length,length-5.5],[(width/2+7.32/2+5.5),(width/2+7.32/2+5.5)],color=linecolor)\n",
    "    plt.plot([length-5.5,length-5.5],[(width/2+7.32/2+5.5),width/2-7.32/2-5.5],color=linecolor)\n",
    "    plt.plot([length-5.5,length],[width/2-7.32/2-5.5,width/2-7.32/2-5.5],color=linecolor)\n",
    "\n",
    "    #Prepare Circles\n",
    "    centreCircle = plt.Circle((length/2,width/2),9.15,color=linecolor,fill=False)\n",
    "    centreSpot = plt.Circle((length/2,width/2),0.8,color=linecolor)\n",
    "    leftPenSpot = plt.Circle((11,width/2),0.8,color=linecolor)\n",
    "    rightPenSpot = plt.Circle((length-11,width/2),0.8,color=linecolor)\n",
    "\n",
    "    #Draw Circles\n",
    "    ax.add_patch(centreCircle)\n",
    "    ax.add_patch(centreSpot)\n",
    "    ax.add_patch(leftPenSpot)\n",
    "    ax.add_patch(rightPenSpot)\n",
    "\n",
    "    #Prepare Arcs\n",
    "    leftArc = Arc((11,width/2),height=18.3,width=18.3,angle=0,theta1=308,theta2=52,color=linecolor)\n",
    "    rightArc = Arc((length-11,width/2),height=18.3,width=18.3,angle=0,theta1=128,theta2=232,color=linecolor)\n",
    "\n",
    "    #Draw Arcs\n",
    "    ax.add_patch(leftArc)\n",
    "    ax.add_patch(rightArc)\n",
    "            #Axis titles\n",
    "    #Tidy Axes\n",
    "    plt.axis('off')\n",
    "    \n",
    "    return fig,ax"
   ]
  },
  {
   "cell_type": "code",
   "execution_count": 4,
   "id": "28a5ebbc",
   "metadata": {
    "execution": {
     "iopub.execute_input": "2022-03-20T17:06:12.995421Z",
     "iopub.status.busy": "2022-03-20T17:06:12.994790Z",
     "iopub.status.idle": "2022-03-20T17:06:13.031752Z",
     "shell.execute_reply": "2022-03-20T17:06:13.031204Z",
     "shell.execute_reply.started": "2022-03-20T17:02:32.057399Z"
    },
    "papermill": {
     "duration": 0.081907,
     "end_time": "2022-03-20T17:06:13.031904",
     "exception": false,
     "start_time": "2022-03-20T17:06:12.949997",
     "status": "completed"
    },
    "tags": []
   },
   "outputs": [],
   "source": [
    "match_results = pd.read_csv(\"../input/euro-cup-2020/eurocup_2020_results.csv\")\n",
    "#original dataset has whitespaces, so annoying\n",
    "match_results[['team_name_home', 'team_name_away']] = match_results[['team_name_home', 'team_name_away']].applymap(lambda x: str.strip(x))"
   ]
  },
  {
   "cell_type": "code",
   "execution_count": 5,
   "id": "554aff2d",
   "metadata": {
    "execution": {
     "iopub.execute_input": "2022-03-20T17:06:13.125421Z",
     "iopub.status.busy": "2022-03-20T17:06:13.124723Z",
     "iopub.status.idle": "2022-03-20T17:06:13.145761Z",
     "shell.execute_reply": "2022-03-20T17:06:13.146275Z",
     "shell.execute_reply.started": "2022-03-20T17:02:32.261350Z"
    },
    "papermill": {
     "duration": 0.071602,
     "end_time": "2022-03-20T17:06:13.146443",
     "exception": false,
     "start_time": "2022-03-20T17:06:13.074841",
     "status": "completed"
    },
    "tags": []
   },
   "outputs": [
    {
     "data": {
      "text/html": [
       "<div>\n",
       "<style scoped>\n",
       "    .dataframe tbody tr th:only-of-type {\n",
       "        vertical-align: middle;\n",
       "    }\n",
       "\n",
       "    .dataframe tbody tr th {\n",
       "        vertical-align: top;\n",
       "    }\n",
       "\n",
       "    .dataframe thead th {\n",
       "        text-align: right;\n",
       "    }\n",
       "</style>\n",
       "<table border=\"1\" class=\"dataframe\">\n",
       "  <thead>\n",
       "    <tr style=\"text-align: right;\">\n",
       "      <th></th>\n",
       "      <th>stage</th>\n",
       "      <th>date</th>\n",
       "      <th>pens</th>\n",
       "      <th>pens_home_score</th>\n",
       "      <th>pens_away_score</th>\n",
       "      <th>team_name_home</th>\n",
       "      <th>team_name_away</th>\n",
       "      <th>team_home_score</th>\n",
       "      <th>team_away_score</th>\n",
       "      <th>possession_home</th>\n",
       "      <th>possession_away</th>\n",
       "      <th>total_shots_home</th>\n",
       "      <th>total_shots_away</th>\n",
       "      <th>shots_on_target_home</th>\n",
       "      <th>shots_on_target_away</th>\n",
       "      <th>duels_won_home</th>\n",
       "      <th>duels_won_away</th>\n",
       "      <th>events_list</th>\n",
       "      <th>lineup_home</th>\n",
       "      <th>lineup_away</th>\n",
       "    </tr>\n",
       "  </thead>\n",
       "  <tbody>\n",
       "    <tr>\n",
       "      <th>0</th>\n",
       "      <td>Final</td>\n",
       "      <td>11.07.2021</td>\n",
       "      <td>True</td>\n",
       "      <td>3</td>\n",
       "      <td>2</td>\n",
       "      <td>Italy</td>\n",
       "      <td>England</td>\n",
       "      <td>1</td>\n",
       "      <td>1</td>\n",
       "      <td>66%</td>\n",
       "      <td>34%</td>\n",
       "      <td>19</td>\n",
       "      <td>6</td>\n",
       "      <td>6</td>\n",
       "      <td>2</td>\n",
       "      <td>53%</td>\n",
       "      <td>47%</td>\n",
       "      <td>[{'event_team': 'away', 'event_time': \" 2' \", ...</td>\n",
       "      <td>[{'Player_Name': 'Insigne', 'Player_Number': '...</td>\n",
       "      <td>[{'Player_Name': 'Kane', 'Player_Number': '9'}...</td>\n",
       "    </tr>\n",
       "    <tr>\n",
       "      <th>1</th>\n",
       "      <td>Semi-finals</td>\n",
       "      <td>07.07.2021</td>\n",
       "      <td>False</td>\n",
       "      <td>False</td>\n",
       "      <td>False</td>\n",
       "      <td>England</td>\n",
       "      <td>Denmark</td>\n",
       "      <td>2</td>\n",
       "      <td>1</td>\n",
       "      <td>59%</td>\n",
       "      <td>41%</td>\n",
       "      <td>20</td>\n",
       "      <td>6</td>\n",
       "      <td>10</td>\n",
       "      <td>3</td>\n",
       "      <td>50%</td>\n",
       "      <td>50%</td>\n",
       "      <td>[{'event_team': 'away', 'event_time': \" 30' \",...</td>\n",
       "      <td>[{'Player_Name': 'Kane', 'Player_Number': '9'}...</td>\n",
       "      <td>[{'Player_Name': 'Krogh Damsgaard', 'Player_Nu...</td>\n",
       "    </tr>\n",
       "    <tr>\n",
       "      <th>2</th>\n",
       "      <td>Semi-finals</td>\n",
       "      <td>06.07.2021</td>\n",
       "      <td>True</td>\n",
       "      <td>4</td>\n",
       "      <td>2</td>\n",
       "      <td>Italy</td>\n",
       "      <td>Spain</td>\n",
       "      <td>1</td>\n",
       "      <td>1</td>\n",
       "      <td>29%</td>\n",
       "      <td>71%</td>\n",
       "      <td>7</td>\n",
       "      <td>16</td>\n",
       "      <td>4</td>\n",
       "      <td>5</td>\n",
       "      <td>49%</td>\n",
       "      <td>51%</td>\n",
       "      <td>[{'event_team': 'away', 'event_time': \" 51' \",...</td>\n",
       "      <td>[{'Player_Name': 'Insigne', 'Player_Number': '...</td>\n",
       "      <td>[{'Player_Name': 'Torres', 'Player_Number': '1...</td>\n",
       "    </tr>\n",
       "  </tbody>\n",
       "</table>\n",
       "</div>"
      ],
      "text/plain": [
       "           stage          date   pens pens_home_score pens_away_score  \\\n",
       "0         Final     11.07.2021   True               3               2   \n",
       "1   Semi-finals    07.07.2021   False           False           False   \n",
       "2   Semi-finals     06.07.2021   True               4               2   \n",
       "\n",
       "  team_name_home team_name_away  team_home_score  team_away_score  \\\n",
       "0          Italy        England                1                1   \n",
       "1        England        Denmark                2                1   \n",
       "2          Italy          Spain                1                1   \n",
       "\n",
       "  possession_home possession_away  total_shots_home  total_shots_away  \\\n",
       "0             66%            34%                 19                 6   \n",
       "1             59%            41%                 20                 6   \n",
       "2             29%            71%                  7                16   \n",
       "\n",
       "   shots_on_target_home  shots_on_target_away duels_won_home duels_won_away  \\\n",
       "0                     6                     2            53%           47%    \n",
       "1                    10                     3            50%           50%    \n",
       "2                     4                     5            49%           51%    \n",
       "\n",
       "                                         events_list  \\\n",
       "0  [{'event_team': 'away', 'event_time': \" 2' \", ...   \n",
       "1  [{'event_team': 'away', 'event_time': \" 30' \",...   \n",
       "2  [{'event_team': 'away', 'event_time': \" 51' \",...   \n",
       "\n",
       "                                         lineup_home  \\\n",
       "0  [{'Player_Name': 'Insigne', 'Player_Number': '...   \n",
       "1  [{'Player_Name': 'Kane', 'Player_Number': '9'}...   \n",
       "2  [{'Player_Name': 'Insigne', 'Player_Number': '...   \n",
       "\n",
       "                                         lineup_away  \n",
       "0  [{'Player_Name': 'Kane', 'Player_Number': '9'}...  \n",
       "1  [{'Player_Name': 'Krogh Damsgaard', 'Player_Nu...  \n",
       "2  [{'Player_Name': 'Torres', 'Player_Number': '1...  "
      ]
     },
     "execution_count": 5,
     "metadata": {},
     "output_type": "execute_result"
    }
   ],
   "source": [
    "match_results.head(3)"
   ]
  },
  {
   "cell_type": "code",
   "execution_count": 6,
   "id": "fde8f3cf",
   "metadata": {
    "execution": {
     "iopub.execute_input": "2022-03-20T17:06:13.235925Z",
     "iopub.status.busy": "2022-03-20T17:06:13.235254Z",
     "iopub.status.idle": "2022-03-20T17:06:13.243915Z",
     "shell.execute_reply": "2022-03-20T17:06:13.244440Z",
     "shell.execute_reply.started": "2022-03-20T17:02:32.567506Z"
    },
    "papermill": {
     "duration": 0.054935,
     "end_time": "2022-03-20T17:06:13.244622",
     "exception": false,
     "start_time": "2022-03-20T17:06:13.189687",
     "status": "completed"
    },
    "tags": []
   },
   "outputs": [],
   "source": [
    "italy_wales_matches = (match_results['team_name_home'].isin([\"Italy\", \"Wales\"])) | (match_results['team_name_away'].isin([\"Italy\", \"Wales\"]))\n",
    "iw_matches = match_results[italy_wales_matches]"
   ]
  },
  {
   "cell_type": "code",
   "execution_count": 7,
   "id": "4c9da58d",
   "metadata": {
    "execution": {
     "iopub.execute_input": "2022-03-20T17:06:13.334300Z",
     "iopub.status.busy": "2022-03-20T17:06:13.333652Z",
     "iopub.status.idle": "2022-03-20T17:06:13.359262Z",
     "shell.execute_reply": "2022-03-20T17:06:13.359962Z",
     "shell.execute_reply.started": "2022-03-20T17:02:32.579750Z"
    },
    "papermill": {
     "duration": 0.071846,
     "end_time": "2022-03-20T17:06:13.360153",
     "exception": false,
     "start_time": "2022-03-20T17:06:13.288307",
     "status": "completed"
    },
    "tags": []
   },
   "outputs": [
    {
     "data": {
      "text/html": [
       "<div>\n",
       "<style scoped>\n",
       "    .dataframe tbody tr th:only-of-type {\n",
       "        vertical-align: middle;\n",
       "    }\n",
       "\n",
       "    .dataframe tbody tr th {\n",
       "        vertical-align: top;\n",
       "    }\n",
       "\n",
       "    .dataframe thead th {\n",
       "        text-align: right;\n",
       "    }\n",
       "</style>\n",
       "<table border=\"1\" class=\"dataframe\">\n",
       "  <thead>\n",
       "    <tr style=\"text-align: right;\">\n",
       "      <th></th>\n",
       "      <th>stage</th>\n",
       "      <th>date</th>\n",
       "      <th>pens</th>\n",
       "      <th>pens_home_score</th>\n",
       "      <th>pens_away_score</th>\n",
       "      <th>team_name_home</th>\n",
       "      <th>team_name_away</th>\n",
       "      <th>team_home_score</th>\n",
       "      <th>team_away_score</th>\n",
       "      <th>possession_home</th>\n",
       "      <th>possession_away</th>\n",
       "      <th>total_shots_home</th>\n",
       "      <th>total_shots_away</th>\n",
       "      <th>shots_on_target_home</th>\n",
       "      <th>shots_on_target_away</th>\n",
       "      <th>duels_won_home</th>\n",
       "      <th>duels_won_away</th>\n",
       "      <th>events_list</th>\n",
       "      <th>lineup_home</th>\n",
       "      <th>lineup_away</th>\n",
       "    </tr>\n",
       "  </thead>\n",
       "  <tbody>\n",
       "    <tr>\n",
       "      <th>0</th>\n",
       "      <td>Final</td>\n",
       "      <td>11.07.2021</td>\n",
       "      <td>True</td>\n",
       "      <td>3</td>\n",
       "      <td>2</td>\n",
       "      <td>Italy</td>\n",
       "      <td>England</td>\n",
       "      <td>1</td>\n",
       "      <td>1</td>\n",
       "      <td>66%</td>\n",
       "      <td>34%</td>\n",
       "      <td>19</td>\n",
       "      <td>6</td>\n",
       "      <td>6</td>\n",
       "      <td>2</td>\n",
       "      <td>53%</td>\n",
       "      <td>47%</td>\n",
       "      <td>[{'event_team': 'away', 'event_time': \" 2' \", ...</td>\n",
       "      <td>[{'Player_Name': 'Insigne', 'Player_Number': '...</td>\n",
       "      <td>[{'Player_Name': 'Kane', 'Player_Number': '9'}...</td>\n",
       "    </tr>\n",
       "    <tr>\n",
       "      <th>2</th>\n",
       "      <td>Semi-finals</td>\n",
       "      <td>06.07.2021</td>\n",
       "      <td>True</td>\n",
       "      <td>4</td>\n",
       "      <td>2</td>\n",
       "      <td>Italy</td>\n",
       "      <td>Spain</td>\n",
       "      <td>1</td>\n",
       "      <td>1</td>\n",
       "      <td>29%</td>\n",
       "      <td>71%</td>\n",
       "      <td>7</td>\n",
       "      <td>16</td>\n",
       "      <td>4</td>\n",
       "      <td>5</td>\n",
       "      <td>49%</td>\n",
       "      <td>51%</td>\n",
       "      <td>[{'event_team': 'away', 'event_time': \" 51' \",...</td>\n",
       "      <td>[{'Player_Name': 'Insigne', 'Player_Number': '...</td>\n",
       "      <td>[{'Player_Name': 'Torres', 'Player_Number': '1...</td>\n",
       "    </tr>\n",
       "    <tr>\n",
       "      <th>5</th>\n",
       "      <td>Quarter-finals</td>\n",
       "      <td>02.07.2021</td>\n",
       "      <td>False</td>\n",
       "      <td>False</td>\n",
       "      <td>False</td>\n",
       "      <td>Belgium</td>\n",
       "      <td>Italy</td>\n",
       "      <td>1</td>\n",
       "      <td>2</td>\n",
       "      <td>46%</td>\n",
       "      <td>54%</td>\n",
       "      <td>10</td>\n",
       "      <td>14</td>\n",
       "      <td>4</td>\n",
       "      <td>3</td>\n",
       "      <td>58%</td>\n",
       "      <td>42%</td>\n",
       "      <td>[{'event_team': 'away', 'event_time': \" 13' \",...</td>\n",
       "      <td>[{'Player_Name': 'Lukaku', 'Player_Number': '9...</td>\n",
       "      <td>[{'Player_Name': 'Insigne', 'Player_Number': '...</td>\n",
       "    </tr>\n",
       "    <tr>\n",
       "      <th>13</th>\n",
       "      <td>Round of 16</td>\n",
       "      <td>26.06.2021</td>\n",
       "      <td>False</td>\n",
       "      <td>False</td>\n",
       "      <td>False</td>\n",
       "      <td>Italy</td>\n",
       "      <td>Austria</td>\n",
       "      <td>2</td>\n",
       "      <td>1</td>\n",
       "      <td>52%</td>\n",
       "      <td>48%</td>\n",
       "      <td>27</td>\n",
       "      <td>16</td>\n",
       "      <td>6</td>\n",
       "      <td>3</td>\n",
       "      <td>50%</td>\n",
       "      <td>50%</td>\n",
       "      <td>[{'event_team': 'away', 'event_time': \" 2' \", ...</td>\n",
       "      <td>[{'Player_Name': 'Insigne', 'Player_Number': '...</td>\n",
       "      <td>[{'Player_Name': 'Arnautovic', 'Player_Number'...</td>\n",
       "    </tr>\n",
       "    <tr>\n",
       "      <th>14</th>\n",
       "      <td>Round of 16</td>\n",
       "      <td>26.06.2021</td>\n",
       "      <td>False</td>\n",
       "      <td>False</td>\n",
       "      <td>False</td>\n",
       "      <td>Wales</td>\n",
       "      <td>Denmark</td>\n",
       "      <td>0</td>\n",
       "      <td>4</td>\n",
       "      <td>47%</td>\n",
       "      <td>53%</td>\n",
       "      <td>11</td>\n",
       "      <td>16</td>\n",
       "      <td>1</td>\n",
       "      <td>8</td>\n",
       "      <td>39%</td>\n",
       "      <td>61%</td>\n",
       "      <td>[{'event_team': 'home', 'event_time': \" 26' \",...</td>\n",
       "      <td>[{'Player_Name': 'Moore', 'Player_Number': '13...</td>\n",
       "      <td>[{'Player_Name': 'Dolberg', 'Player_Number': '...</td>\n",
       "    </tr>\n",
       "    <tr>\n",
       "      <th>25</th>\n",
       "      <td>Group stage: Matchday 3</td>\n",
       "      <td>20.06.2021</td>\n",
       "      <td>False</td>\n",
       "      <td>False</td>\n",
       "      <td>False</td>\n",
       "      <td>Italy</td>\n",
       "      <td>Wales</td>\n",
       "      <td>1</td>\n",
       "      <td>0</td>\n",
       "      <td>70%</td>\n",
       "      <td>30%</td>\n",
       "      <td>23</td>\n",
       "      <td>3</td>\n",
       "      <td>6</td>\n",
       "      <td>1</td>\n",
       "      <td>56%</td>\n",
       "      <td>44%</td>\n",
       "      <td>[{'event_team': 'home', 'event_time': \" 39' \",...</td>\n",
       "      <td>[{'Player_Name': 'Chiesa', 'Player_Number': '1...</td>\n",
       "      <td>[{'Player_Name': 'James', 'Player_Number': '20...</td>\n",
       "    </tr>\n",
       "    <tr>\n",
       "      <th>36</th>\n",
       "      <td>Group stage: Matchday 2</td>\n",
       "      <td>16.06.2021</td>\n",
       "      <td>False</td>\n",
       "      <td>False</td>\n",
       "      <td>False</td>\n",
       "      <td>Italy</td>\n",
       "      <td>Switzerland</td>\n",
       "      <td>3</td>\n",
       "      <td>0</td>\n",
       "      <td>49%</td>\n",
       "      <td>51%</td>\n",
       "      <td>13</td>\n",
       "      <td>6</td>\n",
       "      <td>3</td>\n",
       "      <td>1</td>\n",
       "      <td>43%</td>\n",
       "      <td>57%</td>\n",
       "      <td>[{'event_team': 'home', 'event_time': \" 19' \",...</td>\n",
       "      <td>[{'Player_Name': 'Insigne', 'Player_Number': '...</td>\n",
       "      <td>[{'Player_Name': 'Embolo', 'Player_Number': '7...</td>\n",
       "    </tr>\n",
       "    <tr>\n",
       "      <th>37</th>\n",
       "      <td>Group stage: Matchday 2</td>\n",
       "      <td>16.06.2021</td>\n",
       "      <td>False</td>\n",
       "      <td>False</td>\n",
       "      <td>False</td>\n",
       "      <td>Turkey</td>\n",
       "      <td>Wales</td>\n",
       "      <td>0</td>\n",
       "      <td>2</td>\n",
       "      <td>64%</td>\n",
       "      <td>36%</td>\n",
       "      <td>18</td>\n",
       "      <td>16</td>\n",
       "      <td>6</td>\n",
       "      <td>7</td>\n",
       "      <td>40%</td>\n",
       "      <td>60%</td>\n",
       "      <td>[{'event_team': 'away', 'event_time': \" 42' \",...</td>\n",
       "      <td>[{'Player_Name': 'Yilmaz', 'Player_Number': '1...</td>\n",
       "      <td>[{'Player_Name': 'Moore', 'Player_Number': '13...</td>\n",
       "    </tr>\n",
       "    <tr>\n",
       "      <th>49</th>\n",
       "      <td>Group stage: Matchday 1</td>\n",
       "      <td>12.06.2021</td>\n",
       "      <td>False</td>\n",
       "      <td>False</td>\n",
       "      <td>False</td>\n",
       "      <td>Wales</td>\n",
       "      <td>Switzerland</td>\n",
       "      <td>1</td>\n",
       "      <td>1</td>\n",
       "      <td>35%</td>\n",
       "      <td>65%</td>\n",
       "      <td>9</td>\n",
       "      <td>18</td>\n",
       "      <td>2</td>\n",
       "      <td>4</td>\n",
       "      <td>46%</td>\n",
       "      <td>55%</td>\n",
       "      <td>[{'event_team': 'away', 'event_time': \" 30' \",...</td>\n",
       "      <td>[{'Player_Name': 'Moore', 'Player_Number': '13...</td>\n",
       "      <td>[{'Player_Name': 'Embolo', 'Player_Number': '7...</td>\n",
       "    </tr>\n",
       "    <tr>\n",
       "      <th>50</th>\n",
       "      <td>Group stage: Matchday 1</td>\n",
       "      <td>11.06.2021</td>\n",
       "      <td>False</td>\n",
       "      <td>False</td>\n",
       "      <td>False</td>\n",
       "      <td>Turkey</td>\n",
       "      <td>Italy</td>\n",
       "      <td>0</td>\n",
       "      <td>3</td>\n",
       "      <td>36%</td>\n",
       "      <td>64%</td>\n",
       "      <td>3</td>\n",
       "      <td>24</td>\n",
       "      <td>0</td>\n",
       "      <td>8</td>\n",
       "      <td>51%</td>\n",
       "      <td>49%</td>\n",
       "      <td>[{'event_team': 'home', 'event_time': \" 45' \",...</td>\n",
       "      <td>[{'Player_Name': 'Yilmaz', 'Player_Number': '1...</td>\n",
       "      <td>[{'Player_Name': 'Insigne', 'Player_Number': '...</td>\n",
       "    </tr>\n",
       "  </tbody>\n",
       "</table>\n",
       "</div>"
      ],
      "text/plain": [
       "                        stage          date   pens pens_home_score  \\\n",
       "0                      Final     11.07.2021   True               3   \n",
       "2                Semi-finals     06.07.2021   True               4   \n",
       "5             Quarter-finals    02.07.2021   False           False   \n",
       "13               Round of 16    26.06.2021   False           False   \n",
       "14               Round of 16    26.06.2021   False           False   \n",
       "25   Group stage: Matchday 3    20.06.2021   False           False   \n",
       "36   Group stage: Matchday 2    16.06.2021   False           False   \n",
       "37   Group stage: Matchday 2    16.06.2021   False           False   \n",
       "49   Group stage: Matchday 1    12.06.2021   False           False   \n",
       "50   Group stage: Matchday 1    11.06.2021   False           False   \n",
       "\n",
       "   pens_away_score team_name_home team_name_away  team_home_score  \\\n",
       "0                2          Italy        England                1   \n",
       "2                2          Italy          Spain                1   \n",
       "5            False        Belgium          Italy                1   \n",
       "13           False          Italy        Austria                2   \n",
       "14           False          Wales        Denmark                0   \n",
       "25           False          Italy          Wales                1   \n",
       "36           False          Italy    Switzerland                3   \n",
       "37           False         Turkey          Wales                0   \n",
       "49           False          Wales    Switzerland                1   \n",
       "50           False         Turkey          Italy                0   \n",
       "\n",
       "    team_away_score possession_home possession_away  total_shots_home  \\\n",
       "0                 1             66%            34%                 19   \n",
       "2                 1             29%            71%                  7   \n",
       "5                 2             46%            54%                 10   \n",
       "13                1             52%            48%                 27   \n",
       "14                4             47%            53%                 11   \n",
       "25                0             70%            30%                 23   \n",
       "36                0             49%            51%                 13   \n",
       "37                2             64%            36%                 18   \n",
       "49                1             35%            65%                  9   \n",
       "50                3             36%            64%                  3   \n",
       "\n",
       "    total_shots_away  shots_on_target_home  shots_on_target_away  \\\n",
       "0                  6                     6                     2   \n",
       "2                 16                     4                     5   \n",
       "5                 14                     4                     3   \n",
       "13                16                     6                     3   \n",
       "14                16                     1                     8   \n",
       "25                 3                     6                     1   \n",
       "36                 6                     3                     1   \n",
       "37                16                     6                     7   \n",
       "49                18                     2                     4   \n",
       "50                24                     0                     8   \n",
       "\n",
       "   duels_won_home duels_won_away  \\\n",
       "0             53%           47%    \n",
       "2             49%           51%    \n",
       "5             58%           42%    \n",
       "13            50%           50%    \n",
       "14            39%           61%    \n",
       "25            56%           44%    \n",
       "36            43%           57%    \n",
       "37            40%           60%    \n",
       "49            46%           55%    \n",
       "50            51%           49%    \n",
       "\n",
       "                                          events_list  \\\n",
       "0   [{'event_team': 'away', 'event_time': \" 2' \", ...   \n",
       "2   [{'event_team': 'away', 'event_time': \" 51' \",...   \n",
       "5   [{'event_team': 'away', 'event_time': \" 13' \",...   \n",
       "13  [{'event_team': 'away', 'event_time': \" 2' \", ...   \n",
       "14  [{'event_team': 'home', 'event_time': \" 26' \",...   \n",
       "25  [{'event_team': 'home', 'event_time': \" 39' \",...   \n",
       "36  [{'event_team': 'home', 'event_time': \" 19' \",...   \n",
       "37  [{'event_team': 'away', 'event_time': \" 42' \",...   \n",
       "49  [{'event_team': 'away', 'event_time': \" 30' \",...   \n",
       "50  [{'event_team': 'home', 'event_time': \" 45' \",...   \n",
       "\n",
       "                                          lineup_home  \\\n",
       "0   [{'Player_Name': 'Insigne', 'Player_Number': '...   \n",
       "2   [{'Player_Name': 'Insigne', 'Player_Number': '...   \n",
       "5   [{'Player_Name': 'Lukaku', 'Player_Number': '9...   \n",
       "13  [{'Player_Name': 'Insigne', 'Player_Number': '...   \n",
       "14  [{'Player_Name': 'Moore', 'Player_Number': '13...   \n",
       "25  [{'Player_Name': 'Chiesa', 'Player_Number': '1...   \n",
       "36  [{'Player_Name': 'Insigne', 'Player_Number': '...   \n",
       "37  [{'Player_Name': 'Yilmaz', 'Player_Number': '1...   \n",
       "49  [{'Player_Name': 'Moore', 'Player_Number': '13...   \n",
       "50  [{'Player_Name': 'Yilmaz', 'Player_Number': '1...   \n",
       "\n",
       "                                          lineup_away  \n",
       "0   [{'Player_Name': 'Kane', 'Player_Number': '9'}...  \n",
       "2   [{'Player_Name': 'Torres', 'Player_Number': '1...  \n",
       "5   [{'Player_Name': 'Insigne', 'Player_Number': '...  \n",
       "13  [{'Player_Name': 'Arnautovic', 'Player_Number'...  \n",
       "14  [{'Player_Name': 'Dolberg', 'Player_Number': '...  \n",
       "25  [{'Player_Name': 'James', 'Player_Number': '20...  \n",
       "36  [{'Player_Name': 'Embolo', 'Player_Number': '7...  \n",
       "37  [{'Player_Name': 'Moore', 'Player_Number': '13...  \n",
       "49  [{'Player_Name': 'Embolo', 'Player_Number': '7...  \n",
       "50  [{'Player_Name': 'Insigne', 'Player_Number': '...  "
      ]
     },
     "execution_count": 7,
     "metadata": {},
     "output_type": "execute_result"
    }
   ],
   "source": [
    "iw_matches"
   ]
  },
  {
   "cell_type": "code",
   "execution_count": 8,
   "id": "c2490fbc",
   "metadata": {
    "execution": {
     "iopub.execute_input": "2022-03-20T17:06:13.454008Z",
     "iopub.status.busy": "2022-03-20T17:06:13.451875Z",
     "iopub.status.idle": "2022-03-20T17:06:13.471098Z",
     "shell.execute_reply": "2022-03-20T17:06:13.470503Z",
     "shell.execute_reply.started": "2022-03-20T17:02:32.608045Z"
    },
    "papermill": {
     "duration": 0.065842,
     "end_time": "2022-03-20T17:06:13.471245",
     "exception": false,
     "start_time": "2022-03-20T17:06:13.405403",
     "status": "completed"
    },
    "tags": []
   },
   "outputs": [],
   "source": [
    "import json\n",
    "with open('../input/socceranalytics/matches.json') as f:\n",
    "    data = json.load(f)\n",
    "    matches = pd.json_normalize(data, sep = \"_\")"
   ]
  },
  {
   "cell_type": "code",
   "execution_count": 9,
   "id": "6acb6400",
   "metadata": {
    "execution": {
     "iopub.execute_input": "2022-03-20T17:06:13.564611Z",
     "iopub.status.busy": "2022-03-20T17:06:13.563993Z",
     "iopub.status.idle": "2022-03-20T17:06:13.567024Z",
     "shell.execute_reply": "2022-03-20T17:06:13.566500Z",
     "shell.execute_reply.started": "2022-03-20T17:02:32.630513Z"
    },
    "papermill": {
     "duration": 0.051891,
     "end_time": "2022-03-20T17:06:13.567158",
     "exception": false,
     "start_time": "2022-03-20T17:06:13.515267",
     "status": "completed"
    },
    "tags": []
   },
   "outputs": [
    {
     "data": {
      "text/plain": [
       "Index(['match_id', 'match_date', 'kick_off', 'home_score', 'away_score',\n",
       "       'match_status', 'match_status_360', 'last_updated', 'last_updated_360',\n",
       "       'match_week', 'competition_competition_id', 'competition_country_name',\n",
       "       'competition_competition_name', 'season_season_id',\n",
       "       'season_season_name', 'home_team_home_team_id',\n",
       "       'home_team_home_team_name', 'home_team_home_team_gender',\n",
       "       'home_team_home_team_group', 'home_team_country_id',\n",
       "       'home_team_country_name', 'home_team_managers',\n",
       "       'away_team_away_team_id', 'away_team_away_team_name',\n",
       "       'away_team_away_team_gender', 'away_team_away_team_group',\n",
       "       'away_team_country_id', 'away_team_country_name', 'away_team_managers',\n",
       "       'metadata_data_version', 'metadata_shot_fidelity_version',\n",
       "       'metadata_xy_fidelity_version', 'competition_stage_id',\n",
       "       'competition_stage_name', 'stadium_id', 'stadium_name',\n",
       "       'stadium_country_id', 'stadium_country_name', 'referee_id',\n",
       "       'referee_name', 'referee_country_id', 'referee_country_name'],\n",
       "      dtype='object')"
      ]
     },
     "execution_count": 9,
     "metadata": {},
     "output_type": "execute_result"
    }
   ],
   "source": [
    "matches.columns"
   ]
  },
  {
   "cell_type": "code",
   "execution_count": 10,
   "id": "6c200028",
   "metadata": {
    "execution": {
     "iopub.execute_input": "2022-03-20T17:06:13.658629Z",
     "iopub.status.busy": "2022-03-20T17:06:13.658030Z",
     "iopub.status.idle": "2022-03-20T17:06:13.664234Z",
     "shell.execute_reply": "2022-03-20T17:06:13.664805Z",
     "shell.execute_reply.started": "2022-03-20T17:02:32.639134Z"
    },
    "papermill": {
     "duration": 0.053497,
     "end_time": "2022-03-20T17:06:13.664977",
     "exception": false,
     "start_time": "2022-03-20T17:06:13.611480",
     "status": "completed"
    },
    "tags": []
   },
   "outputs": [],
   "source": [
    "mask = (matches[\"home_team_home_team_name\"] == \"Italy\") | (matches[\"away_team_away_team_name\"] == \"Italy\")\n",
    "italy_matches = matches[mask]\n",
    "match_id = italy_matches[italy_matches[\"away_team_away_team_name\"] == \"Wales\"].match_id.iloc[0]"
   ]
  },
  {
   "cell_type": "code",
   "execution_count": 11,
   "id": "a94109d4",
   "metadata": {
    "execution": {
     "iopub.execute_input": "2022-03-20T17:06:13.756351Z",
     "iopub.status.busy": "2022-03-20T17:06:13.755689Z",
     "iopub.status.idle": "2022-03-20T17:06:13.760162Z",
     "shell.execute_reply": "2022-03-20T17:06:13.760755Z",
     "shell.execute_reply.started": "2022-03-20T17:02:32.652381Z"
    },
    "papermill": {
     "duration": 0.051895,
     "end_time": "2022-03-20T17:06:13.760919",
     "exception": false,
     "start_time": "2022-03-20T17:06:13.709024",
     "status": "completed"
    },
    "tags": []
   },
   "outputs": [
    {
     "data": {
      "text/plain": [
       "3788766"
      ]
     },
     "execution_count": 11,
     "metadata": {},
     "output_type": "execute_result"
    }
   ],
   "source": [
    "match_id"
   ]
  },
  {
   "cell_type": "code",
   "execution_count": 12,
   "id": "246056e9",
   "metadata": {
    "execution": {
     "iopub.execute_input": "2022-03-20T17:06:13.853626Z",
     "iopub.status.busy": "2022-03-20T17:06:13.852938Z",
     "iopub.status.idle": "2022-03-20T17:06:14.313332Z",
     "shell.execute_reply": "2022-03-20T17:06:14.312739Z",
     "shell.execute_reply.started": "2022-03-20T17:02:32.663167Z"
    },
    "papermill": {
     "duration": 0.507902,
     "end_time": "2022-03-20T17:06:14.313471",
     "exception": false,
     "start_time": "2022-03-20T17:06:13.805569",
     "status": "completed"
    },
    "tags": []
   },
   "outputs": [],
   "source": [
    "import bz2\n",
    "zipfile = bz2.BZ2File(f\"../input/socceranalytics/three-sixty/three-sixty/{match_id}.json.bz2\")\n",
    "file = zipfile.read()\n",
    "open(f\"{match_id}.json\", 'wb').write(file)\n",
    "with open(f\"{match_id}.json\") as f:\n",
    "    threesixty = json.load(f)\n",
    "    match_events360 = pd.json_normalize(threesixty)"
   ]
  },
  {
   "cell_type": "code",
   "execution_count": 13,
   "id": "c76dc82b",
   "metadata": {
    "execution": {
     "iopub.execute_input": "2022-03-20T17:06:14.406915Z",
     "iopub.status.busy": "2022-03-20T17:06:14.405872Z",
     "iopub.status.idle": "2022-03-20T17:06:14.751725Z",
     "shell.execute_reply": "2022-03-20T17:06:14.751105Z",
     "shell.execute_reply.started": "2022-03-20T17:02:33.203990Z"
    },
    "papermill": {
     "duration": 0.393941,
     "end_time": "2022-03-20T17:06:14.751880",
     "exception": false,
     "start_time": "2022-03-20T17:06:14.357939",
     "status": "completed"
    },
    "tags": []
   },
   "outputs": [],
   "source": [
    "zipfile = bz2.BZ2File(f\"../input/socceranalytics/events/events/{match_id}.json.bz2\")\n",
    "file = zipfile.read()\n",
    "open(f\"{match_id}.json\", 'wb').write(file)\n",
    "with open(f\"{match_id}.json\") as f:\n",
    "    events = json.load(f)\n",
    "    match_events = pd.json_normalize(events, sep = \"_\")"
   ]
  },
  {
   "cell_type": "code",
   "execution_count": 14,
   "id": "d2f4938d",
   "metadata": {
    "execution": {
     "iopub.execute_input": "2022-03-20T17:06:14.845245Z",
     "iopub.status.busy": "2022-03-20T17:06:14.844579Z",
     "iopub.status.idle": "2022-03-20T17:06:14.854765Z",
     "shell.execute_reply": "2022-03-20T17:06:14.855330Z",
     "shell.execute_reply.started": "2022-03-20T17:02:33.505500Z"
    },
    "papermill": {
     "duration": 0.058589,
     "end_time": "2022-03-20T17:06:14.855497",
     "exception": false,
     "start_time": "2022-03-20T17:06:14.796908",
     "status": "completed"
    },
    "tags": []
   },
   "outputs": [],
   "source": [
    "shots = match_events[match_events['type_name'] == 'Shot']\n",
    "passes = match_events[match_events['type_name'] == 'Pass']"
   ]
  },
  {
   "cell_type": "code",
   "execution_count": 15,
   "id": "8c8ffcf9",
   "metadata": {
    "execution": {
     "iopub.execute_input": "2022-03-20T17:06:14.949768Z",
     "iopub.status.busy": "2022-03-20T17:06:14.949111Z",
     "iopub.status.idle": "2022-03-20T17:06:14.951744Z",
     "shell.execute_reply": "2022-03-20T17:06:14.951244Z",
     "shell.execute_reply.started": "2022-03-20T17:02:33.517676Z"
    },
    "papermill": {
     "duration": 0.051749,
     "end_time": "2022-03-20T17:06:14.951885",
     "exception": false,
     "start_time": "2022-03-20T17:06:14.900136",
     "status": "completed"
    },
    "tags": []
   },
   "outputs": [],
   "source": [
    "# max_x = 0\n",
    "# max_y = 0\n",
    "# for frame in match_events360.freeze_frame:\n",
    "#     for player in frame:\n",
    "#         if max_x < player['location'][0]:\n",
    "#             max_x = player['location'][0]\n",
    "#         if max_y < player['location'][1]:\n",
    "#             max_y = player['location'][1]"
   ]
  },
  {
   "cell_type": "code",
   "execution_count": 16,
   "id": "92700b39",
   "metadata": {
    "execution": {
     "iopub.execute_input": "2022-03-20T17:06:15.044216Z",
     "iopub.status.busy": "2022-03-20T17:06:15.043552Z",
     "iopub.status.idle": "2022-03-20T17:06:15.047405Z",
     "shell.execute_reply": "2022-03-20T17:06:15.047990Z",
     "shell.execute_reply.started": "2022-03-20T17:02:33.529198Z"
    },
    "papermill": {
     "duration": 0.051466,
     "end_time": "2022-03-20T17:06:15.048159",
     "exception": false,
     "start_time": "2022-03-20T17:06:14.996693",
     "status": "completed"
    },
    "tags": []
   },
   "outputs": [],
   "source": [
    "shots = shots.reset_index(drop = True)\n",
    "x, y= shots['location'][0]"
   ]
  },
  {
   "cell_type": "code",
   "execution_count": 17,
   "id": "7dcf10f1",
   "metadata": {
    "execution": {
     "iopub.execute_input": "2022-03-20T17:06:15.141228Z",
     "iopub.status.busy": "2022-03-20T17:06:15.140551Z",
     "iopub.status.idle": "2022-03-20T17:06:15.619646Z",
     "shell.execute_reply": "2022-03-20T17:06:15.619074Z",
     "shell.execute_reply.started": "2022-03-20T17:02:33.542281Z"
    },
    "papermill": {
     "duration": 0.526757,
     "end_time": "2022-03-20T17:06:15.619821",
     "exception": false,
     "start_time": "2022-03-20T17:06:15.093064",
     "status": "completed"
    },
    "tags": []
   },
   "outputs": [
    {
     "data": {
      "image/png": "[encoded data removed]",
      "text/plain": [
       "<Figure size 756x489.6 with 1 Axes>"
      ]
     },
     "metadata": {},
     "output_type": "display_data"
    }
   ],
   "source": [
    "fig, ax = create_pitch(120, 80,'white')\n",
    "for shot in shots['location']:\n",
    "    x, y = shot\n",
    "    y = 80 - y\n",
    "    plt.scatter(x,y, marker = 'o')\n",
    "    #shotCircle = plt.Circle((x,y) , 2, color=\"red\")     \n",
    "    #ax.add_patch(shotCircle)\n",
    "\n",
    "plt.show()"
   ]
  },
  {
   "cell_type": "code",
   "execution_count": 18,
   "id": "a4a7433a",
   "metadata": {
    "execution": {
     "iopub.execute_input": "2022-03-20T17:06:15.715421Z",
     "iopub.status.busy": "2022-03-20T17:06:15.714788Z",
     "iopub.status.idle": "2022-03-20T17:06:26.127338Z",
     "shell.execute_reply": "2022-03-20T17:06:26.127837Z",
     "shell.execute_reply.started": "2022-03-20T17:02:34.125495Z"
    },
    "papermill": {
     "duration": 10.461767,
     "end_time": "2022-03-20T17:06:26.128000",
     "exception": false,
     "start_time": "2022-03-20T17:06:15.666233",
     "status": "completed"
    },
    "tags": []
   },
   "outputs": [
    {
     "data": {
      "image/png": "[encoded data removed]",
      "text/plain": [
       "<Figure size 756x489.6 with 1 Axes>"
      ]
     },
     "metadata": {},
     "output_type": "display_data"
    }
   ],
   "source": [
    "fig, ax = create_pitch(120, 80,'white')\n",
    "for pass_ball in passes['location']:\n",
    "    x, y = pass_ball\n",
    "    y = 80 - y\n",
    "    plt.scatter(x,y, marker = 'o')\n",
    "\n",
    "plt.show()"
   ]
  },
  {
   "cell_type": "code",
   "execution_count": 19,
   "id": "29772d30",
   "metadata": {
    "execution": {
     "iopub.execute_input": "2022-03-20T17:06:26.229756Z",
     "iopub.status.busy": "2022-03-20T17:06:26.228775Z",
     "iopub.status.idle": "2022-03-20T17:06:26.550448Z",
     "shell.execute_reply": "2022-03-20T17:06:26.550964Z",
     "shell.execute_reply.started": "2022-03-20T17:02:43.628718Z"
    },
    "papermill": {
     "duration": 0.373663,
     "end_time": "2022-03-20T17:06:26.551133",
     "exception": false,
     "start_time": "2022-03-20T17:06:26.177470",
     "status": "completed"
    },
    "tags": []
   },
   "outputs": [
    {
     "data": {
      "image/png": "[encoded data removed]",
      "text/plain": [
       "<Figure size 756x489.6 with 1 Axes>"
      ]
     },
     "metadata": {},
     "output_type": "display_data"
    }
   ],
   "source": [
    "fig, ax = create_pitch(120, 80,'white')\n",
    "for d in match_events360['freeze_frame'][4]:\n",
    "    x, y = d['location']\n",
    "    y = 80 - y\n",
    "    plt.scatter(x, y, color = 'red', marker = 'o')\n",
    "plt.show()"
   ]
  },
  {
   "cell_type": "code",
   "execution_count": 20,
   "id": "d03d87e8",
   "metadata": {
    "execution": {
     "iopub.execute_input": "2022-03-20T17:06:26.655678Z",
     "iopub.status.busy": "2022-03-20T17:06:26.654992Z",
     "iopub.status.idle": "2022-03-20T17:06:50.493411Z",
     "shell.execute_reply": "2022-03-20T17:06:50.492688Z",
     "shell.execute_reply.started": "2022-03-20T17:02:43.977209Z"
    },
    "papermill": {
     "duration": 23.893978,
     "end_time": "2022-03-20T17:06:50.493560",
     "exception": false,
     "start_time": "2022-03-20T17:06:26.599582",
     "status": "completed"
    },
    "tags": []
   },
   "outputs": [],
   "source": [
    "game = pd.read_parquet(\"../input/socceranalytics/italywales.pq\")\n",
    "position_cols = [col for col in game if \"_x\" in col or \"_y\" in col or \"_type\" in col]\n",
    "x_pos = [col for col in game if \"_x\" in col]\n",
    "y_pos = [col for col in game if \"_y\" in col]\n",
    "type_cols = [col for col in game if \"_type\" in col]\n",
    "id_cols = [col for col in game if \"_id\" in col]\n",
    "game[x_pos] = game[x_pos].astype(float) / 100.0\n",
    "game[y_pos] = game[y_pos].astype(float) / 100.0"
   ]
  },
  {
   "cell_type": "code",
   "execution_count": 21,
   "id": "0a97838c",
   "metadata": {
    "execution": {
     "iopub.execute_input": "2022-03-20T17:06:50.595133Z",
     "iopub.status.busy": "2022-03-20T17:06:50.594403Z",
     "iopub.status.idle": "2022-03-20T17:06:52.450128Z",
     "shell.execute_reply": "2022-03-20T17:06:52.449335Z",
     "shell.execute_reply.started": "2022-03-20T17:03:07.900761Z"
    },
    "papermill": {
     "duration": 1.907322,
     "end_time": "2022-03-20T17:06:52.450283",
     "exception": false,
     "start_time": "2022-03-20T17:06:50.542961",
     "status": "completed"
    },
    "tags": []
   },
   "outputs": [],
   "source": [
    "import requests\n",
    "from bs4 import BeautifulSoup\n",
    "\n",
    "baseURL = \"https://www.uefa.com/uefaeuro-2020/teams/\"\n",
    "\n",
    "class Player:\n",
    "    def __init__(self, attr):\n",
    "        self.id             = attr[0]\n",
    "        self.name           = attr[1]\n",
    "        self.number         = attr[2]\n",
    "        self.position       = attr[3]\n",
    "        self.age            = attr[4]\n",
    "        self.gamesPlayed    = attr[5]\n",
    "        self.goals          = attr[6]\n",
    "\n",
    "def parseSite(teamID):\n",
    "    teamURL = baseURL + str(teamID) + \"/squad/\"\n",
    "\n",
    "    # Get the HTML from the site\n",
    "    page = requests.get(teamURL)\n",
    "\n",
    "    # Check for bad status code\n",
    "    if not page.status_code == 200:\n",
    "        print(\"Error: Could not get the page\")\n",
    "        return\n",
    "\n",
    "    # Parse the HTML\n",
    "    html = page.text\n",
    "    soup = BeautifulSoup(html, 'html.parser')\n",
    "    \n",
    "    # The HTML has multiple divs with class 'squad--team-wrap' that contain all \n",
    "    # the player infos split by postition\n",
    "    squad = soup.find_all('div', class_='squad--team-wrap')\n",
    "\n",
    "    # Extract the player infos from the HTML\n",
    "    players = []\n",
    "\n",
    "    for wrap in squad[1:5]:\n",
    "        postition = wrap.h5.text[:-1]\n",
    "\n",
    "        for player in wrap.find('tbody').find_all('tr'):\n",
    "            infos = player.find_all('td')\n",
    "\n",
    "            players.append(Player([\n",
    "                infos[0].find('a', class_='player-name')[\"href\"].split(\"/\")[-2].split(\"-\")[0], \n",
    "                infos[0].find('a', class_='player-name')[\"title\"], \n",
    "                infos[0].text.strip().split(\" \")[-1].strip(\"()\"), \n",
    "                postition, \n",
    "                infos[1].text.strip(), \n",
    "                infos[2].text.strip().replace(\"-\", \"0\"), \n",
    "                infos[3].text.strip().replace(\"-\", \"0\")\n",
    "            ]))\n",
    "\n",
    "    return players\n",
    "\n",
    "italy = parseSite(66) # Italy\n",
    "wales = parseSite(144) # Wales"
   ]
  },
  {
   "cell_type": "code",
   "execution_count": 22,
   "id": "2f5489be",
   "metadata": {
    "execution": {
     "iopub.execute_input": "2022-03-20T17:06:52.553892Z",
     "iopub.status.busy": "2022-03-20T17:06:52.553140Z",
     "iopub.status.idle": "2022-03-20T17:06:52.555274Z",
     "shell.execute_reply": "2022-03-20T17:06:52.556047Z",
     "shell.execute_reply.started": "2022-03-20T17:03:13.989015Z"
    },
    "papermill": {
     "duration": 0.056982,
     "end_time": "2022-03-20T17:06:52.556238",
     "exception": false,
     "start_time": "2022-03-20T17:06:52.499256",
     "status": "completed"
    },
    "tags": []
   },
   "outputs": [],
   "source": [
    "player_map = dict()\n",
    "for player in italy:\n",
    "    player_map[player.id] = player.name\n",
    "for player in wales:\n",
    "    player_map[player.id] = player.name"
   ]
  },
  {
   "cell_type": "code",
   "execution_count": 23,
   "id": "171de554",
   "metadata": {
    "execution": {
     "iopub.execute_input": "2022-03-20T17:06:52.660372Z",
     "iopub.status.busy": "2022-03-20T17:06:52.659631Z",
     "iopub.status.idle": "2022-03-20T17:06:52.678093Z",
     "shell.execute_reply": "2022-03-20T17:06:52.678616Z",
     "shell.execute_reply.started": "2022-03-20T17:03:13.994742Z"
    },
    "papermill": {
     "duration": 0.07372,
     "end_time": "2022-03-20T17:06:52.678807",
     "exception": false,
     "start_time": "2022-03-20T17:06:52.605087",
     "status": "completed"
    },
    "tags": []
   },
   "outputs": [],
   "source": [
    "with open(f\"../input/socceranalytics/lineups/lineups/{match_id}.json\") as f:\n",
    "    lineup = json.load(f)\n",
    "    lineups = pd.json_normalize(data)"
   ]
  },
  {
   "cell_type": "code",
   "execution_count": 24,
   "id": "59129ceb",
   "metadata": {
    "execution": {
     "iopub.execute_input": "2022-03-20T17:06:52.780065Z",
     "iopub.status.busy": "2022-03-20T17:06:52.779371Z",
     "iopub.status.idle": "2022-03-20T17:06:52.782696Z",
     "shell.execute_reply": "2022-03-20T17:06:52.783233Z",
     "shell.execute_reply.started": "2022-03-20T17:03:14.025878Z"
    },
    "papermill": {
     "duration": 0.055234,
     "end_time": "2022-03-20T17:06:52.783397",
     "exception": false,
     "start_time": "2022-03-20T17:06:52.728163",
     "status": "completed"
    },
    "tags": []
   },
   "outputs": [],
   "source": [
    "wales_lineup = lineup[0]\n",
    "italy_lineup = lineup[1]"
   ]
  },
  {
   "cell_type": "code",
   "execution_count": 25,
   "id": "a55ba0e7",
   "metadata": {
    "execution": {
     "iopub.execute_input": "2022-03-20T17:06:52.884345Z",
     "iopub.status.busy": "2022-03-20T17:06:52.883714Z",
     "iopub.status.idle": "2022-03-20T17:06:52.954185Z",
     "shell.execute_reply": "2022-03-20T17:06:52.954816Z",
     "shell.execute_reply.started": "2022-03-20T17:03:14.033089Z"
    },
    "papermill": {
     "duration": 0.12276,
     "end_time": "2022-03-20T17:06:52.955010",
     "exception": false,
     "start_time": "2022-03-20T17:06:52.832250",
     "status": "completed"
    },
    "tags": []
   },
   "outputs": [],
   "source": [
    "random_point = game.sample(1)"
   ]
  },
  {
   "cell_type": "code",
   "execution_count": 26,
   "id": "00d6c16e",
   "metadata": {
    "execution": {
     "iopub.execute_input": "2022-03-20T17:06:53.059237Z",
     "iopub.status.busy": "2022-03-20T17:06:53.058489Z",
     "iopub.status.idle": "2022-03-20T17:06:53.085832Z",
     "shell.execute_reply": "2022-03-20T17:06:53.086305Z",
     "shell.execute_reply.started": "2022-03-20T17:03:14.116432Z"
    },
    "papermill": {
     "duration": 0.081592,
     "end_time": "2022-03-20T17:06:53.086476",
     "exception": false,
     "start_time": "2022-03-20T17:06:53.004884",
     "status": "completed"
    },
    "tags": []
   },
   "outputs": [
    {
     "name": "stdout",
     "output_type": "stream",
     "text": [
      "157982   -30.86\n",
      "Name: ball_x, dtype: float64\n",
      "157982   -35.19\n",
      "Name: player1_x, dtype: float64\n",
      "157982   -34.07\n",
      "Name: player2_x, dtype: float64\n",
      "157982   -30.56\n",
      "Name: player3_x, dtype: float64\n",
      "157982   -48.53\n",
      "Name: player4_x, dtype: float64\n",
      "157982   NaN\n",
      "Name: player5_x, dtype: float64\n",
      "157982   NaN\n",
      "Name: player6_x, dtype: float64\n",
      "157982   -32.32\n",
      "Name: player7_x, dtype: float64\n",
      "157982   NaN\n",
      "Name: player8_x, dtype: float64\n",
      "157982   NaN\n",
      "Name: player9_x, dtype: float64\n",
      "157982   -11.77\n",
      "Name: player10_x, dtype: float64\n",
      "157982   -17.99\n",
      "Name: player11_x, dtype: float64\n",
      "157982   NaN\n",
      "Name: player12_x, dtype: float64\n",
      "157982   NaN\n",
      "Name: player13_x, dtype: float64\n",
      "157982   NaN\n",
      "Name: player14_x, dtype: float64\n",
      "157982   -20.76\n",
      "Name: player15_x, dtype: float64\n",
      "157982   NaN\n",
      "Name: player16_x, dtype: float64\n",
      "157982   NaN\n",
      "Name: player17_x, dtype: float64\n",
      "157982   -3.54\n",
      "Name: player18_x, dtype: float64\n",
      "157982   -30.38\n",
      "Name: player19_x, dtype: float64\n",
      "157982   -33.08\n",
      "Name: player20_x, dtype: float64\n",
      "157982   NaN\n",
      "Name: player21_x, dtype: float64\n",
      "157982    25.71\n",
      "Name: player22_x, dtype: float64\n",
      "157982   -4.42\n",
      "Name: player23_x, dtype: float64\n",
      "157982   -17.96\n",
      "Name: player24_x, dtype: float64\n",
      "157982   -23.3\n",
      "Name: player25_x, dtype: float64\n",
      "157982   -11.5\n",
      "Name: player26_x, dtype: float64\n",
      "157982   -30.97\n",
      "Name: player27_x, dtype: float64\n",
      "157982   -23.81\n",
      "Name: player28_x, dtype: float64\n",
      "157982   -26.63\n",
      "Name: player29_x, dtype: float64\n",
      "157982   -33.72\n",
      "Name: player30_x, dtype: float64\n",
      "157982   -32.19\n",
      "Name: player31_x, dtype: float64\n",
      "157982   NaN\n",
      "Name: player32_x, dtype: float64\n"
     ]
    }
   ],
   "source": [
    "for col in x_pos:\n",
    "    print(random_point[col])"
   ]
  },
  {
   "cell_type": "code",
   "execution_count": 27,
   "id": "bad3f204",
   "metadata": {
    "execution": {
     "iopub.execute_input": "2022-03-20T17:06:53.211723Z",
     "iopub.status.busy": "2022-03-20T17:06:53.210994Z",
     "iopub.status.idle": "2022-03-20T17:06:53.618430Z",
     "shell.execute_reply": "2022-03-20T17:06:53.619085Z",
     "shell.execute_reply.started": "2022-03-20T17:03:14.144529Z"
    },
    "papermill": {
     "duration": 0.482152,
     "end_time": "2022-03-20T17:06:53.619262",
     "exception": false,
     "start_time": "2022-03-20T17:06:53.137110",
     "status": "completed"
    },
    "tags": []
   },
   "outputs": [
    {
     "name": "stdout",
     "output_type": "stream",
     "text": [
      "faile\n",
      "faile\n",
      "faile\n",
      "faile\n",
      "faile\n",
      "faile\n",
      "faile\n",
      "faile\n",
      "faile\n",
      "faile\n",
      "faile\n",
      "faile\n",
      "faile\n",
      "faile\n",
      "faile\n",
      "faile\n",
      "faile\n"
     ]
    },
    {
     "data": {
      "image/png": "[encoded data removed]",
      "text/plain": [
       "<Figure size 756x489.6 with 1 Axes>"
      ]
     },
     "metadata": {},
     "output_type": "display_data"
    }
   ],
   "source": [
    "length, width = 105, 68\n",
    "fig, ax = create_pitch(length, width,'white')\n",
    "x, y = random_point[\"ball_x\"].iloc[0] / 100, random_point[\"ball_y\"].iloc[0] /100\n",
    "x = length/2.0 + x\n",
    "y = width/2.0 + y\n",
    "plt.scatter(x, y, marker = 'o', color = 'black')\n",
    "p = 1\n",
    "names = [\"Ball\"]\n",
    "for i in range(3, len(position_cols), 3):\n",
    "    t, x, y = random_point[position_cols[i]].iloc[0], random_point[position_cols[i + 1]].iloc[0], random_point[position_cols[i + 2]].iloc[0]\n",
    "    if np.isnan(x) or np.isnan(y):\n",
    "        continue\n",
    "    t = int(t)\n",
    "    x = length/2.0 + x\n",
    "    y = width/2.0 + y\n",
    "    try:\n",
    "        name = player_map[random_point[f'player{p}_id'].iloc[0]]\n",
    "        names.append(name)\n",
    "    except:\n",
    "        print('faile')\n",
    "        continue\n",
    "    y = 80 - y\n",
    "    color = 'yellow' if t == 0 else 'red'\n",
    "    plt.scatter(x,y, marker = 'o', color = color)\n",
    "    p += 1\n",
    "plt.legend(names, loc = 'upper right', bbox_to_anchor = (1.25, 1))\n",
    "plt.savefig('figure.png')\n",
    "plt.show()"
   ]
  },
  {
   "cell_type": "code",
   "execution_count": 28,
   "id": "14efcfde",
   "metadata": {
    "execution": {
     "iopub.execute_input": "2022-03-20T17:06:53.723709Z",
     "iopub.status.busy": "2022-03-20T17:06:53.722718Z",
     "iopub.status.idle": "2022-03-20T17:06:53.729816Z",
     "shell.execute_reply": "2022-03-20T17:06:53.729168Z",
     "shell.execute_reply.started": "2022-03-20T17:03:14.988608Z"
    },
    "papermill": {
     "duration": 0.060592,
     "end_time": "2022-03-20T17:06:53.729958",
     "exception": false,
     "start_time": "2022-03-20T17:06:53.669366",
     "status": "completed"
    },
    "tags": []
   },
   "outputs": [
    {
     "data": {
      "text/plain": [
       "(166313, 167)"
      ]
     },
     "execution_count": 28,
     "metadata": {},
     "output_type": "execute_result"
    }
   ],
   "source": [
    "game.shape"
   ]
  },
  {
   "cell_type": "code",
   "execution_count": 29,
   "id": "3f275029",
   "metadata": {
    "execution": {
     "iopub.execute_input": "2022-03-20T17:06:53.838085Z",
     "iopub.status.busy": "2022-03-20T17:06:53.837163Z",
     "iopub.status.idle": "2022-03-20T17:06:53.839281Z",
     "shell.execute_reply": "2022-03-20T17:06:53.839790Z",
     "shell.execute_reply.started": "2022-03-20T17:03:14.995546Z"
    },
    "papermill": {
     "duration": 0.058757,
     "end_time": "2022-03-20T17:06:53.839959",
     "exception": false,
     "start_time": "2022-03-20T17:06:53.781202",
     "status": "completed"
    },
    "tags": []
   },
   "outputs": [],
   "source": [
    "short_play = game.iloc[8000:8010].reset_index(drop = True)"
   ]
  },
  {
   "cell_type": "code",
   "execution_count": 30,
   "id": "ccd62758",
   "metadata": {
    "execution": {
     "iopub.execute_input": "2022-03-20T17:06:53.951300Z",
     "iopub.status.busy": "2022-03-20T17:06:53.950321Z",
     "iopub.status.idle": "2022-03-20T17:06:53.976240Z",
     "shell.execute_reply": "2022-03-20T17:06:53.975733Z",
     "shell.execute_reply.started": "2022-03-20T17:03:15.009921Z"
    },
    "papermill": {
     "duration": 0.084512,
     "end_time": "2022-03-20T17:06:53.976382",
     "exception": false,
     "start_time": "2022-03-20T17:06:53.891870",
     "status": "completed"
    },
    "tags": []
   },
   "outputs": [
    {
     "data": {
      "text/html": [
       "<div>\n",
       "<style scoped>\n",
       "    .dataframe tbody tr th:only-of-type {\n",
       "        vertical-align: middle;\n",
       "    }\n",
       "\n",
       "    .dataframe tbody tr th {\n",
       "        vertical-align: top;\n",
       "    }\n",
       "\n",
       "    .dataframe thead th {\n",
       "        text-align: right;\n",
       "    }\n",
       "</style>\n",
       "<table border=\"1\" class=\"dataframe\">\n",
       "  <thead>\n",
       "    <tr style=\"text-align: right;\">\n",
       "      <th></th>\n",
       "      <th>time</th>\n",
       "      <th>ball_type</th>\n",
       "      <th>ball_id</th>\n",
       "      <th>ball_x</th>\n",
       "      <th>ball_y</th>\n",
       "      <th>ball_z</th>\n",
       "      <th>ball_sampling</th>\n",
       "      <th>player1_type</th>\n",
       "      <th>player1_id</th>\n",
       "      <th>player1_x</th>\n",
       "      <th>...</th>\n",
       "      <th>player31_type</th>\n",
       "      <th>player31_id</th>\n",
       "      <th>player31_x</th>\n",
       "      <th>player31_y</th>\n",
       "      <th>player31_sampling</th>\n",
       "      <th>player32_type</th>\n",
       "      <th>player32_id</th>\n",
       "      <th>player32_x</th>\n",
       "      <th>player32_y</th>\n",
       "      <th>player32_sampling</th>\n",
       "    </tr>\n",
       "  </thead>\n",
       "  <tbody>\n",
       "    <tr>\n",
       "      <th>0</th>\n",
       "      <td>2021-06-20T16:05:14.094Z</td>\n",
       "      <td>7</td>\n",
       "      <td>0</td>\n",
       "      <td>36.57</td>\n",
       "      <td>-0.70</td>\n",
       "      <td>18</td>\n",
       "      <td>0</td>\n",
       "      <td>1</td>\n",
       "      <td>102221</td>\n",
       "      <td>30.45</td>\n",
       "      <td>...</td>\n",
       "      <td>None</td>\n",
       "      <td>None</td>\n",
       "      <td>NaN</td>\n",
       "      <td>NaN</td>\n",
       "      <td>None</td>\n",
       "      <td>None</td>\n",
       "      <td>None</td>\n",
       "      <td>NaN</td>\n",
       "      <td>NaN</td>\n",
       "      <td>None</td>\n",
       "    </tr>\n",
       "    <tr>\n",
       "      <th>1</th>\n",
       "      <td>2021-06-20T16:05:14.134Z</td>\n",
       "      <td>7</td>\n",
       "      <td>0</td>\n",
       "      <td>36.62</td>\n",
       "      <td>-1.41</td>\n",
       "      <td>12</td>\n",
       "      <td>0</td>\n",
       "      <td>1</td>\n",
       "      <td>102221</td>\n",
       "      <td>30.47</td>\n",
       "      <td>...</td>\n",
       "      <td>None</td>\n",
       "      <td>None</td>\n",
       "      <td>NaN</td>\n",
       "      <td>NaN</td>\n",
       "      <td>None</td>\n",
       "      <td>None</td>\n",
       "      <td>None</td>\n",
       "      <td>NaN</td>\n",
       "      <td>NaN</td>\n",
       "      <td>None</td>\n",
       "    </tr>\n",
       "    <tr>\n",
       "      <th>2</th>\n",
       "      <td>2021-06-20T16:05:14.174Z</td>\n",
       "      <td>7</td>\n",
       "      <td>0</td>\n",
       "      <td>36.53</td>\n",
       "      <td>-1.27</td>\n",
       "      <td>16</td>\n",
       "      <td>0</td>\n",
       "      <td>1</td>\n",
       "      <td>102221</td>\n",
       "      <td>30.49</td>\n",
       "      <td>...</td>\n",
       "      <td>None</td>\n",
       "      <td>None</td>\n",
       "      <td>NaN</td>\n",
       "      <td>NaN</td>\n",
       "      <td>None</td>\n",
       "      <td>None</td>\n",
       "      <td>None</td>\n",
       "      <td>NaN</td>\n",
       "      <td>NaN</td>\n",
       "      <td>None</td>\n",
       "    </tr>\n",
       "    <tr>\n",
       "      <th>3</th>\n",
       "      <td>2021-06-20T16:05:14.214Z</td>\n",
       "      <td>7</td>\n",
       "      <td>0</td>\n",
       "      <td>36.65</td>\n",
       "      <td>-0.62</td>\n",
       "      <td>0</td>\n",
       "      <td>0</td>\n",
       "      <td>1</td>\n",
       "      <td>102221</td>\n",
       "      <td>30.52</td>\n",
       "      <td>...</td>\n",
       "      <td>None</td>\n",
       "      <td>None</td>\n",
       "      <td>NaN</td>\n",
       "      <td>NaN</td>\n",
       "      <td>None</td>\n",
       "      <td>None</td>\n",
       "      <td>None</td>\n",
       "      <td>NaN</td>\n",
       "      <td>NaN</td>\n",
       "      <td>None</td>\n",
       "    </tr>\n",
       "    <tr>\n",
       "      <th>4</th>\n",
       "      <td>2021-06-20T16:05:14.254Z</td>\n",
       "      <td>7</td>\n",
       "      <td>0</td>\n",
       "      <td>36.62</td>\n",
       "      <td>1.01</td>\n",
       "      <td>12</td>\n",
       "      <td>0</td>\n",
       "      <td>1</td>\n",
       "      <td>102221</td>\n",
       "      <td>30.54</td>\n",
       "      <td>...</td>\n",
       "      <td>None</td>\n",
       "      <td>None</td>\n",
       "      <td>NaN</td>\n",
       "      <td>NaN</td>\n",
       "      <td>None</td>\n",
       "      <td>None</td>\n",
       "      <td>None</td>\n",
       "      <td>NaN</td>\n",
       "      <td>NaN</td>\n",
       "      <td>None</td>\n",
       "    </tr>\n",
       "  </tbody>\n",
       "</table>\n",
       "<p>5 rows × 167 columns</p>\n",
       "</div>"
      ],
      "text/plain": [
       "                       time ball_type ball_id  ball_x  ball_y ball_z  \\\n",
       "0  2021-06-20T16:05:14.094Z         7       0   36.57   -0.70     18   \n",
       "1  2021-06-20T16:05:14.134Z         7       0   36.62   -1.41     12   \n",
       "2  2021-06-20T16:05:14.174Z         7       0   36.53   -1.27     16   \n",
       "3  2021-06-20T16:05:14.214Z         7       0   36.65   -0.62      0   \n",
       "4  2021-06-20T16:05:14.254Z         7       0   36.62    1.01     12   \n",
       "\n",
       "  ball_sampling player1_type player1_id  player1_x  ...  player31_type  \\\n",
       "0             0            1     102221      30.45  ...           None   \n",
       "1             0            1     102221      30.47  ...           None   \n",
       "2             0            1     102221      30.49  ...           None   \n",
       "3             0            1     102221      30.52  ...           None   \n",
       "4             0            1     102221      30.54  ...           None   \n",
       "\n",
       "  player31_id player31_x player31_y  player31_sampling  player32_type  \\\n",
       "0        None        NaN        NaN               None           None   \n",
       "1        None        NaN        NaN               None           None   \n",
       "2        None        NaN        NaN               None           None   \n",
       "3        None        NaN        NaN               None           None   \n",
       "4        None        NaN        NaN               None           None   \n",
       "\n",
       "  player32_id player32_x player32_y  player32_sampling  \n",
       "0        None        NaN        NaN               None  \n",
       "1        None        NaN        NaN               None  \n",
       "2        None        NaN        NaN               None  \n",
       "3        None        NaN        NaN               None  \n",
       "4        None        NaN        NaN               None  \n",
       "\n",
       "[5 rows x 167 columns]"
      ]
     },
     "execution_count": 30,
     "metadata": {},
     "output_type": "execute_result"
    }
   ],
   "source": [
    "short_play.head()"
   ]
  },
  {
   "cell_type": "code",
   "execution_count": 31,
   "id": "89fe96f8",
   "metadata": {
    "execution": {
     "iopub.execute_input": "2022-03-20T17:06:54.084457Z",
     "iopub.status.busy": "2022-03-20T17:06:54.083788Z",
     "iopub.status.idle": "2022-03-20T17:06:54.086930Z",
     "shell.execute_reply": "2022-03-20T17:06:54.086304Z",
     "shell.execute_reply.started": "2022-03-20T17:03:15.044170Z"
    },
    "papermill": {
     "duration": 0.058722,
     "end_time": "2022-03-20T17:06:54.087066",
     "exception": false,
     "start_time": "2022-03-20T17:06:54.028344",
     "status": "completed"
    },
    "tags": []
   },
   "outputs": [],
   "source": [
    "import os\n",
    "os.mkdir('images')"
   ]
  },
  {
   "cell_type": "code",
   "execution_count": 32,
   "id": "33dae662",
   "metadata": {
    "execution": {
     "iopub.execute_input": "2022-03-20T17:06:54.200771Z",
     "iopub.status.busy": "2022-03-20T17:06:54.200081Z",
     "iopub.status.idle": "2022-03-20T17:07:01.049402Z",
     "shell.execute_reply": "2022-03-20T17:07:01.048792Z",
     "shell.execute_reply.started": "2022-03-20T17:03:15.050412Z"
    },
    "papermill": {
     "duration": 6.909663,
     "end_time": "2022-03-20T17:07:01.049557",
     "exception": false,
     "start_time": "2022-03-20T17:06:54.139894",
     "status": "completed"
    },
    "tags": []
   },
   "outputs": [
    {
     "data": {
      "image/png": "[encoded data removed]",
      "text/plain": [
       "<Figure size 756x489.6 with 1 Axes>"
      ]
     },
     "metadata": {},
     "output_type": "display_data"
    },
    {
     "data": {
      "image/png": "[encoded data removed]",
      "text/plain": [
       "<Figure size 756x489.6 with 1 Axes>"
      ]
     },
     "metadata": {},
     "output_type": "display_data"
    },
    {
     "data": {
      "image/png": "[encoded data removed]",
      "text/plain": [
       "<Figure size 756x489.6 with 1 Axes>"
      ]
     },
     "metadata": {},
     "output_type": "display_data"
    },
    {
     "data": {
      "image/png": "[encoded data removed]",
      "text/plain": [
       "<Figure size 756x489.6 with 1 Axes>"
      ]
     },
     "metadata": {},
     "output_type": "display_data"
    },
    {
     "data": {
      "image/png": "[encoded data removed]",
      "text/plain": [
       "<Figure size 756x489.6 with 1 Axes>"
      ]
     },
     "metadata": {},
     "output_type": "display_data"
    },
    {
     "data": {
      "image/png": "[encoded data removed]",
      "text/plain": [
       "<Figure size 756x489.6 with 1 Axes>"
      ]
     },
     "metadata": {},
     "output_type": "display_data"
    },
    {
     "data": {
      "image/png": "[encoded data removed]",
      "text/plain": [
       "<Figure size 756x489.6 with 1 Axes>"
      ]
     },
     "metadata": {},
     "output_type": "display_data"
    },
    {
     "data": {
      "image/png": "[encoded data removed]",
      "text/plain": [
       "<Figure size 756x489.6 with 1 Axes>"
      ]
     },
     "metadata": {},
     "output_type": "display_data"
    },
    {
     "data": {
      "image/png": "[encoded data removed]",
      "text/plain": [
       "<Figure size 756x489.6 with 1 Axes>"
      ]
     },
     "metadata": {},
     "output_type": "display_data"
    },
    {
     "data": {
      "image/png": "[encoded data removed]",
      "text/plain": [
       "<Figure size 756x489.6 with 1 Axes>"
      ]
     },
     "metadata": {},
     "output_type": "display_data"
    }
   ],
   "source": [
    "length, width = 105, 68\n",
    "\n",
    "for index, frame in short_play.iterrows():\n",
    "    fig, ax = create_pitch(length, width,'white')\n",
    "    x, y = short_play.loc[index, \"ball_x\"] / 100, short_play.loc[index, \"ball_y\"] /100\n",
    "    x = length/2.0 + x\n",
    "    y = width/2.0 + y\n",
    "    plt.scatter(x, y, marker = 'o', color = 'black')\n",
    "    for i in range(3, len(position_cols), 3):\n",
    "        t, x, y = short_play.loc[index, position_cols[i]], short_play.loc[index, position_cols[i + 1]], short_play.loc[index, position_cols[i + 2]]\n",
    "        if np.isnan(x) or np.isnan(y):\n",
    "            continue\n",
    "        x, y, t = float(x) / 100.0, float(y) / 100.0, int(t)\n",
    "        x = length/2.0 + x\n",
    "        y = width/2.0 + y\n",
    "\n",
    "        y = 80 - y\n",
    "        color = 'yellow' if t == 0 else 'red'\n",
    "        plt.scatter(x,y, marker = 'o', color = color)\n",
    "\n",
    "    plt.savefig(f'images/{index}.png')\n",
    "#     if index % 100 == 0:\n",
    "#         plt.show()"
   ]
  },
  {
   "cell_type": "code",
   "execution_count": 33,
   "id": "2dfe99aa",
   "metadata": {
    "execution": {
     "iopub.execute_input": "2022-03-20T17:07:01.179482Z",
     "iopub.status.busy": "2022-03-20T17:07:01.178459Z",
     "iopub.status.idle": "2022-03-20T17:07:01.180931Z",
     "shell.execute_reply": "2022-03-20T17:07:01.180315Z",
     "shell.execute_reply.started": "2022-03-20T17:03:21.402336Z"
    },
    "papermill": {
     "duration": 0.07003,
     "end_time": "2022-03-20T17:07:01.181069",
     "exception": false,
     "start_time": "2022-03-20T17:07:01.111039",
     "status": "completed"
    },
    "tags": []
   },
   "outputs": [],
   "source": [
    "#This function creates a gif like you've seen in my presentation\n",
    "def create_gif(images_path, gif_path):\n",
    "    images = []\n",
    "    filenames = sorted(glob(images_path))\n",
    "    #I know it's a double sort but this isn't A&D!!!\n",
    "    filenames.sort(key=lambda x: int(''.join(filter(str.isdigit, x))))\n",
    "    for index, filename in enumerate(filenames):\n",
    "        img = imageio.imread(filename)\n",
    "        images.append(img)\n",
    "    imageio.mimsave(gif_path, images, fps=10) # Save gif    "
   ]
  },
  {
   "cell_type": "code",
   "execution_count": 34,
   "id": "5326743f",
   "metadata": {
    "execution": {
     "iopub.execute_input": "2022-03-20T17:07:01.329134Z",
     "iopub.status.busy": "2022-03-20T17:07:01.328368Z",
     "iopub.status.idle": "2022-03-20T17:07:01.760043Z",
     "shell.execute_reply": "2022-03-20T17:07:01.760543Z",
     "shell.execute_reply.started": "2022-03-20T17:03:21.409844Z"
    },
    "papermill": {
     "duration": 0.520058,
     "end_time": "2022-03-20T17:07:01.760800",
     "exception": false,
     "start_time": "2022-03-20T17:07:01.240742",
     "status": "completed"
    },
    "tags": []
   },
   "outputs": [],
   "source": [
    "import numpy as np\n",
    "from math import pi\n",
    "from bokeh.models.glyphs import Circle, Patches, Wedge\n",
    "from bokeh.plotting import figure\n",
    "from bokeh.models import Range1d, PanTool, ResetTool, HoverTool, ColumnDataSource, LabelSet\n",
    "from bokeh.io import output_notebook, output_file, show\n",
    "\n",
    "def draw_pitch(width = 700, height = 500,\n",
    "                measure = 'metres',\n",
    "                fill_color = 'green', fill_alpha = 0.5,\n",
    "                line_color = 'white', line_alpha = 1,\n",
    "                hspan = [0, 105], vspan = [0, 68],\n",
    "                tooltips = [],\n",
    "                source = [],\n",
    "                arcs = True):\n",
    "    '''\n",
    "    -----\n",
    "    Draws and returns a pitch on a Bokeh figure object with width 105m and height 68m\n",
    "    p = drawpitch()\n",
    "    -----\n",
    "    If you are using StatsBomb Data with a 120x80yard pitch, use:\n",
    "    measure = 'SB'\n",
    "    -----\n",
    "    If you are using Opta Data, use:\n",
    "    measure = 'Opta'\n",
    "    -----\n",
    "    If you are using any other pitch size, set measure to yards or metres\n",
    "    for correct pitch markings and\n",
    "    hspan = [left, right] // eg. for SBData this is: hspan = [0, 120]\n",
    "    vspan = [bottom, top] //\n",
    "    to adjust the plot to your needs.\n",
    "    -----\n",
    "    set arcs = False to not draw the penaltybox arcs\n",
    "    '''\n",
    "\n",
    "    # measures:\n",
    "    # goalcenter to post, fiveyard-box-length, fiveyard-width,\n",
    "    # box-width, penalty-spot x-distance, circle-radius\n",
    "\n",
    "\n",
    "    if measure == 'yards':\n",
    "        measures = [4, 6, 10, 18, 42, 12, 10]\n",
    "    elif (measure == 'SBData')|(measure == 'StatsBomb')|(measure == 'statsbomb')|(measure == 'SB'):\n",
    "        measures = [4, 6, 10, 18, 44, 12, 10]\n",
    "        hspan = [0, 120]\n",
    "        vspan = [0, 80]\n",
    "    elif measure == 'Opta':\n",
    "        measures = [4.8, 5.8, 13.2, 17, 57.8, 11.5, 8.71]\n",
    "        hspan = [0, 100]\n",
    "        vspan = [0, 100]\n",
    "    else: #if measure = metres or whatever else\n",
    "        measures = [3.66, 5.5, 9.16, 16.5, 40.32, 11, 9.15]\n",
    "\n",
    "    hmid = (hspan[1]+hspan[0])/2\n",
    "    vmid = (vspan[1]+vspan[0])/2\n",
    "\n",
    "    p = figure(width = width,\n",
    "        height = height,\n",
    "        x_range = Range1d(hspan[0], hspan[1]),\n",
    "        y_range = Range1d(vspan[0], vspan[1]),\n",
    "        tooltips = tooltips)\n",
    "\n",
    "    boxes = p.quad(top = [vspan[1], vmid+measures[2], vmid+measures[4]/2, vmid+measures[4]/2, vmid+measures[2]],\n",
    "           bottom = [vspan[0], vmid-measures[2], vmid-measures[4]/2, vmid-measures[4]/2, vmid-measures[2]],\n",
    "           left = [hspan[0], hspan[1]-measures[1], hspan[1]-measures[3], hspan[0]+measures[3], hspan[0]+measures[1]],\n",
    "           right = [hspan[1], hspan[1], hspan[1], hspan[0], hspan[0]],\n",
    "           color = fill_color,\n",
    "           alpha = [fill_alpha,0,0,0,0], line_width = 2,\n",
    "           line_alpha = line_alpha,\n",
    "           line_color = line_color)\n",
    "    boxes.selection_glyph = boxes.glyph\n",
    "    boxes.nonselection_glyph = boxes.glyph\n",
    "\n",
    "    #middle circle\n",
    "    p.circle(x=[hmid], y=[vmid], radius = measures[6],\n",
    "            color = line_color,\n",
    "            line_width = 2,\n",
    "            fill_alpha = 0,\n",
    "            fill_color = 'grey',\n",
    "            line_color= line_color)\n",
    "\n",
    "    if arcs == True:\n",
    "        p.arc(x=[hspan[0]+measures[5], hspan[1]-measures[5]], y=[vmid, vmid],\n",
    "            radius = measures[6],\n",
    "            start_angle = [(2*pi-np.arccos((measures[3]-measures[5])/measures[6])), pi - np.arccos((measures[3]-measures[5])/measures[6])],\n",
    "            end_angle = [np.arccos((measures[3]-measures[5])/measures[6]), pi + np.arccos((measures[3]-measures[5])/measures[6])],\n",
    "            color = line_color,\n",
    "            line_width = 2)\n",
    "\n",
    "    p.circle([hmid, hspan[1]-measures[5], hspan[0]+measures[5]], [vmid, vmid, vmid], size=5, color=line_color, alpha=1)\n",
    "    #midfield line\n",
    "    p.line([hmid, hmid], [vspan[0], vspan[1]], line_width = 2, color = line_color)\n",
    "    #goal lines\n",
    "    p.line((hspan[1],hspan[1]),(vmid+measures[0],vmid-measures[0]), line_width = 6, color = 'white')\n",
    "    p.line((hspan[0],hspan[0]),(vmid+measures[0],vmid-measures[0]), line_width = 6, color = 'white')\n",
    "    p.grid.visible = False\n",
    "    p.xaxis.visible = False\n",
    "    p.yaxis.visible = False\n",
    "\n",
    "    return p"
   ]
  },
  {
   "cell_type": "code",
   "execution_count": 35,
   "id": "ae503b38",
   "metadata": {
    "execution": {
     "iopub.execute_input": "2022-03-20T17:07:01.894725Z",
     "iopub.status.busy": "2022-03-20T17:07:01.893471Z",
     "iopub.status.idle": "2022-03-20T17:07:01.898786Z",
     "shell.execute_reply": "2022-03-20T17:07:01.899273Z",
     "shell.execute_reply.started": "2022-03-20T17:03:21.846252Z"
    },
    "papermill": {
     "duration": 0.076114,
     "end_time": "2022-03-20T17:07:01.899453",
     "exception": false,
     "start_time": "2022-03-20T17:07:01.823339",
     "status": "completed"
    },
    "tags": []
   },
   "outputs": [
    {
     "data": {
      "text/html": [
       "\n",
       "    <div class=\"bk-root\">\n",
       "        <a href=\"https://bokeh.org\" target=\"_blank\" class=\"bk-logo bk-logo-small bk-logo-notebook\"></a>\n",
       "        <span id=\"1002\">Loading BokehJS ...</span>\n",
       "    </div>"
      ]
     },
     "metadata": {},
     "output_type": "display_data"
    },
    {
     "data": {
      "application/javascript": [
       "\n",
       "(function(root) {\n",
       "  function now() {\n",
       "    return new Date();\n",
       "  }\n",
       "\n",
       "  const force = true;\n",
       "\n",
       "  if (typeof root._bokeh_onload_callbacks === \"undefined\" || force === true) {\n",
       "    root._bokeh_onload_callbacks = [];\n",
       "    root._bokeh_is_loading = undefined;\n",
       "  }\n",
       "\n",
       "  const JS_MIME_TYPE = 'application/javascript';\n",
       "  const HTML_MIME_TYPE = 'text/html';\n",
       "  const EXEC_MIME_TYPE = 'application/vnd.bokehjs_exec.v0+json';\n",
       "  const CLASS_NAME = 'output_bokeh rendered_html';\n",
       "\n",
       "  /**\n",
       "   * Render data to the DOM node\n",
       "   */\n",
       "  function render(props, node) {\n",
       "    const script = document.createElement(\"script\");\n",
       "    node.appendChild(script);\n",
       "  }\n",
       "\n",
       "  /**\n",
       "   * Handle when an output is cleared or removed\n",
       "   */\n",
       "  function handleClearOutput(event, handle) {\n",
       "    const cell = handle.cell;\n",
       "\n",
       "    const id = cell.output_area._bokeh_element_id;\n",
       "    const server_id = cell.output_area._bokeh_server_id;\n",
       "    // Clean up Bokeh references\n",
       "    if (id != null && id in Bokeh.index) {\n",
       "      Bokeh.index[id].model.document.clear();\n",
       "      delete Bokeh.index[id];\n",
       "    }\n",
       "\n",
       "    if (server_id !== undefined) {\n",
       "      // Clean up Bokeh references\n",
       "      const cmd_clean = \"from bokeh.io.state import curstate; print(curstate().uuid_to_server['\" + server_id + \"'].get_sessions()[0].document.roots[0]._id)\";\n",
       "      cell.notebook.kernel.execute(cmd_clean, {\n",
       "        iopub: {\n",
       "          output: function(msg) {\n",
       "            const id = msg.content.text.trim();\n",
       "            if (id in Bokeh.index) {\n",
       "              Bokeh.index[id].model.document.clear();\n",
       "              delete Bokeh.index[id];\n",
       "            }\n",
       "          }\n",
       "        }\n",
       "      });\n",
       "      // Destroy server and session\n",
       "      const cmd_destroy = \"import bokeh.io.notebook as ion; ion.destroy_server('\" + server_id + \"')\";\n",
       "      cell.notebook.kernel.execute(cmd_destroy);\n",
       "    }\n",
       "  }\n",
       "\n",
       "  /**\n",
       "   * Handle when a new output is added\n",
       "   */\n",
       "  function handleAddOutput(event, handle) {\n",
       "    const output_area = handle.output_area;\n",
       "    const output = handle.output;\n",
       "\n",
       "    // limit handleAddOutput to display_data with EXEC_MIME_TYPE content only\n",
       "    if ((output.output_type != \"display_data\") || (!Object.prototype.hasOwnProperty.call(output.data, EXEC_MIME_TYPE))) {\n",
       "      return\n",
       "    }\n",
       "\n",
       "    const toinsert = output_area.element.find(\".\" + CLASS_NAME.split(' ')[0]);\n",
       "\n",
       "    if (output.metadata[EXEC_MIME_TYPE][\"id\"] !== undefined) {\n",
       "      toinsert[toinsert.length - 1].firstChild.textContent = output.data[JS_MIME_TYPE];\n",
       "      // store reference to embed id on output_area\n",
       "      output_area._bokeh_element_id = output.metadata[EXEC_MIME_TYPE][\"id\"];\n",
       "    }\n",
       "    if (output.metadata[EXEC_MIME_TYPE][\"server_id\"] !== undefined) {\n",
       "      const bk_div = document.createElement(\"div\");\n",
       "      bk_div.innerHTML = output.data[HTML_MIME_TYPE];\n",
       "      const script_attrs = bk_div.children[0].attributes;\n",
       "      for (let i = 0; i < script_attrs.length; i++) {\n",
       "        toinsert[toinsert.length - 1].firstChild.setAttribute(script_attrs[i].name, script_attrs[i].value);\n",
       "        toinsert[toinsert.length - 1].firstChild.textContent = bk_div.children[0].textContent\n",
       "      }\n",
       "      // store reference to server id on output_area\n",
       "      output_area._bokeh_server_id = output.metadata[EXEC_MIME_TYPE][\"server_id\"];\n",
       "    }\n",
       "  }\n",
       "\n",
       "  function register_renderer(events, OutputArea) {\n",
       "\n",
       "    function append_mime(data, metadata, element) {\n",
       "      // create a DOM node to render to\n",
       "      const toinsert = this.create_output_subarea(\n",
       "        metadata,\n",
       "        CLASS_NAME,\n",
       "        EXEC_MIME_TYPE\n",
       "      );\n",
       "      this.keyboard_manager.register_events(toinsert);\n",
       "      // Render to node\n",
       "      const props = {data: data, metadata: metadata[EXEC_MIME_TYPE]};\n",
       "      render(props, toinsert[toinsert.length - 1]);\n",
       "      element.append(toinsert);\n",
       "      return toinsert\n",
       "    }\n",
       "\n",
       "    /* Handle when an output is cleared or removed */\n",
       "    events.on('clear_output.CodeCell', handleClearOutput);\n",
       "    events.on('delete.Cell', handleClearOutput);\n",
       "\n",
       "    /* Handle when a new output is added */\n",
       "    events.on('output_added.OutputArea', handleAddOutput);\n",
       "\n",
       "    /**\n",
       "     * Register the mime type and append_mime function with output_area\n",
       "     */\n",
       "    OutputArea.prototype.register_mime_type(EXEC_MIME_TYPE, append_mime, {\n",
       "      /* Is output safe? */\n",
       "      safe: true,\n",
       "      /* Index of renderer in `output_area.display_order` */\n",
       "      index: 0\n",
       "    });\n",
       "  }\n",
       "\n",
       "  // register the mime type if in Jupyter Notebook environment and previously unregistered\n",
       "  if (root.Jupyter !== undefined) {\n",
       "    const events = require('base/js/events');\n",
       "    const OutputArea = require('notebook/js/outputarea').OutputArea;\n",
       "\n",
       "    if (OutputArea.prototype.mime_types().indexOf(EXEC_MIME_TYPE) == -1) {\n",
       "      register_renderer(events, OutputArea);\n",
       "    }\n",
       "  }\n",
       "\n",
       "  \n",
       "  if (typeof (root._bokeh_timeout) === \"undefined\" || force === true) {\n",
       "    root._bokeh_timeout = Date.now() + 5000;\n",
       "    root._bokeh_failed_load = false;\n",
       "  }\n",
       "\n",
       "  const NB_LOAD_WARNING = {'data': {'text/html':\n",
       "     \"<div style='background-color: #fdd'>\\n\"+\n",
       "     \"<p>\\n\"+\n",
       "     \"BokehJS does not appear to have successfully loaded. If loading BokehJS from CDN, this \\n\"+\n",
       "     \"may be due to a slow or bad network connection. Possible fixes:\\n\"+\n",
       "     \"</p>\\n\"+\n",
       "     \"<ul>\\n\"+\n",
       "     \"<li>re-rerun `output_notebook()` to attempt to load from CDN again, or</li>\\n\"+\n",
       "     \"<li>use INLINE resources instead, as so:</li>\\n\"+\n",
       "     \"</ul>\\n\"+\n",
       "     \"<code>\\n\"+\n",
       "     \"from bokeh.resources import INLINE\\n\"+\n",
       "     \"output_notebook(resources=INLINE)\\n\"+\n",
       "     \"</code>\\n\"+\n",
       "     \"</div>\"}};\n",
       "\n",
       "  function display_loaded() {\n",
       "    const el = document.getElementById(\"1002\");\n",
       "    if (el != null) {\n",
       "      el.textContent = \"BokehJS is loading...\";\n",
       "    }\n",
       "    if (root.Bokeh !== undefined) {\n",
       "      if (el != null) {\n",
       "        el.textContent = \"BokehJS \" + root.Bokeh.version + \" successfully loaded.\";\n",
       "      }\n",
       "    } else if (Date.now() < root._bokeh_timeout) {\n",
       "      setTimeout(display_loaded, 100)\n",
       "    }\n",
       "  }\n",
       "\n",
       "\n",
       "  function run_callbacks() {\n",
       "    try {\n",
       "      root._bokeh_onload_callbacks.forEach(function(callback) {\n",
       "        if (callback != null)\n",
       "          callback();\n",
       "      });\n",
       "    } finally {\n",
       "      delete root._bokeh_onload_callbacks\n",
       "    }\n",
       "    console.debug(\"Bokeh: all callbacks have finished\");\n",
       "  }\n",
       "\n",
       "  function load_libs(css_urls, js_urls, callback) {\n",
       "    if (css_urls == null) css_urls = [];\n",
       "    if (js_urls == null) js_urls = [];\n",
       "\n",
       "    root._bokeh_onload_callbacks.push(callback);\n",
       "    if (root._bokeh_is_loading > 0) {\n",
       "      console.debug(\"Bokeh: BokehJS is being loaded, scheduling callback at\", now());\n",
       "      return null;\n",
       "    }\n",
       "    if (js_urls == null || js_urls.length === 0) {\n",
       "      run_callbacks();\n",
       "      return null;\n",
       "    }\n",
       "    console.debug(\"Bokeh: BokehJS not loaded, scheduling load and callback at\", now());\n",
       "    root._bokeh_is_loading = css_urls.length + js_urls.length;\n",
       "\n",
       "    function on_load() {\n",
       "      root._bokeh_is_loading--;\n",
       "      if (root._bokeh_is_loading === 0) {\n",
       "        console.debug(\"Bokeh: all BokehJS libraries/stylesheets loaded\");\n",
       "        run_callbacks()\n",
       "      }\n",
       "    }\n",
       "\n",
       "    function on_error(url) {\n",
       "      console.error(\"failed to load \" + url);\n",
       "    }\n",
       "\n",
       "    for (let i = 0; i < css_urls.length; i++) {\n",
       "      const url = css_urls[i];\n",
       "      const element = document.createElement(\"link\");\n",
       "      element.onload = on_load;\n",
       "      element.onerror = on_error.bind(null, url);\n",
       "      element.rel = \"stylesheet\";\n",
       "      element.type = \"text/css\";\n",
       "      element.href = url;\n",
       "      console.debug(\"Bokeh: injecting link tag for BokehJS stylesheet: \", url);\n",
       "      document.body.appendChild(element);\n",
       "    }\n",
       "\n",
       "    for (let i = 0; i < js_urls.length; i++) {\n",
       "      const url = js_urls[i];\n",
       "      const element = document.createElement('script');\n",
       "      element.onload = on_load;\n",
       "      element.onerror = on_error.bind(null, url);\n",
       "      element.async = false;\n",
       "      element.src = url;\n",
       "      console.debug(\"Bokeh: injecting script tag for BokehJS library: \", url);\n",
       "      document.head.appendChild(element);\n",
       "    }\n",
       "  };\n",
       "\n",
       "  function inject_raw_css(css) {\n",
       "    const element = document.createElement(\"style\");\n",
       "    element.appendChild(document.createTextNode(css));\n",
       "    document.body.appendChild(element);\n",
       "  }\n",
       "\n",
       "  \n",
       "  const js_urls = [\"https://cdn.bokeh.org/bokeh/release/bokeh-2.4.2.min.js\", \"https://cdn.bokeh.org/bokeh/release/bokeh-gl-2.4.2.min.js\", \"https://cdn.bokeh.org/bokeh/release/bokeh-widgets-2.4.2.min.js\", \"https://cdn.bokeh.org/bokeh/release/bokeh-tables-2.4.2.min.js\", \"https://cdn.bokeh.org/bokeh/release/bokeh-mathjax-2.4.2.min.js\"];\n",
       "  const css_urls = [];\n",
       "  \n",
       "\n",
       "  const inline_js = [\n",
       "    function(Bokeh) {\n",
       "      Bokeh.set_log_level(\"info\");\n",
       "    },\n",
       "    function(Bokeh) {\n",
       "    \n",
       "    \n",
       "    }\n",
       "  ];\n",
       "\n",
       "  function run_inline_js() {\n",
       "    \n",
       "    if (root.Bokeh !== undefined || force === true) {\n",
       "      \n",
       "    for (let i = 0; i < inline_js.length; i++) {\n",
       "      inline_js[i].call(root, root.Bokeh);\n",
       "    }\n",
       "    if (force === true) {\n",
       "        display_loaded();\n",
       "      }} else if (Date.now() < root._bokeh_timeout) {\n",
       "      setTimeout(run_inline_js, 100);\n",
       "    } else if (!root._bokeh_failed_load) {\n",
       "      console.log(\"Bokeh: BokehJS failed to load within specified timeout.\");\n",
       "      root._bokeh_failed_load = true;\n",
       "    } else if (force !== true) {\n",
       "      const cell = $(document.getElementById(\"1002\")).parents('.cell').data().cell;\n",
       "      cell.output_area.append_execute_result(NB_LOAD_WARNING)\n",
       "    }\n",
       "\n",
       "  }\n",
       "\n",
       "  if (root._bokeh_is_loading === 0) {\n",
       "    console.debug(\"Bokeh: BokehJS loaded, going straight to plotting\");\n",
       "    run_inline_js();\n",
       "  } else {\n",
       "    load_libs(css_urls, js_urls, function() {\n",
       "      console.debug(\"Bokeh: BokehJS plotting callback run at\", now());\n",
       "      run_inline_js();\n",
       "    });\n",
       "  }\n",
       "}(window));"
      ],
      "application/vnd.bokehjs_load.v0+json": "\n(function(root) {\n  function now() {\n    return new Date();\n  }\n\n  const force = true;\n\n  if (typeof root._bokeh_onload_callbacks === \"undefined\" || force === true) {\n    root._bokeh_onload_callbacks = [];\n    root._bokeh_is_loading = undefined;\n  }\n\n  \n\n  \n  if (typeof (root._bokeh_timeout) === \"undefined\" || force === true) {\n    root._bokeh_timeout = Date.now() + 5000;\n    root._bokeh_failed_load = false;\n  }\n\n  const NB_LOAD_WARNING = {'data': {'text/html':\n     \"<div style='background-color: #fdd'>\\n\"+\n     \"<p>\\n\"+\n     \"BokehJS does not appear to have successfully loaded. If loading BokehJS from CDN, this \\n\"+\n     \"may be due to a slow or bad network connection. Possible fixes:\\n\"+\n     \"</p>\\n\"+\n     \"<ul>\\n\"+\n     \"<li>re-rerun `output_notebook()` to attempt to load from CDN again, or</li>\\n\"+\n     \"<li>use INLINE resources instead, as so:</li>\\n\"+\n     \"</ul>\\n\"+\n     \"<code>\\n\"+\n     \"from bokeh.resources import INLINE\\n\"+\n     \"output_notebook(resources=INLINE)\\n\"+\n     \"</code>\\n\"+\n     \"</div>\"}};\n\n  function display_loaded() {\n    const el = document.getElementById(\"1002\");\n    if (el != null) {\n      el.textContent = \"BokehJS is loading...\";\n    }\n    if (root.Bokeh !== undefined) {\n      if (el != null) {\n        el.textContent = \"BokehJS \" + root.Bokeh.version + \" successfully loaded.\";\n      }\n    } else if (Date.now() < root._bokeh_timeout) {\n      setTimeout(display_loaded, 100)\n    }\n  }\n\n\n  function run_callbacks() {\n    try {\n      root._bokeh_onload_callbacks.forEach(function(callback) {\n        if (callback != null)\n          callback();\n      });\n    } finally {\n      delete root._bokeh_onload_callbacks\n    }\n    console.debug(\"Bokeh: all callbacks have finished\");\n  }\n\n  function load_libs(css_urls, js_urls, callback) {\n    if (css_urls == null) css_urls = [];\n    if (js_urls == null) js_urls = [];\n\n    root._bokeh_onload_callbacks.push(callback);\n    if (root._bokeh_is_loading > 0) {\n      console.debug(\"Bokeh: BokehJS is being loaded, scheduling callback at\", now());\n      return null;\n    }\n    if (js_urls == null || js_urls.length === 0) {\n      run_callbacks();\n      return null;\n    }\n    console.debug(\"Bokeh: BokehJS not loaded, scheduling load and callback at\", now());\n    root._bokeh_is_loading = css_urls.length + js_urls.length;\n\n    function on_load() {\n      root._bokeh_is_loading--;\n      if (root._bokeh_is_loading === 0) {\n        console.debug(\"Bokeh: all BokehJS libraries/stylesheets loaded\");\n        run_callbacks()\n      }\n    }\n\n    function on_error(url) {\n      console.error(\"failed to load \" + url);\n    }\n\n    for (let i = 0; i < css_urls.length; i++) {\n      const url = css_urls[i];\n      const element = document.createElement(\"link\");\n      element.onload = on_load;\n      element.onerror = on_error.bind(null, url);\n      element.rel = \"stylesheet\";\n      element.type = \"text/css\";\n      element.href = url;\n      console.debug(\"Bokeh: injecting link tag for BokehJS stylesheet: \", url);\n      document.body.appendChild(element);\n    }\n\n    for (let i = 0; i < js_urls.length; i++) {\n      const url = js_urls[i];\n      const element = document.createElement('script');\n      element.onload = on_load;\n      element.onerror = on_error.bind(null, url);\n      element.async = false;\n      element.src = url;\n      console.debug(\"Bokeh: injecting script tag for BokehJS library: \", url);\n      document.head.appendChild(element);\n    }\n  };\n\n  function inject_raw_css(css) {\n    const element = document.createElement(\"style\");\n    element.appendChild(document.createTextNode(css));\n    document.body.appendChild(element);\n  }\n\n  \n  const js_urls = [\"https://cdn.bokeh.org/bokeh/release/bokeh-2.4.2.min.js\", \"https://cdn.bokeh.org/bokeh/release/bokeh-gl-2.4.2.min.js\", \"https://cdn.bokeh.org/bokeh/release/bokeh-widgets-2.4.2.min.js\", \"https://cdn.bokeh.org/bokeh/release/bokeh-tables-2.4.2.min.js\", \"https://cdn.bokeh.org/bokeh/release/bokeh-mathjax-2.4.2.min.js\"];\n  const css_urls = [];\n  \n\n  const inline_js = [\n    function(Bokeh) {\n      Bokeh.set_log_level(\"info\");\n    },\n    function(Bokeh) {\n    \n    \n    }\n  ];\n\n  function run_inline_js() {\n    \n    if (root.Bokeh !== undefined || force === true) {\n      \n    for (let i = 0; i < inline_js.length; i++) {\n      inline_js[i].call(root, root.Bokeh);\n    }\n    if (force === true) {\n        display_loaded();\n      }} else if (Date.now() < root._bokeh_timeout) {\n      setTimeout(run_inline_js, 100);\n    } else if (!root._bokeh_failed_load) {\n      console.log(\"Bokeh: BokehJS failed to load within specified timeout.\");\n      root._bokeh_failed_load = true;\n    } else if (force !== true) {\n      const cell = $(document.getElementById(\"1002\")).parents('.cell').data().cell;\n      cell.output_area.append_execute_result(NB_LOAD_WARNING)\n    }\n\n  }\n\n  if (root._bokeh_is_loading === 0) {\n    console.debug(\"Bokeh: BokehJS loaded, going straight to plotting\");\n    run_inline_js();\n  } else {\n    load_libs(css_urls, js_urls, function() {\n      console.debug(\"Bokeh: BokehJS plotting callback run at\", now());\n      run_inline_js();\n    });\n  }\n}(window));"
     },
     "metadata": {},
     "output_type": "display_data"
    }
   ],
   "source": [
    "output_notebook()"
   ]
  },
  {
   "cell_type": "code",
   "execution_count": 36,
   "id": "b4c51d2f",
   "metadata": {
    "execution": {
     "iopub.execute_input": "2022-03-20T17:07:02.032527Z",
     "iopub.status.busy": "2022-03-20T17:07:02.030762Z",
     "iopub.status.idle": "2022-03-20T17:07:02.035404Z",
     "shell.execute_reply": "2022-03-20T17:07:02.034773Z",
     "shell.execute_reply.started": "2022-03-20T17:03:21.860376Z"
    },
    "papermill": {
     "duration": 0.072751,
     "end_time": "2022-03-20T17:07:02.035540",
     "exception": false,
     "start_time": "2022-03-20T17:07:01.962789",
     "status": "completed"
    },
    "tags": []
   },
   "outputs": [],
   "source": [
    "new_index = random_point[x_pos].T.index.to_list()\n",
    "new_index = [index.strip(\"_x\") for index in new_index]"
   ]
  },
  {
   "cell_type": "code",
   "execution_count": 37,
   "id": "26fc8cb0",
   "metadata": {
    "execution": {
     "iopub.execute_input": "2022-03-20T17:07:02.167787Z",
     "iopub.status.busy": "2022-03-20T17:07:02.166779Z",
     "iopub.status.idle": "2022-03-20T17:07:02.177644Z",
     "shell.execute_reply": "2022-03-20T17:07:02.178142Z",
     "shell.execute_reply.started": "2022-03-20T17:03:21.869959Z"
    },
    "papermill": {
     "duration": 0.078822,
     "end_time": "2022-03-20T17:07:02.178333",
     "exception": false,
     "start_time": "2022-03-20T17:07:02.099511",
     "status": "completed"
    },
    "tags": []
   },
   "outputs": [],
   "source": [
    "positions = random_point[x_pos].T\n",
    "positions.index = new_index\n",
    "positions.columns = [\"x\"]\n",
    "positions[\"y\"] = random_point[y_pos].T.to_numpy()\n",
    "positions[\"type\"] = random_point[type_cols].T.to_numpy()\n",
    "positions[\"id\"] = random_point[id_cols].T.to_numpy()"
   ]
  },
  {
   "cell_type": "code",
   "execution_count": 38,
   "id": "e7dd5a24",
   "metadata": {
    "execution": {
     "iopub.execute_input": "2022-03-20T17:07:02.310140Z",
     "iopub.status.busy": "2022-03-20T17:07:02.309303Z",
     "iopub.status.idle": "2022-03-20T17:07:02.311846Z",
     "shell.execute_reply": "2022-03-20T17:07:02.311312Z",
     "shell.execute_reply.started": "2022-03-20T17:03:21.893557Z"
    },
    "papermill": {
     "duration": 0.071469,
     "end_time": "2022-03-20T17:07:02.311996",
     "exception": false,
     "start_time": "2022-03-20T17:07:02.240527",
     "status": "completed"
    },
    "tags": []
   },
   "outputs": [],
   "source": [
    "ball_pos = positions.iloc[0]\n",
    "positions = positions.iloc[1:]\n",
    "positions[\"name\"] = positions[\"id\"].map(player_map)"
   ]
  },
  {
   "cell_type": "code",
   "execution_count": 39,
   "id": "ebb637b4",
   "metadata": {
    "execution": {
     "iopub.execute_input": "2022-03-20T17:07:02.439731Z",
     "iopub.status.busy": "2022-03-20T17:07:02.439023Z",
     "iopub.status.idle": "2022-03-20T17:07:02.445186Z",
     "shell.execute_reply": "2022-03-20T17:07:02.445769Z",
     "shell.execute_reply.started": "2022-03-20T17:03:21.907005Z"
    },
    "papermill": {
     "duration": 0.07226,
     "end_time": "2022-03-20T17:07:02.445947",
     "exception": false,
     "start_time": "2022-03-20T17:07:02.373687",
     "status": "completed"
    },
    "tags": []
   },
   "outputs": [],
   "source": [
    "positions['x'] = length / 2.0 + positions['x']\n",
    "positions['y'] = width / 2.0 + positions['y']\n",
    "positions['type'] = positions['type'].apply(lambda x: -1 if x is None else int(x))"
   ]
  },
  {
   "cell_type": "code",
   "execution_count": 40,
   "id": "711c7acf",
   "metadata": {
    "execution": {
     "iopub.execute_input": "2022-03-20T17:07:02.572352Z",
     "iopub.status.busy": "2022-03-20T17:07:02.571610Z",
     "iopub.status.idle": "2022-03-20T17:07:02.577288Z",
     "shell.execute_reply": "2022-03-20T17:07:02.577906Z",
     "shell.execute_reply.started": "2022-03-20T17:03:21.921616Z"
    },
    "papermill": {
     "duration": 0.070367,
     "end_time": "2022-03-20T17:07:02.578097",
     "exception": false,
     "start_time": "2022-03-20T17:07:02.507730",
     "status": "completed"
    },
    "tags": []
   },
   "outputs": [],
   "source": [
    "home = positions[positions['type'] == 0]\n",
    "away = positions[positions['type'] == 1]"
   ]
  },
  {
   "cell_type": "code",
   "execution_count": 41,
   "id": "2bb9d82f",
   "metadata": {
    "execution": {
     "iopub.execute_input": "2022-03-20T17:07:02.706982Z",
     "iopub.status.busy": "2022-03-20T17:07:02.706276Z",
     "iopub.status.idle": "2022-03-20T17:07:03.145181Z",
     "shell.execute_reply": "2022-03-20T17:07:03.144610Z",
     "shell.execute_reply.started": "2022-03-20T17:05:24.139290Z"
    },
    "papermill": {
     "duration": 0.503969,
     "end_time": "2022-03-20T17:07:03.145332",
     "exception": false,
     "start_time": "2022-03-20T17:07:02.641363",
     "status": "completed"
    },
    "tags": []
   },
   "outputs": [
    {
     "data": {
      "text/html": [
       "\n",
       "\n",
       "\n",
       "\n",
       "\n",
       "\n",
       "  <div class=\"bk-root\" id=\"c7638f1b-4f80-4611-a427-ad932d22dc69\" data-root-id=\"1007\"></div>\n"
      ]
     },
     "metadata": {},
     "output_type": "display_data"
    },
    {
     "data": {
      "application/javascript": [
       "(function(root) {\n",
       "  function embed_document(root) {\n",
       "    \n",
       "  const docs_json = {\"2696b39a-9fc7-4223-b16b-2c34fad4cb66\":{\"defs\":[],\"roots\":{\"references\":[{\"attributes\":{\"below\":[{\"id\":\"1014\"}],\"center\":[{\"id\":\"1017\"},{\"id\":\"1021\"}],\"height\":500,\"left\":[{\"id\":\"1018\"}],\"renderers\":[{\"id\":\"1042\"},{\"id\":\"1048\"},{\"id\":\"1054\"},{\"id\":\"1060\"},{\"id\":\"1066\"},{\"id\":\"1072\"},{\"id\":\"1078\"},{\"id\":\"1084\"},{\"id\":\"1090\"}],\"title\":{\"id\":\"1092\"},\"toolbar\":{\"id\":\"1030\"},\"width\":700,\"x_range\":{\"id\":\"1005\"},\"x_scale\":{\"id\":\"1010\"},\"y_range\":{\"id\":\"1006\"},\"y_scale\":{\"id\":\"1012\"}},\"id\":\"1007\",\"subtype\":\"Figure\",\"type\":\"Plot\"},{\"attributes\":{\"fill_alpha\":{\"value\":0.2},\"fill_color\":{\"value\":\"white\"},\"hatch_alpha\":{\"value\":0.2},\"hatch_color\":{\"value\":\"white\"},\"line_alpha\":{\"value\":0.2},\"line_color\":{\"value\":\"white\"},\"size\":{\"value\":5},\"x\":{\"field\":\"x\"},\"y\":{\"field\":\"y\"}},\"id\":\"1059\",\"type\":\"Circle\"},{\"attributes\":{},\"id\":\"1113\",\"type\":\"Selection\"},{\"attributes\":{\"source\":{\"id\":\"1056\"}},\"id\":\"1061\",\"type\":\"CDSView\"},{\"attributes\":{},\"id\":\"1107\",\"type\":\"Selection\"},{\"attributes\":{\"data\":{\"x\":[52.5,94,11],\"y\":[34.0,34.0,34.0]},\"selected\":{\"id\":\"1107\"},\"selection_policy\":{\"id\":\"1106\"}},\"id\":\"1056\",\"type\":\"ColumnDataSource\"},{\"attributes\":{},\"id\":\"1106\",\"type\":\"UnionRenderers\"},{\"attributes\":{},\"id\":\"1109\",\"type\":\"Selection\"},{\"attributes\":{\"fill_alpha\":{\"value\":0},\"fill_color\":{\"value\":\"grey\"},\"hatch_color\":{\"value\":\"white\"},\"line_color\":{\"value\":\"white\"},\"line_width\":{\"value\":2},\"radius\":{\"value\":9.15},\"x\":{\"field\":\"x\"},\"y\":{\"field\":\"y\"}},\"id\":\"1045\",\"type\":\"Circle\"},{\"attributes\":{\"end_angle\":{\"field\":\"end_angle\"},\"line_alpha\":{\"value\":0.2},\"line_color\":{\"value\":\"white\"},\"line_width\":{\"value\":2},\"radius\":{\"value\":9.15},\"start_angle\":{\"field\":\"start_angle\"},\"x\":{\"field\":\"x\"},\"y\":{\"field\":\"y\"}},\"id\":\"1053\",\"type\":\"Arc\"},{\"attributes\":{\"fill_color\":{\"value\":\"white\"},\"hatch_color\":{\"value\":\"white\"},\"line_color\":{\"value\":\"white\"},\"size\":{\"value\":5},\"x\":{\"field\":\"x\"},\"y\":{\"field\":\"y\"}},\"id\":\"1057\",\"type\":\"Circle\"},{\"attributes\":{},\"id\":\"1108\",\"type\":\"UnionRenderers\"},{\"attributes\":{},\"id\":\"1116\",\"type\":\"UnionRenderers\"},{\"attributes\":{\"end_angle\":{\"field\":\"end_angle\"},\"line_color\":{\"value\":\"white\"},\"line_width\":{\"value\":2},\"radius\":{\"value\":9.15},\"start_angle\":{\"field\":\"start_angle\"},\"x\":{\"field\":\"x\"},\"y\":{\"field\":\"y\"}},\"id\":\"1051\",\"type\":\"Arc\"},{\"attributes\":{},\"id\":\"1111\",\"type\":\"Selection\"},{\"attributes\":{\"coordinates\":null,\"group\":null},\"id\":\"1092\",\"type\":\"Title\"},{\"attributes\":{\"bottom_units\":\"screen\",\"coordinates\":null,\"fill_alpha\":0.5,\"fill_color\":\"lightgrey\",\"group\":null,\"left_units\":\"screen\",\"level\":\"overlay\",\"line_alpha\":1.0,\"line_color\":\"black\",\"line_dash\":[4,4],\"line_width\":2,\"right_units\":\"screen\",\"syncable\":false,\"top_units\":\"screen\"},\"id\":\"1028\",\"type\":\"BoxAnnotation\"},{\"attributes\":{\"bottom\":{\"field\":\"bottom\"},\"fill_alpha\":{\"field\":\"fill_alpha\"},\"fill_color\":{\"value\":\"green\"},\"hatch_alpha\":{\"field\":\"hatch_alpha\"},\"hatch_color\":{\"value\":\"green\"},\"left\":{\"field\":\"left\"},\"line_color\":{\"value\":\"white\"},\"line_width\":{\"value\":2},\"right\":{\"field\":\"right\"},\"top\":{\"field\":\"top\"}},\"id\":\"1039\",\"type\":\"Quad\"},{\"attributes\":{},\"id\":\"1022\",\"type\":\"PanTool\"},{\"attributes\":{},\"id\":\"1105\",\"type\":\"Selection\"},{\"attributes\":{\"tools\":[{\"id\":\"1022\"},{\"id\":\"1023\"},{\"id\":\"1024\"},{\"id\":\"1025\"},{\"id\":\"1026\"},{\"id\":\"1027\"},{\"id\":\"1029\"}]},\"id\":\"1030\",\"type\":\"Toolbar\"},{\"attributes\":{\"coordinates\":null,\"formatter\":{\"id\":\"1095\"},\"group\":null,\"major_label_policy\":{\"id\":\"1096\"},\"ticker\":{\"id\":\"1019\"},\"visible\":false},\"id\":\"1018\",\"type\":\"LinearAxis\"},{\"attributes\":{},\"id\":\"1103\",\"type\":\"Selection\"},{\"attributes\":{\"overlay\":{\"id\":\"1028\"}},\"id\":\"1024\",\"type\":\"BoxZoomTool\"},{\"attributes\":{},\"id\":\"1112\",\"type\":\"UnionRenderers\"},{\"attributes\":{},\"id\":\"1025\",\"type\":\"SaveTool\"},{\"attributes\":{\"fill_alpha\":{\"value\":0.1},\"fill_color\":{\"value\":\"white\"},\"hatch_alpha\":{\"value\":0.1},\"hatch_color\":{\"value\":\"white\"},\"line_alpha\":{\"value\":0.1},\"line_color\":{\"value\":\"white\"},\"size\":{\"value\":5},\"x\":{\"field\":\"x\"},\"y\":{\"field\":\"y\"}},\"id\":\"1058\",\"type\":\"Circle\"},{\"attributes\":{},\"id\":\"1100\",\"type\":\"UnionRenderers\"},{\"attributes\":{\"coordinates\":null,\"data_source\":{\"id\":\"1056\"},\"glyph\":{\"id\":\"1057\"},\"group\":null,\"hover_glyph\":null,\"muted_glyph\":{\"id\":\"1059\"},\"nonselection_glyph\":{\"id\":\"1058\"},\"view\":{\"id\":\"1061\"}},\"id\":\"1060\",\"type\":\"GlyphRenderer\"},{\"attributes\":{\"source\":{\"id\":\"1044\"}},\"id\":\"1049\",\"type\":\"CDSView\"},{\"attributes\":{},\"id\":\"1026\",\"type\":\"ResetTool\"},{\"attributes\":{\"data\":{\"bottom\":[0,24.84,13.84,13.84,24.84],\"fill_alpha\":[0.5,0,0,0,0],\"hatch_alpha\":[0.5,0,0,0,0],\"left\":[0,99.5,88.5,16.5,5.5],\"right\":[105,105,105,0,0],\"top\":[68,43.16,54.16,54.16,43.16]},\"selected\":{\"id\":\"1101\"},\"selection_policy\":{\"id\":\"1100\"}},\"id\":\"1038\",\"type\":\"ColumnDataSource\"},{\"attributes\":{},\"id\":\"1027\",\"type\":\"HelpTool\"},{\"attributes\":{},\"id\":\"1110\",\"type\":\"UnionRenderers\"},{\"attributes\":{\"fill_alpha\":{\"value\":0.2},\"fill_color\":{\"value\":\"grey\"},\"hatch_alpha\":{\"value\":0.2},\"hatch_color\":{\"value\":\"white\"},\"line_alpha\":{\"value\":0.2},\"line_color\":{\"value\":\"white\"},\"line_width\":{\"value\":2},\"radius\":{\"value\":9.15},\"x\":{\"field\":\"x\"},\"y\":{\"field\":\"y\"}},\"id\":\"1047\",\"type\":\"Circle\"},{\"attributes\":{},\"id\":\"1098\",\"type\":\"BasicTickFormatter\"},{\"attributes\":{\"data\":{\"id\":[\"102221\",\"250101045\",\"250012939\",\"250097244\",\"103769\",\"250130512\",\"250065203\",\"250076590\",\"250012942\",\"250103444\"],\"index\":[\"player1\",\"player2\",\"player4\",\"player7\",\"player20\",\"player24\",\"player25\",\"player28\",\"player29\",\"player30\"],\"name\":[\"Chris Gunter\",\"Joe Rodon\",\"Danny Ward\",\"Connor Roberts\",\"Aaron Ramsey\",\"Kieffer Moore\",\"Harry Wilson\",\"David Brooks\",\"Ben Davies\",\"Dylan Levitt\"],\"type\":[1,1,1,1,1,1,1,1,1,1],\"x\":{\"__ndarray__\":\"kML1KFxPMUCuR+F6FG4yQMD1KFyPwg9ArkfhehQuNEDsUbgehWszQIXrUbgeRUFAMzMzMzMzPUBxPQrXo7A8QB+F61G43jlASOF6FK7HMkA=\",\"dtype\":\"float64\",\"order\":\"little\",\"shape\":[10]},\"y\":{\"__ndarray__\":\"ZmZmZmZmREB7FK5H4TpAQI/C9Shcr0FAexSuR+G6O0CuR+F6FI5IQHA9CtejEElAHoXrUbjeTUBI4XoUroc+QDMzMzMz805ArkfhehQOTUA=\",\"dtype\":\"float64\",\"order\":\"little\",\"shape\":[10]}},\"selected\":{\"id\":\"1117\"},\"selection_policy\":{\"id\":\"1116\"}},\"id\":\"1004\",\"type\":\"ColumnDataSource\"},{\"attributes\":{\"line_color\":\"white\",\"line_width\":2,\"x\":{\"field\":\"x\"},\"y\":{\"field\":\"y\"}},\"id\":\"1063\",\"type\":\"Line\"},{\"attributes\":{\"data\":{\"x\":[52.5],\"y\":[34.0]},\"selected\":{\"id\":\"1103\"},\"selection_policy\":{\"id\":\"1102\"}},\"id\":\"1044\",\"type\":\"ColumnDataSource\"},{\"attributes\":{},\"id\":\"1023\",\"type\":\"WheelZoomTool\"},{\"attributes\":{\"coordinates\":null,\"data_source\":{\"id\":\"1038\"},\"glyph\":{\"id\":\"1039\"},\"group\":null,\"hover_glyph\":null,\"muted_glyph\":{\"id\":\"1041\"},\"nonselection_glyph\":{\"id\":\"1039\"},\"selection_glyph\":{\"id\":\"1039\"},\"view\":{\"id\":\"1043\"}},\"id\":\"1042\",\"type\":\"GlyphRenderer\"},{\"attributes\":{\"fill_alpha\":{\"value\":0.5},\"fill_color\":{\"value\":\"red\"},\"hatch_color\":{\"value\":\"red\"},\"line_color\":{\"value\":\"red\"},\"size\":{\"value\":8},\"x\":{\"field\":\"x\"},\"y\":{\"field\":\"y\"}},\"id\":\"1081\",\"type\":\"Circle\"},{\"attributes\":{\"data\":{\"end_angle\":[0.9259283967824675,4.06752105037226],\"start_angle\":[5.357256910397119,2.2156642568073255],\"x\":[11,94],\"y\":[34.0,34.0]},\"selected\":{\"id\":\"1105\"},\"selection_policy\":{\"id\":\"1104\"}},\"id\":\"1050\",\"type\":\"ColumnDataSource\"},{\"attributes\":{},\"id\":\"1104\",\"type\":\"UnionRenderers\"},{\"attributes\":{},\"id\":\"1115\",\"type\":\"Selection\"},{\"attributes\":{\"source\":{\"id\":\"1038\"}},\"id\":\"1043\",\"type\":\"CDSView\"},{\"attributes\":{},\"id\":\"1114\",\"type\":\"UnionRenderers\"},{\"attributes\":{},\"id\":\"1117\",\"type\":\"Selection\"},{\"attributes\":{},\"id\":\"1101\",\"type\":\"Selection\"},{\"attributes\":{\"end_angle\":{\"field\":\"end_angle\"},\"line_alpha\":{\"value\":0.1},\"line_color\":{\"value\":\"white\"},\"line_width\":{\"value\":2},\"radius\":{\"value\":9.15},\"start_angle\":{\"field\":\"start_angle\"},\"x\":{\"field\":\"x\"},\"y\":{\"field\":\"y\"}},\"id\":\"1052\",\"type\":\"Arc\"},{\"attributes\":{},\"id\":\"1102\",\"type\":\"UnionRenderers\"},{\"attributes\":{\"bottom\":{\"field\":\"bottom\"},\"fill_alpha\":{\"value\":0.2},\"fill_color\":{\"value\":\"green\"},\"hatch_alpha\":{\"value\":0.2},\"hatch_color\":{\"value\":\"green\"},\"left\":{\"field\":\"left\"},\"line_alpha\":{\"value\":0.2},\"line_color\":{\"value\":\"white\"},\"line_width\":{\"value\":2},\"right\":{\"field\":\"right\"},\"top\":{\"field\":\"top\"}},\"id\":\"1041\",\"type\":\"Quad\"},{\"attributes\":{\"source\":{\"id\":\"1050\"}},\"id\":\"1055\",\"type\":\"CDSView\"},{\"attributes\":{\"coordinates\":null,\"data_source\":{\"id\":\"1050\"},\"glyph\":{\"id\":\"1051\"},\"group\":null,\"hover_glyph\":null,\"muted_glyph\":{\"id\":\"1053\"},\"nonselection_glyph\":{\"id\":\"1052\"},\"view\":{\"id\":\"1055\"}},\"id\":\"1054\",\"type\":\"GlyphRenderer\"},{\"attributes\":{\"fill_alpha\":{\"value\":0.1},\"fill_color\":{\"value\":\"grey\"},\"hatch_alpha\":{\"value\":0.1},\"hatch_color\":{\"value\":\"white\"},\"line_alpha\":{\"value\":0.1},\"line_color\":{\"value\":\"white\"},\"line_width\":{\"value\":2},\"radius\":{\"value\":9.15},\"x\":{\"field\":\"x\"},\"y\":{\"field\":\"y\"}},\"id\":\"1046\",\"type\":\"Circle\"},{\"attributes\":{\"coordinates\":null,\"data_source\":{\"id\":\"1044\"},\"glyph\":{\"id\":\"1045\"},\"group\":null,\"hover_glyph\":null,\"muted_glyph\":{\"id\":\"1047\"},\"nonselection_glyph\":{\"id\":\"1046\"},\"view\":{\"id\":\"1049\"}},\"id\":\"1048\",\"type\":\"GlyphRenderer\"},{\"attributes\":{},\"id\":\"1099\",\"type\":\"AllLabels\"},{\"attributes\":{\"coordinates\":null,\"formatter\":{\"id\":\"1098\"},\"group\":null,\"major_label_policy\":{\"id\":\"1099\"},\"ticker\":{\"id\":\"1015\"},\"visible\":false},\"id\":\"1014\",\"type\":\"LinearAxis\"},{\"attributes\":{\"coordinates\":null,\"data_source\":{\"id\":\"1068\"},\"glyph\":{\"id\":\"1069\"},\"group\":null,\"hover_glyph\":null,\"muted_glyph\":{\"id\":\"1071\"},\"nonselection_glyph\":{\"id\":\"1070\"},\"view\":{\"id\":\"1073\"}},\"id\":\"1072\",\"type\":\"GlyphRenderer\"},{\"attributes\":{\"data\":{\"x\":[52.5,52.5],\"y\":[0,68]},\"selected\":{\"id\":\"1109\"},\"selection_policy\":{\"id\":\"1108\"}},\"id\":\"1062\",\"type\":\"ColumnDataSource\"},{\"attributes\":{\"source\":{\"id\":\"1003\"}},\"id\":\"1085\",\"type\":\"CDSView\"},{\"attributes\":{\"coordinates\":null,\"data_source\":{\"id\":\"1074\"},\"glyph\":{\"id\":\"1075\"},\"group\":null,\"hover_glyph\":null,\"muted_glyph\":{\"id\":\"1077\"},\"nonselection_glyph\":{\"id\":\"1076\"},\"view\":{\"id\":\"1079\"}},\"id\":\"1078\",\"type\":\"GlyphRenderer\"},{\"attributes\":{\"end\":105},\"id\":\"1005\",\"type\":\"Range1d\"},{\"attributes\":{\"source\":{\"id\":\"1004\"}},\"id\":\"1091\",\"type\":\"CDSView\"},{\"attributes\":{\"line_color\":\"white\",\"line_width\":6,\"x\":{\"field\":\"x\"},\"y\":{\"field\":\"y\"}},\"id\":\"1069\",\"type\":\"Line\"},{\"attributes\":{\"fill_alpha\":{\"value\":0.5},\"fill_color\":{\"value\":\"yellow\"},\"hatch_color\":{\"value\":\"yellow\"},\"line_color\":{\"value\":\"yellow\"},\"size\":{\"value\":8},\"x\":{\"field\":\"x\"},\"y\":{\"field\":\"y\"}},\"id\":\"1087\",\"type\":\"Circle\"},{\"attributes\":{\"fill_alpha\":{\"value\":0.2},\"fill_color\":{\"value\":\"yellow\"},\"hatch_alpha\":{\"value\":0.2},\"hatch_color\":{\"value\":\"yellow\"},\"line_alpha\":{\"value\":0.2},\"line_color\":{\"value\":\"yellow\"},\"size\":{\"value\":8},\"x\":{\"field\":\"x\"},\"y\":{\"field\":\"y\"}},\"id\":\"1089\",\"type\":\"Circle\"},{\"attributes\":{\"source\":{\"id\":\"1062\"}},\"id\":\"1067\",\"type\":\"CDSView\"},{\"attributes\":{\"line_alpha\":0.1,\"line_color\":\"white\",\"line_width\":2,\"x\":{\"field\":\"x\"},\"y\":{\"field\":\"y\"}},\"id\":\"1064\",\"type\":\"Line\"},{\"attributes\":{\"data\":{\"x\":[0,0],\"y\":[37.66,30.34]},\"selected\":{\"id\":\"1113\"},\"selection_policy\":{\"id\":\"1112\"}},\"id\":\"1074\",\"type\":\"ColumnDataSource\"},{\"attributes\":{\"coordinates\":null,\"data_source\":{\"id\":\"1062\"},\"glyph\":{\"id\":\"1063\"},\"group\":null,\"hover_glyph\":null,\"muted_glyph\":{\"id\":\"1065\"},\"nonselection_glyph\":{\"id\":\"1064\"},\"view\":{\"id\":\"1067\"}},\"id\":\"1066\",\"type\":\"GlyphRenderer\"},{\"attributes\":{\"data\":{\"x\":[105,105],\"y\":[37.66,30.34]},\"selected\":{\"id\":\"1111\"},\"selection_policy\":{\"id\":\"1110\"}},\"id\":\"1068\",\"type\":\"ColumnDataSource\"},{\"attributes\":{\"line_alpha\":0.1,\"line_color\":\"white\",\"line_width\":6,\"x\":{\"field\":\"x\"},\"y\":{\"field\":\"y\"}},\"id\":\"1070\",\"type\":\"Line\"},{\"attributes\":{},\"id\":\"1019\",\"type\":\"BasicTicker\"},{\"attributes\":{},\"id\":\"1010\",\"type\":\"LinearScale\"},{\"attributes\":{\"axis\":{\"id\":\"1018\"},\"coordinates\":null,\"dimension\":1,\"group\":null,\"ticker\":null,\"visible\":false},\"id\":\"1021\",\"type\":\"Grid\"},{\"attributes\":{},\"id\":\"1096\",\"type\":\"AllLabels\"},{\"attributes\":{\"coordinates\":null,\"data_source\":{\"id\":\"1004\"},\"glyph\":{\"id\":\"1087\"},\"group\":null,\"hover_glyph\":null,\"muted_glyph\":{\"id\":\"1089\"},\"nonselection_glyph\":{\"id\":\"1088\"},\"view\":{\"id\":\"1091\"}},\"id\":\"1090\",\"type\":\"GlyphRenderer\"},{\"attributes\":{\"line_alpha\":0.2,\"line_color\":\"white\",\"line_width\":2,\"x\":{\"field\":\"x\"},\"y\":{\"field\":\"y\"}},\"id\":\"1065\",\"type\":\"Line\"},{\"attributes\":{\"source\":{\"id\":\"1074\"}},\"id\":\"1079\",\"type\":\"CDSView\"},{\"attributes\":{\"axis\":{\"id\":\"1014\"},\"coordinates\":null,\"group\":null,\"ticker\":null,\"visible\":false},\"id\":\"1017\",\"type\":\"Grid\"},{\"attributes\":{\"line_alpha\":0.1,\"line_color\":\"white\",\"line_width\":6,\"x\":{\"field\":\"x\"},\"y\":{\"field\":\"y\"}},\"id\":\"1076\",\"type\":\"Line\"},{\"attributes\":{\"data\":{\"id\":[\"250112488\",\"250006200\",\"250100056\",\"250090398\",\"250091199\",\"250050378\",\"250078922\",\"250052957\",\"250041741\",\"250105617\",\"250138434\"],\"index\":[\"player3\",\"player10\",\"player11\",\"player15\",\"player18\",\"player19\",\"player22\",\"player23\",\"player26\",\"player27\",\"player31\"],\"name\":[\"Rafael Tol\\u00f3i\",\"Marco Verratti\",\"Emerson\",\"Federico Chiesa\",\"Alessandro Bastoni\",\"Andrea Belotti\",\"Gianluigi Donnarumma\",\"Francesco Acerbi\",\"Bryan Cristante\",\"Giacomo Raspadori\",\"Gaetano Castrovilli\"],\"type\":[0,0,0,0,0,0,0,0,0,0,0],\"x\":{\"__ndarray__\":\"cT0K16PwNUA+CtejcF1EQOJ6FK5HQUFAPQrXo3C9P0B7FK5H4XpIQB+F61G4HjZAPgrXo3CNU0AK16NwPQpIQAAAAAAAgERASOF6FK6HNUCQwvUoXE80QA==\",\"dtype\":\"float64\",\"order\":\"little\",\"shape\":[11]},\"y\":{\"__ndarray__\":\"uB6F61F4SkDNzMzMzAw2QPYoXI/C9SlAXI/C9ShcTkDhehSuR6E6QJqZmZmZWUNAPgrXo3A9OkCF61G4HoVFQGZmZmZmZklASOF6FK7HPED2KFyPwjVQQA==\",\"dtype\":\"float64\",\"order\":\"little\",\"shape\":[11]}},\"selected\":{\"id\":\"1115\"},\"selection_policy\":{\"id\":\"1114\"}},\"id\":\"1003\",\"type\":\"ColumnDataSource\"},{\"attributes\":{\"fill_alpha\":{\"value\":0.1},\"fill_color\":{\"value\":\"red\"},\"hatch_alpha\":{\"value\":0.1},\"hatch_color\":{\"value\":\"red\"},\"line_alpha\":{\"value\":0.1},\"line_color\":{\"value\":\"red\"},\"size\":{\"value\":8},\"x\":{\"field\":\"x\"},\"y\":{\"field\":\"y\"}},\"id\":\"1082\",\"type\":\"Circle\"},{\"attributes\":{},\"id\":\"1095\",\"type\":\"BasicTickFormatter\"},{\"attributes\":{\"line_color\":\"white\",\"line_width\":6,\"x\":{\"field\":\"x\"},\"y\":{\"field\":\"y\"}},\"id\":\"1075\",\"type\":\"Line\"},{\"attributes\":{\"end\":68},\"id\":\"1006\",\"type\":\"Range1d\"},{\"attributes\":{\"fill_alpha\":{\"value\":0.2},\"fill_color\":{\"value\":\"red\"},\"hatch_alpha\":{\"value\":0.2},\"hatch_color\":{\"value\":\"red\"},\"line_alpha\":{\"value\":0.2},\"line_color\":{\"value\":\"red\"},\"size\":{\"value\":8},\"x\":{\"field\":\"x\"},\"y\":{\"field\":\"y\"}},\"id\":\"1083\",\"type\":\"Circle\"},{\"attributes\":{},\"id\":\"1015\",\"type\":\"BasicTicker\"},{\"attributes\":{\"fill_alpha\":{\"value\":0.1},\"fill_color\":{\"value\":\"yellow\"},\"hatch_alpha\":{\"value\":0.1},\"hatch_color\":{\"value\":\"yellow\"},\"line_alpha\":{\"value\":0.1},\"line_color\":{\"value\":\"yellow\"},\"size\":{\"value\":8},\"x\":{\"field\":\"x\"},\"y\":{\"field\":\"y\"}},\"id\":\"1088\",\"type\":\"Circle\"},{\"attributes\":{},\"id\":\"1012\",\"type\":\"LinearScale\"},{\"attributes\":{\"coordinates\":null,\"data_source\":{\"id\":\"1003\"},\"glyph\":{\"id\":\"1081\"},\"group\":null,\"hover_glyph\":null,\"muted_glyph\":{\"id\":\"1083\"},\"nonselection_glyph\":{\"id\":\"1082\"},\"view\":{\"id\":\"1085\"}},\"id\":\"1084\",\"type\":\"GlyphRenderer\"},{\"attributes\":{\"callback\":null,\"tooltips\":[[\"name\",\"@name\"],[\"(x,y)\",\"($x, $y)\"]]},\"id\":\"1029\",\"type\":\"HoverTool\"},{\"attributes\":{\"line_alpha\":0.2,\"line_color\":\"white\",\"line_width\":6,\"x\":{\"field\":\"x\"},\"y\":{\"field\":\"y\"}},\"id\":\"1077\",\"type\":\"Line\"},{\"attributes\":{\"source\":{\"id\":\"1068\"}},\"id\":\"1073\",\"type\":\"CDSView\"},{\"attributes\":{\"line_alpha\":0.2,\"line_color\":\"white\",\"line_width\":6,\"x\":{\"field\":\"x\"},\"y\":{\"field\":\"y\"}},\"id\":\"1071\",\"type\":\"Line\"}],\"root_ids\":[\"1007\"]},\"title\":\"Bokeh Application\",\"version\":\"2.4.2\"}};\n",
       "  const render_items = [{\"docid\":\"2696b39a-9fc7-4223-b16b-2c34fad4cb66\",\"root_ids\":[\"1007\"],\"roots\":{\"1007\":\"c7638f1b-4f80-4611-a427-ad932d22dc69\"}}];\n",
       "  root.Bokeh.embed.embed_items_notebook(docs_json, render_items);\n",
       "\n",
       "  }\n",
       "  if (root.Bokeh !== undefined) {\n",
       "    embed_document(root);\n",
       "  } else {\n",
       "    let attempts = 0;\n",
       "    const timer = setInterval(function(root) {\n",
       "      if (root.Bokeh !== undefined) {\n",
       "        clearInterval(timer);\n",
       "        embed_document(root);\n",
       "      } else {\n",
       "        attempts++;\n",
       "        if (attempts > 100) {\n",
       "          clearInterval(timer);\n",
       "          console.log(\"Bokeh: ERROR: Unable to run BokehJS code because BokehJS library is missing\");\n",
       "        }\n",
       "      }\n",
       "    }, 10, root)\n",
       "  }\n",
       "})(window);"
      ],
      "application/vnd.bokehjs_exec.v0+json": ""
     },
     "metadata": {
      "application/vnd.bokehjs_exec.v0+json": {
       "id": "1007"
      }
     },
     "output_type": "display_data"
    }
   ],
   "source": [
    "TOOLTIPS = [\n",
    "    (\"name\", \"@name\"),\n",
    "    (\"(x,y)\", \"($x, $y)\"),\n",
    "]\n",
    "Italy = ColumnDataSource(home)\n",
    "Wales = ColumnDataSource(away)\n",
    "p = draw_pitch(tooltips = TOOLTIPS)\n",
    "p.circle(x=\"x\", y=\"y\", size=8, fill_alpha=0.5, color=\"red\",source=Italy)\n",
    "p.circle(x=\"x\", y=\"y\", size=8, fill_alpha=0.5, color=\"yellow\",source=Wales)\n",
    "output_file(\"interactive_pitch.html\")\n",
    "show(p)"
   ]
  },
  {
   "cell_type": "code",
   "execution_count": null,
   "id": "796b92cb",
   "metadata": {
    "papermill": {
     "duration": 0.064161,
     "end_time": "2022-03-20T17:07:03.276222",
     "exception": false,
     "start_time": "2022-03-20T17:07:03.212061",
     "status": "completed"
    },
    "tags": []
   },
   "outputs": [],
   "source": []
  }
 ],
 "metadata": {
  "kernelspec": {
   "display_name": "Python 3",
   "language": "python",
   "name": "python3"
  },
  "language_info": {
   "codemirror_mode": {
    "name": "ipython",
    "version": 3
   },
   "file_extension": ".py",
   "mimetype": "text/x-python",
   "name": "python",
   "nbconvert_exporter": "python",
   "pygments_lexer": "ipython3",
   "version": "3.7.12"
  },
  "papermill": {
   "default_parameters": {},
   "duration": 62.896941,
   "end_time": "2022-03-20T17:07:04.251462",
   "environment_variables": {},
   "exception": null,
   "input_path": "__notebook__.ipynb",
   "output_path": "__notebook__.ipynb",
   "parameters": {},
   "start_time": "2022-03-20T17:06:01.354521",
   "version": "2.3.3"
  }
 },
 "nbformat": 4,
 "nbformat_minor": 5
}
