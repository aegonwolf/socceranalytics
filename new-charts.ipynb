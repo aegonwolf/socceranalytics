{
 "cells": [
  {
   "cell_type": "code",
   "execution_count": 1,
   "id": "df870c5a",
   "metadata": {
    "execution": {
     "iopub.execute_input": "2022-05-25T13:50:49.232889Z",
     "iopub.status.busy": "2022-05-25T13:50:49.231936Z",
     "iopub.status.idle": "2022-05-25T13:51:11.852956Z",
     "shell.execute_reply": "2022-05-25T13:51:11.852121Z",
     "shell.execute_reply.started": "2022-05-25T11:38:10.065667Z"
    },
    "papermill": {
     "duration": 22.685014,
     "end_time": "2022-05-25T13:51:11.853127",
     "exception": false,
     "start_time": "2022-05-25T13:50:49.168113",
     "status": "completed"
    },
    "tags": []
   },
   "outputs": [
    {
     "name": "stdout",
     "output_type": "stream",
     "text": [
      "Collecting tables\r\n",
      "  Downloading tables-3.7.0-cp37-cp37m-manylinux_2_17_x86_64.manylinux2014_x86_64.whl (5.9 MB)\r\n",
      "     |████████████████████████████████| 5.9 MB 2.3 MB/s            \r\n",
      "\u001b[?25hRequirement already satisfied: packaging in /opt/conda/lib/python3.7/site-packages (from tables) (21.3)\r\n",
      "Requirement already satisfied: numpy>=1.19.0 in /opt/conda/lib/python3.7/site-packages (from tables) (1.20.3)\r\n",
      "Requirement already satisfied: numexpr>=2.6.2 in /opt/conda/lib/python3.7/site-packages (from tables) (2.8.1)\r\n",
      "Requirement already satisfied: pyparsing!=3.0.5,>=2.0.2 in /opt/conda/lib/python3.7/site-packages (from packaging->tables) (3.0.6)\r\n",
      "Installing collected packages: tables\r\n",
      "Successfully installed tables-3.7.0\r\n",
      "\u001b[33mWARNING: Running pip as the 'root' user can result in broken permissions and conflicting behaviour with the system package manager. It is recommended to use a virtual environment instead: https://pip.pypa.io/warnings/venv\u001b[0m\r\n",
      "Collecting mplsoccer\r\n",
      "  Downloading mplsoccer-1.0.6.tar.gz (58 kB)\r\n",
      "     |████████████████████████████████| 58 kB 1.5 MB/s             \r\n",
      "\u001b[?25h  Preparing metadata (setup.py) ... \u001b[?25l-\b \bdone\r\n",
      "\u001b[?25hRequirement already satisfied: matplotlib in /opt/conda/lib/python3.7/site-packages (from mplsoccer) (3.5.1)\r\n",
      "Requirement already satisfied: seaborn in /opt/conda/lib/python3.7/site-packages (from mplsoccer) (0.11.2)\r\n",
      "Requirement already satisfied: scipy in /opt/conda/lib/python3.7/site-packages (from mplsoccer) (1.7.3)\r\n",
      "Requirement already satisfied: pandas in /opt/conda/lib/python3.7/site-packages (from mplsoccer) (1.3.5)\r\n",
      "Requirement already satisfied: pillow in /opt/conda/lib/python3.7/site-packages (from mplsoccer) (8.2.0)\r\n",
      "Requirement already satisfied: numpy in /opt/conda/lib/python3.7/site-packages (from mplsoccer) (1.20.3)\r\n",
      "Requirement already satisfied: beautifulsoup4 in /opt/conda/lib/python3.7/site-packages (from mplsoccer) (4.10.0)\r\n",
      "Requirement already satisfied: soupsieve>1.2 in /opt/conda/lib/python3.7/site-packages (from beautifulsoup4->mplsoccer) (2.3.1)\r\n",
      "Requirement already satisfied: python-dateutil>=2.7 in /opt/conda/lib/python3.7/site-packages (from matplotlib->mplsoccer) (2.8.2)\r\n",
      "Requirement already satisfied: cycler>=0.10 in /opt/conda/lib/python3.7/site-packages (from matplotlib->mplsoccer) (0.11.0)\r\n",
      "Requirement already satisfied: kiwisolver>=1.0.1 in /opt/conda/lib/python3.7/site-packages (from matplotlib->mplsoccer) (1.3.2)\r\n",
      "Requirement already satisfied: pyparsing>=2.2.1 in /opt/conda/lib/python3.7/site-packages (from matplotlib->mplsoccer) (3.0.6)\r\n",
      "Requirement already satisfied: fonttools>=4.22.0 in /opt/conda/lib/python3.7/site-packages (from matplotlib->mplsoccer) (4.28.4)\r\n",
      "Requirement already satisfied: packaging>=20.0 in /opt/conda/lib/python3.7/site-packages (from matplotlib->mplsoccer) (21.3)\r\n",
      "Requirement already satisfied: pytz>=2017.3 in /opt/conda/lib/python3.7/site-packages (from pandas->mplsoccer) (2021.3)\r\n",
      "Requirement already satisfied: six>=1.5 in /opt/conda/lib/python3.7/site-packages (from python-dateutil>=2.7->matplotlib->mplsoccer) (1.16.0)\r\n",
      "Building wheels for collected packages: mplsoccer\r\n",
      "  Building wheel for mplsoccer (setup.py) ... \u001b[?25l-\b \b\\\b \bdone\r\n",
      "\u001b[?25h  Created wheel for mplsoccer: filename=mplsoccer-1.0.6-py3-none-any.whl size=62946 sha256=41529f3ecea2967ae63d301d1d70d948abe6a105785ec214487e7aee3bf311e5\r\n",
      "  Stored in directory: /root/.cache/pip/wheels/ff/fc/ed/09e6cb7c61780f5462f1dfd1df7d1fabef0123ced961ac0738\r\n",
      "Successfully built mplsoccer\r\n",
      "Installing collected packages: mplsoccer\r\n",
      "Successfully installed mplsoccer-1.0.6\r\n",
      "\u001b[33mWARNING: Running pip as the 'root' user can result in broken permissions and conflicting behaviour with the system package manager. It is recommended to use a virtual environment instead: https://pip.pypa.io/warnings/venv\u001b[0m\r\n"
     ]
    }
   ],
   "source": [
    "!pip install tables\n",
    "!pip install mplsoccer"
   ]
  },
  {
   "cell_type": "code",
   "execution_count": 2,
   "id": "9d69e1f6",
   "metadata": {
    "execution": {
     "iopub.execute_input": "2022-05-25T13:51:11.987098Z",
     "iopub.status.busy": "2022-05-25T13:51:11.982378Z",
     "iopub.status.idle": "2022-05-25T13:52:59.030550Z",
     "shell.execute_reply": "2022-05-25T13:52:59.029852Z",
     "shell.execute_reply.started": "2022-05-25T12:15:01.603553Z"
    },
    "papermill": {
     "duration": 107.116041,
     "end_time": "2022-05-25T13:52:59.030726",
     "exception": false,
     "start_time": "2022-05-25T13:51:11.914685",
     "status": "completed"
    },
    "tags": []
   },
   "outputs": [
    {
     "name": "stdout",
     "output_type": "stream",
     "text": [
      "Collecting hdbscan\r\n",
      "  Downloading hdbscan-0.8.28.tar.gz (5.2 MB)\r\n",
      "     |████████████████████████████████| 5.2 MB 2.3 MB/s            \r\n",
      "\u001b[?25h  Installing build dependencies ... \u001b[?25l-\b \b\\\b \b|\b \b/\b \b-\b \b\\\b \b|\b \b/\b \bdone\r\n",
      "\u001b[?25h  Getting requirements to build wheel ... \u001b[?25l-\b \b\\\b \b|\b \b/\b \bdone\r\n",
      "\u001b[?25h  Preparing metadata (pyproject.toml) ... \u001b[?25l-\b \b\\\b \b|\b \b/\b \bdone\r\n",
      "\u001b[?25hRequirement already satisfied: joblib>=1.0 in /opt/conda/lib/python3.7/site-packages (from hdbscan) (1.1.0)\r\n",
      "Requirement already satisfied: scikit-learn>=0.20 in /opt/conda/lib/python3.7/site-packages (from hdbscan) (1.0.1)\r\n",
      "Requirement already satisfied: scipy>=1.0 in /opt/conda/lib/python3.7/site-packages (from hdbscan) (1.7.3)\r\n",
      "Requirement already satisfied: cython>=0.27 in /opt/conda/lib/python3.7/site-packages (from hdbscan) (0.29.28)\r\n",
      "Requirement already satisfied: numpy>=1.20 in /opt/conda/lib/python3.7/site-packages (from hdbscan) (1.20.3)\r\n",
      "Requirement already satisfied: threadpoolctl>=2.0.0 in /opt/conda/lib/python3.7/site-packages (from scikit-learn>=0.20->hdbscan) (3.0.0)\r\n",
      "Building wheels for collected packages: hdbscan\r\n",
      "  Building wheel for hdbscan (pyproject.toml) ... \u001b[?25l-\b \b\\\b \b|\b \b/\b \b-\b \b\\\b \b|\b \b/\b \b-\b \b\\\b \b|\b \b/\b \b-\b \b\\\b \b|\b \b/\b \b-\b \b\\\b \b|\b \b/\b \b-\b \b\\\b \b|\b \b/\b \b-\b \b\\\b \b|\b \b/\b \b-\b \b\\\b \b|\b \bdone\r\n",
      "\u001b[?25h  Created wheel for hdbscan: filename=hdbscan-0.8.28-cp37-cp37m-linux_x86_64.whl size=3428484 sha256=82c88e5603af04aa3997fbbc5bf93b5131ea0dc6865da2a45fbf44f3c293cd81\r\n",
      "  Stored in directory: /root/.cache/pip/wheels/6e/7a/5e/259ccc841c085fc41b99ef4a71e896b62f5161f2bc8a14c97a\r\n",
      "Successfully built hdbscan\r\n",
      "Installing collected packages: hdbscan\r\n",
      "Successfully installed hdbscan-0.8.28\r\n",
      "\u001b[33mWARNING: Running pip as the 'root' user can result in broken permissions and conflicting behaviour with the system package manager. It is recommended to use a virtual environment instead: https://pip.pypa.io/warnings/venv\u001b[0m\r\n"
     ]
    }
   ],
   "source": [
    "!pip install hdbscan"
   ]
  },
  {
   "cell_type": "code",
   "execution_count": 3,
   "id": "2d497c4c",
   "metadata": {
    "_cell_guid": "b1076dfc-b9ad-4769-8c92-a6c4dae69d19",
    "_uuid": "8f2839f25d086af736a60e9eeb907d3b93b6e0e5",
    "execution": {
     "iopub.execute_input": "2022-05-25T13:52:59.204289Z",
     "iopub.status.busy": "2022-05-25T13:52:59.203653Z",
     "iopub.status.idle": "2022-05-25T13:53:00.325569Z",
     "shell.execute_reply": "2022-05-25T13:53:00.324569Z",
     "shell.execute_reply.started": "2022-05-25T11:39:29.447489Z"
    },
    "papermill": {
     "duration": 1.211511,
     "end_time": "2022-05-25T13:53:00.325809",
     "exception": false,
     "start_time": "2022-05-25T13:52:59.114298",
     "status": "completed"
    },
    "tags": []
   },
   "outputs": [],
   "source": [
    "import pandas as pd\n",
    "import numpy as np\n",
    "import seaborn as sns\n",
    "import matplotlib.pyplot as plt\n",
    "from matplotlib.patches import Arc\n",
    "import bz2\n",
    "from glob import glob\n",
    "import imageio\n",
    "import json\n",
    "import os"
   ]
  },
  {
   "cell_type": "code",
   "execution_count": 4,
   "id": "e785dd13",
   "metadata": {
    "execution": {
     "iopub.execute_input": "2022-05-25T13:53:00.517371Z",
     "iopub.status.busy": "2022-05-25T13:53:00.515831Z",
     "iopub.status.idle": "2022-05-25T13:53:00.519647Z",
     "shell.execute_reply": "2022-05-25T13:53:00.520205Z",
     "shell.execute_reply.started": "2022-05-25T11:41:37.683006Z"
    },
    "papermill": {
     "duration": 0.11121,
     "end_time": "2022-05-25T13:53:00.520391",
     "exception": false,
     "start_time": "2022-05-25T13:53:00.409181",
     "status": "completed"
    },
    "tags": []
   },
   "outputs": [],
   "source": [
    "def create_pitch(length, width, linecolor, bounds = 15):\n",
    "\n",
    "    \"\"\"\n",
    "    mainly stolen from fc python\n",
    "    param length: an int the length of the field\n",
    "    param width: an int the height of the field\n",
    "    param linecolor: the color of the lines\n",
    "\"\"\"\n",
    "    #Create figure\n",
    "    fig=plt.figure()\n",
    "    #fig.set_size_inches(7, 5)\n",
    "    ax=fig.add_subplot(1,1,1)\n",
    "\n",
    "    #Pitch Outline & Centre Line\n",
    "    plt.plot([0,0],[0,width], color=linecolor)\n",
    "    plt.plot([0,length],[width,width], color=linecolor)\n",
    "    plt.plot([length,length],[width,0], color=linecolor)\n",
    "    plt.plot([length,0],[0,0], color=linecolor)\n",
    "    plt.plot([length/2,length/2],[0,width], color=linecolor)\n",
    "    plt.fill_between(x = [-bounds, length+bounds],\n",
    "                     y1 = [width+bounds, width + bounds],\n",
    "                     y2 = [-bounds, -bounds], color='green')\n",
    "\n",
    "    #Left Penalty Area\n",
    "    plt.plot([16.5 ,16.5],[(width/2 +16.5),(width/2-16.5)],color=linecolor)\n",
    "    plt.plot([0,16.5],[(width/2 +16.5),(width/2 +16.5)],color=linecolor)\n",
    "    plt.plot([16.5,0],[(width/2 -16.5),(width/2 -16.5)],color=linecolor)\n",
    "\n",
    "    #Right Penalty Area\n",
    "    plt.plot([(length-16.5),length],[(width/2 +16.5),(width/2 +16.5)],color=linecolor)\n",
    "    plt.plot([(length-16.5), (length-16.5)],[(width/2 +16.5),(width/2-16.5)],color=linecolor)\n",
    "    plt.plot([(length-16.5),length],[(width/2 -16.5),(width/2 -16.5)],color=linecolor)\n",
    "\n",
    "    #Left 5-meters Box\n",
    "    plt.plot([0,5.5],[(width/2+7.32/2+5.5),(width/2+7.32/2+5.5)],color=linecolor)\n",
    "    plt.plot([5.5,5.5],[(width/2+7.32/2+5.5),(width/2-7.32/2-5.5)],color=linecolor)\n",
    "    plt.plot([5.5,0.5],[(width/2-7.32/2-5.5),(width/2-7.32/2-5.5)],color=linecolor)\n",
    "\n",
    "    #Right 5-meters Box\n",
    "    plt.plot([length,length-5.5],[(width/2+7.32/2+5.5),(width/2+7.32/2+5.5)],color=linecolor)\n",
    "    plt.plot([length-5.5,length-5.5],[(width/2+7.32/2+5.5),width/2-7.32/2-5.5],color=linecolor)\n",
    "    plt.plot([length-5.5,length],[width/2-7.32/2-5.5,width/2-7.32/2-5.5],color=linecolor)\n",
    "\n",
    "    #Prepare Circles\n",
    "    centreCircle = plt.Circle((length/2,width/2),9.15,color=linecolor,fill=False)\n",
    "    centreSpot = plt.Circle((length/2,width/2),0.8,color=linecolor)\n",
    "    leftPenSpot = plt.Circle((11,width/2),0.8,color=linecolor)\n",
    "    rightPenSpot = plt.Circle((length-11,width/2),0.8,color=linecolor)\n",
    "\n",
    "    #Draw Circles\n",
    "    ax.add_patch(centreCircle)\n",
    "    ax.add_patch(centreSpot)\n",
    "    ax.add_patch(leftPenSpot)\n",
    "    ax.add_patch(rightPenSpot)\n",
    "\n",
    "    #Prepare Arcs\n",
    "    leftArc = Arc((11,width/2),height=18.3,width=18.3,angle=0,theta1=308,theta2=52,color=linecolor)\n",
    "    rightArc = Arc((length-11,width/2),height=18.3,width=18.3,angle=0,theta1=128,theta2=232,color=linecolor)\n",
    "\n",
    "    #Draw Arcs\n",
    "    ax.add_patch(leftArc)\n",
    "    ax.add_patch(rightArc)\n",
    "            #Axis titles\n",
    "    #Tidy Axes\n",
    "    plt.axis('off')\n",
    "    \n",
    "    return fig,ax"
   ]
  },
  {
   "cell_type": "code",
   "execution_count": 5,
   "id": "bbf25e63",
   "metadata": {
    "execution": {
     "iopub.execute_input": "2022-05-25T13:53:00.690867Z",
     "iopub.status.busy": "2022-05-25T13:53:00.690145Z",
     "iopub.status.idle": "2022-05-25T13:53:00.700799Z",
     "shell.execute_reply": "2022-05-25T13:53:00.701309Z",
     "shell.execute_reply.started": "2022-05-25T11:41:37.877822Z"
    },
    "papermill": {
     "duration": 0.097479,
     "end_time": "2022-05-25T13:53:00.701474",
     "exception": false,
     "start_time": "2022-05-25T13:53:00.603995",
     "status": "completed"
    },
    "tags": []
   },
   "outputs": [],
   "source": [
    "data_path = '../input/socceranalytics/events/events/'\n",
    "team = 'Italy'\n",
    "json_matches_path = '../input/socceranalytics/matches.json'\n",
    "\n",
    "def all_matches(team, data_path):\n",
    "    match_ids = get_all_matchids(team)\n",
    "    all_team_df, dfs = get_all_matchdfs(match_ids, data_path)\n",
    "    return all_team_df, dfs\n",
    "\n",
    "def get_all_matchids(team):\n",
    "    '''\n",
    "    given a team name i.e. \"Italy\", returns a list of all match_ids by italy\n",
    "    '''\n",
    "    with open(json_matches_path) as f:\n",
    "        data = json.load(f)\n",
    "        matches = pd.json_normalize(data, sep = \"_\")\n",
    "    #get mask for team\n",
    "    mask = (matches[\"home_team_home_team_name\"] == team) | (matches[\"away_team_away_team_name\"] == team)\n",
    "    team_matches = matches[mask]\n",
    "    match_ids = []\n",
    "    for match in team_matches.match_id:\n",
    "        match_ids.append(match)\n",
    "    return match_ids\n",
    "\n",
    "def get_all_matchdfs(match_ids, data_path):\n",
    "    '''\n",
    "    takes a list of matches and a datapath to all match_data and returns\n",
    "    a concatenated dataframe + a dictionary of dataframes \n",
    "    with all dataframes for those match_ids\n",
    "    param: match_ids, list of strings match_ids\n",
    "    param: data_path, string, path to json files\n",
    "    '''\n",
    "    dfs = dict()\n",
    "    for match_id in match_ids:\n",
    "        zipfile = bz2.BZ2File(data_path + f\"{match_id}.json.bz2\")\n",
    "        file = zipfile.read()\n",
    "        open(f\"{match_id}.json\", 'wb').write(file)\n",
    "        with open(f\"{match_id}.json\") as f:\n",
    "            events = json.load(f)\n",
    "            df = pd.json_normalize(events[2:], sep = \"_\")\n",
    "            df['match_id'] = match_id\n",
    "            dfs[match_id] = df\n",
    "    match_dfs = []\n",
    "    for key, df in dfs.items():\n",
    "        match_dfs.append(df)\n",
    "    return pd.concat(match_dfs), dfs"
   ]
  },
  {
   "cell_type": "code",
   "execution_count": 6,
   "id": "f0595c75",
   "metadata": {
    "execution": {
     "iopub.execute_input": "2022-05-25T13:53:00.874171Z",
     "iopub.status.busy": "2022-05-25T13:53:00.873424Z",
     "iopub.status.idle": "2022-05-25T13:53:00.878183Z",
     "shell.execute_reply": "2022-05-25T13:53:00.877649Z",
     "shell.execute_reply.started": "2022-05-25T11:42:13.484890Z"
    },
    "papermill": {
     "duration": 0.090462,
     "end_time": "2022-05-25T13:53:00.878335",
     "exception": false,
     "start_time": "2022-05-25T13:53:00.787873",
     "status": "completed"
    },
    "tags": []
   },
   "outputs": [],
   "source": [
    "def time_to_mins(timestring):\n",
    "    minute = list(map(float, timestring.split(\":\")))[1]\n",
    "    return minute"
   ]
  },
  {
   "cell_type": "code",
   "execution_count": 7,
   "id": "cb4661d7",
   "metadata": {
    "execution": {
     "iopub.execute_input": "2022-05-25T13:53:01.052388Z",
     "iopub.status.busy": "2022-05-25T13:53:01.051463Z",
     "iopub.status.idle": "2022-05-25T13:53:04.999224Z",
     "shell.execute_reply": "2022-05-25T13:53:04.999759Z",
     "shell.execute_reply.started": "2022-05-25T11:41:38.055483Z"
    },
    "papermill": {
     "duration": 4.035833,
     "end_time": "2022-05-25T13:53:04.999942",
     "exception": false,
     "start_time": "2022-05-25T13:53:00.964109",
     "status": "completed"
    },
    "tags": []
   },
   "outputs": [],
   "source": [
    "all_italy_df, dfs = all_matches('Italy', data_path)"
   ]
  },
  {
   "cell_type": "code",
   "execution_count": 8,
   "id": "c9221e82",
   "metadata": {
    "execution": {
     "iopub.execute_input": "2022-05-25T13:53:05.170796Z",
     "iopub.status.busy": "2022-05-25T13:53:05.170116Z",
     "iopub.status.idle": "2022-05-25T13:53:06.734243Z",
     "shell.execute_reply": "2022-05-25T13:53:06.733699Z",
     "shell.execute_reply.started": "2022-05-25T11:41:41.878701Z"
    },
    "papermill": {
     "duration": 1.651682,
     "end_time": "2022-05-25T13:53:06.734393",
     "exception": false,
     "start_time": "2022-05-25T13:53:05.082711",
     "status": "completed"
    },
    "tags": []
   },
   "outputs": [],
   "source": [
    "all_wales_df, dfs_w = all_matches('Wales', data_path)"
   ]
  },
  {
   "cell_type": "code",
   "execution_count": 9,
   "id": "d5be06f5",
   "metadata": {
    "execution": {
     "iopub.execute_input": "2022-05-25T13:53:06.908154Z",
     "iopub.status.busy": "2022-05-25T13:53:06.907415Z",
     "iopub.status.idle": "2022-05-25T13:53:06.920744Z",
     "shell.execute_reply": "2022-05-25T13:53:06.920080Z",
     "shell.execute_reply.started": "2022-05-25T11:41:43.459076Z"
    },
    "papermill": {
     "duration": 0.101539,
     "end_time": "2022-05-25T13:53:06.920894",
     "exception": false,
     "start_time": "2022-05-25T13:53:06.819355",
     "status": "completed"
    },
    "tags": []
   },
   "outputs": [],
   "source": [
    "with open('../input/socceranalytics/matches.json') as f:\n",
    "    data = json.load(f)\n",
    "    matches = pd.json_normalize(data, sep = \"_\")\n",
    "    \n",
    "to_drop = ['away_team_away_team_gender',\n",
    "           'home_team_home_team_gender',\n",
    "           'competition_country_name',\n",
    "           'competition_competition_id',\n",
    "           'last_updated_360',\n",
    "           'last_updated',\n",
    "           'season_season_name',\n",
    "           'competition_competition_name',\n",
    "           'competition_competition_id',\n",
    "           'match_status',\n",
    "           'metadata_shot_fidelity_version',\n",
    "           'match_week']\n",
    "matches = matches.drop(to_drop, axis=1)"
   ]
  },
  {
   "cell_type": "code",
   "execution_count": 10,
   "id": "3dead3ee",
   "metadata": {
    "execution": {
     "iopub.execute_input": "2022-05-25T13:53:07.098576Z",
     "iopub.status.busy": "2022-05-25T13:53:07.097951Z",
     "iopub.status.idle": "2022-05-25T13:53:07.121621Z",
     "shell.execute_reply": "2022-05-25T13:53:07.121006Z",
     "shell.execute_reply.started": "2022-05-25T11:41:43.477378Z"
    },
    "papermill": {
     "duration": 0.11705,
     "end_time": "2022-05-25T13:53:07.121755",
     "exception": false,
     "start_time": "2022-05-25T13:53:07.004705",
     "status": "completed"
    },
    "tags": []
   },
   "outputs": [
    {
     "data": {
      "text/html": [
       "<div>\n",
       "<style scoped>\n",
       "    .dataframe tbody tr th:only-of-type {\n",
       "        vertical-align: middle;\n",
       "    }\n",
       "\n",
       "    .dataframe tbody tr th {\n",
       "        vertical-align: top;\n",
       "    }\n",
       "\n",
       "    .dataframe thead th {\n",
       "        text-align: right;\n",
       "    }\n",
       "</style>\n",
       "<table border=\"1\" class=\"dataframe\">\n",
       "  <thead>\n",
       "    <tr style=\"text-align: right;\">\n",
       "      <th></th>\n",
       "      <th>match_id</th>\n",
       "      <th>match_date</th>\n",
       "      <th>kick_off</th>\n",
       "      <th>home_score</th>\n",
       "      <th>away_score</th>\n",
       "      <th>match_status_360</th>\n",
       "      <th>season_season_id</th>\n",
       "      <th>home_team_home_team_id</th>\n",
       "      <th>home_team_home_team_name</th>\n",
       "      <th>home_team_home_team_group</th>\n",
       "      <th>...</th>\n",
       "      <th>competition_stage_id</th>\n",
       "      <th>competition_stage_name</th>\n",
       "      <th>stadium_id</th>\n",
       "      <th>stadium_name</th>\n",
       "      <th>stadium_country_id</th>\n",
       "      <th>stadium_country_name</th>\n",
       "      <th>referee_id</th>\n",
       "      <th>referee_name</th>\n",
       "      <th>referee_country_id</th>\n",
       "      <th>referee_country_name</th>\n",
       "    </tr>\n",
       "  </thead>\n",
       "  <tbody>\n",
       "    <tr>\n",
       "      <th>0</th>\n",
       "      <td>3788753</td>\n",
       "      <td>2021-06-16</td>\n",
       "      <td>15:00:00.000</td>\n",
       "      <td>0</td>\n",
       "      <td>1</td>\n",
       "      <td>available</td>\n",
       "      <td>43</td>\n",
       "      <td>1835</td>\n",
       "      <td>Finland</td>\n",
       "      <td>Group B</td>\n",
       "      <td>...</td>\n",
       "      <td>10</td>\n",
       "      <td>Group Stage</td>\n",
       "      <td>4726</td>\n",
       "      <td>Saint-Petersburg Stadium</td>\n",
       "      <td>188</td>\n",
       "      <td>Russia</td>\n",
       "      <td>293</td>\n",
       "      <td>Danny Desmond Makkelie</td>\n",
       "      <td>160</td>\n",
       "      <td>Netherlands</td>\n",
       "    </tr>\n",
       "    <tr>\n",
       "      <th>1</th>\n",
       "      <td>3788765</td>\n",
       "      <td>2021-06-20</td>\n",
       "      <td>18:00:00.000</td>\n",
       "      <td>3</td>\n",
       "      <td>1</td>\n",
       "      <td>available</td>\n",
       "      <td>43</td>\n",
       "      <td>773</td>\n",
       "      <td>Switzerland</td>\n",
       "      <td>Group A</td>\n",
       "      <td>...</td>\n",
       "      <td>10</td>\n",
       "      <td>Group Stage</td>\n",
       "      <td>4549</td>\n",
       "      <td>Bakı Olimpiya Stadionu</td>\n",
       "      <td>16</td>\n",
       "      <td>Azerbaijan</td>\n",
       "      <td>943</td>\n",
       "      <td>Slavko Vinčić</td>\n",
       "      <td>208</td>\n",
       "      <td>Slovenia</td>\n",
       "    </tr>\n",
       "    <tr>\n",
       "      <th>2</th>\n",
       "      <td>3795107</td>\n",
       "      <td>2021-07-02</td>\n",
       "      <td>21:00:00.000</td>\n",
       "      <td>1</td>\n",
       "      <td>2</td>\n",
       "      <td>available</td>\n",
       "      <td>43</td>\n",
       "      <td>782</td>\n",
       "      <td>Belgium</td>\n",
       "      <td>None</td>\n",
       "      <td>...</td>\n",
       "      <td>11</td>\n",
       "      <td>Quarter-finals</td>\n",
       "      <td>4867</td>\n",
       "      <td>Allianz Arena (München)</td>\n",
       "      <td>85</td>\n",
       "      <td>Germany</td>\n",
       "      <td>943</td>\n",
       "      <td>Slavko Vinčić</td>\n",
       "      <td>208</td>\n",
       "      <td>Slovenia</td>\n",
       "    </tr>\n",
       "    <tr>\n",
       "      <th>3</th>\n",
       "      <td>3795221</td>\n",
       "      <td>2021-07-07</td>\n",
       "      <td>21:00:00.000</td>\n",
       "      <td>2</td>\n",
       "      <td>1</td>\n",
       "      <td>available</td>\n",
       "      <td>43</td>\n",
       "      <td>768</td>\n",
       "      <td>England</td>\n",
       "      <td>None</td>\n",
       "      <td>...</td>\n",
       "      <td>15</td>\n",
       "      <td>Semi-finals</td>\n",
       "      <td>4666</td>\n",
       "      <td>Wembley Stadium (London)</td>\n",
       "      <td>68</td>\n",
       "      <td>England</td>\n",
       "      <td>293</td>\n",
       "      <td>Danny Desmond Makkelie</td>\n",
       "      <td>160</td>\n",
       "      <td>Netherlands</td>\n",
       "    </tr>\n",
       "    <tr>\n",
       "      <th>4</th>\n",
       "      <td>3795506</td>\n",
       "      <td>2021-07-11</td>\n",
       "      <td>21:00:00.000</td>\n",
       "      <td>1</td>\n",
       "      <td>1</td>\n",
       "      <td>available</td>\n",
       "      <td>43</td>\n",
       "      <td>914</td>\n",
       "      <td>Italy</td>\n",
       "      <td>None</td>\n",
       "      <td>...</td>\n",
       "      <td>26</td>\n",
       "      <td>Final</td>\n",
       "      <td>4666</td>\n",
       "      <td>Wembley Stadium (London)</td>\n",
       "      <td>68</td>\n",
       "      <td>England</td>\n",
       "      <td>287</td>\n",
       "      <td>Björn Kuipers</td>\n",
       "      <td>160</td>\n",
       "      <td>Netherlands</td>\n",
       "    </tr>\n",
       "  </tbody>\n",
       "</table>\n",
       "<p>5 rows × 31 columns</p>\n",
       "</div>"
      ],
      "text/plain": [
       "   match_id  match_date      kick_off  home_score  away_score  \\\n",
       "0   3788753  2021-06-16  15:00:00.000           0           1   \n",
       "1   3788765  2021-06-20  18:00:00.000           3           1   \n",
       "2   3795107  2021-07-02  21:00:00.000           1           2   \n",
       "3   3795221  2021-07-07  21:00:00.000           2           1   \n",
       "4   3795506  2021-07-11  21:00:00.000           1           1   \n",
       "\n",
       "  match_status_360  season_season_id  home_team_home_team_id  \\\n",
       "0        available                43                    1835   \n",
       "1        available                43                     773   \n",
       "2        available                43                     782   \n",
       "3        available                43                     768   \n",
       "4        available                43                     914   \n",
       "\n",
       "  home_team_home_team_name home_team_home_team_group  ...  \\\n",
       "0                  Finland                   Group B  ...   \n",
       "1              Switzerland                   Group A  ...   \n",
       "2                  Belgium                      None  ...   \n",
       "3                  England                      None  ...   \n",
       "4                    Italy                      None  ...   \n",
       "\n",
       "   competition_stage_id competition_stage_name stadium_id  \\\n",
       "0                    10            Group Stage       4726   \n",
       "1                    10            Group Stage       4549   \n",
       "2                    11         Quarter-finals       4867   \n",
       "3                    15            Semi-finals       4666   \n",
       "4                    26                  Final       4666   \n",
       "\n",
       "               stadium_name stadium_country_id stadium_country_name  \\\n",
       "0  Saint-Petersburg Stadium                188               Russia   \n",
       "1    Bakı Olimpiya Stadionu                 16           Azerbaijan   \n",
       "2   Allianz Arena (München)                 85              Germany   \n",
       "3  Wembley Stadium (London)                 68              England   \n",
       "4  Wembley Stadium (London)                 68              England   \n",
       "\n",
       "   referee_id            referee_name referee_country_id referee_country_name  \n",
       "0         293  Danny Desmond Makkelie                160          Netherlands  \n",
       "1         943           Slavko Vinčić                208             Slovenia  \n",
       "2         943           Slavko Vinčić                208             Slovenia  \n",
       "3         293  Danny Desmond Makkelie                160          Netherlands  \n",
       "4         287           Björn Kuipers                160          Netherlands  \n",
       "\n",
       "[5 rows x 31 columns]"
      ]
     },
     "execution_count": 10,
     "metadata": {},
     "output_type": "execute_result"
    }
   ],
   "source": [
    "matches.head()"
   ]
  },
  {
   "cell_type": "code",
   "execution_count": 11,
   "id": "6d213277",
   "metadata": {
    "execution": {
     "iopub.execute_input": "2022-05-25T13:53:07.290568Z",
     "iopub.status.busy": "2022-05-25T13:53:07.289981Z",
     "iopub.status.idle": "2022-05-25T13:53:07.302711Z",
     "shell.execute_reply": "2022-05-25T13:53:07.303228Z",
     "shell.execute_reply.started": "2022-05-25T11:41:43.504445Z"
    },
    "papermill": {
     "duration": 0.098484,
     "end_time": "2022-05-25T13:53:07.303392",
     "exception": false,
     "start_time": "2022-05-25T13:53:07.204908",
     "status": "completed"
    },
    "tags": []
   },
   "outputs": [
    {
     "data": {
      "text/plain": [
       "(51, 27)"
      ]
     },
     "execution_count": 11,
     "metadata": {},
     "output_type": "execute_result"
    }
   ],
   "source": [
    "#drop 0 variance columns\n",
    "matches.loc[:, (matches != matches.iloc[0]).any()].shape"
   ]
  },
  {
   "cell_type": "code",
   "execution_count": 12,
   "id": "f19c2747",
   "metadata": {
    "execution": {
     "iopub.execute_input": "2022-05-25T13:53:07.473377Z",
     "iopub.status.busy": "2022-05-25T13:53:07.472762Z",
     "iopub.status.idle": "2022-05-25T13:53:07.479220Z",
     "shell.execute_reply": "2022-05-25T13:53:07.479803Z",
     "shell.execute_reply.started": "2022-05-25T11:41:48.772287Z"
    },
    "papermill": {
     "duration": 0.092741,
     "end_time": "2022-05-25T13:53:07.479966",
     "exception": false,
     "start_time": "2022-05-25T13:53:07.387225",
     "status": "completed"
    },
    "tags": []
   },
   "outputs": [],
   "source": [
    "mask = (matches[\"home_team_home_team_name\"] == \"Italy\") | (matches[\"away_team_away_team_name\"] == \"Italy\")\n",
    "italy_matches = matches[mask]\n",
    "mask = (matches[\"home_team_home_team_name\"] == \"Wales\") | (matches[\"away_team_away_team_name\"] == \"Wales\")\n",
    "wales_matches = matches[mask]"
   ]
  },
  {
   "cell_type": "code",
   "execution_count": 13,
   "id": "092336de",
   "metadata": {
    "execution": {
     "iopub.execute_input": "2022-05-25T13:53:07.650383Z",
     "iopub.status.busy": "2022-05-25T13:53:07.649771Z",
     "iopub.status.idle": "2022-05-25T13:53:07.654047Z",
     "shell.execute_reply": "2022-05-25T13:53:07.654575Z",
     "shell.execute_reply.started": "2022-05-25T11:41:50.052868Z"
    },
    "papermill": {
     "duration": 0.091643,
     "end_time": "2022-05-25T13:53:07.654752",
     "exception": false,
     "start_time": "2022-05-25T13:53:07.563109",
     "status": "completed"
    },
    "tags": []
   },
   "outputs": [],
   "source": [
    "italy_match_ids = []\n",
    "wales_match_ids = []\n",
    "for match in italy_matches.match_id:\n",
    "    italy_match_ids.append(match)\n",
    "for match in wales_matches.match_id:\n",
    "    wales_match_ids.append(match)"
   ]
  },
  {
   "cell_type": "code",
   "execution_count": 14,
   "id": "deec8549",
   "metadata": {
    "execution": {
     "iopub.execute_input": "2022-05-25T13:53:07.825528Z",
     "iopub.status.busy": "2022-05-25T13:53:07.824861Z",
     "iopub.status.idle": "2022-05-25T13:53:07.838659Z",
     "shell.execute_reply": "2022-05-25T13:53:07.837990Z",
     "shell.execute_reply.started": "2022-05-25T11:42:02.639105Z"
    },
    "papermill": {
     "duration": 0.101471,
     "end_time": "2022-05-25T13:53:07.838825",
     "exception": false,
     "start_time": "2022-05-25T13:53:07.737354",
     "status": "completed"
    },
    "tags": []
   },
   "outputs": [],
   "source": [
    "data_path = '../input/socceranalytics/events/events'\n",
    "files = glob(data_path +'/*.json.bz2')"
   ]
  },
  {
   "cell_type": "code",
   "execution_count": 15,
   "id": "5d38c93a",
   "metadata": {
    "execution": {
     "iopub.execute_input": "2022-05-25T13:53:08.014415Z",
     "iopub.status.busy": "2022-05-25T13:53:08.013788Z",
     "iopub.status.idle": "2022-05-25T13:53:08.029417Z",
     "shell.execute_reply": "2022-05-25T13:53:08.030084Z",
     "shell.execute_reply.started": "2022-05-25T11:42:08.573406Z"
    },
    "papermill": {
     "duration": 0.107427,
     "end_time": "2022-05-25T13:53:08.030280",
     "exception": false,
     "start_time": "2022-05-25T13:53:07.922853",
     "status": "completed"
    },
    "tags": []
   },
   "outputs": [
    {
     "name": "stderr",
     "output_type": "stream",
     "text": [
      "/opt/conda/lib/python3.7/site-packages/ipykernel_launcher.py:2: PerformanceWarning: DataFrame is highly fragmented.  This is usually the result of calling `frame.insert` many times, which has poor performance.  Consider joining all columns at once using pd.concat(axis=1) instead.  To get a de-fragmented frame, use `newframe = frame.copy()`\n",
      "  \n"
     ]
    }
   ],
   "source": [
    "bins = [i for i in range(0, 130, 5)]\n",
    "all_italy_df['minute_bins'] = pd.cut(all_italy_df.minute + 1, bins = bins, labels = bins.append(130), retbins = True)[0].apply(lambda x: x.right)"
   ]
  },
  {
   "cell_type": "code",
   "execution_count": 16,
   "id": "d82f94d3",
   "metadata": {
    "execution": {
     "iopub.execute_input": "2022-05-25T13:53:08.206298Z",
     "iopub.status.busy": "2022-05-25T13:53:08.205677Z",
     "iopub.status.idle": "2022-05-25T13:53:08.210543Z",
     "shell.execute_reply": "2022-05-25T13:53:08.211044Z",
     "shell.execute_reply.started": "2022-05-25T11:42:10.876175Z"
    },
    "papermill": {
     "duration": 0.096669,
     "end_time": "2022-05-25T13:53:08.211215",
     "exception": false,
     "start_time": "2022-05-25T13:53:08.114546",
     "status": "completed"
    },
    "tags": []
   },
   "outputs": [
    {
     "data": {
      "text/plain": [
       "0         5\n",
       "1         5\n",
       "2         5\n",
       "3         5\n",
       "4         5\n",
       "       ... \n",
       "4820    130\n",
       "4821    130\n",
       "4822    130\n",
       "4823    130\n",
       "4824    130\n",
       "Name: minute_bins, Length: 28869, dtype: category\n",
       "Categories (26, int64): [5 < 10 < 15 < 20 ... 115 < 120 < 125 < 130]"
      ]
     },
     "execution_count": 16,
     "metadata": {},
     "output_type": "execute_result"
    }
   ],
   "source": [
    "all_italy_df.minute_bins"
   ]
  },
  {
   "cell_type": "code",
   "execution_count": 17,
   "id": "60119234",
   "metadata": {
    "execution": {
     "iopub.execute_input": "2022-05-25T13:53:08.385150Z",
     "iopub.status.busy": "2022-05-25T13:53:08.384345Z",
     "iopub.status.idle": "2022-05-25T13:53:08.386639Z",
     "shell.execute_reply": "2022-05-25T13:53:08.387091Z",
     "shell.execute_reply.started": "2022-05-25T11:43:15.310700Z"
    },
    "papermill": {
     "duration": 0.092046,
     "end_time": "2022-05-25T13:53:08.387253",
     "exception": false,
     "start_time": "2022-05-25T13:53:08.295207",
     "status": "completed"
    },
    "tags": []
   },
   "outputs": [],
   "source": [
    "def restore_df(path):\n",
    "    with pd.HDFStore(path, mode = 'r') as store:\n",
    "        df = store.get('df')\n",
    "        df.attrs = store.get_storer('df').attrs.my_attribute\n",
    "        return df"
   ]
  },
  {
   "cell_type": "code",
   "execution_count": 18,
   "id": "dc7dddc2",
   "metadata": {
    "execution": {
     "iopub.execute_input": "2022-05-25T13:53:08.559886Z",
     "iopub.status.busy": "2022-05-25T13:53:08.559205Z",
     "iopub.status.idle": "2022-05-25T13:53:11.315455Z",
     "shell.execute_reply": "2022-05-25T13:53:11.314888Z",
     "shell.execute_reply.started": "2022-05-25T11:43:15.654819Z"
    },
    "papermill": {
     "duration": 2.844449,
     "end_time": "2022-05-25T13:53:11.315614",
     "exception": false,
     "start_time": "2022-05-25T13:53:08.471165",
     "status": "completed"
    },
    "tags": []
   },
   "outputs": [],
   "source": [
    "iw_track = restore_df(\"../input/socceranalytics/dfmeta/dfmeta/italyvwales.h5\")\n",
    "player_map = iw_track.attrs['player_map']\n",
    "pos_cols = [col for col in iw_track if 'x' in col or 'y' in col]"
   ]
  },
  {
   "cell_type": "code",
   "execution_count": 19,
   "id": "b8f89e36",
   "metadata": {
    "execution": {
     "iopub.execute_input": "2022-05-25T13:53:11.492248Z",
     "iopub.status.busy": "2022-05-25T13:53:11.491604Z",
     "iopub.status.idle": "2022-05-25T13:53:11.638293Z",
     "shell.execute_reply": "2022-05-25T13:53:11.638886Z",
     "shell.execute_reply.started": "2022-05-25T11:43:19.351724Z"
    },
    "papermill": {
     "duration": 0.238278,
     "end_time": "2022-05-25T13:53:11.639057",
     "exception": false,
     "start_time": "2022-05-25T13:53:11.400779",
     "status": "completed"
    },
    "tags": []
   },
   "outputs": [
    {
     "name": "stdout",
     "output_type": "stream",
     "text": [
      "Alex Meret did not play\n",
      "Giovanni Di Lorenzo did not play\n",
      "Giorgio Chiellini did not play\n",
      "Leonardo Spinazzola did not play\n",
      "Alessandro Florenzi did not play\n",
      "Manuel Locatelli did not play\n",
      "Nicolò Barella did not play\n",
      "Lorenzo Insigne did not play\n",
      "Domenico Berardi did not play\n",
      "Ciro Immobile did not play\n",
      "Wayne Hennessey did not play\n",
      "Adam Davies did not play\n",
      "Tom Lockyer did not play\n",
      "Rhys Norrington-Davies did not play\n",
      "Chris Mepham did not play\n",
      "Ben Cabango did not play\n",
      "Jonny Williams did not play\n",
      "Rubin Colwill did not play\n",
      "Matthew Smith did not play\n",
      "Tyler Roberts did not play\n"
     ]
    }
   ],
   "source": [
    "for key in player_map.keys():\n",
    "    try:\n",
    "        iw_track[str(key) + \"_distance\"] = (iw_track[str(key) + \"_x\"] - iw_track['ball_x'])**2\n",
    "        iw_track[str(key) + \"_distance\"] += (iw_track[str(key) + \"_y\"] - iw_track['ball_y'])**2\n",
    "        iw_track[str(key) + \"_distance\"] = iw_track[str(key) + \"_distance\"].apply(np.sqrt)\n",
    "    except:\n",
    "        print(f\"{player_map[key]} did not play\")"
   ]
  },
  {
   "cell_type": "code",
   "execution_count": 20,
   "id": "c5ccaf6e",
   "metadata": {
    "execution": {
     "iopub.execute_input": "2022-05-25T13:53:11.824873Z",
     "iopub.status.busy": "2022-05-25T13:53:11.824201Z",
     "iopub.status.idle": "2022-05-25T13:53:11.831414Z",
     "shell.execute_reply": "2022-05-25T13:53:11.830898Z",
     "shell.execute_reply.started": "2022-05-25T11:44:49.528817Z"
    },
    "papermill": {
     "duration": 0.106991,
     "end_time": "2022-05-25T13:53:11.831549",
     "exception": false,
     "start_time": "2022-05-25T13:53:11.724558",
     "status": "completed"
    },
    "tags": []
   },
   "outputs": [],
   "source": [
    "import mplsoccer.statsbomb as sbapi"
   ]
  },
  {
   "cell_type": "code",
   "execution_count": 21,
   "id": "78b073ad",
   "metadata": {
    "execution": {
     "iopub.execute_input": "2022-05-25T13:53:12.008652Z",
     "iopub.status.busy": "2022-05-25T13:53:12.007979Z",
     "iopub.status.idle": "2022-05-25T13:53:14.088026Z",
     "shell.execute_reply": "2022-05-25T13:53:14.087365Z",
     "shell.execute_reply.started": "2022-05-25T11:45:10.769829Z"
    },
    "papermill": {
     "duration": 2.171715,
     "end_time": "2022-05-25T13:53:14.088179",
     "exception": false,
     "start_time": "2022-05-25T13:53:11.916464",
     "status": "completed"
    },
    "tags": []
   },
   "outputs": [],
   "source": [
    "match_id = \"3788766\"\n",
    "zipfile = bz2.BZ2File(data_path + f\"/{match_id}.json.bz2\")\n",
    "file = zipfile.read()\n",
    "open(f\"{match_id}.json\", 'wb').write(file)\n",
    "dict_event = sbapi.read_event(f\"{match_id}.json\", warn = False)\n",
    "df_event = dict_event['event']\n",
    "df_related_event = dict_event['related_event']\n",
    "df_shot_freeze = dict_event['shot_freeze_frame']\n",
    "df_tactics_lineup = dict_event['tactics_lineup']"
   ]
  },
  {
   "cell_type": "code",
   "execution_count": 22,
   "id": "89c49585",
   "metadata": {
    "execution": {
     "iopub.execute_input": "2022-05-25T13:53:14.263928Z",
     "iopub.status.busy": "2022-05-25T13:53:14.262959Z",
     "iopub.status.idle": "2022-05-25T13:53:14.269317Z",
     "shell.execute_reply": "2022-05-25T13:53:14.269950Z",
     "shell.execute_reply.started": "2022-05-25T11:48:42.398457Z"
    },
    "papermill": {
     "duration": 0.095631,
     "end_time": "2022-05-25T13:53:14.270111",
     "exception": false,
     "start_time": "2022-05-25T13:53:14.174480",
     "status": "completed"
    },
    "tags": []
   },
   "outputs": [
    {
     "data": {
      "text/plain": [
       "Index(['match_id', 'id', 'index', 'period', 'timestamp_minute',\n",
       "       'timestamp_second', 'timestamp_millisecond', 'minute', 'second',\n",
       "       'type_id', 'type_name', 'sub_type_id', 'sub_type_name', 'outcome_id',\n",
       "       'outcome_name', 'play_pattern_id', 'play_pattern_name',\n",
       "       'possession_team_id', 'possession', 'possession_team_name', 'team_id',\n",
       "       'team_name', 'player_id', 'player_name', 'position_id', 'position_name',\n",
       "       'duration', 'x', 'y', 'z', 'end_x', 'end_y', 'end_z', 'body_part_id',\n",
       "       'body_part_name', 'technique_id', 'technique_name', 'under_pressure',\n",
       "       'counterpress', 'off_camera', 'out', 'pass_length', 'pass_angle',\n",
       "       'pass_recipient_id', 'pass_recipient_name', 'pass_height_id',\n",
       "       'pass_height_name', 'pass_switch', 'pass_cross',\n",
       "       'pass_assisted_shot_id', 'pass_shot_assist', 'pass_cut_back',\n",
       "       'pass_goal_assist', 'ball_recovery_recovery_failure',\n",
       "       'block_deflection', 'dribble_nutmeg', 'foul_committed_advantage',\n",
       "       'foul_committed_type_id', 'foul_committed_type_name',\n",
       "       'foul_committed_card_id', 'foul_committed_card_name',\n",
       "       'foul_won_advantage', 'foul_won_defensive', 'goalkeeper_position_id',\n",
       "       'goalkeeper_position_name', 'shot_statsbomb_xg', 'shot_key_pass_id',\n",
       "       'shot_first_time', 'shot_redirect', 'shot_deflected',\n",
       "       'substitution_replacement_id', 'substitution_replacement_name',\n",
       "       'tactics_formation', 'aerial_won'],\n",
       "      dtype='object')"
      ]
     },
     "execution_count": 22,
     "metadata": {},
     "output_type": "execute_result"
    }
   ],
   "source": [
    "df_event.columns"
   ]
  },
  {
   "cell_type": "code",
   "execution_count": 23,
   "id": "f4566300",
   "metadata": {
    "execution": {
     "iopub.execute_input": "2022-05-25T13:53:14.445879Z",
     "iopub.status.busy": "2022-05-25T13:53:14.444917Z",
     "iopub.status.idle": "2022-05-25T13:53:14.450345Z",
     "shell.execute_reply": "2022-05-25T13:53:14.450925Z",
     "shell.execute_reply.started": "2022-05-25T13:45:17.342663Z"
    },
    "papermill": {
     "duration": 0.095154,
     "end_time": "2022-05-25T13:53:14.451091",
     "exception": false,
     "start_time": "2022-05-25T13:53:14.355937",
     "status": "completed"
    },
    "tags": []
   },
   "outputs": [],
   "source": [
    "interest = ['period', 'timestamp_minute',\n",
    "       'timestamp_second', 'minute', 'second',\n",
    "       'sub_type_name',\n",
    "       'outcome_name', 'play_pattern_name','possession', 'possession_team_name',\n",
    "       'team_name', 'player_name', 'position_name',\n",
    "       'duration', 'x', 'y', 'end_x', 'end_y',\n",
    "       'body_part_name', 'technique_name', 'under_pressure', 'off_camera', 'out', 'pass_length', 'pass_angle',\n",
    "       'pass_recipient_name',\n",
    "       'pass_height_name', 'pass_switch', 'pass_cross', 'pass_shot_assist', 'pass_cut_back',\n",
    "       'pass_goal_assist']"
   ]
  },
  {
   "cell_type": "code",
   "execution_count": 24,
   "id": "7e904388",
   "metadata": {
    "execution": {
     "iopub.execute_input": "2022-05-25T13:53:14.632208Z",
     "iopub.status.busy": "2022-05-25T13:53:14.631519Z",
     "iopub.status.idle": "2022-05-25T13:53:14.636433Z",
     "shell.execute_reply": "2022-05-25T13:53:14.636912Z",
     "shell.execute_reply.started": "2022-05-25T13:45:17.490970Z"
    },
    "papermill": {
     "duration": 0.097753,
     "end_time": "2022-05-25T13:53:14.637080",
     "exception": false,
     "start_time": "2022-05-25T13:53:14.539327",
     "status": "completed"
    },
    "tags": []
   },
   "outputs": [],
   "source": [
    "passy = df_event[df_event.type_name =='Pass'][interest]"
   ]
  },
  {
   "cell_type": "code",
   "execution_count": 25,
   "id": "35e536a8",
   "metadata": {
    "execution": {
     "iopub.execute_input": "2022-05-25T13:53:14.814277Z",
     "iopub.status.busy": "2022-05-25T13:53:14.813689Z",
     "iopub.status.idle": "2022-05-25T13:53:14.815825Z",
     "shell.execute_reply": "2022-05-25T13:53:14.816301Z",
     "shell.execute_reply.started": "2022-05-25T13:45:17.735951Z"
    },
    "papermill": {
     "duration": 0.093747,
     "end_time": "2022-05-25T13:53:14.816455",
     "exception": false,
     "start_time": "2022-05-25T13:53:14.722708",
     "status": "completed"
    },
    "tags": []
   },
   "outputs": [],
   "source": [
    "# true if forward pass, false otherwise\n",
    "passy['direction'] = (passy['x'] - passy['end_x']) < 0"
   ]
  },
  {
   "cell_type": "code",
   "execution_count": 26,
   "id": "40f8b115",
   "metadata": {
    "execution": {
     "iopub.execute_input": "2022-05-25T13:53:14.992089Z",
     "iopub.status.busy": "2022-05-25T13:53:14.991418Z",
     "iopub.status.idle": "2022-05-25T13:53:14.996340Z",
     "shell.execute_reply": "2022-05-25T13:53:14.996964Z",
     "shell.execute_reply.started": "2022-05-25T13:45:18.401929Z"
    },
    "papermill": {
     "duration": 0.095326,
     "end_time": "2022-05-25T13:53:14.997122",
     "exception": false,
     "start_time": "2022-05-25T13:53:14.901796",
     "status": "completed"
    },
    "tags": []
   },
   "outputs": [
    {
     "data": {
      "text/plain": [
       "array(['Italy', 'Wales'], dtype=object)"
      ]
     },
     "execution_count": 26,
     "metadata": {},
     "output_type": "execute_result"
    }
   ],
   "source": [
    "passy.possession_team_name.unique()"
   ]
  },
  {
   "cell_type": "code",
   "execution_count": 27,
   "id": "9f02be37",
   "metadata": {
    "execution": {
     "iopub.execute_input": "2022-05-25T13:53:15.172080Z",
     "iopub.status.busy": "2022-05-25T13:53:15.171439Z",
     "iopub.status.idle": "2022-05-25T13:53:15.177993Z",
     "shell.execute_reply": "2022-05-25T13:53:15.178541Z",
     "shell.execute_reply.started": "2022-05-25T13:45:21.351441Z"
    },
    "papermill": {
     "duration": 0.095563,
     "end_time": "2022-05-25T13:53:15.178733",
     "exception": false,
     "start_time": "2022-05-25T13:53:15.083170",
     "status": "completed"
    },
    "tags": []
   },
   "outputs": [],
   "source": [
    "ipasses = passy[passy['possession_team_name'] == 'Italy']\n",
    "wpasses = passy[passy['possession_team_name'] == 'Wales']"
   ]
  },
  {
   "cell_type": "code",
   "execution_count": 28,
   "id": "c2efc75d",
   "metadata": {
    "execution": {
     "iopub.execute_input": "2022-05-25T13:53:15.352420Z",
     "iopub.status.busy": "2022-05-25T13:53:15.351844Z",
     "iopub.status.idle": "2022-05-25T13:53:15.356900Z",
     "shell.execute_reply": "2022-05-25T13:53:15.357470Z",
     "shell.execute_reply.started": "2022-05-25T12:26:01.221187Z"
    },
    "papermill": {
     "duration": 0.09379,
     "end_time": "2022-05-25T13:53:15.357666",
     "exception": false,
     "start_time": "2022-05-25T13:53:15.263876",
     "status": "completed"
    },
    "tags": []
   },
   "outputs": [
    {
     "data": {
      "text/plain": [
       "1363.886246"
      ]
     },
     "execution_count": 28,
     "metadata": {},
     "output_type": "execute_result"
    }
   ],
   "source": [
    "passy.duration.sum()"
   ]
  },
  {
   "cell_type": "code",
   "execution_count": 29,
   "id": "b5e5c374",
   "metadata": {
    "execution": {
     "iopub.execute_input": "2022-05-25T13:53:15.532074Z",
     "iopub.status.busy": "2022-05-25T13:53:15.531425Z",
     "iopub.status.idle": "2022-05-25T13:53:15.560984Z",
     "shell.execute_reply": "2022-05-25T13:53:15.561459Z",
     "shell.execute_reply.started": "2022-05-25T12:26:01.536753Z"
    },
    "papermill": {
     "duration": 0.118301,
     "end_time": "2022-05-25T13:53:15.561653",
     "exception": false,
     "start_time": "2022-05-25T13:53:15.443352",
     "status": "completed"
    },
    "tags": []
   },
   "outputs": [
    {
     "data": {
      "text/html": [
       "<div>\n",
       "<style scoped>\n",
       "    .dataframe tbody tr th:only-of-type {\n",
       "        vertical-align: middle;\n",
       "    }\n",
       "\n",
       "    .dataframe tbody tr th {\n",
       "        vertical-align: top;\n",
       "    }\n",
       "\n",
       "    .dataframe thead th {\n",
       "        text-align: right;\n",
       "    }\n",
       "</style>\n",
       "<table border=\"1\" class=\"dataframe\">\n",
       "  <thead>\n",
       "    <tr style=\"text-align: right;\">\n",
       "      <th></th>\n",
       "      <th>period</th>\n",
       "      <th>timestamp_minute</th>\n",
       "      <th>timestamp_second</th>\n",
       "      <th>minute</th>\n",
       "      <th>second</th>\n",
       "      <th>sub_type_name</th>\n",
       "      <th>outcome_name</th>\n",
       "      <th>play_pattern_name</th>\n",
       "      <th>possession</th>\n",
       "      <th>possession_team_name</th>\n",
       "      <th>...</th>\n",
       "      <th>pass_length</th>\n",
       "      <th>pass_angle</th>\n",
       "      <th>pass_recipient_name</th>\n",
       "      <th>pass_height_name</th>\n",
       "      <th>pass_switch</th>\n",
       "      <th>pass_cross</th>\n",
       "      <th>pass_shot_assist</th>\n",
       "      <th>pass_cut_back</th>\n",
       "      <th>pass_goal_assist</th>\n",
       "      <th>direction</th>\n",
       "    </tr>\n",
       "  </thead>\n",
       "  <tbody>\n",
       "    <tr>\n",
       "      <th>24</th>\n",
       "      <td>1</td>\n",
       "      <td>0</td>\n",
       "      <td>18</td>\n",
       "      <td>0</td>\n",
       "      <td>18</td>\n",
       "      <td>NaN</td>\n",
       "      <td>Incomplete</td>\n",
       "      <td>From Kick Off</td>\n",
       "      <td>2</td>\n",
       "      <td>Italy</td>\n",
       "      <td>...</td>\n",
       "      <td>51.499516</td>\n",
       "      <td>-0.411521</td>\n",
       "      <td>Daniel James</td>\n",
       "      <td>High Pass</td>\n",
       "      <td>NaN</td>\n",
       "      <td>NaN</td>\n",
       "      <td>NaN</td>\n",
       "      <td>NaN</td>\n",
       "      <td>NaN</td>\n",
       "      <td>True</td>\n",
       "    </tr>\n",
       "    <tr>\n",
       "      <th>43</th>\n",
       "      <td>1</td>\n",
       "      <td>1</td>\n",
       "      <td>21</td>\n",
       "      <td>1</td>\n",
       "      <td>21</td>\n",
       "      <td>Recovery</td>\n",
       "      <td>NaN</td>\n",
       "      <td>Regular Play</td>\n",
       "      <td>4</td>\n",
       "      <td>Italy</td>\n",
       "      <td>...</td>\n",
       "      <td>16.609034</td>\n",
       "      <td>0.509438</td>\n",
       "      <td>Andrea Belotti</td>\n",
       "      <td>High Pass</td>\n",
       "      <td>NaN</td>\n",
       "      <td>NaN</td>\n",
       "      <td>NaN</td>\n",
       "      <td>NaN</td>\n",
       "      <td>NaN</td>\n",
       "      <td>True</td>\n",
       "    </tr>\n",
       "    <tr>\n",
       "      <th>91</th>\n",
       "      <td>1</td>\n",
       "      <td>2</td>\n",
       "      <td>11</td>\n",
       "      <td>2</td>\n",
       "      <td>11</td>\n",
       "      <td>NaN</td>\n",
       "      <td>NaN</td>\n",
       "      <td>Regular Play</td>\n",
       "      <td>4</td>\n",
       "      <td>Italy</td>\n",
       "      <td>...</td>\n",
       "      <td>14.494137</td>\n",
       "      <td>0.883125</td>\n",
       "      <td>Federico Chiesa</td>\n",
       "      <td>Ground Pass</td>\n",
       "      <td>NaN</td>\n",
       "      <td>NaN</td>\n",
       "      <td>NaN</td>\n",
       "      <td>NaN</td>\n",
       "      <td>NaN</td>\n",
       "      <td>True</td>\n",
       "    </tr>\n",
       "    <tr>\n",
       "      <th>95</th>\n",
       "      <td>1</td>\n",
       "      <td>2</td>\n",
       "      <td>12</td>\n",
       "      <td>2</td>\n",
       "      <td>12</td>\n",
       "      <td>NaN</td>\n",
       "      <td>NaN</td>\n",
       "      <td>Regular Play</td>\n",
       "      <td>4</td>\n",
       "      <td>Italy</td>\n",
       "      <td>...</td>\n",
       "      <td>4.750790</td>\n",
       "      <td>-2.612003</td>\n",
       "      <td>Andrea Belotti</td>\n",
       "      <td>Ground Pass</td>\n",
       "      <td>NaN</td>\n",
       "      <td>NaN</td>\n",
       "      <td>NaN</td>\n",
       "      <td>NaN</td>\n",
       "      <td>NaN</td>\n",
       "      <td>False</td>\n",
       "    </tr>\n",
       "    <tr>\n",
       "      <th>121</th>\n",
       "      <td>1</td>\n",
       "      <td>2</td>\n",
       "      <td>40</td>\n",
       "      <td>2</td>\n",
       "      <td>40</td>\n",
       "      <td>NaN</td>\n",
       "      <td>NaN</td>\n",
       "      <td>From Free Kick</td>\n",
       "      <td>6</td>\n",
       "      <td>Wales</td>\n",
       "      <td>...</td>\n",
       "      <td>21.429419</td>\n",
       "      <td>0.490781</td>\n",
       "      <td>Gareth Frank Bale</td>\n",
       "      <td>Low Pass</td>\n",
       "      <td>NaN</td>\n",
       "      <td>NaN</td>\n",
       "      <td>NaN</td>\n",
       "      <td>NaN</td>\n",
       "      <td>NaN</td>\n",
       "      <td>True</td>\n",
       "    </tr>\n",
       "    <tr>\n",
       "      <th>...</th>\n",
       "      <td>...</td>\n",
       "      <td>...</td>\n",
       "      <td>...</td>\n",
       "      <td>...</td>\n",
       "      <td>...</td>\n",
       "      <td>...</td>\n",
       "      <td>...</td>\n",
       "      <td>...</td>\n",
       "      <td>...</td>\n",
       "      <td>...</td>\n",
       "      <td>...</td>\n",
       "      <td>...</td>\n",
       "      <td>...</td>\n",
       "      <td>...</td>\n",
       "      <td>...</td>\n",
       "      <td>...</td>\n",
       "      <td>...</td>\n",
       "      <td>...</td>\n",
       "      <td>...</td>\n",
       "      <td>...</td>\n",
       "      <td>...</td>\n",
       "    </tr>\n",
       "    <tr>\n",
       "      <th>2745</th>\n",
       "      <td>2</td>\n",
       "      <td>36</td>\n",
       "      <td>31</td>\n",
       "      <td>81</td>\n",
       "      <td>31</td>\n",
       "      <td>NaN</td>\n",
       "      <td>NaN</td>\n",
       "      <td>From Free Kick</td>\n",
       "      <td>148</td>\n",
       "      <td>Italy</td>\n",
       "      <td>...</td>\n",
       "      <td>7.940403</td>\n",
       "      <td>-1.864666</td>\n",
       "      <td>Matteo Pessina</td>\n",
       "      <td>Ground Pass</td>\n",
       "      <td>NaN</td>\n",
       "      <td>NaN</td>\n",
       "      <td>NaN</td>\n",
       "      <td>NaN</td>\n",
       "      <td>NaN</td>\n",
       "      <td>False</td>\n",
       "    </tr>\n",
       "    <tr>\n",
       "      <th>2798</th>\n",
       "      <td>2</td>\n",
       "      <td>37</td>\n",
       "      <td>22</td>\n",
       "      <td>82</td>\n",
       "      <td>22</td>\n",
       "      <td>Recovery</td>\n",
       "      <td>NaN</td>\n",
       "      <td>From Free Kick</td>\n",
       "      <td>148</td>\n",
       "      <td>Italy</td>\n",
       "      <td>...</td>\n",
       "      <td>7.334848</td>\n",
       "      <td>0.451453</td>\n",
       "      <td>Federico Chiesa</td>\n",
       "      <td>Ground Pass</td>\n",
       "      <td>NaN</td>\n",
       "      <td>NaN</td>\n",
       "      <td>True</td>\n",
       "      <td>NaN</td>\n",
       "      <td>NaN</td>\n",
       "      <td>True</td>\n",
       "    </tr>\n",
       "    <tr>\n",
       "      <th>2831</th>\n",
       "      <td>2</td>\n",
       "      <td>38</td>\n",
       "      <td>55</td>\n",
       "      <td>83</td>\n",
       "      <td>55</td>\n",
       "      <td>Recovery</td>\n",
       "      <td>NaN</td>\n",
       "      <td>From Corner</td>\n",
       "      <td>150</td>\n",
       "      <td>Italy</td>\n",
       "      <td>...</td>\n",
       "      <td>4.000000</td>\n",
       "      <td>0.000000</td>\n",
       "      <td>Giacomo Raspadori</td>\n",
       "      <td>High Pass</td>\n",
       "      <td>NaN</td>\n",
       "      <td>NaN</td>\n",
       "      <td>NaN</td>\n",
       "      <td>NaN</td>\n",
       "      <td>NaN</td>\n",
       "      <td>True</td>\n",
       "    </tr>\n",
       "    <tr>\n",
       "      <th>2925</th>\n",
       "      <td>2</td>\n",
       "      <td>42</td>\n",
       "      <td>51</td>\n",
       "      <td>87</td>\n",
       "      <td>51</td>\n",
       "      <td>Recovery</td>\n",
       "      <td>NaN</td>\n",
       "      <td>From Throw In</td>\n",
       "      <td>152</td>\n",
       "      <td>Italy</td>\n",
       "      <td>...</td>\n",
       "      <td>15.587174</td>\n",
       "      <td>-0.986352</td>\n",
       "      <td>Federico Chiesa</td>\n",
       "      <td>High Pass</td>\n",
       "      <td>NaN</td>\n",
       "      <td>NaN</td>\n",
       "      <td>NaN</td>\n",
       "      <td>NaN</td>\n",
       "      <td>NaN</td>\n",
       "      <td>True</td>\n",
       "    </tr>\n",
       "    <tr>\n",
       "      <th>2949</th>\n",
       "      <td>2</td>\n",
       "      <td>43</td>\n",
       "      <td>30</td>\n",
       "      <td>88</td>\n",
       "      <td>30</td>\n",
       "      <td>NaN</td>\n",
       "      <td>NaN</td>\n",
       "      <td>Regular Play</td>\n",
       "      <td>154</td>\n",
       "      <td>Italy</td>\n",
       "      <td>...</td>\n",
       "      <td>11.844408</td>\n",
       "      <td>-0.863086</td>\n",
       "      <td>Giacomo Raspadori</td>\n",
       "      <td>Ground Pass</td>\n",
       "      <td>NaN</td>\n",
       "      <td>NaN</td>\n",
       "      <td>NaN</td>\n",
       "      <td>NaN</td>\n",
       "      <td>NaN</td>\n",
       "      <td>True</td>\n",
       "    </tr>\n",
       "  </tbody>\n",
       "</table>\n",
       "<p>90 rows × 33 columns</p>\n",
       "</div>"
      ],
      "text/plain": [
       "      period  timestamp_minute  timestamp_second  minute  second  \\\n",
       "24         1                 0                18       0      18   \n",
       "43         1                 1                21       1      21   \n",
       "91         1                 2                11       2      11   \n",
       "95         1                 2                12       2      12   \n",
       "121        1                 2                40       2      40   \n",
       "...      ...               ...               ...     ...     ...   \n",
       "2745       2                36                31      81      31   \n",
       "2798       2                37                22      82      22   \n",
       "2831       2                38                55      83      55   \n",
       "2925       2                42                51      87      51   \n",
       "2949       2                43                30      88      30   \n",
       "\n",
       "     sub_type_name outcome_name play_pattern_name  possession  \\\n",
       "24             NaN   Incomplete     From Kick Off           2   \n",
       "43        Recovery          NaN      Regular Play           4   \n",
       "91             NaN          NaN      Regular Play           4   \n",
       "95             NaN          NaN      Regular Play           4   \n",
       "121            NaN          NaN    From Free Kick           6   \n",
       "...            ...          ...               ...         ...   \n",
       "2745           NaN          NaN    From Free Kick         148   \n",
       "2798      Recovery          NaN    From Free Kick         148   \n",
       "2831      Recovery          NaN       From Corner         150   \n",
       "2925      Recovery          NaN     From Throw In         152   \n",
       "2949           NaN          NaN      Regular Play         154   \n",
       "\n",
       "     possession_team_name  ... pass_length pass_angle pass_recipient_name  \\\n",
       "24                  Italy  ...   51.499516  -0.411521        Daniel James   \n",
       "43                  Italy  ...   16.609034   0.509438      Andrea Belotti   \n",
       "91                  Italy  ...   14.494137   0.883125     Federico Chiesa   \n",
       "95                  Italy  ...    4.750790  -2.612003      Andrea Belotti   \n",
       "121                 Wales  ...   21.429419   0.490781   Gareth Frank Bale   \n",
       "...                   ...  ...         ...        ...                 ...   \n",
       "2745                Italy  ...    7.940403  -1.864666      Matteo Pessina   \n",
       "2798                Italy  ...    7.334848   0.451453     Federico Chiesa   \n",
       "2831                Italy  ...    4.000000   0.000000   Giacomo Raspadori   \n",
       "2925                Italy  ...   15.587174  -0.986352     Federico Chiesa   \n",
       "2949                Italy  ...   11.844408  -0.863086   Giacomo Raspadori   \n",
       "\n",
       "      pass_height_name  pass_switch  pass_cross  pass_shot_assist  \\\n",
       "24           High Pass          NaN         NaN               NaN   \n",
       "43           High Pass          NaN         NaN               NaN   \n",
       "91         Ground Pass          NaN         NaN               NaN   \n",
       "95         Ground Pass          NaN         NaN               NaN   \n",
       "121           Low Pass          NaN         NaN               NaN   \n",
       "...                ...          ...         ...               ...   \n",
       "2745       Ground Pass          NaN         NaN               NaN   \n",
       "2798       Ground Pass          NaN         NaN              True   \n",
       "2831         High Pass          NaN         NaN               NaN   \n",
       "2925         High Pass          NaN         NaN               NaN   \n",
       "2949       Ground Pass          NaN         NaN               NaN   \n",
       "\n",
       "      pass_cut_back pass_goal_assist direction  \n",
       "24              NaN              NaN      True  \n",
       "43              NaN              NaN      True  \n",
       "91              NaN              NaN      True  \n",
       "95              NaN              NaN     False  \n",
       "121             NaN              NaN      True  \n",
       "...             ...              ...       ...  \n",
       "2745            NaN              NaN     False  \n",
       "2798            NaN              NaN      True  \n",
       "2831            NaN              NaN      True  \n",
       "2925            NaN              NaN      True  \n",
       "2949            NaN              NaN      True  \n",
       "\n",
       "[90 rows x 33 columns]"
      ]
     },
     "execution_count": 29,
     "metadata": {},
     "output_type": "execute_result"
    }
   ],
   "source": [
    "passy[passy.under_pressure == 1]"
   ]
  },
  {
   "cell_type": "code",
   "execution_count": 30,
   "id": "fe00b3db",
   "metadata": {
    "execution": {
     "iopub.execute_input": "2022-05-25T13:53:15.740916Z",
     "iopub.status.busy": "2022-05-25T13:53:15.740294Z",
     "iopub.status.idle": "2022-05-25T13:53:15.743408Z",
     "shell.execute_reply": "2022-05-25T13:53:15.744025Z",
     "shell.execute_reply.started": "2022-05-25T12:26:02.140515Z"
    },
    "papermill": {
     "duration": 0.0959,
     "end_time": "2022-05-25T13:53:15.744191",
     "exception": false,
     "start_time": "2022-05-25T13:53:15.648291",
     "status": "completed"
    },
    "tags": []
   },
   "outputs": [],
   "source": [
    "italy_wales = dfs[3788766]"
   ]
  },
  {
   "cell_type": "code",
   "execution_count": 31,
   "id": "1412df87",
   "metadata": {
    "execution": {
     "iopub.execute_input": "2022-05-25T13:53:15.926456Z",
     "iopub.status.busy": "2022-05-25T13:53:15.925801Z",
     "iopub.status.idle": "2022-05-25T13:53:15.929559Z",
     "shell.execute_reply": "2022-05-25T13:53:15.930165Z",
     "shell.execute_reply.started": "2022-05-25T12:26:02.386504Z"
    },
    "papermill": {
     "duration": 0.09919,
     "end_time": "2022-05-25T13:53:15.930327",
     "exception": false,
     "start_time": "2022-05-25T13:53:15.831137",
     "status": "completed"
    },
    "tags": []
   },
   "outputs": [],
   "source": [
    "iw_passes = italy_wales[italy_wales.type_name =='Pass']\n",
    "pass_cols = [col for col in italy_wales.columns if \"pass\" in col] + ['player_name', 'under_pressure', 'team_name']"
   ]
  },
  {
   "cell_type": "code",
   "execution_count": 32,
   "id": "6e3737f3",
   "metadata": {
    "execution": {
     "iopub.execute_input": "2022-05-25T13:53:16.109801Z",
     "iopub.status.busy": "2022-05-25T13:53:16.109164Z",
     "iopub.status.idle": "2022-05-25T13:53:16.114051Z",
     "shell.execute_reply": "2022-05-25T13:53:16.114566Z",
     "shell.execute_reply.started": "2022-05-25T12:26:02.820440Z"
    },
    "papermill": {
     "duration": 0.096039,
     "end_time": "2022-05-25T13:53:16.114806",
     "exception": false,
     "start_time": "2022-05-25T13:53:16.018767",
     "status": "completed"
    },
    "tags": []
   },
   "outputs": [
    {
     "data": {
      "text/plain": [
       "['pass_recipient_id',\n",
       " 'pass_recipient_name',\n",
       " 'pass_length',\n",
       " 'pass_angle',\n",
       " 'pass_height_id',\n",
       " 'pass_height_name',\n",
       " 'pass_end_location',\n",
       " 'pass_type_id',\n",
       " 'pass_type_name',\n",
       " 'pass_body_part_id',\n",
       " 'pass_body_part_name',\n",
       " 'pass_outcome_id',\n",
       " 'pass_outcome_name',\n",
       " 'pass_aerial_won',\n",
       " 'pass_switch',\n",
       " 'pass_cross',\n",
       " 'pass_assisted_shot_id',\n",
       " 'pass_shot_assist',\n",
       " 'shot_key_pass_id',\n",
       " 'pass_inswinging',\n",
       " 'pass_technique_id',\n",
       " 'pass_technique_name',\n",
       " 'pass_cut_back',\n",
       " 'pass_outswinging',\n",
       " 'pass_through_ball',\n",
       " 'pass_goal_assist',\n",
       " 'player_name',\n",
       " 'under_pressure',\n",
       " 'team_name']"
      ]
     },
     "execution_count": 32,
     "metadata": {},
     "output_type": "execute_result"
    }
   ],
   "source": [
    "pass_cols"
   ]
  },
  {
   "cell_type": "code",
   "execution_count": 33,
   "id": "4c437a86",
   "metadata": {
    "execution": {
     "iopub.execute_input": "2022-05-25T13:53:16.294823Z",
     "iopub.status.busy": "2022-05-25T13:53:16.294142Z",
     "iopub.status.idle": "2022-05-25T13:53:16.297458Z",
     "shell.execute_reply": "2022-05-25T13:53:16.298050Z",
     "shell.execute_reply.started": "2022-05-25T13:46:19.865941Z"
    },
    "papermill": {
     "duration": 0.094692,
     "end_time": "2022-05-25T13:53:16.298213",
     "exception": false,
     "start_time": "2022-05-25T13:53:16.203521",
     "status": "completed"
    },
    "tags": []
   },
   "outputs": [],
   "source": [
    "cluster_cols = ['x', 'y','end_x', 'end_y', 'pass_length']"
   ]
  },
  {
   "cell_type": "code",
   "execution_count": 34,
   "id": "f40d48ae",
   "metadata": {
    "execution": {
     "iopub.execute_input": "2022-05-25T13:53:16.477812Z",
     "iopub.status.busy": "2022-05-25T13:53:16.477112Z",
     "iopub.status.idle": "2022-05-25T13:53:16.864716Z",
     "shell.execute_reply": "2022-05-25T13:53:16.865283Z",
     "shell.execute_reply.started": "2022-05-25T13:46:20.290257Z"
    },
    "papermill": {
     "duration": 0.479326,
     "end_time": "2022-05-25T13:53:16.865446",
     "exception": false,
     "start_time": "2022-05-25T13:53:16.386120",
     "status": "completed"
    },
    "tags": []
   },
   "outputs": [
    {
     "data": {
      "text/plain": [
       "HDBSCAN(min_cluster_size=10, min_samples=3)"
      ]
     },
     "execution_count": 34,
     "metadata": {},
     "output_type": "execute_result"
    }
   ],
   "source": [
    "import hdbscan\n",
    "clusterer = hdbscan.HDBSCAN(min_cluster_size = 10, min_samples = 3)\n",
    "clusterer.fit(ipasses[cluster_cols])"
   ]
  },
  {
   "cell_type": "code",
   "execution_count": 35,
   "id": "e5511a1d",
   "metadata": {
    "execution": {
     "iopub.execute_input": "2022-05-25T13:53:17.046456Z",
     "iopub.status.busy": "2022-05-25T13:53:17.045466Z",
     "iopub.status.idle": "2022-05-25T13:53:17.052680Z",
     "shell.execute_reply": "2022-05-25T13:53:17.053193Z",
     "shell.execute_reply.started": "2022-05-25T13:46:20.588180Z"
    },
    "papermill": {
     "duration": 0.100006,
     "end_time": "2022-05-25T13:53:17.053369",
     "exception": false,
     "start_time": "2022-05-25T13:53:16.953363",
     "status": "completed"
    },
    "tags": []
   },
   "outputs": [
    {
     "data": {
      "text/plain": [
       "array([ 5, -1,  4, -1, -1, -1, -1, -1, -1,  5, -1, -1,  5, -1, -1, -1, -1,\n",
       "        5,  5, -1,  5,  5,  5,  5,  5,  5, -1, -1,  5,  5, -1,  0,  1,  3,\n",
       "       -1, -1, -1, -1, -1, -1, -1,  5,  5,  5,  5,  5, -1,  5, -1, -1, -1,\n",
       "       -1, -1,  5,  5, -1,  2,  3,  3,  5, -1, -1, -1, -1,  4,  5,  2, -1,\n",
       "       -1,  5, -1, -1,  3, -1, -1, -1,  5,  5,  5,  5,  1, -1,  4, -1,  4,\n",
       "       -1,  5,  5,  5,  5, -1, -1,  1,  1,  1, -1, -1,  2,  5,  5,  5,  5,\n",
       "        5,  5,  5, -1, -1, -1,  5,  5,  5,  5,  5,  5,  5,  5, -1,  3,  3,\n",
       "       -1, -1, -1, -1, -1,  3, -1, -1, -1, -1, -1,  5, -1, -1, -1,  1, -1,\n",
       "       -1,  5,  5,  5,  5, -1,  5,  2,  5, -1, -1, -1, -1,  5,  5, -1, -1,\n",
       "       -1, -1, -1, -1, -1, -1, -1,  0,  1, -1,  0,  0, -1, -1,  0, -1, -1,\n",
       "       -1,  5, -1, -1, -1, -1, -1,  0, -1, -1, -1, -1,  0, -1, -1, -1,  0,\n",
       "       -1, -1, -1, -1,  5, -1,  5,  5,  5,  5, -1, -1, -1,  5,  5,  5, -1,\n",
       "        5, -1,  3,  3, -1, -1, -1, -1, -1,  0, -1, -1,  5,  5,  5,  5,  2,\n",
       "       -1, -1, -1,  5,  1, -1,  5,  5,  5,  5,  5,  5,  5, -1,  5, -1,  3,\n",
       "        3,  5, -1, -1, -1,  5, -1, -1, -1, -1,  3, -1, -1, -1, -1, -1,  5,\n",
       "       -1,  3,  3,  3, -1, -1, -1,  5, -1,  3,  3,  3, -1,  5,  5,  5, -1,\n",
       "        5,  5,  5,  5,  5,  5,  5, -1, -1,  3, -1, -1,  3,  3,  3, -1, -1,\n",
       "       -1,  4,  4,  5,  5,  5,  5,  5, -1, -1,  3, -1, -1, -1, -1, -1,  5,\n",
       "        5,  5, -1, -1, -1, -1, -1, -1,  1, -1, -1,  4, -1,  1, -1,  5, -1,\n",
       "       -1,  1, -1, -1, -1,  1, -1, -1,  5,  5,  5, -1,  5,  5,  5,  2,  5,\n",
       "       -1, -1, -1, -1, -1,  3, -1,  0, -1, -1,  3,  3, -1,  3, -1,  3,  3,\n",
       "       -1, -1, -1,  5,  5,  5,  5, -1, -1,  5,  5, -1, -1,  3, -1, -1, -1,\n",
       "        0,  0, -1, -1,  5,  5,  5,  5, -1,  5,  5,  4,  5, -1, -1, -1, -1,\n",
       "       -1, -1,  0,  0, -1, -1, -1, -1, -1, -1,  5,  5,  5,  5,  5, -1,  5,\n",
       "       -1, -1, -1, -1,  1, -1,  1, -1,  5,  5,  5,  5, -1,  3, -1, -1, -1,\n",
       "        3, -1,  1,  1,  4,  5,  5,  5,  2,  3,  5,  5, -1,  3, -1,  3, -1,\n",
       "       -1,  5,  5, -1,  1, -1,  1, -1,  1,  3,  3,  5,  5,  5,  3,  3,  3,\n",
       "       -1,  3, -1, -1,  3,  3, -1,  3,  0,  0,  1,  1,  1,  5, -1, -1, -1,\n",
       "        0,  1, -1, -1,  5,  5,  5,  5,  5,  5,  5,  2,  3, -1, -1,  5,  5,\n",
       "       -1, -1, -1, -1, -1, -1,  5,  5,  5, -1,  3, -1,  1,  1,  1, -1,  5,\n",
       "        5,  5, -1, -1, -1,  5,  5, -1,  5,  5,  5,  5,  5,  3,  3,  3,  3,\n",
       "       -1, -1,  5, -1, -1,  3,  3,  3, -1, -1,  3,  3, -1, -1, -1, -1, -1,\n",
       "       -1, -1, -1, -1,  5, -1,  5,  5,  5,  2,  3, -1,  5,  5,  5,  5,  2,\n",
       "        5,  5,  5,  5,  5,  2,  3,  3,  3,  3, -1, -1, -1,  5, -1, -1, -1,\n",
       "        0,  1,  1, -1,  5,  5,  5, -1,  5,  3,  3,  3,  3,  5,  3, -1, -1,\n",
       "        3,  3,  5, -1,  5,  5,  3,  3, -1,  5,  5, -1, -1, -1, -1,  5, -1,\n",
       "        4,  5,  2,  3,  3, -1,  1,  1,  4, -1,  5,  5,  5,  5,  5,  5,  5,\n",
       "        5, -1,  5,  5,  5])"
      ]
     },
     "execution_count": 35,
     "metadata": {},
     "output_type": "execute_result"
    }
   ],
   "source": [
    "clusterer.labels_"
   ]
  },
  {
   "cell_type": "code",
   "execution_count": 36,
   "id": "768d0996",
   "metadata": {
    "execution": {
     "iopub.execute_input": "2022-05-25T13:53:17.238283Z",
     "iopub.status.busy": "2022-05-25T13:53:17.237017Z",
     "iopub.status.idle": "2022-05-25T13:53:17.241901Z",
     "shell.execute_reply": "2022-05-25T13:53:17.242347Z",
     "shell.execute_reply.started": "2022-05-25T13:46:21.043844Z"
    },
    "papermill": {
     "duration": 0.098271,
     "end_time": "2022-05-25T13:53:17.242515",
     "exception": false,
     "start_time": "2022-05-25T13:53:17.144244",
     "status": "completed"
    },
    "tags": []
   },
   "outputs": [
    {
     "name": "stderr",
     "output_type": "stream",
     "text": [
      "/opt/conda/lib/python3.7/site-packages/ipykernel_launcher.py:1: SettingWithCopyWarning: \n",
      "A value is trying to be set on a copy of a slice from a DataFrame.\n",
      "Try using .loc[row_indexer,col_indexer] = value instead\n",
      "\n",
      "See the caveats in the documentation: https://pandas.pydata.org/pandas-docs/stable/user_guide/indexing.html#returning-a-view-versus-a-copy\n",
      "  \"\"\"Entry point for launching an IPython kernel.\n"
     ]
    }
   ],
   "source": [
    "ipasses['cluster'] = clusterer.labels_"
   ]
  },
  {
   "cell_type": "code",
   "execution_count": 37,
   "id": "569120c7",
   "metadata": {
    "execution": {
     "iopub.execute_input": "2022-05-25T13:53:17.426016Z",
     "iopub.status.busy": "2022-05-25T13:53:17.425322Z",
     "iopub.status.idle": "2022-05-25T13:53:17.436061Z",
     "shell.execute_reply": "2022-05-25T13:53:17.436560Z",
     "shell.execute_reply.started": "2022-05-25T13:46:21.309255Z"
    },
    "papermill": {
     "duration": 0.10393,
     "end_time": "2022-05-25T13:53:17.436745",
     "exception": false,
     "start_time": "2022-05-25T13:53:17.332815",
     "status": "completed"
    },
    "tags": []
   },
   "outputs": [
    {
     "data": {
      "text/plain": [
       "cluster\n",
       "-1    59.471972\n",
       " 0    12.844444\n",
       " 1    39.533333\n",
       " 2    53.850000\n",
       " 3    84.785915\n",
       " 4    36.190909\n",
       " 5    66.635961\n",
       "Name: x, dtype: float64"
      ]
     },
     "execution_count": 37,
     "metadata": {},
     "output_type": "execute_result"
    }
   ],
   "source": [
    "clusters_italy = ipasses.groupby('cluster')[cluster_cols].mean()\n",
    "clusters_italy['x']"
   ]
  },
  {
   "cell_type": "code",
   "execution_count": 38,
   "id": "1e4b3065",
   "metadata": {
    "execution": {
     "iopub.execute_input": "2022-05-25T13:53:17.620760Z",
     "iopub.status.busy": "2022-05-25T13:53:17.620096Z",
     "iopub.status.idle": "2022-05-25T13:53:17.631241Z",
     "shell.execute_reply": "2022-05-25T13:53:17.631741Z",
     "shell.execute_reply.started": "2022-05-25T13:46:21.530321Z"
    },
    "papermill": {
     "duration": 0.104069,
     "end_time": "2022-05-25T13:53:17.631904",
     "exception": false,
     "start_time": "2022-05-25T13:53:17.527835",
     "status": "completed"
    },
    "tags": []
   },
   "outputs": [
    {
     "data": {
      "text/html": [
       "<div>\n",
       "<style scoped>\n",
       "    .dataframe tbody tr th:only-of-type {\n",
       "        vertical-align: middle;\n",
       "    }\n",
       "\n",
       "    .dataframe tbody tr th {\n",
       "        vertical-align: top;\n",
       "    }\n",
       "\n",
       "    .dataframe thead th {\n",
       "        text-align: right;\n",
       "    }\n",
       "</style>\n",
       "<table border=\"1\" class=\"dataframe\">\n",
       "  <thead>\n",
       "    <tr style=\"text-align: right;\">\n",
       "      <th></th>\n",
       "      <th>x</th>\n",
       "      <th>y</th>\n",
       "      <th>end_x</th>\n",
       "      <th>end_y</th>\n",
       "      <th>pass_length</th>\n",
       "    </tr>\n",
       "    <tr>\n",
       "      <th>cluster</th>\n",
       "      <th></th>\n",
       "      <th></th>\n",
       "      <th></th>\n",
       "      <th></th>\n",
       "      <th></th>\n",
       "    </tr>\n",
       "  </thead>\n",
       "  <tbody>\n",
       "    <tr>\n",
       "      <th>-1</th>\n",
       "      <td>59.471972</td>\n",
       "      <td>39.908997</td>\n",
       "      <td>65.126298</td>\n",
       "      <td>39.219377</td>\n",
       "      <td>24.861361</td>\n",
       "    </tr>\n",
       "    <tr>\n",
       "      <th>0</th>\n",
       "      <td>12.844444</td>\n",
       "      <td>37.044444</td>\n",
       "      <td>20.038889</td>\n",
       "      <td>52.394444</td>\n",
       "      <td>19.191307</td>\n",
       "    </tr>\n",
       "    <tr>\n",
       "      <th>1</th>\n",
       "      <td>39.533333</td>\n",
       "      <td>65.653333</td>\n",
       "      <td>40.700000</td>\n",
       "      <td>67.073333</td>\n",
       "      <td>15.331195</td>\n",
       "    </tr>\n",
       "    <tr>\n",
       "      <th>2</th>\n",
       "      <td>53.850000</td>\n",
       "      <td>46.875000</td>\n",
       "      <td>66.566667</td>\n",
       "      <td>72.458333</td>\n",
       "      <td>28.977252</td>\n",
       "    </tr>\n",
       "    <tr>\n",
       "      <th>3</th>\n",
       "      <td>84.785915</td>\n",
       "      <td>69.012676</td>\n",
       "      <td>88.171831</td>\n",
       "      <td>70.107042</td>\n",
       "      <td>13.852561</td>\n",
       "    </tr>\n",
       "    <tr>\n",
       "      <th>4</th>\n",
       "      <td>36.190909</td>\n",
       "      <td>39.345455</td>\n",
       "      <td>40.181818</td>\n",
       "      <td>25.554545</td>\n",
       "      <td>15.522843</td>\n",
       "    </tr>\n",
       "    <tr>\n",
       "      <th>5</th>\n",
       "      <td>66.635961</td>\n",
       "      <td>22.472414</td>\n",
       "      <td>66.377340</td>\n",
       "      <td>23.596059</td>\n",
       "      <td>15.350287</td>\n",
       "    </tr>\n",
       "  </tbody>\n",
       "</table>\n",
       "</div>"
      ],
      "text/plain": [
       "                 x          y      end_x      end_y  pass_length\n",
       "cluster                                                         \n",
       "-1       59.471972  39.908997  65.126298  39.219377    24.861361\n",
       " 0       12.844444  37.044444  20.038889  52.394444    19.191307\n",
       " 1       39.533333  65.653333  40.700000  67.073333    15.331195\n",
       " 2       53.850000  46.875000  66.566667  72.458333    28.977252\n",
       " 3       84.785915  69.012676  88.171831  70.107042    13.852561\n",
       " 4       36.190909  39.345455  40.181818  25.554545    15.522843\n",
       " 5       66.635961  22.472414  66.377340  23.596059    15.350287"
      ]
     },
     "execution_count": 38,
     "metadata": {},
     "output_type": "execute_result"
    }
   ],
   "source": [
    "clusters_italy"
   ]
  },
  {
   "cell_type": "code",
   "execution_count": 39,
   "id": "5592ee6b",
   "metadata": {
    "execution": {
     "iopub.execute_input": "2022-05-25T13:53:17.814346Z",
     "iopub.status.busy": "2022-05-25T13:53:17.813717Z",
     "iopub.status.idle": "2022-05-25T13:53:17.818863Z",
     "shell.execute_reply": "2022-05-25T13:53:17.818385Z",
     "shell.execute_reply.started": "2022-05-25T13:46:21.738907Z"
    },
    "papermill": {
     "duration": 0.097264,
     "end_time": "2022-05-25T13:53:17.818997",
     "exception": false,
     "start_time": "2022-05-25T13:53:17.721733",
     "status": "completed"
    },
    "tags": []
   },
   "outputs": [],
   "source": [
    "sns.set(rc={'figure.figsize':(20,15)})"
   ]
  },
  {
   "cell_type": "code",
   "execution_count": 40,
   "id": "b8cc57f7",
   "metadata": {
    "execution": {
     "iopub.execute_input": "2022-05-25T13:53:18.007874Z",
     "iopub.status.busy": "2022-05-25T13:53:18.007216Z",
     "iopub.status.idle": "2022-05-25T13:53:19.144944Z",
     "shell.execute_reply": "2022-05-25T13:53:19.144298Z",
     "shell.execute_reply.started": "2022-05-25T13:47:19.784165Z"
    },
    "papermill": {
     "duration": 1.23617,
     "end_time": "2022-05-25T13:53:19.145079",
     "exception": false,
     "start_time": "2022-05-25T13:53:17.908909",
     "status": "completed"
    },
    "tags": []
   },
   "outputs": [
    {
     "data": {
      "image/png": "[encoded data removed]",
      "text/plain": [
       "<Figure size 1440x1080 with 1 Axes>"
      ]
     },
     "metadata": {},
     "output_type": "display_data"
    }
   ],
   "source": [
    "fig, ax = create_pitch(120, 80,'white')\n",
    "for index, pass_ in clusters_italy.iterrows():\n",
    "    if (index < 0):\n",
    "        continue\n",
    "    x, y = pass_['x'], pass_['y']\n",
    "    end_x, end_y = pass_['end_x'], pass_['end_y']\n",
    "    color = 'blue' \n",
    "    y = 80 - y\n",
    "    end_y = 80 - end_y\n",
    "    plt.plot([x, end_x], [y, end_y], linewidth = 5)\n",
    "    plt.text((x+1),y+1,index, color = \"white\", fontweight = 'bold', fontsize = 'xx-large')\n",
    "    plt.savefig(\"dbscan_cluster.png\")"
   ]
  },
  {
   "cell_type": "code",
   "execution_count": 41,
   "id": "ff2e40f3",
   "metadata": {
    "execution": {
     "iopub.execute_input": "2022-05-25T13:53:19.348396Z",
     "iopub.status.busy": "2022-05-25T13:53:19.343239Z",
     "iopub.status.idle": "2022-05-25T13:53:19.356278Z",
     "shell.execute_reply": "2022-05-25T13:53:19.357049Z",
     "shell.execute_reply.started": "2022-05-25T13:46:23.088162Z"
    },
    "papermill": {
     "duration": 0.118381,
     "end_time": "2022-05-25T13:53:19.357291",
     "exception": false,
     "start_time": "2022-05-25T13:53:19.238910",
     "status": "completed"
    },
    "tags": []
   },
   "outputs": [
    {
     "data": {
      "text/plain": [
       "player_name                  pass_recipient_name  \n",
       "Alessandro Bastoni           Marco Verratti           15\n",
       "Emerson Palmieri dos Santos  Marco Verratti           15\n",
       "Marco Verratti               Alessandro Bastoni       14\n",
       "Emerson Palmieri dos Santos  Alessandro Bastoni       12\n",
       "Marco Verratti               Federico Bernardeschi    10\n",
       "dtype: int64"
      ]
     },
     "execution_count": 41,
     "metadata": {},
     "output_type": "execute_result"
    }
   ],
   "source": [
    "ipasses[ipasses['cluster'] == 5][['player_name', 'pass_recipient_name']].value_counts()[:5]"
   ]
  },
  {
   "cell_type": "code",
   "execution_count": 42,
   "id": "ead6c039",
   "metadata": {
    "execution": {
     "iopub.execute_input": "2022-05-25T13:53:19.614104Z",
     "iopub.status.busy": "2022-05-25T13:53:19.613388Z",
     "iopub.status.idle": "2022-05-25T13:53:19.626905Z",
     "shell.execute_reply": "2022-05-25T13:53:19.627503Z",
     "shell.execute_reply.started": "2022-05-25T13:46:23.103131Z"
    },
    "papermill": {
     "duration": 0.124251,
     "end_time": "2022-05-25T13:53:19.627723",
     "exception": false,
     "start_time": "2022-05-25T13:53:19.503472",
     "status": "completed"
    },
    "tags": []
   },
   "outputs": [
    {
     "data": {
      "text/plain": [
       "player_name       pass_recipient_name\n",
       "Francesco Acerbi  Rafael Tolói           4\n",
       "Leonardo Bonucci  Rafael Tolói           3\n",
       "Bryan Cristante   Rafael Tolói           2\n",
       "                  Francesco Acerbi       1\n",
       "Leonardo Bonucci  Matteo Pessina         1\n",
       "dtype: int64"
      ]
     },
     "execution_count": 42,
     "metadata": {},
     "output_type": "execute_result"
    }
   ],
   "source": [
    "ipasses[ipasses['cluster'] == 2][['player_name', 'pass_recipient_name']].value_counts()[:5]"
   ]
  },
  {
   "cell_type": "code",
   "execution_count": 43,
   "id": "d8a7210d",
   "metadata": {
    "execution": {
     "iopub.execute_input": "2022-05-25T13:53:19.833667Z",
     "iopub.status.busy": "2022-05-25T13:53:19.833023Z",
     "iopub.status.idle": "2022-05-25T13:53:19.866968Z",
     "shell.execute_reply": "2022-05-25T13:53:19.867559Z",
     "shell.execute_reply.started": "2022-05-25T13:46:23.126305Z"
    },
    "papermill": {
     "duration": 0.133666,
     "end_time": "2022-05-25T13:53:19.867762",
     "exception": false,
     "start_time": "2022-05-25T13:53:19.734096",
     "status": "completed"
    },
    "tags": []
   },
   "outputs": [
    {
     "data": {
      "text/html": [
       "<div>\n",
       "<style scoped>\n",
       "    .dataframe tbody tr th:only-of-type {\n",
       "        vertical-align: middle;\n",
       "    }\n",
       "\n",
       "    .dataframe tbody tr th {\n",
       "        vertical-align: top;\n",
       "    }\n",
       "\n",
       "    .dataframe thead th {\n",
       "        text-align: right;\n",
       "    }\n",
       "</style>\n",
       "<table border=\"1\" class=\"dataframe\">\n",
       "  <thead>\n",
       "    <tr style=\"text-align: right;\">\n",
       "      <th></th>\n",
       "      <th>period</th>\n",
       "      <th>timestamp_minute</th>\n",
       "      <th>timestamp_second</th>\n",
       "      <th>minute</th>\n",
       "      <th>second</th>\n",
       "      <th>sub_type_name</th>\n",
       "      <th>outcome_name</th>\n",
       "      <th>play_pattern_name</th>\n",
       "      <th>possession</th>\n",
       "      <th>possession_team_name</th>\n",
       "      <th>...</th>\n",
       "      <th>pass_length</th>\n",
       "      <th>pass_angle</th>\n",
       "      <th>pass_recipient_name</th>\n",
       "      <th>pass_height_name</th>\n",
       "      <th>pass_switch</th>\n",
       "      <th>pass_cross</th>\n",
       "      <th>pass_shot_assist</th>\n",
       "      <th>pass_cut_back</th>\n",
       "      <th>pass_goal_assist</th>\n",
       "      <th>direction</th>\n",
       "    </tr>\n",
       "    <tr>\n",
       "      <th>cluster</th>\n",
       "      <th></th>\n",
       "      <th></th>\n",
       "      <th></th>\n",
       "      <th></th>\n",
       "      <th></th>\n",
       "      <th></th>\n",
       "      <th></th>\n",
       "      <th></th>\n",
       "      <th></th>\n",
       "      <th></th>\n",
       "      <th></th>\n",
       "      <th></th>\n",
       "      <th></th>\n",
       "      <th></th>\n",
       "      <th></th>\n",
       "      <th></th>\n",
       "      <th></th>\n",
       "      <th></th>\n",
       "      <th></th>\n",
       "      <th></th>\n",
       "      <th></th>\n",
       "    </tr>\n",
       "  </thead>\n",
       "  <tbody>\n",
       "    <tr>\n",
       "      <th>-1</th>\n",
       "      <td>1</td>\n",
       "      <td>0</td>\n",
       "      <td>4</td>\n",
       "      <td>0</td>\n",
       "      <td>4</td>\n",
       "      <td>Recovery</td>\n",
       "      <td>Incomplete</td>\n",
       "      <td>From Kick Off</td>\n",
       "      <td>2</td>\n",
       "      <td>Italy</td>\n",
       "      <td>...</td>\n",
       "      <td>10.756393</td>\n",
       "      <td>3.039149</td>\n",
       "      <td>Leonardo Bonucci</td>\n",
       "      <td>Ground Pass</td>\n",
       "      <td>True</td>\n",
       "      <td>True</td>\n",
       "      <td>True</td>\n",
       "      <td>None</td>\n",
       "      <td>True</td>\n",
       "      <td>False</td>\n",
       "    </tr>\n",
       "    <tr>\n",
       "      <th>0</th>\n",
       "      <td>1</td>\n",
       "      <td>3</td>\n",
       "      <td>28</td>\n",
       "      <td>3</td>\n",
       "      <td>28</td>\n",
       "      <td>Recovery</td>\n",
       "      <td>None</td>\n",
       "      <td>Regular Play</td>\n",
       "      <td>8</td>\n",
       "      <td>Italy</td>\n",
       "      <td>...</td>\n",
       "      <td>19.758795</td>\n",
       "      <td>1.443930</td>\n",
       "      <td>Leonardo Bonucci</td>\n",
       "      <td>Ground Pass</td>\n",
       "      <td>None</td>\n",
       "      <td>None</td>\n",
       "      <td>None</td>\n",
       "      <td>None</td>\n",
       "      <td>None</td>\n",
       "      <td>True</td>\n",
       "    </tr>\n",
       "    <tr>\n",
       "      <th>1</th>\n",
       "      <td>1</td>\n",
       "      <td>3</td>\n",
       "      <td>35</td>\n",
       "      <td>3</td>\n",
       "      <td>35</td>\n",
       "      <td>Throw-in</td>\n",
       "      <td>Out</td>\n",
       "      <td>Regular Play</td>\n",
       "      <td>8</td>\n",
       "      <td>Italy</td>\n",
       "      <td>...</td>\n",
       "      <td>31.172424</td>\n",
       "      <td>1.161692</td>\n",
       "      <td>Rafael Tolói</td>\n",
       "      <td>Ground Pass</td>\n",
       "      <td>None</td>\n",
       "      <td>None</td>\n",
       "      <td>None</td>\n",
       "      <td>None</td>\n",
       "      <td>None</td>\n",
       "      <td>True</td>\n",
       "    </tr>\n",
       "    <tr>\n",
       "      <th>2</th>\n",
       "      <td>1</td>\n",
       "      <td>6</td>\n",
       "      <td>18</td>\n",
       "      <td>6</td>\n",
       "      <td>18</td>\n",
       "      <td>None</td>\n",
       "      <td>None</td>\n",
       "      <td>From Free Kick</td>\n",
       "      <td>14</td>\n",
       "      <td>Italy</td>\n",
       "      <td>...</td>\n",
       "      <td>37.570470</td>\n",
       "      <td>1.055942</td>\n",
       "      <td>Rafael Tolói</td>\n",
       "      <td>Ground Pass</td>\n",
       "      <td>None</td>\n",
       "      <td>None</td>\n",
       "      <td>None</td>\n",
       "      <td>None</td>\n",
       "      <td>None</td>\n",
       "      <td>True</td>\n",
       "    </tr>\n",
       "    <tr>\n",
       "      <th>3</th>\n",
       "      <td>1</td>\n",
       "      <td>3</td>\n",
       "      <td>39</td>\n",
       "      <td>3</td>\n",
       "      <td>39</td>\n",
       "      <td>Recovery</td>\n",
       "      <td>Incomplete</td>\n",
       "      <td>Regular Play</td>\n",
       "      <td>8</td>\n",
       "      <td>Italy</td>\n",
       "      <td>...</td>\n",
       "      <td>10.466136</td>\n",
       "      <td>-0.798911</td>\n",
       "      <td>Andrea Belotti</td>\n",
       "      <td>Ground Pass</td>\n",
       "      <td>None</td>\n",
       "      <td>True</td>\n",
       "      <td>True</td>\n",
       "      <td>True</td>\n",
       "      <td>None</td>\n",
       "      <td>True</td>\n",
       "    </tr>\n",
       "    <tr>\n",
       "      <th>4</th>\n",
       "      <td>1</td>\n",
       "      <td>0</td>\n",
       "      <td>5</td>\n",
       "      <td>0</td>\n",
       "      <td>5</td>\n",
       "      <td>None</td>\n",
       "      <td>None</td>\n",
       "      <td>From Kick Off</td>\n",
       "      <td>2</td>\n",
       "      <td>Italy</td>\n",
       "      <td>...</td>\n",
       "      <td>20.961393</td>\n",
       "      <td>-1.412706</td>\n",
       "      <td>Alessandro Bastoni</td>\n",
       "      <td>Ground Pass</td>\n",
       "      <td>None</td>\n",
       "      <td>None</td>\n",
       "      <td>None</td>\n",
       "      <td>None</td>\n",
       "      <td>None</td>\n",
       "      <td>True</td>\n",
       "    </tr>\n",
       "    <tr>\n",
       "      <th>5</th>\n",
       "      <td>1</td>\n",
       "      <td>0</td>\n",
       "      <td>0</td>\n",
       "      <td>0</td>\n",
       "      <td>0</td>\n",
       "      <td>Kick Off</td>\n",
       "      <td>Incomplete</td>\n",
       "      <td>From Kick Off</td>\n",
       "      <td>2</td>\n",
       "      <td>Italy</td>\n",
       "      <td>...</td>\n",
       "      <td>11.788130</td>\n",
       "      <td>2.884269</td>\n",
       "      <td>Jorge Luiz Frello Filho</td>\n",
       "      <td>Ground Pass</td>\n",
       "      <td>None</td>\n",
       "      <td>None</td>\n",
       "      <td>True</td>\n",
       "      <td>None</td>\n",
       "      <td>None</td>\n",
       "      <td>False</td>\n",
       "    </tr>\n",
       "  </tbody>\n",
       "</table>\n",
       "<p>7 rows × 33 columns</p>\n",
       "</div>"
      ],
      "text/plain": [
       "         period  timestamp_minute  timestamp_second  minute  second  \\\n",
       "cluster                                                               \n",
       "-1            1                 0                 4       0       4   \n",
       " 0            1                 3                28       3      28   \n",
       " 1            1                 3                35       3      35   \n",
       " 2            1                 6                18       6      18   \n",
       " 3            1                 3                39       3      39   \n",
       " 4            1                 0                 5       0       5   \n",
       " 5            1                 0                 0       0       0   \n",
       "\n",
       "        sub_type_name outcome_name play_pattern_name  possession  \\\n",
       "cluster                                                            \n",
       "-1           Recovery   Incomplete     From Kick Off           2   \n",
       " 0           Recovery         None      Regular Play           8   \n",
       " 1           Throw-in          Out      Regular Play           8   \n",
       " 2               None         None    From Free Kick          14   \n",
       " 3           Recovery   Incomplete      Regular Play           8   \n",
       " 4               None         None     From Kick Off           2   \n",
       " 5           Kick Off   Incomplete     From Kick Off           2   \n",
       "\n",
       "        possession_team_name  ... pass_length pass_angle  \\\n",
       "cluster                       ...                          \n",
       "-1                     Italy  ...   10.756393   3.039149   \n",
       " 0                     Italy  ...   19.758795   1.443930   \n",
       " 1                     Italy  ...   31.172424   1.161692   \n",
       " 2                     Italy  ...   37.570470   1.055942   \n",
       " 3                     Italy  ...   10.466136  -0.798911   \n",
       " 4                     Italy  ...   20.961393  -1.412706   \n",
       " 5                     Italy  ...   11.788130   2.884269   \n",
       "\n",
       "             pass_recipient_name  pass_height_name  pass_switch  pass_cross  \\\n",
       "cluster                                                                       \n",
       "-1              Leonardo Bonucci       Ground Pass         True        True   \n",
       " 0              Leonardo Bonucci       Ground Pass         None        None   \n",
       " 1                  Rafael Tolói       Ground Pass         None        None   \n",
       " 2                  Rafael Tolói       Ground Pass         None        None   \n",
       " 3                Andrea Belotti       Ground Pass         None        True   \n",
       " 4            Alessandro Bastoni       Ground Pass         None        None   \n",
       " 5       Jorge Luiz Frello Filho       Ground Pass         None        None   \n",
       "\n",
       "         pass_shot_assist  pass_cut_back pass_goal_assist direction  \n",
       "cluster                                                              \n",
       "-1                   True           None             True     False  \n",
       " 0                   None           None             None      True  \n",
       " 1                   None           None             None      True  \n",
       " 2                   None           None             None      True  \n",
       " 3                   True           True             None      True  \n",
       " 4                   None           None             None      True  \n",
       " 5                   True           None             None     False  \n",
       "\n",
       "[7 rows x 33 columns]"
      ]
     },
     "execution_count": 43,
     "metadata": {},
     "output_type": "execute_result"
    }
   ],
   "source": [
    "ipasses.groupby('cluster').first()"
   ]
  },
  {
   "cell_type": "code",
   "execution_count": 44,
   "id": "be071c27",
   "metadata": {
    "execution": {
     "iopub.execute_input": "2022-05-25T13:53:20.061616Z",
     "iopub.status.busy": "2022-05-25T13:53:20.060970Z",
     "iopub.status.idle": "2022-05-25T13:53:22.000162Z",
     "shell.execute_reply": "2022-05-25T13:53:22.001121Z",
     "shell.execute_reply.started": "2022-05-25T13:46:23.175408Z"
    },
    "papermill": {
     "duration": 2.038543,
     "end_time": "2022-05-25T13:53:22.001392",
     "exception": false,
     "start_time": "2022-05-25T13:53:19.962849",
     "status": "completed"
    },
    "tags": []
   },
   "outputs": [],
   "source": [
    "from sklearn.mixture import BayesianGaussianMixture\n",
    "bgm = BayesianGaussianMixture(n_components=20,\n",
    "                              random_state=42,\n",
    "                              max_iter = 1000,\n",
    "                              init_params = 'kmeans').fit(ipasses[cluster_cols])"
   ]
  },
  {
   "cell_type": "code",
   "execution_count": 45,
   "id": "e81719ab",
   "metadata": {
    "execution": {
     "iopub.execute_input": "2022-05-25T13:53:22.246988Z",
     "iopub.status.busy": "2022-05-25T13:53:22.246324Z",
     "iopub.status.idle": "2022-05-25T13:53:22.252844Z",
     "shell.execute_reply": "2022-05-25T13:53:22.253616Z",
     "shell.execute_reply.started": "2022-05-25T13:46:24.983236Z"
    },
    "papermill": {
     "duration": 0.105403,
     "end_time": "2022-05-25T13:53:22.253843",
     "exception": false,
     "start_time": "2022-05-25T13:53:22.148440",
     "status": "completed"
    },
    "tags": []
   },
   "outputs": [
    {
     "name": "stderr",
     "output_type": "stream",
     "text": [
      "/opt/conda/lib/python3.7/site-packages/ipykernel_launcher.py:1: SettingWithCopyWarning: \n",
      "A value is trying to be set on a copy of a slice from a DataFrame.\n",
      "Try using .loc[row_indexer,col_indexer] = value instead\n",
      "\n",
      "See the caveats in the documentation: https://pandas.pydata.org/pandas-docs/stable/user_guide/indexing.html#returning-a-view-versus-a-copy\n",
      "  \"\"\"Entry point for launching an IPython kernel.\n"
     ]
    }
   ],
   "source": [
    "ipasses['gmm_cluster'] = bgm.predict(ipasses[cluster_cols])"
   ]
  },
  {
   "cell_type": "code",
   "execution_count": 46,
   "id": "706e970b",
   "metadata": {
    "execution": {
     "iopub.execute_input": "2022-05-25T13:53:22.448895Z",
     "iopub.status.busy": "2022-05-25T13:53:22.448248Z",
     "iopub.status.idle": "2022-05-25T13:53:22.455413Z",
     "shell.execute_reply": "2022-05-25T13:53:22.456040Z",
     "shell.execute_reply.started": "2022-05-25T13:46:25.005473Z"
    },
    "papermill": {
     "duration": 0.103745,
     "end_time": "2022-05-25T13:53:22.456224",
     "exception": false,
     "start_time": "2022-05-25T13:53:22.352479",
     "status": "completed"
    },
    "tags": []
   },
   "outputs": [],
   "source": [
    "clusters_italy2 = ipasses.groupby('gmm_cluster').mean()[cluster_cols]"
   ]
  },
  {
   "cell_type": "code",
   "execution_count": 47,
   "id": "262d2870",
   "metadata": {
    "execution": {
     "iopub.execute_input": "2022-05-25T13:53:22.667426Z",
     "iopub.status.busy": "2022-05-25T13:53:22.666383Z",
     "iopub.status.idle": "2022-05-25T13:53:25.236450Z",
     "shell.execute_reply": "2022-05-25T13:53:25.236960Z",
     "shell.execute_reply.started": "2022-05-25T13:46:25.023916Z"
    },
    "papermill": {
     "duration": 2.687154,
     "end_time": "2022-05-25T13:53:25.237130",
     "exception": false,
     "start_time": "2022-05-25T13:53:22.549976",
     "status": "completed"
    },
    "tags": []
   },
   "outputs": [
    {
     "data": {
      "image/png": "[encoded data removed]",
      "text/plain": [
       "<Figure size 1440x1080 with 1 Axes>"
      ]
     },
     "metadata": {},
     "output_type": "display_data"
    }
   ],
   "source": [
    "fig, ax = create_pitch(120, 80,'white')\n",
    "for index, pass_ in clusters_italy2.iterrows():\n",
    "    if (index < 0):\n",
    "        continue\n",
    "    x, y = pass_['x'], pass_['y']\n",
    "    end_x, end_y = pass_['end_x'], pass_['end_y']\n",
    "    color = 'blue' \n",
    "    y = 80 - y\n",
    "    end_y = 80 - end_y\n",
    "    plt.plot([x, end_x], [y, end_y], linewidth = 5)\n",
    "    plt.text((x+1),y+1,index, color = \"white\", fontweight = 'bold', fontsize = 'xx-large')\n",
    "    plt.savefig('gmm_cluster.png')"
   ]
  },
  {
   "cell_type": "code",
   "execution_count": 48,
   "id": "10cb0c0d",
   "metadata": {
    "execution": {
     "iopub.execute_input": "2022-05-25T13:53:25.442567Z",
     "iopub.status.busy": "2022-05-25T13:53:25.438232Z",
     "iopub.status.idle": "2022-05-25T13:53:25.444951Z",
     "shell.execute_reply": "2022-05-25T13:53:25.445516Z",
     "shell.execute_reply.started": "2022-05-25T13:46:27.715214Z"
    },
    "papermill": {
     "duration": 0.111676,
     "end_time": "2022-05-25T13:53:25.445693",
     "exception": false,
     "start_time": "2022-05-25T13:53:25.334017",
     "status": "completed"
    },
    "tags": []
   },
   "outputs": [
    {
     "data": {
      "text/plain": [
       "player_name                  pass_recipient_name\n",
       "Emerson Palmieri dos Santos  Alessandro Bastoni     18\n",
       "                             Marco Verratti         11\n",
       "Alessandro Bastoni           Marco Verratti          9\n",
       "Marco Verratti               Alessandro Bastoni      6\n",
       "Federico Bernardeschi        Marco Verratti          6\n",
       "dtype: int64"
      ]
     },
     "execution_count": 48,
     "metadata": {},
     "output_type": "execute_result"
    }
   ],
   "source": [
    "ipasses[ipasses['gmm_cluster'] == 4][['player_name', 'pass_recipient_name']].value_counts()[:5]"
   ]
  },
  {
   "cell_type": "markdown",
   "id": "aa996e5c",
   "metadata": {
    "papermill": {
     "duration": 0.096571,
     "end_time": "2022-05-25T13:53:25.639520",
     "exception": false,
     "start_time": "2022-05-25T13:53:25.542949",
     "status": "completed"
    },
    "tags": []
   },
   "source": [
    "### Cluster 5 is neither forward nor backwards cluster\n",
    "### Italy rarely pass back to the keeper too"
   ]
  },
  {
   "cell_type": "code",
   "execution_count": 49,
   "id": "8f7593f4",
   "metadata": {
    "execution": {
     "iopub.execute_input": "2022-05-25T13:53:25.837779Z",
     "iopub.status.busy": "2022-05-25T13:53:25.837107Z",
     "iopub.status.idle": "2022-05-25T13:53:25.845353Z",
     "shell.execute_reply": "2022-05-25T13:53:25.845994Z",
     "shell.execute_reply.started": "2022-05-25T13:46:59.016343Z"
    },
    "papermill": {
     "duration": 0.108678,
     "end_time": "2022-05-25T13:53:25.846163",
     "exception": false,
     "start_time": "2022-05-25T13:53:25.737485",
     "status": "completed"
    },
    "tags": []
   },
   "outputs": [
    {
     "data": {
      "text/plain": [
       "cluster  direction\n",
       "-1       False        115\n",
       "         True         174\n",
       " 0       False          3\n",
       "         True          15\n",
       " 1       False         12\n",
       "         True          18\n",
       " 2       True          12\n",
       " 3       False         33\n",
       "         True          38\n",
       " 4       False          2\n",
       "         True           9\n",
       " 5       False        103\n",
       "         True         100\n",
       "dtype: int64"
      ]
     },
     "execution_count": 49,
     "metadata": {},
     "output_type": "execute_result"
    }
   ],
   "source": [
    "ipasses.groupby(['cluster', 'direction']).size()"
   ]
  },
  {
   "cell_type": "code",
   "execution_count": null,
   "id": "5bc4fcc6",
   "metadata": {
    "papermill": {
     "duration": 0.097322,
     "end_time": "2022-05-25T13:53:26.040223",
     "exception": false,
     "start_time": "2022-05-25T13:53:25.942901",
     "status": "completed"
    },
    "tags": []
   },
   "outputs": [],
   "source": []
  },
  {
   "cell_type": "code",
   "execution_count": null,
   "id": "c31087f4",
   "metadata": {
    "papermill": {
     "duration": 0.098167,
     "end_time": "2022-05-25T13:53:26.239004",
     "exception": false,
     "start_time": "2022-05-25T13:53:26.140837",
     "status": "completed"
    },
    "tags": []
   },
   "outputs": [],
   "source": []
  }
 ],
 "metadata": {
  "kernelspec": {
   "display_name": "Python 3",
   "language": "python",
   "name": "python3"
  },
  "language_info": {
   "codemirror_mode": {
    "name": "ipython",
    "version": 3
   },
   "file_extension": ".py",
   "mimetype": "text/x-python",
   "name": "python",
   "nbconvert_exporter": "python",
   "pygments_lexer": "ipython3",
   "version": "3.7.12"
  },
  "papermill": {
   "default_parameters": {},
   "duration": 168.061196,
   "end_time": "2022-05-25T13:53:27.247852",
   "environment_variables": {},
   "exception": null,
   "input_path": "__notebook__.ipynb",
   "output_path": "__notebook__.ipynb",
   "parameters": {},
   "start_time": "2022-05-25T13:50:39.186656",
   "version": "2.3.3"
  }
 },
 "nbformat": 4,
 "nbformat_minor": 5
}
