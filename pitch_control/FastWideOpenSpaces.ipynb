{
  "cells": [
    {
      "cell_type": "markdown",
      "metadata": {
        "colab_type": "text",
        "id": "KkFlDuzYFaja"
      },
      "source": [
        "##Import data and convert locations to numpy arrays with dimensions (players,frames,2)."
      ]
    },
    {
      "cell_type": "code",
      "execution_count": 10,
      "metadata": {
        "colab": {},
        "colab_type": "code",
        "id": "rrTirNum9zsa"
      },
      "outputs": [],
      "source": [
        "import pandas as pd\n",
        "import numpy as np\n",
        "import torch\n",
        "\n",
        "FIRST_GAME_FRAME = 1173\n",
        "LAST_GAME_FRAME = 136500\n",
        "\n",
        "away_data = pd.read_parquet('../data/metrica/tracking_team1.parquet').iloc[FIRST_GAME_FRAME:LAST_GAME_FRAME,:].reset_index(drop=True)\n",
        "home_data = pd.read_parquet('../data/metrica/tracking_team2.parquet').iloc[FIRST_GAME_FRAME:LAST_GAME_FRAME,:].reset_index(drop=True)\n",
        "\n",
        "num_home_team_players = (len(home_data.columns)-5)//2\n",
        "num_away_team_players = (len(away_data.columns)-5)//2\n",
        "locs_home = np.array([np.asarray(home_data.iloc[:,range(3 + j*2,3 + j*2 +2)]) for j in range(num_home_team_players)]) * np.array([105,-68]) + np.array([0, 68])\n",
        "locs_away = np.array([np.asarray(away_data.iloc[:,range(3 + j*2,3 + j*2 +2)]) for j in range(num_away_team_players)]) * np.array([105,-68]) + np.array([0, 68])\n",
        "locs_ball = np.asarray(home_data.iloc[:,-2:]) * np.array([105,-68]) + np.array([0, 68])\n",
        "\n",
        "tt = home_data['Time [s]']"
      ]
    },
    {
      "cell_type": "markdown",
      "metadata": {
        "colab_type": "text",
        "id": "QaQ4hNPUE5_B"
      },
      "source": [
        "## Pre-compute quantities required for pitch-control\n",
        "\n",
        "Precompute required pitch control quantities for all frames simultaneously. Mostly correspond to quantities in appendix of paper, should be clear from variable names what corresponds to what."
      ]
    },
    {
      "cell_type": "code",
      "execution_count": 11,
      "metadata": {
        "colab": {},
        "colab_type": "code",
        "id": "hooGYdpOmnmz"
      },
      "outputs": [],
      "source": [
        "jitter = 1e-12 # to avoid division by zero when players are standing still\n",
        "\n",
        "xy_home = torch.Tensor(locs_home)\n",
        "xy_away = torch.Tensor(locs_away).to('cpu')\n",
        "xy_ball = torch.Tensor(locs_ball).to('cpu')\n",
        "ttt = torch.Tensor(tt).to('cpu')\n",
        "\n",
        "# x & y velocity components\n",
        "dt = ttt[1:] - ttt[:-1]\n",
        "sxy_home = (xy_home[:,1:,:] - xy_home[:,:-1,:])/dt[:,None] + jitter\n",
        "sxy_away = (xy_away[:,1:,:] - xy_away[:,:-1,:])/dt[:,None] + jitter\n",
        "\n",
        "# velocities\n",
        "s_home = torch.sqrt(torch.sum(sxy_home**2,2))\n",
        "s_away = torch.sqrt(torch.sum(sxy_away**2,2))\n",
        "\n",
        "# angles of travel\n",
        "theta_home = torch.acos(sxy_home[:,:,0] / s_home)\n",
        "theta_away = torch.acos(sxy_away[:,:,0] / s_away)\n",
        "\n",
        "# means for player influence functions\n",
        "mu_home = xy_home[:,:-1,:] + 0.5*sxy_home\n",
        "mu_away = xy_away[:,:-1,:] + 0.5*sxy_away\n",
        "\n",
        "# proportion of max. speed\n",
        "Srat_home = torch.min((s_home / 13.0)**2,torch.Tensor([1]).to('cpu'))\n",
        "Srat_away = torch.min((s_away / 13.0)**2,torch.Tensor([1]).to('cpu'))\n",
        "\n",
        "# influence radius\n",
        "Ri_home = torch.min(4 + torch.sqrt(torch.sum((xy_ball - xy_home)**2,2))**3 / 972,torch.Tensor([10]).to('cpu'))\n",
        "Ri_away = torch.min(4 + torch.sqrt(torch.sum((xy_ball - xy_away)**2,2))**3 / 972,torch.Tensor([10]).to('cpu'))\n",
        "\n",
        "# inverses of covariance matrices -- Sigma^{-1} = RS^{-1}S^{-1}R^T. only need RS^{-1} to evaluate gaussian.\n",
        "RSinv_home = torch.Tensor(s_home.shape[0],s_home.shape[1],2,2).to('cpu')\n",
        "RSinv_away = torch.Tensor(s_home.shape[0],s_home.shape[1],2,2).to('cpu')\n",
        "\n",
        "S1_home = 2 / ((1+Srat_home) * Ri_home[:,:-1])\n",
        "S2_home = 2 / ((1-Srat_home) * Ri_home[:,:-1])\n",
        "S1_away = 2 / ((1+Srat_away) * Ri_away[:,:-1])\n",
        "S2_away = 2 / ((1-Srat_away) * Ri_away[:,:-1])\n",
        "\n",
        "RSinv_home[:,:,0,0] = S1_home * torch.cos(theta_home)\n",
        "RSinv_home[:,:,1,0] = S1_home * torch.sin(theta_home)\n",
        "RSinv_home[:,:,0,1] = - S2_home * torch.sin(theta_home)\n",
        "RSinv_home[:,:,1,1] = S2_home * torch.cos(theta_home)\n",
        "\n",
        "RSinv_away[:,:,0,0] = S1_away * torch.cos(theta_away)\n",
        "RSinv_away[:,:,1,0] = S1_away * torch.sin(theta_away)\n",
        "RSinv_away[:,:,0,1] = - S2_away * torch.sin(theta_away)\n",
        "RSinv_away[:,:,1,1] = S2_away * torch.cos(theta_away)\n",
        "\n",
        "# denominators for individual player influence functions (see eq 1 in paper). \n",
        "# Note the normalising factors for the multivariate normal distns (eq 12) \n",
        "#cancel, so don't need to bother computing them.\n",
        "denominators_h = torch.exp(-0.5 * torch.sum(((xy_home[:,:-1,None,:] - mu_home[:,:,None,:]).matmul(RSinv_home))**2,-1))\n",
        "denominators_a = torch.exp(-0.5 * torch.sum(((xy_away[:,:-1,None,:] - mu_away[:,:,None,:]).matmul(RSinv_away))**2,-1))\n",
        "\n",
        "# set up query points for evaluating pitch control\n",
        "n_grid_points_x = 50\n",
        "n_grid_points_y = 30\n",
        "xy_query = torch.stack([torch.linspace(0,105,n_grid_points_x).to('cpu').repeat(n_grid_points_y),torch.repeat_interleave(torch.linspace(0,68,n_grid_points_y).to('cpu'),n_grid_points_x)],1)"
      ]
    },
    {
      "cell_type": "markdown",
      "metadata": {
        "colab_type": "text",
        "id": "z6ddJqZx61gO"
      },
      "source": [
        "Now we can compute the pitch control at the query points for whichever frames we care about. There might be a memory error if you use a finer grid of query points, but we can process the whole match under the current settings. If there's a memory error, try reducing the batch size."
      ]
    },
    {
      "cell_type": "markdown",
      "metadata": {
        "colab_type": "text",
        "id": "Y-YuLSL6DAXz"
      },
      "source": [
        "# Modified Wide Open Spaces\n",
        "  - Includes pitch control per player\n",
        "  - Gives more control of distant empty areas to one team or the other, rather than sharing it between the two teams."
      ]
    },
    {
      "cell_type": "code",
      "execution_count": 12,
      "metadata": {
        "colab": {},
        "colab_type": "code",
        "id": "k2zY4evDZCaE"
      },
      "outputs": [],
      "source": [
        "# specify frames of interest\n",
        "first_frame = 0\n",
        "n_frames = sxy_home.shape[1]\n",
        "return_pcpp = False\n",
        "\n",
        "# add some dimensions to query array for broadcasting purposes\n",
        "xyq = xy_query[None,None,:,:]\n",
        "pitch_control = torch.Tensor(n_frames,xy_query.shape[0]).to('cpu')\n",
        "if return_pcpp:\n",
        "  pcpp = torch.Tensor(28,n_frames,xy_query.shape[0]).to('cpu')\n",
        "#batch_size sets number of frames to be processed at once. decrease if there's a cuda memory error.\n",
        "batch_size = 1000\n",
        "for f in range(int(n_frames/batch_size) + 1):\n",
        "  # subtract means from query points\n",
        "  xminmu_h = mu_home[:,(first_frame + f*batch_size):(np.minimum(first_frame + (f+1)*batch_size,int(first_frame + n_frames))),None,:] - xyq\n",
        "  # multiply (mu - x) obtained above by RS^{-1}\n",
        "  mm_h = xminmu_h.matmul(RSinv_home[:,(first_frame + f*batch_size):(np.minimum(first_frame + (f+1)*batch_size,int(first_frame + n_frames))),:,:])\n",
        "  infl_h = torch.exp(-0.5 * torch.sum(mm_h**2,-1))\n",
        "  infl_h = infl_h / denominators_h[:,(first_frame + f*batch_size):(np.minimum(first_frame + (f+1)*batch_size,int(first_frame + n_frames))),:]\n",
        "  xminmu_a = mu_away[:,(first_frame + f*batch_size):(np.minimum(first_frame + (f+1)*batch_size,int(first_frame + n_frames))),None,:] - xyq\n",
        "  mm_a = xminmu_a.matmul(RSinv_away[:,(first_frame + f*batch_size):(np.minimum(first_frame + (f+1)*batch_size,int(first_frame + n_frames))),:,:])\n",
        "  infl_a = torch.exp(-0.5 * torch.sum(mm_a**2,-1))\n",
        "  infl_a = infl_a / denominators_a[:,(first_frame + f*batch_size):(np.minimum(first_frame + (f+1)*batch_size,int(first_frame + n_frames))),:]\n",
        "  isnan_h = torch.isnan(infl_h)\n",
        "  isnan_a = torch.isnan(infl_a)\n",
        "  infl_h[isnan_h] = 0\n",
        "  infl_a[isnan_a] = 0\n",
        "  ## rather than putting influence functions through a sigmoid function, just set individual player's control over a location to be\n",
        "  ## their proportion of the total influence at that location.\n",
        "  pc = torch.cat([infl_h,infl_a]) / torch.sum(torch.cat([infl_h,infl_a]),0)\n",
        "  if return_pcpp:\n",
        "    pcpp[:,(f*batch_size):(np.minimum((f+1)*batch_size,int(n_frames))),:] = pc\n",
        "  ## the home team's control over a location is then just the sum of this new per-player control over all players from the home team.\n",
        "  pitch_control[(f*batch_size):(np.minimum((f+1)*batch_size,int(n_frames))),:] = torch.sum(pc[0:14],0)\n"
      ]
    },
    {
      "cell_type": "markdown",
      "metadata": {
        "colab_type": "text",
        "id": "tRZ2dsxsSZ9n"
      },
      "source": [
        "# Optional post-processing to increase resolution\n",
        "\n",
        "Optionally, you can increase the resolution using bicubic interpolation. You might lose a bit of accuracy, but it's a lot faster than computing pitch control explicitly on a finer grid. Again, you might need to play with the batch size to avoid memory errors if you push the resolution higher."
      ]
    },
    {
      "cell_type": "code",
      "execution_count": 13,
      "metadata": {
        "colab": {},
        "colab_type": "code",
        "id": "hpq8NumkSZUs"
      },
      "outputs": [],
      "source": [
        "pc = pitch_control.reshape(pitch_control.shape[0],n_grid_points_y,n_grid_points_x)\n",
        "\n",
        "#upsample resolution to 105x68\n",
        "n_interp_x = 105\n",
        "n_interp_y = 68\n",
        "#pre-allocate tensor containing upsampled pitch control maps\n",
        "pc_int = torch.Tensor(pc.shape[0],1,n_interp_y,n_interp_x)\n",
        "\n",
        "batch_size = 20000\n",
        "for f in range(int(n_frames/batch_size) + 1):\n",
        "  pc_int[(f*batch_size):(np.minimum((f+1)*batch_size,int(n_frames)))] = torch.nn.functional.interpolate(\n",
        "      pc[(f*batch_size):(np.minimum((f+1)*batch_size,int(n_frames))),None,:,:],\n",
        "      size=(n_interp_y,n_interp_x),\n",
        "      mode='bicubic')"
      ]
    },
    {
      "cell_type": "markdown",
      "metadata": {
        "colab_type": "text",
        "id": "nZOCJw6-D7xS"
      },
      "source": [
        "# Plotting the results\n",
        "  - Allows you to make short mp4 clips of pitch control for short passages of play or plot single frames with plotly."
      ]
    },
    {
      "cell_type": "markdown",
      "metadata": {
        "colab_type": "text",
        "id": "3CIfQ_ehduYe"
      },
      "source": [
        "Here's a way to plot the results using matplotlib. We need to install Tom Decroos's matplotsoccer first. I've basically copied Rob Hickman's ggplot version of this as far as design goes."
      ]
    },
    {
      "cell_type": "code",
      "execution_count": null,
      "metadata": {
        "colab": {
          "base_uri": "https://localhost:8080/",
          "height": 540
        },
        "colab_type": "code",
        "id": "RyjwBq5ohLR5",
        "outputId": "58234205-219a-4448-eb40-1b8c0cea06dd"
      },
      "outputs": [],
      "source": [
        "import matplotlib.pyplot as plt\n",
        "import matplotlib.animation\n",
        "from matplotsoccer import field\n",
        "from IPython.core.display import HTML\n",
        "\n",
        "xx = np.linspace(0,105,n_grid_points_x)\n",
        "yy = np.linspace(0,68,n_grid_points_y)\n",
        "\n",
        "locs_ball_reduced = locs_ball[first_frame:(first_frame + n_frames),:]\n",
        "locs_home_reduced = locs_home[:,first_frame:(first_frame + n_frames),:]\n",
        "locs_away_reduced = locs_away[:,first_frame:(first_frame + n_frames),:]\n",
        "\n",
        "first_frame_to_plot = 38 * 60 * 25 + 2 * 25\n",
        "n_frames_to_plot =  20 * 25\n",
        "\n",
        "fig, ax=plt.subplots()\n",
        "field(ax=ax,show = False)\n",
        "ball_points = ax.scatter(locs_ball_reduced[first_frame_to_plot,0],locs_ball_reduced[first_frame_to_plot,1],color = 'black',zorder = 15, s = 16)\n",
        "ball_points2 = ax.scatter(locs_ball_reduced[first_frame_to_plot,0],locs_ball_reduced[first_frame_to_plot,1],color = 'white',zorder = 15, s = 9)\n",
        "home_points = ax.scatter(locs_home_reduced[:,first_frame_to_plot,0],locs_home_reduced[:,first_frame_to_plot,1],color = 'red',zorder = 10)\n",
        "away_points = ax.scatter(locs_away_reduced[:,first_frame_to_plot,0],locs_away_reduced[:,first_frame_to_plot,1],color = 'blue',zorder = 10)\n",
        "p = [ax.contourf(xx,\n",
        "                 yy,\n",
        "                 pitch_control[first_frame_to_plot].reshape(n_grid_points_y,n_grid_points_x).cpu(),\n",
        "                 extent = (0,105,0,68),\n",
        "                 levels = np.linspace(0,1,100),\n",
        "                 cmap = 'coolwarm')]\n",
        "\n",
        "def update(i):\n",
        "    fr = i + first_frame_to_plot\n",
        "    for tp in p[0].collections:\n",
        "        tp.remove()\n",
        "    p[0] = ax.contourf(xx,\n",
        "                    yy,\n",
        "                    pitch_control[fr].reshape(n_grid_points_y,n_grid_points_x).cpu(),\n",
        "                    extent = (0,105,0,68),\n",
        "                    levels = np.linspace(0,1,100),\n",
        "                    cmap = 'coolwarm')\n",
        "    ball_points.set_offsets(np.c_[[locs_ball[fr,0]],[locs_ball[fr,1]]])\n",
        "    ball_points2.set_offsets(np.c_[[locs_ball[fr,0]],[locs_ball[fr,1]]])\n",
        "    home_points.set_offsets(np.c_[locs_home[:,fr,0],locs_home[:,fr,1]])\n",
        "    away_points.set_offsets(np.c_[locs_away[:,fr,0],locs_away[:,fr,1]])\n",
        "    return p[0].collections + [ball_points,home_points,away_points]\n",
        "\n",
        "ani = matplotlib.animation.FuncAnimation(fig, update, frames=n_frames_to_plot, interval=40, blit=True, repeat=False)\n",
        "\n",
        "ani.save('pitch_control_animation.mp4', fps=25)"
      ]
    }
  ],
  "metadata": {
    "accelerator": "GPU",
    "colab": {
      "collapsed_sections": [],
      "machine_shape": "hm",
      "name": "FastWideOpenSpaces.ipynb",
      "provenance": [],
      "toc_visible": true
    },
    "interpreter": {
      "hash": "b0fa6594d8f4cbf19f97940f81e996739fb7646882a419484c72d19e05852a7e"
    },
    "kernelspec": {
      "display_name": "Python 3.9.12 64-bit",
      "language": "python",
      "name": "python3"
    },
    "language_info": {
      "codemirror_mode": {
        "name": "ipython",
        "version": 3
      },
      "file_extension": ".py",
      "mimetype": "text/x-python",
      "name": "python",
      "nbconvert_exporter": "python",
      "pygments_lexer": "ipython3",
      "version": "3.9.12"
    }
  },
  "nbformat": 4,
  "nbformat_minor": 0
}
