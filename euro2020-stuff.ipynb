{
 "cells": [
  {
   "cell_type": "code",
   "execution_count": 1,
   "id": "040a3a4f",
   "metadata": {
    "_cell_guid": "b1076dfc-b9ad-4769-8c92-a6c4dae69d19",
    "_uuid": "8f2839f25d086af736a60e9eeb907d3b93b6e0e5",
    "execution": {
     "iopub.execute_input": "2022-03-19T17:51:44.859696Z",
     "iopub.status.busy": "2022-03-19T17:51:44.858390Z",
     "iopub.status.idle": "2022-03-19T17:51:45.994186Z",
     "shell.execute_reply": "2022-03-19T17:51:45.993409Z",
     "shell.execute_reply.started": "2022-03-19T17:27:50.99769Z"
    },
    "papermill": {
     "duration": 1.176844,
     "end_time": "2022-03-19T17:51:45.994357",
     "exception": false,
     "start_time": "2022-03-19T17:51:44.817513",
     "status": "completed"
    },
    "tags": []
   },
   "outputs": [],
   "source": [
    "import pandas as pd\n",
    "import numpy as np\n",
    "import seaborn as sns\n",
    "import matplotlib.pyplot as plt\n",
    "from matplotlib.patches import Arc\n",
    "import bz2"
   ]
  },
  {
   "cell_type": "code",
   "execution_count": 2,
   "id": "a20e88cc",
   "metadata": {
    "execution": {
     "iopub.execute_input": "2022-03-19T17:51:46.075297Z",
     "iopub.status.busy": "2022-03-19T17:51:46.074536Z",
     "iopub.status.idle": "2022-03-19T17:51:46.076732Z",
     "shell.execute_reply": "2022-03-19T17:51:46.077254Z",
     "shell.execute_reply.started": "2022-03-19T17:27:51.005426Z"
    },
    "papermill": {
     "duration": 0.046167,
     "end_time": "2022-03-19T17:51:46.077449",
     "exception": false,
     "start_time": "2022-03-19T17:51:46.031282",
     "status": "completed"
    },
    "tags": []
   },
   "outputs": [],
   "source": [
    "sns.set(rc={'figure.figsize':(10.5,6.8)})"
   ]
  },
  {
   "cell_type": "code",
   "execution_count": 3,
   "id": "dbd9e1c6",
   "metadata": {
    "execution": {
     "iopub.execute_input": "2022-03-19T17:51:46.154204Z",
     "iopub.status.busy": "2022-03-19T17:51:46.153370Z",
     "iopub.status.idle": "2022-03-19T17:51:46.176894Z",
     "shell.execute_reply": "2022-03-19T17:51:46.177448Z",
     "shell.execute_reply.started": "2022-03-19T17:27:51.018975Z"
    },
    "papermill": {
     "duration": 0.063109,
     "end_time": "2022-03-19T17:51:46.177645",
     "exception": false,
     "start_time": "2022-03-19T17:51:46.114536",
     "status": "completed"
    },
    "tags": []
   },
   "outputs": [],
   "source": [
    "def create_pitch(length, width, linecolor):\n",
    "\n",
    "    \"\"\"\n",
    "    mainly stolen from fc python\n",
    "    param length: an int the length of the field\n",
    "    param width: an int the height of the field\n",
    "    param linecolor: the color of the lines\n",
    "\"\"\"\n",
    "    #Create figure\n",
    "    fig=plt.figure()\n",
    "    #fig.set_size_inches(7, 5)\n",
    "    ax=fig.add_subplot(1,1,1)\n",
    "\n",
    "    #Pitch Outline & Centre Line\n",
    "    plt.plot([0,0],[0,width], color=linecolor)\n",
    "    plt.plot([0,length],[width,width], color=linecolor)\n",
    "    plt.plot([length,length],[width,0], color=linecolor)\n",
    "    plt.plot([length,0],[0,0], color=linecolor)\n",
    "    plt.plot([length/2,length/2],[0,width], color=linecolor)\n",
    "    plt.fill_between([0, length], [width, width], color='green')\n",
    "\n",
    "    #Left Penalty Area\n",
    "    plt.plot([16.5 ,16.5],[(width/2 +16.5),(width/2-16.5)],color=linecolor)\n",
    "    plt.plot([0,16.5],[(width/2 +16.5),(width/2 +16.5)],color=linecolor)\n",
    "    plt.plot([16.5,0],[(width/2 -16.5),(width/2 -16.5)],color=linecolor)\n",
    "\n",
    "    #Right Penalty Area\n",
    "    plt.plot([(length-16.5),length],[(width/2 +16.5),(width/2 +16.5)],color=linecolor)\n",
    "    plt.plot([(length-16.5), (length-16.5)],[(width/2 +16.5),(width/2-16.5)],color=linecolor)\n",
    "    plt.plot([(length-16.5),length],[(width/2 -16.5),(width/2 -16.5)],color=linecolor)\n",
    "\n",
    "    #Left 5-meters Box\n",
    "    plt.plot([0,5.5],[(width/2+7.32/2+5.5),(width/2+7.32/2+5.5)],color=linecolor)\n",
    "    plt.plot([5.5,5.5],[(width/2+7.32/2+5.5),(width/2-7.32/2-5.5)],color=linecolor)\n",
    "    plt.plot([5.5,0.5],[(width/2-7.32/2-5.5),(width/2-7.32/2-5.5)],color=linecolor)\n",
    "\n",
    "    #Right 5-meters Box\n",
    "    plt.plot([length,length-5.5],[(width/2+7.32/2+5.5),(width/2+7.32/2+5.5)],color=linecolor)\n",
    "    plt.plot([length-5.5,length-5.5],[(width/2+7.32/2+5.5),width/2-7.32/2-5.5],color=linecolor)\n",
    "    plt.plot([length-5.5,length],[width/2-7.32/2-5.5,width/2-7.32/2-5.5],color=linecolor)\n",
    "\n",
    "    #Prepare Circles\n",
    "    centreCircle = plt.Circle((length/2,width/2),9.15,color=linecolor,fill=False)\n",
    "    centreSpot = plt.Circle((length/2,width/2),0.8,color=linecolor)\n",
    "    leftPenSpot = plt.Circle((11,width/2),0.8,color=linecolor)\n",
    "    rightPenSpot = plt.Circle((length-11,width/2),0.8,color=linecolor)\n",
    "\n",
    "    #Draw Circles\n",
    "    ax.add_patch(centreCircle)\n",
    "    ax.add_patch(centreSpot)\n",
    "    ax.add_patch(leftPenSpot)\n",
    "    ax.add_patch(rightPenSpot)\n",
    "\n",
    "    #Prepare Arcs\n",
    "    leftArc = Arc((11,width/2),height=18.3,width=18.3,angle=0,theta1=308,theta2=52,color=linecolor)\n",
    "    rightArc = Arc((length-11,width/2),height=18.3,width=18.3,angle=0,theta1=128,theta2=232,color=linecolor)\n",
    "\n",
    "    #Draw Arcs\n",
    "    ax.add_patch(leftArc)\n",
    "    ax.add_patch(rightArc)\n",
    "            #Axis titles\n",
    "    #Tidy Axes\n",
    "    plt.axis('off')\n",
    "    \n",
    "    return fig,ax"
   ]
  },
  {
   "cell_type": "code",
   "execution_count": 4,
   "id": "a6abeaf5",
   "metadata": {
    "execution": {
     "iopub.execute_input": "2022-03-19T17:51:46.256339Z",
     "iopub.status.busy": "2022-03-19T17:51:46.255605Z",
     "iopub.status.idle": "2022-03-19T17:51:46.487030Z",
     "shell.execute_reply": "2022-03-19T17:51:46.487749Z",
     "shell.execute_reply.started": "2022-03-19T17:27:51.039417Z"
    },
    "papermill": {
     "duration": 0.273284,
     "end_time": "2022-03-19T17:51:46.487933",
     "exception": false,
     "start_time": "2022-03-19T17:51:46.214649",
     "status": "completed"
    },
    "tags": []
   },
   "outputs": [
    {
     "data": {
      "image/png": "[encoded data removed]",
      "text/plain": [
       "<Figure size 756x489.6 with 1 Axes>"
      ]
     },
     "metadata": {},
     "output_type": "display_data"
    }
   ],
   "source": [
    "fig, ax = create_pitch(105, 68, 'white')"
   ]
  },
  {
   "cell_type": "code",
   "execution_count": 5,
   "id": "5277f143",
   "metadata": {
    "execution": {
     "iopub.execute_input": "2022-03-19T17:51:46.569494Z",
     "iopub.status.busy": "2022-03-19T17:51:46.568594Z",
     "iopub.status.idle": "2022-03-19T17:51:46.571377Z",
     "shell.execute_reply": "2022-03-19T17:51:46.570666Z",
     "shell.execute_reply.started": "2022-03-19T17:27:51.257851Z"
    },
    "papermill": {
     "duration": 0.043831,
     "end_time": "2022-03-19T17:51:46.571533",
     "exception": false,
     "start_time": "2022-03-19T17:51:46.527702",
     "status": "completed"
    },
    "tags": []
   },
   "outputs": [],
   "source": [
    "ax.plot()\n",
    "plt.show()"
   ]
  },
  {
   "cell_type": "code",
   "execution_count": 6,
   "id": "5fc31cf6",
   "metadata": {
    "execution": {
     "iopub.execute_input": "2022-03-19T17:51:46.652212Z",
     "iopub.status.busy": "2022-03-19T17:51:46.651477Z",
     "iopub.status.idle": "2022-03-19T17:51:46.682547Z",
     "shell.execute_reply": "2022-03-19T17:51:46.683108Z",
     "shell.execute_reply.started": "2022-03-19T17:27:51.26352Z"
    },
    "papermill": {
     "duration": 0.074856,
     "end_time": "2022-03-19T17:51:46.683279",
     "exception": false,
     "start_time": "2022-03-19T17:51:46.608423",
     "status": "completed"
    },
    "tags": []
   },
   "outputs": [],
   "source": [
    "match_results = pd.read_csv(\"../input/euro-cup-2020/eurocup_2020_results.csv\")\n",
    "#original dataset has whitespaces, so annoying\n",
    "match_results[['team_name_home', 'team_name_away']] = match_results[['team_name_home', 'team_name_away']].applymap(lambda x: str.strip(x))"
   ]
  },
  {
   "cell_type": "code",
   "execution_count": 7,
   "id": "23f1fb3f",
   "metadata": {
    "execution": {
     "iopub.execute_input": "2022-03-19T17:51:46.760828Z",
     "iopub.status.busy": "2022-03-19T17:51:46.759802Z",
     "iopub.status.idle": "2022-03-19T17:51:46.783186Z",
     "shell.execute_reply": "2022-03-19T17:51:46.783672Z",
     "shell.execute_reply.started": "2022-03-19T17:27:51.292948Z"
    },
    "papermill": {
     "duration": 0.064224,
     "end_time": "2022-03-19T17:51:46.783853",
     "exception": false,
     "start_time": "2022-03-19T17:51:46.719629",
     "status": "completed"
    },
    "tags": []
   },
   "outputs": [
    {
     "data": {
      "text/html": [
       "<div>\n",
       "<style scoped>\n",
       "    .dataframe tbody tr th:only-of-type {\n",
       "        vertical-align: middle;\n",
       "    }\n",
       "\n",
       "    .dataframe tbody tr th {\n",
       "        vertical-align: top;\n",
       "    }\n",
       "\n",
       "    .dataframe thead th {\n",
       "        text-align: right;\n",
       "    }\n",
       "</style>\n",
       "<table border=\"1\" class=\"dataframe\">\n",
       "  <thead>\n",
       "    <tr style=\"text-align: right;\">\n",
       "      <th></th>\n",
       "      <th>stage</th>\n",
       "      <th>date</th>\n",
       "      <th>pens</th>\n",
       "      <th>pens_home_score</th>\n",
       "      <th>pens_away_score</th>\n",
       "      <th>team_name_home</th>\n",
       "      <th>team_name_away</th>\n",
       "      <th>team_home_score</th>\n",
       "      <th>team_away_score</th>\n",
       "      <th>possession_home</th>\n",
       "      <th>possession_away</th>\n",
       "      <th>total_shots_home</th>\n",
       "      <th>total_shots_away</th>\n",
       "      <th>shots_on_target_home</th>\n",
       "      <th>shots_on_target_away</th>\n",
       "      <th>duels_won_home</th>\n",
       "      <th>duels_won_away</th>\n",
       "      <th>events_list</th>\n",
       "      <th>lineup_home</th>\n",
       "      <th>lineup_away</th>\n",
       "    </tr>\n",
       "  </thead>\n",
       "  <tbody>\n",
       "    <tr>\n",
       "      <th>0</th>\n",
       "      <td>Final</td>\n",
       "      <td>11.07.2021</td>\n",
       "      <td>True</td>\n",
       "      <td>3</td>\n",
       "      <td>2</td>\n",
       "      <td>Italy</td>\n",
       "      <td>England</td>\n",
       "      <td>1</td>\n",
       "      <td>1</td>\n",
       "      <td>66%</td>\n",
       "      <td>34%</td>\n",
       "      <td>19</td>\n",
       "      <td>6</td>\n",
       "      <td>6</td>\n",
       "      <td>2</td>\n",
       "      <td>53%</td>\n",
       "      <td>47%</td>\n",
       "      <td>[{'event_team': 'away', 'event_time': \" 2' \", ...</td>\n",
       "      <td>[{'Player_Name': 'Insigne', 'Player_Number': '...</td>\n",
       "      <td>[{'Player_Name': 'Kane', 'Player_Number': '9'}...</td>\n",
       "    </tr>\n",
       "    <tr>\n",
       "      <th>1</th>\n",
       "      <td>Semi-finals</td>\n",
       "      <td>07.07.2021</td>\n",
       "      <td>False</td>\n",
       "      <td>False</td>\n",
       "      <td>False</td>\n",
       "      <td>England</td>\n",
       "      <td>Denmark</td>\n",
       "      <td>2</td>\n",
       "      <td>1</td>\n",
       "      <td>59%</td>\n",
       "      <td>41%</td>\n",
       "      <td>20</td>\n",
       "      <td>6</td>\n",
       "      <td>10</td>\n",
       "      <td>3</td>\n",
       "      <td>50%</td>\n",
       "      <td>50%</td>\n",
       "      <td>[{'event_team': 'away', 'event_time': \" 30' \",...</td>\n",
       "      <td>[{'Player_Name': 'Kane', 'Player_Number': '9'}...</td>\n",
       "      <td>[{'Player_Name': 'Krogh Damsgaard', 'Player_Nu...</td>\n",
       "    </tr>\n",
       "    <tr>\n",
       "      <th>2</th>\n",
       "      <td>Semi-finals</td>\n",
       "      <td>06.07.2021</td>\n",
       "      <td>True</td>\n",
       "      <td>4</td>\n",
       "      <td>2</td>\n",
       "      <td>Italy</td>\n",
       "      <td>Spain</td>\n",
       "      <td>1</td>\n",
       "      <td>1</td>\n",
       "      <td>29%</td>\n",
       "      <td>71%</td>\n",
       "      <td>7</td>\n",
       "      <td>16</td>\n",
       "      <td>4</td>\n",
       "      <td>5</td>\n",
       "      <td>49%</td>\n",
       "      <td>51%</td>\n",
       "      <td>[{'event_team': 'away', 'event_time': \" 51' \",...</td>\n",
       "      <td>[{'Player_Name': 'Insigne', 'Player_Number': '...</td>\n",
       "      <td>[{'Player_Name': 'Torres', 'Player_Number': '1...</td>\n",
       "    </tr>\n",
       "  </tbody>\n",
       "</table>\n",
       "</div>"
      ],
      "text/plain": [
       "           stage          date   pens pens_home_score pens_away_score  \\\n",
       "0         Final     11.07.2021   True               3               2   \n",
       "1   Semi-finals    07.07.2021   False           False           False   \n",
       "2   Semi-finals     06.07.2021   True               4               2   \n",
       "\n",
       "  team_name_home team_name_away  team_home_score  team_away_score  \\\n",
       "0          Italy        England                1                1   \n",
       "1        England        Denmark                2                1   \n",
       "2          Italy          Spain                1                1   \n",
       "\n",
       "  possession_home possession_away  total_shots_home  total_shots_away  \\\n",
       "0             66%            34%                 19                 6   \n",
       "1             59%            41%                 20                 6   \n",
       "2             29%            71%                  7                16   \n",
       "\n",
       "   shots_on_target_home  shots_on_target_away duels_won_home duels_won_away  \\\n",
       "0                     6                     2            53%           47%    \n",
       "1                    10                     3            50%           50%    \n",
       "2                     4                     5            49%           51%    \n",
       "\n",
       "                                         events_list  \\\n",
       "0  [{'event_team': 'away', 'event_time': \" 2' \", ...   \n",
       "1  [{'event_team': 'away', 'event_time': \" 30' \",...   \n",
       "2  [{'event_team': 'away', 'event_time': \" 51' \",...   \n",
       "\n",
       "                                         lineup_home  \\\n",
       "0  [{'Player_Name': 'Insigne', 'Player_Number': '...   \n",
       "1  [{'Player_Name': 'Kane', 'Player_Number': '9'}...   \n",
       "2  [{'Player_Name': 'Insigne', 'Player_Number': '...   \n",
       "\n",
       "                                         lineup_away  \n",
       "0  [{'Player_Name': 'Kane', 'Player_Number': '9'}...  \n",
       "1  [{'Player_Name': 'Krogh Damsgaard', 'Player_Nu...  \n",
       "2  [{'Player_Name': 'Torres', 'Player_Number': '1...  "
      ]
     },
     "execution_count": 7,
     "metadata": {},
     "output_type": "execute_result"
    }
   ],
   "source": [
    "match_results.head(3)"
   ]
  },
  {
   "cell_type": "code",
   "execution_count": 8,
   "id": "9376b081",
   "metadata": {
    "execution": {
     "iopub.execute_input": "2022-03-19T17:51:46.864067Z",
     "iopub.status.busy": "2022-03-19T17:51:46.862761Z",
     "iopub.status.idle": "2022-03-19T17:51:46.871440Z",
     "shell.execute_reply": "2022-03-19T17:51:46.872169Z",
     "shell.execute_reply.started": "2022-03-19T17:27:51.315159Z"
    },
    "papermill": {
     "duration": 0.050922,
     "end_time": "2022-03-19T17:51:46.872365",
     "exception": false,
     "start_time": "2022-03-19T17:51:46.821443",
     "status": "completed"
    },
    "tags": []
   },
   "outputs": [],
   "source": [
    "iw_mask = (match_results.team_name_home == \"Italy\") & (match_results.team_name_away == \"Wales\")\n",
    "italy_wales = match_results[iw_mask]"
   ]
  },
  {
   "cell_type": "markdown",
   "id": "8654083e",
   "metadata": {
    "papermill": {
     "duration": 0.037464,
     "end_time": "2022-03-19T17:51:46.947848",
     "exception": false,
     "start_time": "2022-03-19T17:51:46.910384",
     "status": "completed"
    },
    "tags": []
   },
   "source": [
    "### Some cool extra game data there it seems:"
   ]
  },
  {
   "cell_type": "code",
   "execution_count": 9,
   "id": "8944df43",
   "metadata": {
    "execution": {
     "iopub.execute_input": "2022-03-19T17:51:47.028718Z",
     "iopub.status.busy": "2022-03-19T17:51:47.027669Z",
     "iopub.status.idle": "2022-03-19T17:51:47.037152Z",
     "shell.execute_reply": "2022-03-19T17:51:47.037797Z",
     "shell.execute_reply.started": "2022-03-19T17:27:51.32723Z"
    },
    "papermill": {
     "duration": 0.050386,
     "end_time": "2022-03-19T17:51:47.038001",
     "exception": false,
     "start_time": "2022-03-19T17:51:46.987615",
     "status": "completed"
    },
    "tags": []
   },
   "outputs": [
    {
     "name": "stdout",
     "output_type": "stream",
     "text": [
      "event {'event_team': 'home', 'event_time': \" 39' \", 'event_type': 'Goal', 'action_player_1': ' Matteo Pessina ', 'action_player_2': ' Marco Verratti '} \n",
      "\n",
      "event {'event_team': 'home', 'event_time': \" 45' \", 'event_type': 'Substitution', 'action_player_1': ' Francesco Acerbi ', 'action_player_2': ' Leonardo Bonucci '} \n",
      "\n",
      "event {'event_team': 'away', 'event_time': \" 51' \", 'event_type': 'Yellow card', 'action_player_1': ' Joe Allen '} \n",
      "\n",
      "event {'event_team': 'away', 'event_time': \" 55' \", 'event_type': 'Red card', 'action_player_1': ' Ethan Ampadu '} \n",
      "\n",
      "event {'event_team': 'away', 'event_time': \" 60' \", 'event_type': 'Substitution', 'action_player_1': ' Kieffer Moore ', 'action_player_2': ' Joseff Morrell '} \n",
      "\n",
      "event {'event_team': 'away', 'event_time': \" 74' \", 'event_type': 'Substitution', 'action_player_1': ' Harry Wilson ', 'action_player_2': ' Daniel James '} \n",
      "\n",
      "event {'event_team': 'home', 'event_time': \" 75' \", 'event_type': 'Substitution', 'action_player_1': ' Bryan Cristante ', 'action_player_2': ' Jorginho '} \n",
      "\n",
      "event {'event_team': 'home', 'event_time': \" 75' \", 'event_type': 'Substitution', 'action_player_1': ' Giacomo Raspadori ', 'action_player_2': ' Federico Bernardeschi '} \n",
      "\n",
      "event {'event_team': 'home', 'event_time': \" 79' \", 'event_type': 'Yellow card', 'action_player_1': ' Matteo Pessina '} \n",
      "\n",
      "event {'event_team': 'away', 'event_time': \" 79' \", 'event_type': 'Yellow card', 'action_player_1': ' Chris Gunter '} \n",
      "\n",
      "event {'event_team': 'away', 'event_time': \" 86' \", 'event_type': 'Substitution', 'action_player_1': ' David Brooks ', 'action_player_2': ' Gareth Bale '} \n",
      "\n",
      "event {'event_team': 'away', 'event_time': \" 86' \", 'event_type': 'Substitution', 'action_player_1': ' Ben Davies ', 'action_player_2': ' Neco Williams '} \n",
      "\n",
      "event {'event_team': 'away', 'event_time': \" 86' \", 'event_type': 'Substitution', 'action_player_1': ' Dylan Levitt ', 'action_player_2': ' Joe Allen '} \n",
      "\n",
      "event {'event_team': 'home', 'event_time': \" 87' \", 'event_type': 'Substitution', 'action_player_1': ' Gaetano Castrovilli ', 'action_player_2': ' Matteo Pessina '} \n",
      "\n",
      "event {'event_team': 'home', 'event_time': \" 89' \", 'event_type': 'Substitution', 'action_player_1': ' Salvatore Sirigu ', 'action_player_2': ' Gianluigi Donnarumma '} \n",
      "\n"
     ]
    }
   ],
   "source": [
    "events = italy_wales.events_list.iloc[0]\n",
    "#what shitty formatting it's list of dicts converted to a string..., maybe that's who also did the eigen docs\n",
    "for event in eval(events):\n",
    "    print(f\"event {event} \\n\")"
   ]
  },
  {
   "cell_type": "code",
   "execution_count": 10,
   "id": "a5cc31c8",
   "metadata": {
    "execution": {
     "iopub.execute_input": "2022-03-19T17:51:47.125085Z",
     "iopub.status.busy": "2022-03-19T17:51:47.124350Z",
     "iopub.status.idle": "2022-03-19T17:51:47.129118Z",
     "shell.execute_reply": "2022-03-19T17:51:47.129660Z",
     "shell.execute_reply.started": "2022-03-19T17:27:51.346032Z"
    },
    "papermill": {
     "duration": 0.051407,
     "end_time": "2022-03-19T17:51:47.129834",
     "exception": false,
     "start_time": "2022-03-19T17:51:47.078427",
     "status": "completed"
    },
    "tags": []
   },
   "outputs": [
    {
     "name": "stdout",
     "output_type": "stream",
     "text": [
      "event {'Player_Name': 'Chiesa', 'Player_Number': '14'} \n",
      "\n",
      "event {'Player_Name': 'Belotti', 'Player_Number': '9'} \n",
      "\n",
      "event {'Player_Name': 'Bernardeschi', 'Player_Number': '20'} \n",
      "\n",
      "event {'Player_Name': 'Verratti', 'Player_Number': '6'} \n",
      "\n",
      "event {'Player_Name': 'Jorginho', 'Player_Number': '8'} \n",
      "\n",
      "event {'Player_Name': 'Pessina', 'Player_Number': '12'} \n",
      "\n",
      "event {'Player_Name': 'Emerson', 'Player_Number': '13'} \n",
      "\n",
      "event {'Player_Name': 'Bastoni', 'Player_Number': '23'} \n",
      "\n",
      "event {'Player_Name': 'Bonucci', 'Player_Number': '19'} \n",
      "\n",
      "event {'Player_Name': 'Tolói', 'Player_Number': '25'} \n",
      "\n",
      "event {'Player_Name': 'Donnarumma', 'Player_Number': '21'} \n",
      "\n"
     ]
    }
   ],
   "source": [
    "italy_lineup = italy_wales.lineup_home.iloc[0]\n",
    "for player in eval(italy_lineup):\n",
    "    print(f\"event {player} \\n\")"
   ]
  },
  {
   "cell_type": "code",
   "execution_count": 11,
   "id": "e277067a",
   "metadata": {
    "execution": {
     "iopub.execute_input": "2022-03-19T17:51:47.217336Z",
     "iopub.status.busy": "2022-03-19T17:51:47.216585Z",
     "iopub.status.idle": "2022-03-19T17:51:47.219674Z",
     "shell.execute_reply": "2022-03-19T17:51:47.218993Z",
     "shell.execute_reply.started": "2022-03-19T17:27:51.357956Z"
    },
    "papermill": {
     "duration": 0.051056,
     "end_time": "2022-03-19T17:51:47.219831",
     "exception": false,
     "start_time": "2022-03-19T17:51:47.168775",
     "status": "completed"
    },
    "tags": []
   },
   "outputs": [],
   "source": [
    "italy_wales_matches = match_results['team_name_home'].isin([\"Italy\", \"Wales\"])\n",
    "iw_matches = match_results[italy_wales_matches]"
   ]
  },
  {
   "cell_type": "code",
   "execution_count": 12,
   "id": "0f0a3594",
   "metadata": {
    "execution": {
     "iopub.execute_input": "2022-03-19T17:51:47.305689Z",
     "iopub.status.busy": "2022-03-19T17:51:47.304636Z",
     "iopub.status.idle": "2022-03-19T17:51:47.325718Z",
     "shell.execute_reply": "2022-03-19T17:51:47.326357Z",
     "shell.execute_reply.started": "2022-03-19T17:27:51.369781Z"
    },
    "papermill": {
     "duration": 0.066833,
     "end_time": "2022-03-19T17:51:47.326531",
     "exception": false,
     "start_time": "2022-03-19T17:51:47.259698",
     "status": "completed"
    },
    "tags": []
   },
   "outputs": [
    {
     "data": {
      "text/html": [
       "<div>\n",
       "<style scoped>\n",
       "    .dataframe tbody tr th:only-of-type {\n",
       "        vertical-align: middle;\n",
       "    }\n",
       "\n",
       "    .dataframe tbody tr th {\n",
       "        vertical-align: top;\n",
       "    }\n",
       "\n",
       "    .dataframe thead th {\n",
       "        text-align: right;\n",
       "    }\n",
       "</style>\n",
       "<table border=\"1\" class=\"dataframe\">\n",
       "  <thead>\n",
       "    <tr style=\"text-align: right;\">\n",
       "      <th></th>\n",
       "      <th>stage</th>\n",
       "      <th>date</th>\n",
       "      <th>pens</th>\n",
       "      <th>pens_home_score</th>\n",
       "      <th>pens_away_score</th>\n",
       "      <th>team_name_home</th>\n",
       "      <th>team_name_away</th>\n",
       "      <th>team_home_score</th>\n",
       "      <th>team_away_score</th>\n",
       "      <th>possession_home</th>\n",
       "      <th>possession_away</th>\n",
       "      <th>total_shots_home</th>\n",
       "      <th>total_shots_away</th>\n",
       "      <th>shots_on_target_home</th>\n",
       "      <th>shots_on_target_away</th>\n",
       "      <th>duels_won_home</th>\n",
       "      <th>duels_won_away</th>\n",
       "      <th>events_list</th>\n",
       "      <th>lineup_home</th>\n",
       "      <th>lineup_away</th>\n",
       "    </tr>\n",
       "  </thead>\n",
       "  <tbody>\n",
       "    <tr>\n",
       "      <th>0</th>\n",
       "      <td>Final</td>\n",
       "      <td>11.07.2021</td>\n",
       "      <td>True</td>\n",
       "      <td>3</td>\n",
       "      <td>2</td>\n",
       "      <td>Italy</td>\n",
       "      <td>England</td>\n",
       "      <td>1</td>\n",
       "      <td>1</td>\n",
       "      <td>66%</td>\n",
       "      <td>34%</td>\n",
       "      <td>19</td>\n",
       "      <td>6</td>\n",
       "      <td>6</td>\n",
       "      <td>2</td>\n",
       "      <td>53%</td>\n",
       "      <td>47%</td>\n",
       "      <td>[{'event_team': 'away', 'event_time': \" 2' \", ...</td>\n",
       "      <td>[{'Player_Name': 'Insigne', 'Player_Number': '...</td>\n",
       "      <td>[{'Player_Name': 'Kane', 'Player_Number': '9'}...</td>\n",
       "    </tr>\n",
       "    <tr>\n",
       "      <th>2</th>\n",
       "      <td>Semi-finals</td>\n",
       "      <td>06.07.2021</td>\n",
       "      <td>True</td>\n",
       "      <td>4</td>\n",
       "      <td>2</td>\n",
       "      <td>Italy</td>\n",
       "      <td>Spain</td>\n",
       "      <td>1</td>\n",
       "      <td>1</td>\n",
       "      <td>29%</td>\n",
       "      <td>71%</td>\n",
       "      <td>7</td>\n",
       "      <td>16</td>\n",
       "      <td>4</td>\n",
       "      <td>5</td>\n",
       "      <td>49%</td>\n",
       "      <td>51%</td>\n",
       "      <td>[{'event_team': 'away', 'event_time': \" 51' \",...</td>\n",
       "      <td>[{'Player_Name': 'Insigne', 'Player_Number': '...</td>\n",
       "      <td>[{'Player_Name': 'Torres', 'Player_Number': '1...</td>\n",
       "    </tr>\n",
       "    <tr>\n",
       "      <th>13</th>\n",
       "      <td>Round of 16</td>\n",
       "      <td>26.06.2021</td>\n",
       "      <td>False</td>\n",
       "      <td>False</td>\n",
       "      <td>False</td>\n",
       "      <td>Italy</td>\n",
       "      <td>Austria</td>\n",
       "      <td>2</td>\n",
       "      <td>1</td>\n",
       "      <td>52%</td>\n",
       "      <td>48%</td>\n",
       "      <td>27</td>\n",
       "      <td>16</td>\n",
       "      <td>6</td>\n",
       "      <td>3</td>\n",
       "      <td>50%</td>\n",
       "      <td>50%</td>\n",
       "      <td>[{'event_team': 'away', 'event_time': \" 2' \", ...</td>\n",
       "      <td>[{'Player_Name': 'Insigne', 'Player_Number': '...</td>\n",
       "      <td>[{'Player_Name': 'Arnautovic', 'Player_Number'...</td>\n",
       "    </tr>\n",
       "    <tr>\n",
       "      <th>14</th>\n",
       "      <td>Round of 16</td>\n",
       "      <td>26.06.2021</td>\n",
       "      <td>False</td>\n",
       "      <td>False</td>\n",
       "      <td>False</td>\n",
       "      <td>Wales</td>\n",
       "      <td>Denmark</td>\n",
       "      <td>0</td>\n",
       "      <td>4</td>\n",
       "      <td>47%</td>\n",
       "      <td>53%</td>\n",
       "      <td>11</td>\n",
       "      <td>16</td>\n",
       "      <td>1</td>\n",
       "      <td>8</td>\n",
       "      <td>39%</td>\n",
       "      <td>61%</td>\n",
       "      <td>[{'event_team': 'home', 'event_time': \" 26' \",...</td>\n",
       "      <td>[{'Player_Name': 'Moore', 'Player_Number': '13...</td>\n",
       "      <td>[{'Player_Name': 'Dolberg', 'Player_Number': '...</td>\n",
       "    </tr>\n",
       "    <tr>\n",
       "      <th>25</th>\n",
       "      <td>Group stage: Matchday 3</td>\n",
       "      <td>20.06.2021</td>\n",
       "      <td>False</td>\n",
       "      <td>False</td>\n",
       "      <td>False</td>\n",
       "      <td>Italy</td>\n",
       "      <td>Wales</td>\n",
       "      <td>1</td>\n",
       "      <td>0</td>\n",
       "      <td>70%</td>\n",
       "      <td>30%</td>\n",
       "      <td>23</td>\n",
       "      <td>3</td>\n",
       "      <td>6</td>\n",
       "      <td>1</td>\n",
       "      <td>56%</td>\n",
       "      <td>44%</td>\n",
       "      <td>[{'event_team': 'home', 'event_time': \" 39' \",...</td>\n",
       "      <td>[{'Player_Name': 'Chiesa', 'Player_Number': '1...</td>\n",
       "      <td>[{'Player_Name': 'James', 'Player_Number': '20...</td>\n",
       "    </tr>\n",
       "    <tr>\n",
       "      <th>36</th>\n",
       "      <td>Group stage: Matchday 2</td>\n",
       "      <td>16.06.2021</td>\n",
       "      <td>False</td>\n",
       "      <td>False</td>\n",
       "      <td>False</td>\n",
       "      <td>Italy</td>\n",
       "      <td>Switzerland</td>\n",
       "      <td>3</td>\n",
       "      <td>0</td>\n",
       "      <td>49%</td>\n",
       "      <td>51%</td>\n",
       "      <td>13</td>\n",
       "      <td>6</td>\n",
       "      <td>3</td>\n",
       "      <td>1</td>\n",
       "      <td>43%</td>\n",
       "      <td>57%</td>\n",
       "      <td>[{'event_team': 'home', 'event_time': \" 19' \",...</td>\n",
       "      <td>[{'Player_Name': 'Insigne', 'Player_Number': '...</td>\n",
       "      <td>[{'Player_Name': 'Embolo', 'Player_Number': '7...</td>\n",
       "    </tr>\n",
       "    <tr>\n",
       "      <th>49</th>\n",
       "      <td>Group stage: Matchday 1</td>\n",
       "      <td>12.06.2021</td>\n",
       "      <td>False</td>\n",
       "      <td>False</td>\n",
       "      <td>False</td>\n",
       "      <td>Wales</td>\n",
       "      <td>Switzerland</td>\n",
       "      <td>1</td>\n",
       "      <td>1</td>\n",
       "      <td>35%</td>\n",
       "      <td>65%</td>\n",
       "      <td>9</td>\n",
       "      <td>18</td>\n",
       "      <td>2</td>\n",
       "      <td>4</td>\n",
       "      <td>46%</td>\n",
       "      <td>55%</td>\n",
       "      <td>[{'event_team': 'away', 'event_time': \" 30' \",...</td>\n",
       "      <td>[{'Player_Name': 'Moore', 'Player_Number': '13...</td>\n",
       "      <td>[{'Player_Name': 'Embolo', 'Player_Number': '7...</td>\n",
       "    </tr>\n",
       "  </tbody>\n",
       "</table>\n",
       "</div>"
      ],
      "text/plain": [
       "                        stage          date   pens pens_home_score  \\\n",
       "0                      Final     11.07.2021   True               3   \n",
       "2                Semi-finals     06.07.2021   True               4   \n",
       "13               Round of 16    26.06.2021   False           False   \n",
       "14               Round of 16    26.06.2021   False           False   \n",
       "25   Group stage: Matchday 3    20.06.2021   False           False   \n",
       "36   Group stage: Matchday 2    16.06.2021   False           False   \n",
       "49   Group stage: Matchday 1    12.06.2021   False           False   \n",
       "\n",
       "   pens_away_score team_name_home team_name_away  team_home_score  \\\n",
       "0                2          Italy        England                1   \n",
       "2                2          Italy          Spain                1   \n",
       "13           False          Italy        Austria                2   \n",
       "14           False          Wales        Denmark                0   \n",
       "25           False          Italy          Wales                1   \n",
       "36           False          Italy    Switzerland                3   \n",
       "49           False          Wales    Switzerland                1   \n",
       "\n",
       "    team_away_score possession_home possession_away  total_shots_home  \\\n",
       "0                 1             66%            34%                 19   \n",
       "2                 1             29%            71%                  7   \n",
       "13                1             52%            48%                 27   \n",
       "14                4             47%            53%                 11   \n",
       "25                0             70%            30%                 23   \n",
       "36                0             49%            51%                 13   \n",
       "49                1             35%            65%                  9   \n",
       "\n",
       "    total_shots_away  shots_on_target_home  shots_on_target_away  \\\n",
       "0                  6                     6                     2   \n",
       "2                 16                     4                     5   \n",
       "13                16                     6                     3   \n",
       "14                16                     1                     8   \n",
       "25                 3                     6                     1   \n",
       "36                 6                     3                     1   \n",
       "49                18                     2                     4   \n",
       "\n",
       "   duels_won_home duels_won_away  \\\n",
       "0             53%           47%    \n",
       "2             49%           51%    \n",
       "13            50%           50%    \n",
       "14            39%           61%    \n",
       "25            56%           44%    \n",
       "36            43%           57%    \n",
       "49            46%           55%    \n",
       "\n",
       "                                          events_list  \\\n",
       "0   [{'event_team': 'away', 'event_time': \" 2' \", ...   \n",
       "2   [{'event_team': 'away', 'event_time': \" 51' \",...   \n",
       "13  [{'event_team': 'away', 'event_time': \" 2' \", ...   \n",
       "14  [{'event_team': 'home', 'event_time': \" 26' \",...   \n",
       "25  [{'event_team': 'home', 'event_time': \" 39' \",...   \n",
       "36  [{'event_team': 'home', 'event_time': \" 19' \",...   \n",
       "49  [{'event_team': 'away', 'event_time': \" 30' \",...   \n",
       "\n",
       "                                          lineup_home  \\\n",
       "0   [{'Player_Name': 'Insigne', 'Player_Number': '...   \n",
       "2   [{'Player_Name': 'Insigne', 'Player_Number': '...   \n",
       "13  [{'Player_Name': 'Insigne', 'Player_Number': '...   \n",
       "14  [{'Player_Name': 'Moore', 'Player_Number': '13...   \n",
       "25  [{'Player_Name': 'Chiesa', 'Player_Number': '1...   \n",
       "36  [{'Player_Name': 'Insigne', 'Player_Number': '...   \n",
       "49  [{'Player_Name': 'Moore', 'Player_Number': '13...   \n",
       "\n",
       "                                          lineup_away  \n",
       "0   [{'Player_Name': 'Kane', 'Player_Number': '9'}...  \n",
       "2   [{'Player_Name': 'Torres', 'Player_Number': '1...  \n",
       "13  [{'Player_Name': 'Arnautovic', 'Player_Number'...  \n",
       "14  [{'Player_Name': 'Dolberg', 'Player_Number': '...  \n",
       "25  [{'Player_Name': 'James', 'Player_Number': '20...  \n",
       "36  [{'Player_Name': 'Embolo', 'Player_Number': '7...  \n",
       "49  [{'Player_Name': 'Embolo', 'Player_Number': '7...  "
      ]
     },
     "execution_count": 12,
     "metadata": {},
     "output_type": "execute_result"
    }
   ],
   "source": [
    "iw_matches"
   ]
  },
  {
   "cell_type": "code",
   "execution_count": 13,
   "id": "07ed7ce1",
   "metadata": {
    "execution": {
     "iopub.execute_input": "2022-03-19T17:51:47.408445Z",
     "iopub.status.busy": "2022-03-19T17:51:47.407334Z",
     "iopub.status.idle": "2022-03-19T17:51:47.428907Z",
     "shell.execute_reply": "2022-03-19T17:51:47.429502Z",
     "shell.execute_reply.started": "2022-03-19T17:27:51.399587Z"
    },
    "papermill": {
     "duration": 0.064396,
     "end_time": "2022-03-19T17:51:47.429682",
     "exception": false,
     "start_time": "2022-03-19T17:51:47.365286",
     "status": "completed"
    },
    "tags": []
   },
   "outputs": [],
   "source": [
    "import json\n",
    "with open('../input/socceranalytics/matches.json') as f:\n",
    "    data = json.load(f)\n",
    "    matches = pd.json_normalize(data, sep = \"_\")"
   ]
  },
  {
   "cell_type": "code",
   "execution_count": 14,
   "id": "1f6b2f43",
   "metadata": {
    "execution": {
     "iopub.execute_input": "2022-03-19T17:51:47.511904Z",
     "iopub.status.busy": "2022-03-19T17:51:47.510922Z",
     "iopub.status.idle": "2022-03-19T17:51:47.517228Z",
     "shell.execute_reply": "2022-03-19T17:51:47.517820Z",
     "shell.execute_reply.started": "2022-03-19T17:27:51.422877Z"
    },
    "papermill": {
     "duration": 0.048769,
     "end_time": "2022-03-19T17:51:47.518022",
     "exception": false,
     "start_time": "2022-03-19T17:51:47.469253",
     "status": "completed"
    },
    "tags": []
   },
   "outputs": [
    {
     "data": {
      "text/plain": [
       "Index(['match_id', 'match_date', 'kick_off', 'home_score', 'away_score',\n",
       "       'match_status', 'match_status_360', 'last_updated', 'last_updated_360',\n",
       "       'match_week', 'competition_competition_id', 'competition_country_name',\n",
       "       'competition_competition_name', 'season_season_id',\n",
       "       'season_season_name', 'home_team_home_team_id',\n",
       "       'home_team_home_team_name', 'home_team_home_team_gender',\n",
       "       'home_team_home_team_group', 'home_team_country_id',\n",
       "       'home_team_country_name', 'home_team_managers',\n",
       "       'away_team_away_team_id', 'away_team_away_team_name',\n",
       "       'away_team_away_team_gender', 'away_team_away_team_group',\n",
       "       'away_team_country_id', 'away_team_country_name', 'away_team_managers',\n",
       "       'metadata_data_version', 'metadata_shot_fidelity_version',\n",
       "       'metadata_xy_fidelity_version', 'competition_stage_id',\n",
       "       'competition_stage_name', 'stadium_id', 'stadium_name',\n",
       "       'stadium_country_id', 'stadium_country_name', 'referee_id',\n",
       "       'referee_name', 'referee_country_id', 'referee_country_name'],\n",
       "      dtype='object')"
      ]
     },
     "execution_count": 14,
     "metadata": {},
     "output_type": "execute_result"
    }
   ],
   "source": [
    "matches.columns"
   ]
  },
  {
   "cell_type": "code",
   "execution_count": 15,
   "id": "7c2482e1",
   "metadata": {
    "execution": {
     "iopub.execute_input": "2022-03-19T17:51:47.604227Z",
     "iopub.status.busy": "2022-03-19T17:51:47.603498Z",
     "iopub.status.idle": "2022-03-19T17:51:47.616642Z",
     "shell.execute_reply": "2022-03-19T17:51:47.616112Z",
     "shell.execute_reply.started": "2022-03-19T17:27:51.429756Z"
    },
    "papermill": {
     "duration": 0.0597,
     "end_time": "2022-03-19T17:51:47.616793",
     "exception": false,
     "start_time": "2022-03-19T17:51:47.557093",
     "status": "completed"
    },
    "tags": []
   },
   "outputs": [
    {
     "data": {
      "text/html": [
       "<div>\n",
       "<style scoped>\n",
       "    .dataframe tbody tr th:only-of-type {\n",
       "        vertical-align: middle;\n",
       "    }\n",
       "\n",
       "    .dataframe tbody tr th {\n",
       "        vertical-align: top;\n",
       "    }\n",
       "\n",
       "    .dataframe thead th {\n",
       "        text-align: right;\n",
       "    }\n",
       "</style>\n",
       "<table border=\"1\" class=\"dataframe\">\n",
       "  <thead>\n",
       "    <tr style=\"text-align: right;\">\n",
       "      <th></th>\n",
       "      <th>match_id</th>\n",
       "      <th>match_date</th>\n",
       "      <th>kick_off</th>\n",
       "      <th>home_score</th>\n",
       "      <th>away_score</th>\n",
       "      <th>match_status</th>\n",
       "      <th>match_status_360</th>\n",
       "      <th>last_updated</th>\n",
       "      <th>last_updated_360</th>\n",
       "      <th>match_week</th>\n",
       "      <th>...</th>\n",
       "      <th>competition_stage_id</th>\n",
       "      <th>competition_stage_name</th>\n",
       "      <th>stadium_id</th>\n",
       "      <th>stadium_name</th>\n",
       "      <th>stadium_country_id</th>\n",
       "      <th>stadium_country_name</th>\n",
       "      <th>referee_id</th>\n",
       "      <th>referee_name</th>\n",
       "      <th>referee_country_id</th>\n",
       "      <th>referee_country_name</th>\n",
       "    </tr>\n",
       "  </thead>\n",
       "  <tbody>\n",
       "  </tbody>\n",
       "</table>\n",
       "<p>0 rows × 42 columns</p>\n",
       "</div>"
      ],
      "text/plain": [
       "Empty DataFrame\n",
       "Columns: [match_id, match_date, kick_off, home_score, away_score, match_status, match_status_360, last_updated, last_updated_360, match_week, competition_competition_id, competition_country_name, competition_competition_name, season_season_id, season_season_name, home_team_home_team_id, home_team_home_team_name, home_team_home_team_gender, home_team_home_team_group, home_team_country_id, home_team_country_name, home_team_managers, away_team_away_team_id, away_team_away_team_name, away_team_away_team_gender, away_team_away_team_group, away_team_country_id, away_team_country_name, away_team_managers, metadata_data_version, metadata_shot_fidelity_version, metadata_xy_fidelity_version, competition_stage_id, competition_stage_name, stadium_id, stadium_name, stadium_country_id, stadium_country_name, referee_id, referee_name, referee_country_id, referee_country_name]\n",
       "Index: []\n",
       "\n",
       "[0 rows x 42 columns]"
      ]
     },
     "execution_count": 15,
     "metadata": {},
     "output_type": "execute_result"
    }
   ],
   "source": [
    "our_match = matches[matches.match_id == 2024468] # would've been too nice\n",
    "our_match"
   ]
  },
  {
   "cell_type": "code",
   "execution_count": 16,
   "id": "bc095f69",
   "metadata": {
    "execution": {
     "iopub.execute_input": "2022-03-19T17:51:47.699727Z",
     "iopub.status.busy": "2022-03-19T17:51:47.698998Z",
     "iopub.status.idle": "2022-03-19T17:51:47.704652Z",
     "shell.execute_reply": "2022-03-19T17:51:47.705227Z",
     "shell.execute_reply.started": "2022-03-19T17:27:51.454936Z"
    },
    "papermill": {
     "duration": 0.049053,
     "end_time": "2022-03-19T17:51:47.705407",
     "exception": false,
     "start_time": "2022-03-19T17:51:47.656354",
     "status": "completed"
    },
    "tags": []
   },
   "outputs": [],
   "source": [
    "mask = (matches[\"home_team_home_team_name\"] == \"Italy\") | (matches[\"away_team_away_team_name\"] == \"Italy\")\n",
    "italy_matches = matches[mask]"
   ]
  },
  {
   "cell_type": "code",
   "execution_count": 17,
   "id": "94799d0b",
   "metadata": {
    "execution": {
     "iopub.execute_input": "2022-03-19T17:51:47.788981Z",
     "iopub.status.busy": "2022-03-19T17:51:47.788303Z",
     "iopub.status.idle": "2022-03-19T17:51:47.793216Z",
     "shell.execute_reply": "2022-03-19T17:51:47.793762Z",
     "shell.execute_reply.started": "2022-03-19T17:27:51.462579Z"
    },
    "papermill": {
     "duration": 0.048746,
     "end_time": "2022-03-19T17:51:47.793938",
     "exception": false,
     "start_time": "2022-03-19T17:51:47.745192",
     "status": "completed"
    },
    "tags": []
   },
   "outputs": [],
   "source": [
    "match_id = italy_matches[italy_matches[\"away_team_away_team_name\"] == \"Wales\"].match_id.iloc[0]"
   ]
  },
  {
   "cell_type": "code",
   "execution_count": 18,
   "id": "9582aea4",
   "metadata": {
    "execution": {
     "iopub.execute_input": "2022-03-19T17:51:47.876573Z",
     "iopub.status.busy": "2022-03-19T17:51:47.875871Z",
     "iopub.status.idle": "2022-03-19T17:51:47.880506Z",
     "shell.execute_reply": "2022-03-19T17:51:47.881110Z",
     "shell.execute_reply.started": "2022-03-19T17:27:51.474623Z"
    },
    "papermill": {
     "duration": 0.047616,
     "end_time": "2022-03-19T17:51:47.881279",
     "exception": false,
     "start_time": "2022-03-19T17:51:47.833663",
     "status": "completed"
    },
    "tags": []
   },
   "outputs": [
    {
     "data": {
      "text/plain": [
       "3788766"
      ]
     },
     "execution_count": 18,
     "metadata": {},
     "output_type": "execute_result"
    }
   ],
   "source": [
    "match_id"
   ]
  },
  {
   "cell_type": "code",
   "execution_count": 19,
   "id": "23ce9548",
   "metadata": {
    "execution": {
     "iopub.execute_input": "2022-03-19T17:51:47.968254Z",
     "iopub.status.busy": "2022-03-19T17:51:47.967528Z",
     "iopub.status.idle": "2022-03-19T17:51:48.540206Z",
     "shell.execute_reply": "2022-03-19T17:51:48.540925Z",
     "shell.execute_reply.started": "2022-03-19T17:27:51.488685Z"
    },
    "papermill": {
     "duration": 0.61772,
     "end_time": "2022-03-19T17:51:48.541149",
     "exception": false,
     "start_time": "2022-03-19T17:51:47.923429",
     "status": "completed"
    },
    "tags": []
   },
   "outputs": [],
   "source": [
    "import bz2\n",
    "zipfile = bz2.BZ2File(f\"../input/socceranalytics/three-sixty/three-sixty/{match_id}.json.bz2\")\n",
    "file = zipfile.read()\n",
    "open(f\"{match_id}.json\", 'wb').write(file)\n",
    "with open(f\"{match_id}.json\") as f:\n",
    "    threesixty = json.load(f)\n",
    "    match_events360 = pd.json_normalize(threesixty)\n"
   ]
  },
  {
   "cell_type": "code",
   "execution_count": 20,
   "id": "69fc38ba",
   "metadata": {
    "execution": {
     "iopub.execute_input": "2022-03-19T17:51:48.626528Z",
     "iopub.status.busy": "2022-03-19T17:51:48.625818Z",
     "iopub.status.idle": "2022-03-19T17:51:49.003299Z",
     "shell.execute_reply": "2022-03-19T17:51:49.003844Z",
     "shell.execute_reply.started": "2022-03-19T17:27:52.108825Z"
    },
    "papermill": {
     "duration": 0.421398,
     "end_time": "2022-03-19T17:51:49.004090",
     "exception": false,
     "start_time": "2022-03-19T17:51:48.582692",
     "status": "completed"
    },
    "tags": []
   },
   "outputs": [],
   "source": [
    "zipfile = bz2.BZ2File(f\"../input/socceranalytics/events/events/{match_id}.json.bz2\")\n",
    "file = zipfile.read()\n",
    "open(f\"{match_id}.json\", 'wb').write(file)\n",
    "with open(f\"{match_id}.json\") as f:\n",
    "    events = json.load(f)\n",
    "    match_events = pd.json_normalize(events, sep = \"_\")"
   ]
  },
  {
   "cell_type": "code",
   "execution_count": 21,
   "id": "d892a886",
   "metadata": {
    "execution": {
     "iopub.execute_input": "2022-03-19T17:51:49.091999Z",
     "iopub.status.busy": "2022-03-19T17:51:49.091234Z",
     "iopub.status.idle": "2022-03-19T17:51:49.100540Z",
     "shell.execute_reply": "2022-03-19T17:51:49.099748Z",
     "shell.execute_reply.started": "2022-03-19T17:30:24.049074Z"
    },
    "papermill": {
     "duration": 0.055421,
     "end_time": "2022-03-19T17:51:49.100713",
     "exception": false,
     "start_time": "2022-03-19T17:51:49.045292",
     "status": "completed"
    },
    "tags": []
   },
   "outputs": [],
   "source": [
    "shots = match_events[match_events['type_name'] == 'Shot']\n",
    "passes = match_events[match_events['type_name'] == 'Pass']"
   ]
  },
  {
   "cell_type": "code",
   "execution_count": 22,
   "id": "0113c90e",
   "metadata": {
    "execution": {
     "iopub.execute_input": "2022-03-19T17:51:49.206285Z",
     "iopub.status.busy": "2022-03-19T17:51:49.204879Z",
     "iopub.status.idle": "2022-03-19T17:51:49.212225Z",
     "shell.execute_reply": "2022-03-19T17:51:49.212698Z",
     "shell.execute_reply.started": "2022-03-19T17:27:52.395619Z"
    },
    "papermill": {
     "duration": 0.070614,
     "end_time": "2022-03-19T17:51:49.212873",
     "exception": false,
     "start_time": "2022-03-19T17:51:49.142259",
     "status": "completed"
    },
    "tags": []
   },
   "outputs": [],
   "source": [
    "max_x = 0\n",
    "max_y = 0\n",
    "for frame in match_events360.freeze_frame:\n",
    "    for player in frame:\n",
    "        if max_x < player['location'][0]:\n",
    "            max_x = player['location'][0]\n",
    "        if max_y < player['location'][1]:\n",
    "            max_y = player['location'][1]"
   ]
  },
  {
   "cell_type": "code",
   "execution_count": 23,
   "id": "3b9d992f",
   "metadata": {
    "execution": {
     "iopub.execute_input": "2022-03-19T17:51:49.301156Z",
     "iopub.status.busy": "2022-03-19T17:51:49.300012Z",
     "iopub.status.idle": "2022-03-19T17:51:49.304418Z",
     "shell.execute_reply": "2022-03-19T17:51:49.304900Z",
     "shell.execute_reply.started": "2022-03-19T17:27:52.419345Z"
    },
    "papermill": {
     "duration": 0.049319,
     "end_time": "2022-03-19T17:51:49.305107",
     "exception": false,
     "start_time": "2022-03-19T17:51:49.255788",
     "status": "completed"
    },
    "tags": []
   },
   "outputs": [],
   "source": [
    "shots = shots.reset_index(drop = True)\n",
    "x, y= shots['location'][0]"
   ]
  },
  {
   "cell_type": "code",
   "execution_count": 24,
   "id": "b1975287",
   "metadata": {
    "execution": {
     "iopub.execute_input": "2022-03-19T17:51:49.400243Z",
     "iopub.status.busy": "2022-03-19T17:51:49.391690Z",
     "iopub.status.idle": "2022-03-19T17:51:49.402897Z",
     "shell.execute_reply": "2022-03-19T17:51:49.403480Z",
     "shell.execute_reply.started": "2022-03-19T17:27:52.434818Z"
    },
    "papermill": {
     "duration": 0.056757,
     "end_time": "2022-03-19T17:51:49.403671",
     "exception": false,
     "start_time": "2022-03-19T17:51:49.346914",
     "status": "completed"
    },
    "tags": []
   },
   "outputs": [
    {
     "data": {
      "text/plain": [
       "0     [115.6, 43.6]\n",
       "1      [91.2, 26.2]\n",
       "2      [97.3, 51.8]\n",
       "3     [105.7, 40.9]\n",
       "4     [112.6, 51.6]\n",
       "5     [110.7, 34.4]\n",
       "6     [103.3, 24.9]\n",
       "7     [115.9, 50.9]\n",
       "8     [108.2, 29.7]\n",
       "9      [96.1, 29.6]\n",
       "10    [109.4, 45.1]\n",
       "11    [109.7, 36.2]\n",
       "12     [90.4, 44.8]\n",
       "13    [111.7, 58.8]\n",
       "14    [103.6, 56.4]\n",
       "15    [112.6, 48.3]\n",
       "16    [116.2, 51.5]\n",
       "17     [98.5, 56.7]\n",
       "18    [109.6, 47.6]\n",
       "19    [110.1, 45.7]\n",
       "20    [113.8, 54.6]\n",
       "21    [110.4, 24.4]\n",
       "22     [95.9, 32.3]\n",
       "23    [101.5, 32.5]\n",
       "24    [101.9, 42.2]\n",
       "25     [93.7, 53.3]\n",
       "Name: location, dtype: object"
      ]
     },
     "execution_count": 24,
     "metadata": {},
     "output_type": "execute_result"
    }
   ],
   "source": [
    "shots['location']"
   ]
  },
  {
   "cell_type": "code",
   "execution_count": 25,
   "id": "bd8b0bab",
   "metadata": {
    "execution": {
     "iopub.execute_input": "2022-03-19T17:51:49.490199Z",
     "iopub.status.busy": "2022-03-19T17:51:49.489464Z",
     "iopub.status.idle": "2022-03-19T17:51:49.954063Z",
     "shell.execute_reply": "2022-03-19T17:51:49.953548Z",
     "shell.execute_reply.started": "2022-03-19T17:27:52.454734Z"
    },
    "papermill": {
     "duration": 0.509357,
     "end_time": "2022-03-19T17:51:49.954206",
     "exception": false,
     "start_time": "2022-03-19T17:51:49.444849",
     "status": "completed"
    },
    "tags": []
   },
   "outputs": [
    {
     "data": {
      "image/png": "[encoded data removed]",
      "text/plain": [
       "<Figure size 756x489.6 with 1 Axes>"
      ]
     },
     "metadata": {},
     "output_type": "display_data"
    }
   ],
   "source": [
    "fig, ax = create_pitch(120, 80,'white')\n",
    "for shot in shots['location']:\n",
    "    x, y = shot\n",
    "    y = 80 - y\n",
    "    plt.scatter(x,y, marker = 'o')\n",
    "    #shotCircle = plt.Circle((x,y) , 2, color=\"red\")     \n",
    "    #ax.add_patch(shotCircle)\n",
    "\n",
    "plt.show()"
   ]
  },
  {
   "cell_type": "code",
   "execution_count": 26,
   "id": "eeda4340",
   "metadata": {
    "execution": {
     "iopub.execute_input": "2022-03-19T17:51:50.074749Z",
     "iopub.status.busy": "2022-03-19T17:51:50.054692Z",
     "iopub.status.idle": "2022-03-19T17:52:01.059683Z",
     "shell.execute_reply": "2022-03-19T17:52:01.060269Z",
     "shell.execute_reply.started": "2022-03-19T17:30:45.461024Z"
    },
    "papermill": {
     "duration": 11.062115,
     "end_time": "2022-03-19T17:52:01.060440",
     "exception": false,
     "start_time": "2022-03-19T17:51:49.998325",
     "status": "completed"
    },
    "tags": []
   },
   "outputs": [
    {
     "data": {
      "image/png": "[encoded data removed]",
      "text/plain": [
       "<Figure size 756x489.6 with 1 Axes>"
      ]
     },
     "metadata": {},
     "output_type": "display_data"
    }
   ],
   "source": [
    "fig, ax = create_pitch(120, 80,'white')\n",
    "for pass_ball in passes['location']:\n",
    "    x, y = pass_ball\n",
    "    y = 80 - y\n",
    "    plt.scatter(x,y, marker = 'o')\n",
    "    #shotCircle = plt.Circle((x,y) , 2, color=\"red\")     \n",
    "    #ax.add_patch(shotCircle)\n",
    "\n",
    "plt.show()"
   ]
  },
  {
   "cell_type": "code",
   "execution_count": 27,
   "id": "ce2d286e",
   "metadata": {
    "execution": {
     "iopub.execute_input": "2022-03-19T17:52:01.176351Z",
     "iopub.status.busy": "2022-03-19T17:52:01.173304Z",
     "iopub.status.idle": "2022-03-19T17:52:01.551881Z",
     "shell.execute_reply": "2022-03-19T17:52:01.552434Z",
     "shell.execute_reply.started": "2022-03-19T17:27:58.765506Z"
    },
    "papermill": {
     "duration": 0.447506,
     "end_time": "2022-03-19T17:52:01.552611",
     "exception": false,
     "start_time": "2022-03-19T17:52:01.105105",
     "status": "completed"
    },
    "tags": []
   },
   "outputs": [
    {
     "name": "stdout",
     "output_type": "stream",
     "text": [
      "x: 35.69931, y: 39.34204\n",
      "x: 36.200874, y: 14.901566000000003\n",
      "x: 39.276855, y: 58.619656\n",
      "x: 43.21889, y: 43.58631\n",
      "x: 46.322346, y: 41.87836\n",
      "x: 49.805428, y: 41.016613\n",
      "x: 52.023182, y: 72.816912\n",
      "x: 52.329487, y: 44.94696\n",
      "x: 52.95706, y: 26.233919999999998\n",
      "x: 59.988873, y: 26.470318\n",
      "x: 60.065403, y: 47.9683\n",
      "x: 62.428272, y: 33.157387\n",
      "x: 64.82069, y: 57.061935\n",
      "x: 65.82369, y: 2.1536899999999974\n",
      "x: 66.35554, y: 61.36174\n",
      "x: 68.555466, y: 40.356163\n",
      "x: 71.11175, y: 57.47321\n"
     ]
    },
    {
     "data": {
      "image/png": "[encoded data removed]",
      "text/plain": [
       "<Figure size 756x489.6 with 1 Axes>"
      ]
     },
     "metadata": {},
     "output_type": "display_data"
    }
   ],
   "source": [
    "fig, ax = create_pitch(120, 80,'white')\n",
    "for d in match_events360['freeze_frame'][4]:\n",
    "    x, y = d['location']\n",
    "    y = 80 - y\n",
    "    print(f\"x: {x}, y: {y}\")\n",
    "    plt.scatter(x, y, color = 'red', marker = 'o')\n",
    "plt.show()"
   ]
  },
  {
   "cell_type": "code",
   "execution_count": 28,
   "id": "b3dd455a",
   "metadata": {
    "execution": {
     "iopub.execute_input": "2022-03-19T17:52:01.646845Z",
     "iopub.status.busy": "2022-03-19T17:52:01.646131Z",
     "iopub.status.idle": "2022-03-19T17:52:02.885537Z",
     "shell.execute_reply": "2022-03-19T17:52:02.884974Z",
     "shell.execute_reply.started": "2022-03-19T17:27:53.250508Z"
    },
    "papermill": {
     "duration": 1.287788,
     "end_time": "2022-03-19T17:52:02.885690",
     "exception": false,
     "start_time": "2022-03-19T17:52:01.597902",
     "status": "completed"
    },
    "tags": []
   },
   "outputs": [],
   "source": [
    "game = pd.read_parquet(\"../input/socceranalytics/italywales.pq\")"
   ]
  },
  {
   "cell_type": "code",
   "execution_count": 29,
   "id": "4860b049",
   "metadata": {
    "execution": {
     "iopub.execute_input": "2022-03-19T17:52:03.000269Z",
     "iopub.status.busy": "2022-03-19T17:52:02.999503Z",
     "iopub.status.idle": "2022-03-19T17:52:03.003280Z",
     "shell.execute_reply": "2022-03-19T17:52:03.002720Z",
     "shell.execute_reply.started": "2022-03-19T17:27:54.935712Z"
    },
    "papermill": {
     "duration": 0.071767,
     "end_time": "2022-03-19T17:52:03.003439",
     "exception": false,
     "start_time": "2022-03-19T17:52:02.931672",
     "status": "completed"
    },
    "tags": []
   },
   "outputs": [
    {
     "data": {
      "text/plain": [
       "array(['102221', '250012939', '250101045', '250065196', '107011',\n",
       "       '250090398', '250061597', '250050378', '250097244', '250067749',\n",
       "       '250091199', '250097090', '250017925', '250078922', None,\n",
       "       '250112488', '103769', '102225', '250100056', '250113272'],\n",
       "      dtype=object)"
      ]
     },
     "execution_count": 29,
     "metadata": {},
     "output_type": "execute_result"
    }
   ],
   "source": [
    "game.player1_id.unique()"
   ]
  },
  {
   "cell_type": "code",
   "execution_count": 30,
   "id": "bf481b22",
   "metadata": {
    "execution": {
     "iopub.execute_input": "2022-03-19T17:52:03.102980Z",
     "iopub.status.busy": "2022-03-19T17:52:03.101976Z",
     "iopub.status.idle": "2022-03-19T17:52:03.479999Z",
     "shell.execute_reply": "2022-03-19T17:52:03.479010Z",
     "shell.execute_reply.started": "2022-03-19T17:27:54.953332Z"
    },
    "papermill": {
     "duration": 0.42941,
     "end_time": "2022-03-19T17:52:03.480205",
     "exception": false,
     "start_time": "2022-03-19T17:52:03.050795",
     "status": "completed"
    },
    "tags": []
   },
   "outputs": [
    {
     "name": "stdout",
     "output_type": "stream",
     "text": [
      "player2_id\n",
      "player3_id\n",
      "player4_id\n",
      "player5_id\n",
      "player6_id\n",
      "player7_id\n",
      "player8_id\n",
      "player9_id\n",
      "player10_id\n",
      "player11_id\n",
      "player12_id\n",
      "player13_id\n",
      "player14_id\n",
      "player15_id\n",
      "player16_id\n",
      "player17_id\n",
      "player18_id\n",
      "player19_id\n",
      "player21_id\n",
      "player22_id\n"
     ]
    }
   ],
   "source": [
    "for column in game.columns:\n",
    "    if \"250121401\" in game[column].to_list():\n",
    "        print(column)"
   ]
  },
  {
   "cell_type": "code",
   "execution_count": 31,
   "id": "73935f41",
   "metadata": {
    "execution": {
     "iopub.execute_input": "2022-03-19T17:52:03.580399Z",
     "iopub.status.busy": "2022-03-19T17:52:03.579690Z",
     "iopub.status.idle": "2022-03-19T17:52:03.598846Z",
     "shell.execute_reply": "2022-03-19T17:52:03.599480Z",
     "shell.execute_reply.started": "2022-03-19T17:27:55.323035Z"
    },
    "papermill": {
     "duration": 0.071427,
     "end_time": "2022-03-19T17:52:03.599655",
     "exception": false,
     "start_time": "2022-03-19T17:52:03.528228",
     "status": "completed"
    },
    "tags": []
   },
   "outputs": [],
   "source": [
    "with open(f\"../input/socceranalytics/lineups/lineups/{match_id}.json\") as f:\n",
    "    lineup = json.load(f)\n",
    "    lineups = pd.json_normalize(data)\n"
   ]
  },
  {
   "cell_type": "code",
   "execution_count": 32,
   "id": "d371900b",
   "metadata": {
    "execution": {
     "iopub.execute_input": "2022-03-19T17:52:03.698920Z",
     "iopub.status.busy": "2022-03-19T17:52:03.697923Z",
     "iopub.status.idle": "2022-03-19T17:52:03.701709Z",
     "shell.execute_reply": "2022-03-19T17:52:03.702270Z",
     "shell.execute_reply.started": "2022-03-19T17:27:55.342491Z"
    },
    "papermill": {
     "duration": 0.054656,
     "end_time": "2022-03-19T17:52:03.702442",
     "exception": false,
     "start_time": "2022-03-19T17:52:03.647786",
     "status": "completed"
    },
    "tags": []
   },
   "outputs": [],
   "source": [
    "wales_lineup = lineup[0]\n",
    "italy_lineup = lineup[1]"
   ]
  },
  {
   "cell_type": "code",
   "execution_count": 33,
   "id": "afca5121",
   "metadata": {
    "execution": {
     "iopub.execute_input": "2022-03-19T17:52:03.800545Z",
     "iopub.status.busy": "2022-03-19T17:52:03.799537Z",
     "iopub.status.idle": "2022-03-19T17:52:03.807699Z",
     "shell.execute_reply": "2022-03-19T17:52:03.808350Z",
     "shell.execute_reply.started": "2022-03-19T17:27:55.34795Z"
    },
    "papermill": {
     "duration": 0.059089,
     "end_time": "2022-03-19T17:52:03.808529",
     "exception": false,
     "start_time": "2022-03-19T17:52:03.749440",
     "status": "completed"
    },
    "tags": []
   },
   "outputs": [
    {
     "name": "stdout",
     "output_type": "stream",
     "text": [
      "Marco Verratti\n",
      "Emerson Palmieri dos Santos\n",
      "Alex Meret\n",
      "Bryan Cristante\n",
      "Rafael Tolói\n",
      "Jorge Luiz Frello Filho\n",
      "Gianluigi Donnarumma\n",
      "Lorenzo Insigne\n",
      "Manuel Locatelli\n",
      "Francesco Acerbi\n",
      "Federico Chiesa\n",
      "Leonardo Bonucci\n",
      "Salvatore Sirigu\n",
      "Andrea Belotti\n",
      "Alessandro Bastoni\n",
      "Federico Bernardeschi\n",
      "Ciro Immobile\n",
      "Nicolò Barella\n",
      "Leonardo Spinazzola\n",
      "Giovanni Di Lorenzo\n",
      "Matteo Pessina\n",
      "Giacomo Raspadori\n",
      "Gaetano Castrovilli\n"
     ]
    }
   ],
   "source": [
    "for player in italy_lineup['lineup']:\n",
    "    print(f\"{player['player_name']}\")"
   ]
  },
  {
   "cell_type": "code",
   "execution_count": 34,
   "id": "9722b9ac",
   "metadata": {
    "execution": {
     "iopub.execute_input": "2022-03-19T17:52:03.909918Z",
     "iopub.status.busy": "2022-03-19T17:52:03.909212Z",
     "iopub.status.idle": "2022-03-19T17:52:03.914042Z",
     "shell.execute_reply": "2022-03-19T17:52:03.914595Z",
     "shell.execute_reply.started": "2022-03-19T17:27:55.36361Z"
    },
    "papermill": {
     "duration": 0.057669,
     "end_time": "2022-03-19T17:52:03.914775",
     "exception": false,
     "start_time": "2022-03-19T17:52:03.857106",
     "status": "completed"
    },
    "tags": []
   },
   "outputs": [
    {
     "data": {
      "text/plain": [
       "23"
      ]
     },
     "execution_count": 34,
     "metadata": {},
     "output_type": "execute_result"
    }
   ],
   "source": [
    "len(wales_lineup['lineup'])"
   ]
  },
  {
   "cell_type": "code",
   "execution_count": null,
   "id": "3d7c5c04",
   "metadata": {
    "papermill": {
     "duration": 0.051126,
     "end_time": "2022-03-19T17:52:04.014245",
     "exception": false,
     "start_time": "2022-03-19T17:52:03.963119",
     "status": "completed"
    },
    "tags": []
   },
   "outputs": [],
   "source": []
  }
 ],
 "metadata": {
  "kernelspec": {
   "display_name": "Python 3",
   "language": "python",
   "name": "python3"
  },
  "language_info": {
   "codemirror_mode": {
    "name": "ipython",
    "version": 3
   },
   "file_extension": ".py",
   "mimetype": "text/x-python",
   "name": "python",
   "nbconvert_exporter": "python",
   "pygments_lexer": "ipython3",
   "version": "3.7.12"
  },
  "papermill": {
   "default_parameters": {},
   "duration": 30.744614,
   "end_time": "2022-03-19T17:52:04.974258",
   "environment_variables": {},
   "exception": null,
   "input_path": "__notebook__.ipynb",
   "output_path": "__notebook__.ipynb",
   "parameters": {},
   "start_time": "2022-03-19T17:51:34.229644",
   "version": "2.3.3"
  }
 },
 "nbformat": 4,
 "nbformat_minor": 5
}
