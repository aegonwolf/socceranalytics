{
 "cells": [
  {
   "cell_type": "code",
   "execution_count": null,
   "metadata": {
    "collapsed": true
   },
   "outputs": [],
   "source": [
    "import numpy as np\n",
    "import pandas as pd\n",
    "from math import pi\n",
    "from bokeh.models.glyphs import Circle, Patches, Wedge\n",
    "from bokeh.plotting import figure\n",
    "from bokeh.models import Range1d, PanTool, ResetTool, HoverTool, ColumnDataSource, LabelSet\n",
    "from bokeh.io import output_notebook, output_file, show\n",
    "from utils import parseSite, draw_pitch"
   ]
  },
  {
   "cell_type": "code",
   "execution_count": null,
   "metadata": {
    "collapsed": false,
    "pycharm": {
     "name": "#%%\n"
    }
   },
   "outputs": [],
   "source": [
    "italy = parseSite(66) # Italy\n",
    "wales = parseSite(144) # Wales\n",
    "length = 105\n",
    "width = 68"
   ]
  },
  {
   "cell_type": "code",
   "execution_count": null,
   "metadata": {
    "collapsed": false,
    "pycharm": {
     "name": "#%%\n"
    }
   },
   "outputs": [],
   "source": [
    "df = pd.read_parquet('D:/socceranalytics/italywales.pq')\n",
    "position_cols = [col for col in df if \"_x\" in col or \"_y\" in col or \"_type\" in col]\n",
    "x_pos = [col for col in df if \"_x\" in col]\n",
    "y_pos = [col for col in df if \"_y\" in col]\n",
    "type_cols = [col for col in df if \"_type\" in col]\n",
    "id_cols = [col for col in df if \"_id\" in col]\n",
    "df[x_pos] = df[x_pos].astype(float) / 100.0\n",
    "df[y_pos] = df[y_pos].astype(float) / 100.0"
   ]
  },
  {
   "cell_type": "code",
   "execution_count": null,
   "metadata": {
    "collapsed": false,
    "pycharm": {
     "name": "#%%\n"
    }
   },
   "outputs": [],
   "source": [
    "player_map = dict()\n",
    "for player in italy:\n",
    "    player_map[player.id] = player.name\n",
    "for player in wales:\n",
    "    player_map[player.id] = player.name"
   ]
  },
  {
   "cell_type": "code",
   "execution_count": null,
   "metadata": {
    "collapsed": false,
    "pycharm": {
     "name": "#%%\n"
    }
   },
   "outputs": [],
   "source": [
    "random_point = df.sample(1)\n",
    "new_index = random_point[x_pos].T.index.to_list()\n",
    "new_index = [index.strip(\"_x\") for index in new_index]\n",
    "positions = random_point[x_pos].T\n",
    "positions.index = new_index\n",
    "positions.columns = [\"x\"]\n",
    "positions[\"y\"] = random_point[y_pos].T.to_numpy()\n",
    "positions[\"type\"] = random_point[type_cols].T.to_numpy()\n",
    "positions[\"id\"] = random_point[id_cols].T.to_numpy()\n",
    "ball_pos = positions.iloc[0]\n",
    "positions = positions.iloc[1:]\n",
    "positions[\"name\"] = positions[\"id\"].map(player_map)\n",
    "positions['x'] = length / 2.0 + positions['x']\n",
    "positions['y'] = width / 2.0 + positions['y']\n",
    "positions['type'] = positions['type'].apply(lambda x: -1 if x is None else int(x))\n",
    "home = positions[positions['type'] == 0]\n",
    "away = positions[positions['type'] == 1]"
   ]
  },
  {
   "cell_type": "code",
   "execution_count": null,
   "metadata": {
    "collapsed": false,
    "pycharm": {
     "name": "#%%\n"
    }
   },
   "outputs": [],
   "source": [
    "output_notebook()"
   ]
  },
  {
   "cell_type": "code",
   "execution_count": null,
   "metadata": {
    "collapsed": false,
    "pycharm": {
     "name": "#%%\n"
    }
   },
   "outputs": [],
   "source": [
    "TOOLTIPS = [\n",
    "    (\"name\", \"@name\"),\n",
    "    (\"(x,y)\", \"($x, $y)\"),\n",
    "]\n",
    "Italy = ColumnDataSource(home)\n",
    "Wales = ColumnDataSource(away)\n",
    "p = draw_pitch(tooltips = TOOLTIPS)\n",
    "p.circle(x=\"x\", y=\"y\", size=8, fill_alpha=0.5, color=\"red\",source=Italy)\n",
    "p.circle(x=\"x\", y=\"y\", size=8, fill_alpha=0.5, color=\"yellow\",source=Wales)\n",
    "output_file(\"interactive_pitch.html\") #save the file\n",
    "show(p)"
   ]
  },
  {
   "cell_type": "code",
   "execution_count": null,
   "metadata": {
    "collapsed": false,
    "pycharm": {
     "name": "#%%\n"
    }
   },
   "outputs": [],
   "source": []
  }
 ],
 "metadata": {
  "interpreter": {
   "hash": "b0fa6594d8f4cbf19f97940f81e996739fb7646882a419484c72d19e05852a7e"
  },
  "kernelspec": {
   "display_name": "Python 3.9.13 64-bit",
   "language": "python",
   "name": "python3"
  },
  "language_info": {
   "codemirror_mode": {
    "name": "ipython",
    "version": 2
   },
   "file_extension": ".py",
   "mimetype": "text/x-python",
   "name": "python",
   "nbconvert_exporter": "python",
   "pygments_lexer": "ipython2",
   "version": "3.9.13"
  }
 },
 "nbformat": 4,
 "nbformat_minor": 0
}
