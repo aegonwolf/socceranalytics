{
 "cells": [
  {
   "cell_type": "code",
   "execution_count": 11,
   "metadata": {
    "collapsed": true
   },
   "outputs": [],
   "source": [
    "import seaborn as sns\n",
    "import pandas as pd\n",
    "from utils import *"
   ]
  },
  {
   "cell_type": "code",
   "execution_count": 12,
   "outputs": [],
   "source": [
    "sns.set(rc={'figure.figsize':(10.5,6.8)})\n",
    "length = 105\n",
    "width = 68"
   ],
   "metadata": {
    "collapsed": false,
    "pycharm": {
     "name": "#%%\n"
    }
   }
  },
  {
   "cell_type": "code",
   "execution_count": 13,
   "outputs": [],
   "source": [
    "df = pd.read_parquet('D:/socceranalytics/italywales.pq')"
   ],
   "metadata": {
    "collapsed": false,
    "pycharm": {
     "name": "#%%\n"
    }
   }
  },
  {
   "cell_type": "code",
   "execution_count": 14,
   "outputs": [],
   "source": [
    "position_cols = [col for col in df if \"_x\" in col or \"_y\" in col or \"_type\" in col]\n",
    "x_pos = [col for col in df if \"_x\" in col]\n",
    "y_pos = [col for col in df if \"_y\" in col]\n",
    "type_cols = [col for col in df if \"_type\" in col]\n",
    "id_cols = [col for col in df if \"_id\" in col]\n",
    "df[x_pos] = df[x_pos].astype(float) / 100.0\n",
    "df[y_pos] = df[y_pos].astype(float) / 100.0"
   ],
   "metadata": {
    "collapsed": false,
    "pycharm": {
     "name": "#%%\n"
    }
   }
  },
  {
   "cell_type": "code",
   "execution_count": 15,
   "outputs": [],
   "source": [
    "short_play = df.iloc[8000:8010].reset_index(drop = True)"
   ],
   "metadata": {
    "collapsed": false,
    "pycharm": {
     "name": "#%%\n"
    }
   }
  },
  {
   "cell_type": "code",
   "execution_count": 16,
   "outputs": [],
   "source": [
    "output_path = 'D:/socceranalytics/frame_images'\n",
    "#creates frames from all frames in df\n",
    "save_frames(short_play, length, width, position_cols, output_path)"
   ],
   "metadata": {
    "collapsed": false,
    "pycharm": {
     "name": "#%%\n"
    }
   }
  },
  {
   "cell_type": "code",
   "execution_count": 17,
   "outputs": [
    {
     "name": "stdout",
     "output_type": "stream",
     "text": [
      "['D:/socceranalytics/frame_images\\\\0.png', 'D:/socceranalytics/frame_images\\\\1.png', 'D:/socceranalytics/frame_images\\\\2.png', 'D:/socceranalytics/frame_images\\\\3.png', 'D:/socceranalytics/frame_images\\\\4.png', 'D:/socceranalytics/frame_images\\\\5.png', 'D:/socceranalytics/frame_images\\\\6.png', 'D:/socceranalytics/frame_images\\\\7.png', 'D:/socceranalytics/frame_images\\\\8.png', 'D:/socceranalytics/frame_images\\\\9.png']\n"
     ]
    }
   ],
   "source": [
    "create_gif(output_path, 'D:/frames.gif')"
   ],
   "metadata": {
    "collapsed": false,
    "pycharm": {
     "name": "#%%\n"
    }
   }
  },
  {
   "cell_type": "code",
   "execution_count": 17,
   "outputs": [],
   "source": [],
   "metadata": {
    "collapsed": false,
    "pycharm": {
     "name": "#%%\n"
    }
   }
  }
 ],
 "metadata": {
  "kernelspec": {
   "display_name": "Python 3",
   "language": "python",
   "name": "python3"
  },
  "language_info": {
   "codemirror_mode": {
    "name": "ipython",
    "version": 2
   },
   "file_extension": ".py",
   "mimetype": "text/x-python",
   "name": "python",
   "nbconvert_exporter": "python",
   "pygments_lexer": "ipython2",
   "version": "2.7.6"
  }
 },
 "nbformat": 4,
 "nbformat_minor": 0
}